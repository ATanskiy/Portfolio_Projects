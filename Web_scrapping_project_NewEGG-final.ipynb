{
 "cells": [
  {
   "cell_type": "markdown",
   "id": "6cf843fd",
   "metadata": {},
   "source": [
    "# Web scraping project for laptop hard drives made by Western Digital on an American retailer NewEgg"
   ]
  },
  {
   "cell_type": "markdown",
   "id": "8ee8dadb",
   "metadata": {},
   "source": [
    "## Installing some packages for the project"
   ]
  },
  {
   "cell_type": "code",
   "execution_count": 1,
   "id": "d437ed64",
   "metadata": {},
   "outputs": [],
   "source": [
    "# library for processing XML and HTML in Python"
   ]
  },
  {
   "cell_type": "code",
   "execution_count": 41,
   "id": "cba09b08",
   "metadata": {},
   "outputs": [
    {
     "name": "stdout",
     "output_type": "stream",
     "text": [
      "Defaulting to user installation because normal site-packages is not writeable\n",
      "Requirement already satisfied: lxml in c:\\programdata\\anaconda3\\lib\\site-packages (4.9.3)\n",
      "Note: you may need to restart the kernel to use updated packages.\n"
     ]
    }
   ],
   "source": [
    "pip install lxml"
   ]
  },
  {
   "cell_type": "code",
   "execution_count": 42,
   "id": "f8b4193e",
   "metadata": {},
   "outputs": [],
   "source": [
    "# a library that parses HMTL"
   ]
  },
  {
   "cell_type": "code",
   "execution_count": 43,
   "id": "7f4cb60d",
   "metadata": {},
   "outputs": [
    {
     "name": "stdout",
     "output_type": "stream",
     "text": [
      "Defaulting to user installation because normal site-packages is not writeable\n",
      "Requirement already satisfied: bs4 in c:\\users\\atans\\appdata\\roaming\\python\\python311\\site-packages (0.0.2)\n",
      "Requirement already satisfied: beautifulsoup4 in c:\\programdata\\anaconda3\\lib\\site-packages (from bs4) (4.12.2)\n",
      "Requirement already satisfied: soupsieve>1.2 in c:\\programdata\\anaconda3\\lib\\site-packages (from beautifulsoup4->bs4) (2.4)\n",
      "Note: you may need to restart the kernel to use updated packages.\n"
     ]
    }
   ],
   "source": [
    "pip install bs4"
   ]
  },
  {
   "cell_type": "markdown",
   "id": "36c27c8a",
   "metadata": {},
   "source": [
    "## Importing the libraries that are required"
   ]
  },
  {
   "cell_type": "code",
   "execution_count": 192,
   "id": "91794006",
   "metadata": {},
   "outputs": [],
   "source": [
    "#importint all the libraries\n",
    "import requests\n",
    "import bs4\n",
    "import lxml\n",
    "import re\n",
    "import pandas as pd\n",
    "import csv"
   ]
  },
  {
   "cell_type": "markdown",
   "id": "01161871",
   "metadata": {},
   "source": [
    "## Creating base_url"
   ]
  },
  {
   "cell_type": "code",
   "execution_count": 224,
   "id": "c81a87ec",
   "metadata": {},
   "outputs": [],
   "source": [
    "# after filtering all the disks that I want to scrape, I copy the url path and replace page number with {}\n",
    "base_url = 'https://www.newegg.com/p/pl?N=100167524%2050001306&PageSize=36&page={}'"
   ]
  },
  {
   "cell_type": "code",
   "execution_count": 244,
   "id": "db9e1706",
   "metadata": {},
   "outputs": [
    {
     "data": {
      "text/plain": [
       "'https://www.newegg.com/p/pl?N=100167524%2050001306&PageSize=36&page='"
      ]
     },
     "execution_count": 244,
     "metadata": {},
     "output_type": "execute_result"
    }
   ],
   "source": [
    "# format method is used to replace {} into something we want, in out case - number of pages.\n",
    "base_url.format('')"
   ]
  },
  {
   "cell_type": "markdown",
   "id": "447c83d5",
   "metadata": {},
   "source": [
    "## Saving res cell"
   ]
  },
  {
   "cell_type": "code",
   "execution_count": 245,
   "id": "74233942",
   "metadata": {},
   "outputs": [],
   "source": [
    "#requests.get() is a function from the requests library used to send an HTTP GET request. in this case the first page\n",
    "res = requests.get(base_url.format(2))"
   ]
  },
  {
   "cell_type": "code",
   "execution_count": 246,
   "id": "4c357eb4",
   "metadata": {},
   "outputs": [],
   "source": [
    "# we create a new variable with a bs4 object, by passing the res.text and html.parser which is a built in bs4 html parser\n",
    "soup = bs4.BeautifulSoup(res.text, 'lxml')"
   ]
  },
  {
   "cell_type": "code",
   "execution_count": 247,
   "id": "3845466d",
   "metadata": {},
   "outputs": [
    {
     "data": {
      "text/plain": [
       "36"
      ]
     },
     "execution_count": 247,
     "metadata": {},
     "output_type": "execute_result"
    }
   ],
   "source": [
    "# here we see how many parsed items returned after parsing\n",
    "len(soup.select('.item-info'))"
   ]
  },
  {
   "cell_type": "code",
   "execution_count": 248,
   "id": "8db3832b",
   "metadata": {
    "scrolled": true
   },
   "outputs": [],
   "source": [
    "# We see the first parsed objecct turned into string with all the information that we need\n",
    "string = soup.select('.item-info')[1].getText()"
   ]
  },
  {
   "cell_type": "code",
   "execution_count": 250,
   "id": "3801f661",
   "metadata": {},
   "outputs": [
    {
     "data": {
      "text/plain": [
       "'(81)Used - Like New WD Blue WD3200LPVX 320GB 5400 RPM 8MB Cache SATA 6.0Gb/s 2.5\" Internal Notebook Hard Drive Bare DriveAverage Latency: 5.5msHeight (maximum): 7mmWidth (maximum): 69.85mmLength (maximum): 100.20mmModel #: WD3200LPVXItem #: 9SIAAEEJY96325Return Policy: View Return Policy'"
      ]
     },
     "execution_count": 250,
     "metadata": {},
     "output_type": "execute_result"
    }
   ],
   "source": [
    "# The information of the very first item iteself\n",
    "string"
   ]
  },
  {
   "cell_type": "markdown",
   "id": "c3394aba",
   "metadata": {},
   "source": [
    "## It's time to make re and check if everything works for retreiving data"
   ]
  },
  {
   "cell_type": "markdown",
   "id": "d9b2343d",
   "metadata": {},
   "source": [
    "## Applying regular expression for every piece of data required"
   ]
  },
  {
   "cell_type": "code",
   "execution_count": 251,
   "id": "edbccd15",
   "metadata": {},
   "outputs": [],
   "source": [
    "# .findall() is used to find all not overlapping matches of the pattern"
   ]
  },
  {
   "cell_type": "code",
   "execution_count": 252,
   "id": "d6f02d0d",
   "metadata": {},
   "outputs": [
    {
     "data": {
      "text/plain": [
       "'WD3200LPVX'"
      ]
     },
     "execution_count": 252,
     "metadata": {},
     "output_type": "execute_result"
    }
   ],
   "source": [
    "# it retrieves a space+WD+6 any symbols or WD and 8 any symbols\n",
    "name = re.findall('\\s(WD.{6}|WD.{7}|WD.{8})[IR]', string)[0]\n",
    "name"
   ]
  },
  {
   "cell_type": "code",
   "execution_count": 253,
   "id": "d0ffcab6",
   "metadata": {},
   "outputs": [
    {
     "data": {
      "text/plain": [
       "'320GB'"
      ]
     },
     "execution_count": 253,
     "metadata": {},
     "output_type": "execute_result"
    }
   ],
   "source": [
    "# this pattern matches a digit and TB or 3 digits and GB\n",
    "capacity = re.findall('\\dTB|\\d{2}GB|\\d{3}GB', string)[0]\n",
    "capacity"
   ]
  },
  {
   "cell_type": "code",
   "execution_count": 254,
   "id": "fa6f4299",
   "metadata": {},
   "outputs": [
    {
     "data": {
      "text/plain": [
       "'5400 RPM'"
      ]
     },
     "execution_count": 254,
     "metadata": {},
     "output_type": "execute_result"
    }
   ],
   "source": [
    "# this pattern matches 4 digists, a space and 3 non digit characters, or 5 digits, a space and 3 non Digit characters\n",
    "speed = re.findall('\\d{4}\\s\\D{3}|\\d{5}\\s\\D{3}',string)[0]\n",
    "speed"
   ]
  },
  {
   "cell_type": "code",
   "execution_count": 255,
   "id": "642db354",
   "metadata": {},
   "outputs": [
    {
     "data": {
      "text/plain": [
       "'2.5\"'"
      ]
     },
     "execution_count": 255,
     "metadata": {},
     "output_type": "execute_result"
    }
   ],
   "source": [
    "# this pattern matches a space, a digit, a dot, a digit and then either a space or a non word carachter\n",
    "size = re.findall('\\s\\d\\.\\d[\\s|\\W]',string)[0].strip()\n",
    "size"
   ]
  },
  {
   "cell_type": "code",
   "execution_count": 256,
   "id": "6ea11ef4",
   "metadata": {},
   "outputs": [
    {
     "data": {
      "text/plain": [
       "'$22.10\\xa0–'"
      ]
     },
     "execution_count": 256,
     "metadata": {},
     "output_type": "execute_result"
    }
   ],
   "source": [
    "string1 = soup.select('.price-current')[0].getText()\n",
    "string1"
   ]
  },
  {
   "cell_type": "code",
   "execution_count": 258,
   "id": "a269685f",
   "metadata": {},
   "outputs": [
    {
     "data": {
      "text/plain": [
       "'$22.10'"
      ]
     },
     "execution_count": 258,
     "metadata": {},
     "output_type": "execute_result"
    }
   ],
   "source": [
    "# \\A asserts the beginning of the string and then 6 any characters\n",
    "money = re.findall('\\A.{6}', string1)[0]\n",
    "money"
   ]
  },
  {
   "cell_type": "markdown",
   "id": "82b96e78",
   "metadata": {},
   "source": [
    "## So looks like everythiing works. It's time to scrape through all the pages"
   ]
  },
  {
   "cell_type": "code",
   "execution_count": 259,
   "id": "d100dbc7",
   "metadata": {},
   "outputs": [],
   "source": [
    "hard_disk_data = []\n",
    "for n in range(1,4):\n",
    "    scrape_url = base_url.format(n)\n",
    "    res = requests.get(scrape_url)\n",
    "\n",
    "    soup = bs4.BeautifulSoup(res.text, 'lxml')\n",
    "    for i in range(0, len(soup.select('.item-info'))):\n",
    "        first_data = []\n",
    "        disk_info = soup.select('.item-info')[i].getText()\n",
    "        disk_price = soup.select('.price-current')[i].getText()\n",
    "        \n",
    "        try: \n",
    "            name = re.findall('\\s(WD.{6}|WD.{8})[IR]', disk_info)[0]\n",
    "        except:\n",
    "            pass\n",
    "        try:\n",
    "            capacity = re.findall('\\dTB|\\d{3}GB', disk_info)[0]\n",
    "        except:\n",
    "            pass\n",
    "        try:\n",
    "            speed = re.findall('\\d{4}\\s\\D{3}|\\d{5}\\s\\D{3}',disk_info)[0]\n",
    "        except:\n",
    "            pass\n",
    "        \n",
    "        try:\n",
    "            size = re.findall('\\s\\d\\.\\d[\\s|\\W]',disk_info)[0].strip()\n",
    "        except:\n",
    "            pass\n",
    "        \n",
    "        try:\n",
    "            money = re.findall('\\A.{6}', disk_price)[0]\n",
    "        except:\n",
    "            pass\n",
    "        \n",
    "        hard_disk_data.append([name, capacity, speed, size, money])"
   ]
  },
  {
   "cell_type": "markdown",
   "id": "cded24dc",
   "metadata": {},
   "source": [
    "## Lets check what we got"
   ]
  },
  {
   "cell_type": "code",
   "execution_count": 260,
   "id": "e9d8e38a",
   "metadata": {},
   "outputs": [
    {
     "data": {
      "text/plain": [
       "[['WD10SPSX', '1TB', '7200 RPM', '2.5', '$49.99'],\n",
       " ['WD20SPZX', '2TB', '5400 RPM', '2.5\"', '$73.99'],\n",
       " ['WD5000LPSX', '500GB', '7200 RPM', '2.5\"', '$29.99'],\n",
       " ['WD10SPZX', '1TB', '5400 RPM', '2.5\"', '$51.34'],\n",
       " ['WD5000LPLX', '500GB', '7200 RPM', '2.5\"', '$38.00'],\n",
       " ['WD5000LPCX', '500GB', '5400 RPM', '2.5\"', '$33.99'],\n",
       " ['WD1000CHTZ', '1TB', '10000 RPM', '2.5\"', '$54.95'],\n",
       " ['WD7500BPVX', '750GB', '5400 RPM', '2.5', '$65.20'],\n",
       " ['WD7500BPVX', '750GB', '5400 RPM', '2.5\"', '$98.76'],\n",
       " ['WD10JUCT', '1TB', '5400 RPM', '2.5-', '$40.00'],\n",
       " ['WD5000BHTZ', '500GB', '10000 RPM', '2.5\"', '$98.40'],\n",
       " ['WD7500BPVT', '750GB', '5400 RPM', '2.5\"', '$56.99'],\n",
       " ['WD2500BPVT', '250GB', '5400 RPM', '2.5\"', '$51.99'],\n",
       " ['WD10SPCX', '1TB', '5400 RPM', '2.5\"', '$74.75'],\n",
       " ['WD10SPCX', '640GB', '5400 RPM', '2.5\"', '$69.95'],\n",
       " ['WD2500LPLX', '250GB', '7200 RPM', '2.5\"', '$45.00'],\n",
       " ['WD9001BKHG', '900GB', '10000 RPM', '2.5\"', '$94.99'],\n",
       " ['WD9001BKHG', '1TB', '10000 RPM', '6.0', '$33.50'],\n",
       " ['WD3001BKHG', '300GB', '10000 RPM', '2.5\"', '$128.4'],\n",
       " ['WD3001BKHG', '300GB', '10000 RPM', '2.5\"', '$64.95'],\n",
       " ['WD6000BLHX', '600GB', '10000 RPM', '2.5\"', '$167.0'],\n",
       " ['WD6000BLHX', '600GB', '10000 RPM', '2.5\"', '$2,000'],\n",
       " ['WD10JPLX', '1TB', '7200 RPM', '2.5', '$89.00'],\n",
       " ['WD10JPLX', '160GB', '5400 RPM', '2.5\"', '$50.00'],\n",
       " ['WD10JPLX', '1TB', '5400 RPM', '2.5\"', '$99.99'],\n",
       " ['WD6400AAKS', '1TB', '7200 RPM', '3.5\"', '$206.2'],\n",
       " ['WD1600BEVE', '160GB', '5400 RPM', '2.5\"', '$125.0'],\n",
       " ['WD1200BEVS', '120GB', '5400 RPM', '2.5\"', '$231.2'],\n",
       " ['WD3000BLFS', '300GB', '10000 RPM', '2.5\"', '$161.2'],\n",
       " ['WD3000BLFS', '300GB', '5400 RPM', '2.5\"', '$90.00'],\n",
       " ['WD40NPZZ', '4TB', '5400 RPM', '2.5\"', '$209.7'],\n",
       " ['WD40NPZZ', '4TB', '5400 RPM', '2.5\"', '$35.00'],\n",
       " ['WD10JPVT', '1TB', '5400 RPM', '2.5\"', '$45.00'],\n",
       " ['WD10JPVT', '1TB', '5400 RPM', '2.5\"', '$21.10'],\n",
       " ['WD2500BEVS', '1TB', '5400 RPM', '2.5\"', '$58.00'],\n",
       " ['WD1200VE', '120GB', '5400 RPM', '2.5\"', '$125.1'],\n",
       " ['WD1200VE', '120GB', '5400 RPM', '2.5\"', '$22.10'],\n",
       " ['WD3200LPVX', '320GB', '5400 RPM', '2.5\"', '$40.00'],\n",
       " ['WD2500LPVT', '250GB', '5400 RPM', '2.5', '$35.00'],\n",
       " ['WD5000BEVT', '500GB', '5400 RPM', '2.5\"', '$37.49'],\n",
       " ['WD7500BPKT', '750GB', '7200 RPM', '2.5\"', '$28.74'],\n",
       " ['WD6400BPVT', '640GB', '5400 RPM', '2.5\"', '$24.99'],\n",
       " ['WD5000LPVX', '500GB', '5400 RPM', '2.5', '$16.24'],\n",
       " ['WD7500BPKX', '750GB', '7200 RPM', '2.5', '$39.99'],\n",
       " ['WD5000BPKX', '500GB', '7200 RPM', '2.5\"', '$13.74'],\n",
       " ['WD1600BPVT', '160GB', '5400 RPM', '2.5\"', '$17.49'],\n",
       " ['WD5000LPVT', '160GB', '5400 RPM', '2.5\"', '$32.49'],\n",
       " ['WD1600BEVT', '160GB', '5400 RPM', '2.5\"', '$110.5'],\n",
       " ['WD5000BEKT', '500GB', '7200 RPM', '2.5\"', '$148.3'],\n",
       " ['WD2500BEVT', '250GB', '5400 RPM', '2.5\"', '$19.99'],\n",
       " ['WD2500BPVT', '250GB', '5400 RPM', '2.5\"', '$19.95'],\n",
       " ['WD3200BEKT', '320GB', '7200 RPM', '2.5\"', '$19.95'],\n",
       " ['WD3200BEKT', '500GB', '5400 RPM', '2.5\"', '$27.84'],\n",
       " ['WD3200BEKT', '500GB', '7200 RPM', '2.5\"', '$39.95'],\n",
       " ['WD5000BPKT', '500GB', '7200 RPM', '2.5\"', '$38.95'],\n",
       " ['WD3200BEKX', '320GB', '7200 RPM', '2.5\"', '$32.00'],\n",
       " ['WD7500KEVT', '750GB', '5200 RPM', '2.5\"', '$88.95'],\n",
       " ['WD10S21X', '1TB', '5400 RPM', '2.5\"', '$75.00'],\n",
       " ['WD10S21X', '640GB', '5400 RPM', '2.5\"', '$69.95'],\n",
       " ['WD10S21X', '500GB', '5400 RPM', '2.5\"', '$199.0'],\n",
       " ['WD2500BEKT', '250GB', '7200 RPM', '2.5\"', '$49.95'],\n",
       " ['WD3000BLHX', '300GB', '10000 RPM', '2.5\"', '$20.00'],\n",
       " ['WD6400BPVT', '640GB', '5400 RPM', '2.5\"', '$77.14'],\n",
       " ['WD6400BPVT', '640GB', '5400 RPM', '2.5\"', '$84.86'],\n",
       " ['WD5000BPKX', '500GB', '7200 RPM', '2.5\"', '$97.30'],\n",
       " ['WD5000BPKX', '500GB', '5400 RPM', '2.5\"', '$111.8'],\n",
       " ['WD5000BEVT', '500GB', '5400 RPM', '2.5\"', '$97.30'],\n",
       " ['WD2000BEVS', '200GB', '5400 RPM', '2.5\"', '$99.28'],\n",
       " ['WD1200BEKT', '120GB', '7200 RPM', '2.5\"', '$128.5'],\n",
       " ['WD7500KPVT', '750GB', '5200 RPM', '2.5\"', '$132.6'],\n",
       " ['WD2000BEVT', '200GB', '5400 RPM', '2.5\"', '$133.6'],\n",
       " ['WD2500LPVT', '250GB', '5400 RPM', '2.5\"', '$139.2'],\n",
       " ['WD3200BUDT', '320GB', '5400 RPM', '2.5\"', '$106.5'],\n",
       " ['WD1600BEVS', '160GB', '5400 RPM', '2.5\"', '$143.1'],\n",
       " ['WD2500BVVT', '250GB', '5400 RPM', '2.5\"', '$143.1'],\n",
       " ['WD1600BUCT', '160GB', '5400 RPM', '2.5\"', '$153.4'],\n",
       " ['WD1200BEVT', '120GB', '5400 RPM', '2.5\"', '$160.0'],\n",
       " ['WD7500BPKT', '750GB', '7200 RPM', '2.5\"', '$164.0'],\n",
       " ['WD3200BPKT', '320GB', '7200 RPM', '2.5\"', '$151.3'],\n",
       " ['WD7500BPVX', '750GB', '5400 RPM', '2.5\"', '$143.1'],\n",
       " ['WD1600BEVE', '160GB', '5400 RPM', '2.5\"', '$198.0'],\n",
       " ['WD7500BPVT', '160GB', '5400 RPM', '2.5\"', '$145.7'],\n",
       " ['WD4500BLHX', '450GB', '10000 RPM', '2.5\"', '$211.4'],\n",
       " ['WD1600BVVT', '160GB', '5400 RPM', '2.5\"', '$218.5'],\n",
       " ['WD10JPVT', '160GB', '5400 RPM', '2.5\"', '$128.5'],\n",
       " ['WD5000LPVX', '500GB', '5400 RPM', '2.5\"', '$26.19'],\n",
       " ['WD15NPVT', '5TB', '5400 RPM', '2.5\"', '$450.0'],\n",
       " ['WD20NPVT', '5TB', '5400 RPM', '2.5\"', '$321.4']]"
      ]
     },
     "execution_count": 260,
     "metadata": {},
     "output_type": "execute_result"
    }
   ],
   "source": [
    "hard_disk_data"
   ]
  },
  {
   "cell_type": "code",
   "execution_count": 261,
   "id": "4b5b59da",
   "metadata": {},
   "outputs": [
    {
     "data": {
      "text/plain": [
       "88"
      ]
     },
     "execution_count": 261,
     "metadata": {},
     "output_type": "execute_result"
    }
   ],
   "source": [
    "len(hard_disk_data)"
   ]
  },
  {
   "cell_type": "markdown",
   "id": "0d935805",
   "metadata": {},
   "source": [
    "## Looks like we scraped through everything and collected all the required information\n",
    "## So now lets convert our data into a data frame and take a look at it"
   ]
  },
  {
   "cell_type": "code",
   "execution_count": 262,
   "id": "239bc114",
   "metadata": {},
   "outputs": [
    {
     "data": {
      "text/html": [
       "<div>\n",
       "<style scoped>\n",
       "    .dataframe tbody tr th:only-of-type {\n",
       "        vertical-align: middle;\n",
       "    }\n",
       "\n",
       "    .dataframe tbody tr th {\n",
       "        vertical-align: top;\n",
       "    }\n",
       "\n",
       "    .dataframe thead th {\n",
       "        text-align: right;\n",
       "    }\n",
       "</style>\n",
       "<table border=\"1\" class=\"dataframe\">\n",
       "  <thead>\n",
       "    <tr style=\"text-align: right;\">\n",
       "      <th></th>\n",
       "      <th>Model</th>\n",
       "      <th>Capacity</th>\n",
       "      <th>Speed</th>\n",
       "      <th>Size</th>\n",
       "      <th>Price</th>\n",
       "    </tr>\n",
       "  </thead>\n",
       "  <tbody>\n",
       "    <tr>\n",
       "      <th>0</th>\n",
       "      <td>WD10SPSX</td>\n",
       "      <td>1TB</td>\n",
       "      <td>7200 RPM</td>\n",
       "      <td>2.5</td>\n",
       "      <td>$49.99</td>\n",
       "    </tr>\n",
       "    <tr>\n",
       "      <th>1</th>\n",
       "      <td>WD20SPZX</td>\n",
       "      <td>2TB</td>\n",
       "      <td>5400 RPM</td>\n",
       "      <td>2.5\"</td>\n",
       "      <td>$73.99</td>\n",
       "    </tr>\n",
       "    <tr>\n",
       "      <th>2</th>\n",
       "      <td>WD5000LPSX</td>\n",
       "      <td>500GB</td>\n",
       "      <td>7200 RPM</td>\n",
       "      <td>2.5\"</td>\n",
       "      <td>$29.99</td>\n",
       "    </tr>\n",
       "    <tr>\n",
       "      <th>3</th>\n",
       "      <td>WD10SPZX</td>\n",
       "      <td>1TB</td>\n",
       "      <td>5400 RPM</td>\n",
       "      <td>2.5\"</td>\n",
       "      <td>$51.34</td>\n",
       "    </tr>\n",
       "    <tr>\n",
       "      <th>4</th>\n",
       "      <td>WD5000LPLX</td>\n",
       "      <td>500GB</td>\n",
       "      <td>7200 RPM</td>\n",
       "      <td>2.5\"</td>\n",
       "      <td>$38.00</td>\n",
       "    </tr>\n",
       "    <tr>\n",
       "      <th>...</th>\n",
       "      <td>...</td>\n",
       "      <td>...</td>\n",
       "      <td>...</td>\n",
       "      <td>...</td>\n",
       "      <td>...</td>\n",
       "    </tr>\n",
       "    <tr>\n",
       "      <th>83</th>\n",
       "      <td>WD1600BVVT</td>\n",
       "      <td>160GB</td>\n",
       "      <td>5400 RPM</td>\n",
       "      <td>2.5\"</td>\n",
       "      <td>$218.5</td>\n",
       "    </tr>\n",
       "    <tr>\n",
       "      <th>84</th>\n",
       "      <td>WD10JPVT</td>\n",
       "      <td>160GB</td>\n",
       "      <td>5400 RPM</td>\n",
       "      <td>2.5\"</td>\n",
       "      <td>$128.5</td>\n",
       "    </tr>\n",
       "    <tr>\n",
       "      <th>85</th>\n",
       "      <td>WD5000LPVX</td>\n",
       "      <td>500GB</td>\n",
       "      <td>5400 RPM</td>\n",
       "      <td>2.5\"</td>\n",
       "      <td>$26.19</td>\n",
       "    </tr>\n",
       "    <tr>\n",
       "      <th>86</th>\n",
       "      <td>WD15NPVT</td>\n",
       "      <td>5TB</td>\n",
       "      <td>5400 RPM</td>\n",
       "      <td>2.5\"</td>\n",
       "      <td>$450.0</td>\n",
       "    </tr>\n",
       "    <tr>\n",
       "      <th>87</th>\n",
       "      <td>WD20NPVT</td>\n",
       "      <td>5TB</td>\n",
       "      <td>5400 RPM</td>\n",
       "      <td>2.5\"</td>\n",
       "      <td>$321.4</td>\n",
       "    </tr>\n",
       "  </tbody>\n",
       "</table>\n",
       "<p>88 rows × 5 columns</p>\n",
       "</div>"
      ],
      "text/plain": [
       "         Model Capacity     Speed  Size   Price\n",
       "0     WD10SPSX      1TB  7200 RPM   2.5  $49.99\n",
       "1     WD20SPZX      2TB  5400 RPM  2.5\"  $73.99\n",
       "2   WD5000LPSX    500GB  7200 RPM  2.5\"  $29.99\n",
       "3     WD10SPZX      1TB  5400 RPM  2.5\"  $51.34\n",
       "4   WD5000LPLX    500GB  7200 RPM  2.5\"  $38.00\n",
       "..         ...      ...       ...   ...     ...\n",
       "83  WD1600BVVT    160GB  5400 RPM  2.5\"  $218.5\n",
       "84    WD10JPVT    160GB  5400 RPM  2.5\"  $128.5\n",
       "85  WD5000LPVX    500GB  5400 RPM  2.5\"  $26.19\n",
       "86    WD15NPVT      5TB  5400 RPM  2.5\"  $450.0\n",
       "87    WD20NPVT      5TB  5400 RPM  2.5\"  $321.4\n",
       "\n",
       "[88 rows x 5 columns]"
      ]
     },
     "execution_count": 262,
     "metadata": {},
     "output_type": "execute_result"
    }
   ],
   "source": [
    "df = pd.DataFrame(hard_disk_data, columns=['Model', 'Capacity', 'Speed', 'Size', 'Price'])\n",
    "df"
   ]
  },
  {
   "cell_type": "markdown",
   "id": "f36284b5",
   "metadata": {},
   "source": [
    "## Lets save our data with pandas"
   ]
  },
  {
   "cell_type": "code",
   "execution_count": 263,
   "id": "b3266893",
   "metadata": {},
   "outputs": [],
   "source": [
    "df.to_csv('NewEggScraping.csv')"
   ]
  },
  {
   "cell_type": "code",
   "execution_count": 264,
   "id": "9f3f8c63",
   "metadata": {},
   "outputs": [
    {
     "data": {
      "text/html": [
       "<div>\n",
       "<style scoped>\n",
       "    .dataframe tbody tr th:only-of-type {\n",
       "        vertical-align: middle;\n",
       "    }\n",
       "\n",
       "    .dataframe tbody tr th {\n",
       "        vertical-align: top;\n",
       "    }\n",
       "\n",
       "    .dataframe thead th {\n",
       "        text-align: right;\n",
       "    }\n",
       "</style>\n",
       "<table border=\"1\" class=\"dataframe\">\n",
       "  <thead>\n",
       "    <tr style=\"text-align: right;\">\n",
       "      <th></th>\n",
       "      <th>Model</th>\n",
       "      <th>Capacity</th>\n",
       "      <th>Speed</th>\n",
       "      <th>Size</th>\n",
       "      <th>Price</th>\n",
       "    </tr>\n",
       "  </thead>\n",
       "  <tbody>\n",
       "    <tr>\n",
       "      <th>0</th>\n",
       "      <td>WD10SPSX</td>\n",
       "      <td>1TB</td>\n",
       "      <td>7200 RPM</td>\n",
       "      <td>2.5</td>\n",
       "      <td>$49.99</td>\n",
       "    </tr>\n",
       "    <tr>\n",
       "      <th>1</th>\n",
       "      <td>WD20SPZX</td>\n",
       "      <td>2TB</td>\n",
       "      <td>5400 RPM</td>\n",
       "      <td>2.5\"</td>\n",
       "      <td>$73.99</td>\n",
       "    </tr>\n",
       "    <tr>\n",
       "      <th>2</th>\n",
       "      <td>WD5000LPSX</td>\n",
       "      <td>500GB</td>\n",
       "      <td>7200 RPM</td>\n",
       "      <td>2.5\"</td>\n",
       "      <td>$29.99</td>\n",
       "    </tr>\n",
       "    <tr>\n",
       "      <th>3</th>\n",
       "      <td>WD10SPZX</td>\n",
       "      <td>1TB</td>\n",
       "      <td>5400 RPM</td>\n",
       "      <td>2.5\"</td>\n",
       "      <td>$51.34</td>\n",
       "    </tr>\n",
       "    <tr>\n",
       "      <th>4</th>\n",
       "      <td>WD5000LPLX</td>\n",
       "      <td>500GB</td>\n",
       "      <td>7200 RPM</td>\n",
       "      <td>2.5\"</td>\n",
       "      <td>$38.00</td>\n",
       "    </tr>\n",
       "    <tr>\n",
       "      <th>...</th>\n",
       "      <td>...</td>\n",
       "      <td>...</td>\n",
       "      <td>...</td>\n",
       "      <td>...</td>\n",
       "      <td>...</td>\n",
       "    </tr>\n",
       "    <tr>\n",
       "      <th>83</th>\n",
       "      <td>WD1600BVVT</td>\n",
       "      <td>160GB</td>\n",
       "      <td>5400 RPM</td>\n",
       "      <td>2.5\"</td>\n",
       "      <td>$218.5</td>\n",
       "    </tr>\n",
       "    <tr>\n",
       "      <th>84</th>\n",
       "      <td>WD10JPVT</td>\n",
       "      <td>160GB</td>\n",
       "      <td>5400 RPM</td>\n",
       "      <td>2.5\"</td>\n",
       "      <td>$128.5</td>\n",
       "    </tr>\n",
       "    <tr>\n",
       "      <th>85</th>\n",
       "      <td>WD5000LPVX</td>\n",
       "      <td>500GB</td>\n",
       "      <td>5400 RPM</td>\n",
       "      <td>2.5\"</td>\n",
       "      <td>$26.19</td>\n",
       "    </tr>\n",
       "    <tr>\n",
       "      <th>86</th>\n",
       "      <td>WD15NPVT</td>\n",
       "      <td>5TB</td>\n",
       "      <td>5400 RPM</td>\n",
       "      <td>2.5\"</td>\n",
       "      <td>$450.0</td>\n",
       "    </tr>\n",
       "    <tr>\n",
       "      <th>87</th>\n",
       "      <td>WD20NPVT</td>\n",
       "      <td>5TB</td>\n",
       "      <td>5400 RPM</td>\n",
       "      <td>2.5\"</td>\n",
       "      <td>$321.4</td>\n",
       "    </tr>\n",
       "  </tbody>\n",
       "</table>\n",
       "<p>88 rows × 5 columns</p>\n",
       "</div>"
      ],
      "text/plain": [
       "         Model Capacity     Speed  Size   Price\n",
       "0     WD10SPSX      1TB  7200 RPM   2.5  $49.99\n",
       "1     WD20SPZX      2TB  5400 RPM  2.5\"  $73.99\n",
       "2   WD5000LPSX    500GB  7200 RPM  2.5\"  $29.99\n",
       "3     WD10SPZX      1TB  5400 RPM  2.5\"  $51.34\n",
       "4   WD5000LPLX    500GB  7200 RPM  2.5\"  $38.00\n",
       "..         ...      ...       ...   ...     ...\n",
       "83  WD1600BVVT    160GB  5400 RPM  2.5\"  $218.5\n",
       "84    WD10JPVT    160GB  5400 RPM  2.5\"  $128.5\n",
       "85  WD5000LPVX    500GB  5400 RPM  2.5\"  $26.19\n",
       "86    WD15NPVT      5TB  5400 RPM  2.5\"  $450.0\n",
       "87    WD20NPVT      5TB  5400 RPM  2.5\"  $321.4\n",
       "\n",
       "[88 rows x 5 columns]"
      ]
     },
     "execution_count": 264,
     "metadata": {},
     "output_type": "execute_result"
    }
   ],
   "source": [
    "df1 = pd.read_csv('NewEggScraping.csv')\n",
    "df1.pop('Unnamed: 0')\n",
    "df1"
   ]
  },
  {
   "cell_type": "code",
   "execution_count": null,
   "id": "ba77130f",
   "metadata": {},
   "outputs": [],
   "source": []
  },
  {
   "cell_type": "code",
   "execution_count": null,
   "id": "c6ef4f28",
   "metadata": {},
   "outputs": [],
   "source": []
  },
  {
   "cell_type": "code",
   "execution_count": null,
   "id": "e881cd1f",
   "metadata": {},
   "outputs": [],
   "source": []
  },
  {
   "cell_type": "code",
   "execution_count": null,
   "id": "09a5172a",
   "metadata": {},
   "outputs": [],
   "source": []
  },
  {
   "cell_type": "code",
   "execution_count": null,
   "id": "e77cfec4",
   "metadata": {},
   "outputs": [],
   "source": []
  },
  {
   "cell_type": "code",
   "execution_count": null,
   "id": "582985ce",
   "metadata": {},
   "outputs": [],
   "source": []
  },
  {
   "cell_type": "code",
   "execution_count": null,
   "id": "ce54509f",
   "metadata": {},
   "outputs": [],
   "source": []
  },
  {
   "cell_type": "code",
   "execution_count": null,
   "id": "85c40bed",
   "metadata": {},
   "outputs": [],
   "source": []
  },
  {
   "cell_type": "code",
   "execution_count": null,
   "id": "fbade844",
   "metadata": {},
   "outputs": [],
   "source": []
  },
  {
   "cell_type": "code",
   "execution_count": null,
   "id": "e11445c5",
   "metadata": {},
   "outputs": [],
   "source": []
  },
  {
   "cell_type": "code",
   "execution_count": null,
   "id": "bb095b97",
   "metadata": {},
   "outputs": [],
   "source": []
  }
 ],
 "metadata": {
  "kernelspec": {
   "display_name": "Python 3 (ipykernel)",
   "language": "python",
   "name": "python3"
  },
  "language_info": {
   "codemirror_mode": {
    "name": "ipython",
    "version": 3
   },
   "file_extension": ".py",
   "mimetype": "text/x-python",
   "name": "python",
   "nbconvert_exporter": "python",
   "pygments_lexer": "ipython3",
   "version": "3.11.5"
  }
 },
 "nbformat": 4,
 "nbformat_minor": 5
}
