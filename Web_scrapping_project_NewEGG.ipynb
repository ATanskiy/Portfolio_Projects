{
 "cells": [
  {
   "cell_type": "markdown",
   "id": "6cf843fd",
   "metadata": {},
   "source": [
    "# Web scraping project for laptop hard drives made by Western Digital on an American retailer NewEgg"
   ]
  },
  {
   "cell_type": "markdown",
   "id": "36c27c8a",
   "metadata": {},
   "source": [
    "## Importing the libraries that are required"
   ]
  },
  {
   "cell_type": "code",
   "execution_count": 1084,
   "id": "91794006",
   "metadata": {},
   "outputs": [],
   "source": [
    "import requests\n",
    "import bs4\n",
    "import lxml\n",
    "import re\n",
    "import pandas as pd\n",
    "import csv"
   ]
  },
  {
   "cell_type": "code",
   "execution_count": null,
   "id": "a588e174",
   "metadata": {},
   "outputs": [],
   "source": []
  },
  {
   "cell_type": "markdown",
   "id": "01161871",
   "metadata": {},
   "source": [
    "## Creating base_url"
   ]
  },
  {
   "cell_type": "code",
   "execution_count": 959,
   "id": "c81a87ec",
   "metadata": {},
   "outputs": [],
   "source": [
    "base_url = 'https://www.newegg.com/p/pl?PageSize=36&N=100167524%2050001306&page={}'"
   ]
  },
  {
   "cell_type": "code",
   "execution_count": 967,
   "id": "db9e1706",
   "metadata": {},
   "outputs": [
    {
     "data": {
      "text/plain": [
       "'https://www.newegg.com/p/pl?PageSize=36&N=100167524%2050001306&page='"
      ]
     },
     "execution_count": 967,
     "metadata": {},
     "output_type": "execute_result"
    }
   ],
   "source": [
    "base_url.format('')"
   ]
  },
  {
   "cell_type": "markdown",
   "id": "447c83d5",
   "metadata": {},
   "source": [
    "## Saving res cell"
   ]
  },
  {
   "cell_type": "code",
   "execution_count": 1055,
   "id": "74233942",
   "metadata": {},
   "outputs": [],
   "source": [
    "res = requests.get(base_url.format(3))"
   ]
  },
  {
   "cell_type": "code",
   "execution_count": 1056,
   "id": "4c357eb4",
   "metadata": {},
   "outputs": [],
   "source": [
    "soup = bs4.BeautifulSoup(res.text, 'html.parser')"
   ]
  },
  {
   "cell_type": "code",
   "execution_count": 1057,
   "id": "3845466d",
   "metadata": {},
   "outputs": [
    {
     "data": {
      "text/plain": [
       "25"
      ]
     },
     "execution_count": 1057,
     "metadata": {},
     "output_type": "execute_result"
    }
   ],
   "source": [
    "len(soup.select('.item-info'))"
   ]
  },
  {
   "cell_type": "code",
   "execution_count": 1060,
   "id": "8db3832b",
   "metadata": {
    "scrolled": true
   },
   "outputs": [],
   "source": [
    "string = soup.select('.item-info')[15].getText()"
   ]
  },
  {
   "cell_type": "code",
   "execution_count": 1061,
   "id": "3801f661",
   "metadata": {},
   "outputs": [
    {
     "data": {
      "text/plain": [
       "'(266)Western Digital Scorpio Black wd5000bpkt 500GB 7200 RPM 16MB Cache SATA 3.0Gb/s 2.5\" Internal Notebook Hard Drive Bare DriveHeight (maximum): 9.5mmWidth (maximum): 69.75mmLength (maximum): 100.3mmParts: 5 years limitedModel #: wd5000bpktReturn Policy: View Return Policy'"
      ]
     },
     "execution_count": 1061,
     "metadata": {},
     "output_type": "execute_result"
    }
   ],
   "source": [
    "string"
   ]
  },
  {
   "cell_type": "markdown",
   "id": "c3394aba",
   "metadata": {},
   "source": [
    "## It's time to make re and check if everything works for retreiving data"
   ]
  },
  {
   "cell_type": "markdown",
   "id": "d9b2343d",
   "metadata": {},
   "source": [
    "## Applying regular expression for every required piece of data"
   ]
  },
  {
   "cell_type": "code",
   "execution_count": 1067,
   "id": "d6f02d0d",
   "metadata": {},
   "outputs": [
    {
     "data": {
      "text/plain": [
       "[]"
      ]
     },
     "execution_count": 1067,
     "metadata": {},
     "output_type": "execute_result"
    }
   ],
   "source": [
    "name = re.findall('\\s(WD......|WD........)[IR]', string)\n",
    "name"
   ]
  },
  {
   "cell_type": "code",
   "execution_count": 1063,
   "id": "d0ffcab6",
   "metadata": {},
   "outputs": [
    {
     "data": {
      "text/plain": [
       "'500GB'"
      ]
     },
     "execution_count": 1063,
     "metadata": {},
     "output_type": "execute_result"
    }
   ],
   "source": [
    "capacity = re.findall('\\dTB|\\d\\d\\dGB', string)[0]\n",
    "capacity"
   ]
  },
  {
   "cell_type": "code",
   "execution_count": 1064,
   "id": "fa6f4299",
   "metadata": {},
   "outputs": [
    {
     "data": {
      "text/plain": [
       "'7200 RPM'"
      ]
     },
     "execution_count": 1064,
     "metadata": {},
     "output_type": "execute_result"
    }
   ],
   "source": [
    "speed = re.findall('\\d\\d\\d\\d\\s\\D\\D\\D|\\d\\d\\d\\d\\d\\s\\D\\D\\D',string)[0]\n",
    "speed"
   ]
  },
  {
   "cell_type": "code",
   "execution_count": 1065,
   "id": "642db354",
   "metadata": {},
   "outputs": [
    {
     "data": {
      "text/plain": [
       "' 2.5\"'"
      ]
     },
     "execution_count": 1065,
     "metadata": {},
     "output_type": "execute_result"
    }
   ],
   "source": [
    "size = re.findall('\\s\\d\\.\\d[\\s|\\W]',string)[0]\n",
    "size"
   ]
  },
  {
   "cell_type": "code",
   "execution_count": 1066,
   "id": "6ea11ef4",
   "metadata": {},
   "outputs": [
    {
     "data": {
      "text/plain": [
       "'$65.99\\xa0(12 Offers)–'"
      ]
     },
     "execution_count": 1066,
     "metadata": {},
     "output_type": "execute_result"
    }
   ],
   "source": [
    "string1 = soup.select('.price-current')[0].getText()\n",
    "string1"
   ]
  },
  {
   "cell_type": "code",
   "execution_count": 987,
   "id": "a269685f",
   "metadata": {},
   "outputs": [
    {
     "data": {
      "text/plain": [
       "'$75.00'"
      ]
     },
     "execution_count": 987,
     "metadata": {},
     "output_type": "execute_result"
    }
   ],
   "source": [
    "money = re.findall('\\A......', string1)[0]\n",
    "money"
   ]
  },
  {
   "cell_type": "markdown",
   "id": "82b96e78",
   "metadata": {},
   "source": [
    "## So looks like everythiing works. It's time to scrape through all the pages"
   ]
  },
  {
   "cell_type": "code",
   "execution_count": 1073,
   "id": "d100dbc7",
   "metadata": {},
   "outputs": [],
   "source": [
    "hard_disk_data = []\n",
    "for n in range(1,4):\n",
    "    scrape_url = base_url.format(n)\n",
    "    res = requests.get(scrape_url)\n",
    "\n",
    "    soup = bs4.BeautifulSoup(res.text, 'lxml')\n",
    "    for i in range(0, len(soup.select('.item-info'))):\n",
    "        first_data = []\n",
    "        disk_info = soup.select('.item-info')[i].getText()\n",
    "        disk_price = soup.select('.price-current')[i].getText()\n",
    "        \n",
    "        try: \n",
    "            name = re.findall('\\s(WD......|WD........)[IR]', disk_info)[0]\n",
    "        except:\n",
    "            pass\n",
    "        try:\n",
    "            capacity = re.findall('\\dTB|\\d\\d\\dGB', disk_info)[0]\n",
    "        except:\n",
    "            pass\n",
    "        try:\n",
    "            speed = re.findall('\\d\\d\\d\\d\\s\\D\\D\\D|\\d\\d\\d\\d\\d\\s\\D\\D\\D',disk_info)[0]\n",
    "        except:\n",
    "            pass\n",
    "        \n",
    "        try:\n",
    "            size = re.findall('\\s\\d\\.\\d[\\s|\\W]',disk_info)[0]\n",
    "        except:\n",
    "            pass\n",
    "        \n",
    "        try:\n",
    "            money = re.findall('\\A......', disk_price)[0]\n",
    "        except:\n",
    "            pass\n",
    "        \n",
    "        first_data.append(name)\n",
    "        first_data.append(capacity)\n",
    "        first_data.append(speed)\n",
    "        first_data.append(size)\n",
    "        first_data.append(money)\n",
    "        \n",
    "        hard_disk_data.append(first_data)"
   ]
  },
  {
   "cell_type": "markdown",
   "id": "cded24dc",
   "metadata": {},
   "source": [
    "## Lets check what we got"
   ]
  },
  {
   "cell_type": "code",
   "execution_count": 1077,
   "id": "e9d8e38a",
   "metadata": {},
   "outputs": [
    {
     "data": {
      "text/plain": [
       "[['WD10SPSX', '1TB', '7200 RPM', ' 2.5 ', '$65.99'],\n",
       " ['WD10SPZX', '1TB', '5400 RPM', ' 2.5\"', '$48.90'],\n",
       " ['WD20SPZX', '2TB', '5400 RPM', ' 2.5\"', '$67.99'],\n",
       " ['WD10JFCX', '1TB', '5400 RPM', ' 2.5 ', '$86.55'],\n",
       " ['WD1000CHTZ', '1TB', '10000 RPM', ' 2.5\"', '$57.99'],\n",
       " ['WD5000LPCX', '500GB', '5400 RPM', ' 2.5\"', '$31.99'],\n",
       " ['WD5000LPSX', '500GB', '7200 RPM', ' 2.5\"', '$49.00'],\n",
       " ['WD10JUCT', '1TB', '5400 RPM', ' 2.5-', '$39.99'],\n",
       " ['WD5000LPLX', '500GB', '7200 RPM', ' 2.5\"', '$46.34'],\n",
       " ['WD2500LPLX', '250GB', '7200 RPM', ' 2.5\"', '$83.70'],\n",
       " ['WD7500BPKX', '750GB', '7200 RPM', ' 2.5 ', '$61.00'],\n",
       " ['WD3001BKHG', '300GB', '10000 RPM', ' 2.5\"', '$78.99'],\n",
       " ['WD9001BKHG', '900GB', '10000 RPM', ' 2.5\"', '$76.95'],\n",
       " ['WD1600BEVT', '160GB', '5400 RPM', ' 2.5\"', '$39.99'],\n",
       " ['WD5000BPKX', '500GB', '7200 RPM', ' 2.5\"', '$53.00'],\n",
       " ['WD5000BPKX', '500GB', '7200 RPM', ' 2.5\"', '$92.99'],\n",
       " ['WD5000BHTZ', '500GB', '10000 RPM', ' 2.5\"', '$105.0'],\n",
       " ['WD10JPLX', '1TB', '7200 RPM', ' 2.5 ', '$95.81'],\n",
       " ['WD6400AAKS', '1TB', '7200 RPM', ' 3.5\"', '$38.49'],\n",
       " ['WD2500BEVT', '250GB', '5400 RPM', ' 2.5\"', '$54.99'],\n",
       " ['WD5000LPVX', '500GB', '5400 RPM', ' 2.5 ', '$34.50'],\n",
       " ['WD6400BPVT', '640GB', '5400 RPM', ' 2.5\"', '$49.99'],\n",
       " ['WD20NPVZ', '2TB', '5400 RPM', ' 2.5 ', '$69.99'],\n",
       " ['WD5000BPVT', '500GB', '5400 RPM', ' 2.5 ', '$65.00'],\n",
       " ['WD5000LPVT', '500GB', '5400 RPM', ' 2.5 ', '$50.00'],\n",
       " ['WD7500BPKT', '750GB', '7200 RPM', ' 2.5\"', '$115.9'],\n",
       " ['WD5000BUDT', '500GB', '5400 RPM', ' 2.5\"', '$185.9'],\n",
       " ['WD7500BPVT', '750GB', '5400 RPM', ' 2.5\"', '$56.99'],\n",
       " ['WD5000BEKT', '500GB', '7200 RPM', ' 2.5\"', '$112.0'],\n",
       " ['WD3200LPLX', '320GB', '7200 RPM', ' 2.5\"', '$67.94'],\n",
       " ['WD3200BEVT', '320GB', '5400 RPM', ' 2.5\"', '$99.99'],\n",
       " ['WD1200VE', '120GB', '5400 RPM', ' 2.5\"', '$52.11'],\n",
       " ['WD1600BEVS', '120GB', '5400 RPM', ' 2.5\"', '$28.95'],\n",
       " ['WD1600BEVS', '1TB', '5400 RPM', ' 2.5\"', '$60.28'],\n",
       " ['WD2500BPVT', '250GB', '5400 RPM', ' 2.5\"', '$54.00'],\n",
       " ['WD7500BFCX', '750GB', '5400 RPM', ' 2.5 ', '$100.2'],\n",
       " ['WD5000BEVT', '500GB', '5400 RPM', ' 2.5\"', '$65.00'],\n",
       " ['WD1200BEVE', '120GB', '5400 RPM', ' 2.5\"', '$129.9'],\n",
       " ['WD6000BLHX', '600GB', '10000 RPM', ' 2.5\"', '$149.0'],\n",
       " ['WD3000BLFS', '300GB', '10000 RPM', ' 2.5\"', '$61.25'],\n",
       " ['WD3000BLFS', '120GB', '10000 RPM', ' 2.5\"', '$109.8'],\n",
       " ['WD4500BLHX', '450GB', '10000 RPM', ' 2.5\"', '$49.95'],\n",
       " ['WD4500BLHX', '450GB', '5400 RPM', ' 2.5\"', '$59.59'],\n",
       " ['WD3200BEVE', '320GB', '5400 RPM', ' 2.5\"', '$190.0'],\n",
       " ['WD3200BEVE', '1TB', '5400 RPM', ' 6.0 ', '$90.00'],\n",
       " ['WD1200BEVS', '120GB', '5400 RPM', ' 2.5\"', '$132.7'],\n",
       " ['WD6000BKHG', '600GB', '10000 RPM', ' 2.5\"', '$92.95'],\n",
       " ['WD3000BLHX', '300GB', '10000 RPM', ' 2.5\"', '$148.9'],\n",
       " ['WD2500LPVT', '250GB', '5400 RPM', ' 2.5 ', '$119.3'],\n",
       " ['WD2500LPVT', '250GB', '5400 RPM', ' 2.5 ', '$30.99'],\n",
       " ['WD2500BEVE', '250GB', '5400 RPM', ' 2.5\"', '$95.01'],\n",
       " ['WD2500BEVE', '1TB', '5400 RPM', ' 2.5\"', '$75.00'],\n",
       " ['WD2500BEVE', '1TB', '5400 RPM', ' 2.5\"', '$132.9'],\n",
       " ['WD2500BEVE', '1TB', '5400 RPM', ' 2.5\"', '$65.00'],\n",
       " ['WD1600VE', '160GB', '5400 RPM', ' 2.5\"', '$85.75'],\n",
       " ['WD400VEDTL', '160GB', '5400 RPM', ' 2.5\"', '$85.75'],\n",
       " ['WD400VEDTL', '160GB', '5400 RPM', \" 2.5'\", '$255.7'],\n",
       " ['WD400VEDTL', '160GB', '5400 RPM', ' 2.5\"', '$90.07'],\n",
       " ['WD400VEDTL', '120GB', '5400 RPM', ' 2.5\"', '$49.90'],\n",
       " ['WD3200BEKT', '320GB', '7200 RPM', ' 2.5\"', '$49.90'],\n",
       " ['WD1200VE', '120GB', '5400 RPM', ' 2.5\"', '$125.1'],\n",
       " ['WD1200VE', '120GB', '5400 RPM', ' 2.5\"', '$22.10'],\n",
       " ['WD1200VE', '120GB', '5400 RPM', ' 2.5\"', '$21.10'],\n",
       " ['WD2500BEVT', '250GB', '5400 RPM', ' 2.5\"', '$17.00'],\n",
       " ['WD10JPVX', '1TB', '5400 RPM', ' 2.5\"', '$44.00'],\n",
       " ['WD2500BPVT', '250GB', '5400 RPM', ' 2.5\"', '$19.99'],\n",
       " ['WD5000BPKT', '500GB', '7200 RPM', ' 2.5\"', '$117.6'],\n",
       " ['WD3200BEKX', '320GB', '7200 RPM', ' 2.5\"', '$32.00'],\n",
       " ['WD3200BPVT', '320GB', '5400 RPM', ' 2.5\"', '$32.80'],\n",
       " ['WD3200BPVT', '320GB', '7200 RPM', ' 2.5\"', '$31.99'],\n",
       " ['WD3200BPVT', '500GB', '5400 RPM', ' 2.5\"', '$46.00'],\n",
       " ['WD5000LPVX', '500GB', '5400 RPM', ' 2.5\"', '$39.00'],\n",
       " ['WD10S21X', '1TB', '5400 RPM', ' 2.5\"', '$75.00'],\n",
       " ['WD10S21X', '500GB', '5400 RPM', ' 2.5\"', '$69.99'],\n",
       " ['WD10S21X', '500GB', '7200 RPM', ' 2.5\"', '$39.95'],\n",
       " ['WD3200BEKT', '320GB', '7200 RPM', ' 2.5\"', '$17.98'],\n",
       " ['WD3200BEVT', '320GB', '7200 RPM', ' 2.5\"', '$83.00'],\n",
       " ['WD5000BPKT', '500GB', '7200 RPM', ' 2.5\"', '$39.00'],\n",
       " ['WD10JPVT', '500GB', '7200 RPM', ' 2.5\"', '$104.0'],\n",
       " ['WD10TPVT', '1TB', '5200 RPM', ' 2.5\"', '$153.0'],\n",
       " ['WD1600BEKT', '160GB', '7200 RPM', ' 2.5\"', '$15.82'],\n",
       " ['WD2500BEKT', '250GB', '7200 RPM', ' 2.5\"', '$46.99'],\n",
       " ['WD7500BPKT', '750GB', '7200 RPM', ' 2.5\"', '$47.88'],\n",
       " ['WD7500BPKX', '750GB', '7200 RPM', ' 2.5\"', '$104.0'],\n",
       " ['WD3200LPVX', '320GB', '5400 RPM', ' 2.5\"', '$89.95'],\n",
       " ['WD1600BJKT', '160GB', '7200 RPM', ' 2.5\"', '$91.00'],\n",
       " ['WD1600BEVS', '160GB', '5400 RPM', ' 2.5\"', '$37.00'],\n",
       " ['WD1200BEVT', '120GB', '5400 RPM', ' 2.5\"', '$98.00'],\n",
       " ['WD1200BEVT', '120GB', '5400 RPM', ' 2.5\"', '$78.80'],\n",
       " ['WD3000BLHX', '300GB', '10000 RPM', ' 2.5\"', '$41.00'],\n",
       " ['WD3200BEVS', '320GB', '5400 RPM', ' 2.5\"', '$162.5'],\n",
       " ['WD1600BEVE', '160GB', '5400 RPM', ' 2.5\"', '$90.00'],\n",
       " ['WD1600BEVE', '500GB', '5400 RPM', ' 2.5\"', '$199.0'],\n",
       " ['WD5000BHTZ', '500GB', '5400 RPM', ' 2.5 ', '$139.0'],\n",
       " ['WD5000BHTZ', '160GB', '7200 RPM', ' 2.5\"', '$31.00'],\n",
       " ['WD7500KEVT', '750GB', '5200 RPM', ' 2.5\"', '$89.00'],\n",
       " ['WD800BEVT/', '750GB', '5400 RPM', ' 2.5\"', '$32.19']]"
      ]
     },
     "execution_count": 1077,
     "metadata": {},
     "output_type": "execute_result"
    }
   ],
   "source": [
    "hard_disk_data"
   ]
  },
  {
   "cell_type": "code",
   "execution_count": 1076,
   "id": "4b5b59da",
   "metadata": {},
   "outputs": [
    {
     "data": {
      "text/plain": [
       "97"
      ]
     },
     "execution_count": 1076,
     "metadata": {},
     "output_type": "execute_result"
    }
   ],
   "source": [
    "len(hard_disk_data)"
   ]
  },
  {
   "cell_type": "markdown",
   "id": "0d935805",
   "metadata": {},
   "source": [
    "## Looks like we scraped through everything and colected all the required information\n",
    "## So now lets convert our data into a data frame and take a look at it"
   ]
  },
  {
   "cell_type": "code",
   "execution_count": 1083,
   "id": "239bc114",
   "metadata": {},
   "outputs": [
    {
     "data": {
      "text/html": [
       "<div>\n",
       "<style scoped>\n",
       "    .dataframe tbody tr th:only-of-type {\n",
       "        vertical-align: middle;\n",
       "    }\n",
       "\n",
       "    .dataframe tbody tr th {\n",
       "        vertical-align: top;\n",
       "    }\n",
       "\n",
       "    .dataframe thead th {\n",
       "        text-align: right;\n",
       "    }\n",
       "</style>\n",
       "<table border=\"1\" class=\"dataframe\">\n",
       "  <thead>\n",
       "    <tr style=\"text-align: right;\">\n",
       "      <th></th>\n",
       "      <th>Model</th>\n",
       "      <th>Capacity</th>\n",
       "      <th>Speed</th>\n",
       "      <th>Size</th>\n",
       "      <th>Price</th>\n",
       "    </tr>\n",
       "  </thead>\n",
       "  <tbody>\n",
       "    <tr>\n",
       "      <th>0</th>\n",
       "      <td>WD10SPSX</td>\n",
       "      <td>1TB</td>\n",
       "      <td>7200 RPM</td>\n",
       "      <td>2.5</td>\n",
       "      <td>$65.99</td>\n",
       "    </tr>\n",
       "    <tr>\n",
       "      <th>1</th>\n",
       "      <td>WD10SPZX</td>\n",
       "      <td>1TB</td>\n",
       "      <td>5400 RPM</td>\n",
       "      <td>2.5\"</td>\n",
       "      <td>$48.90</td>\n",
       "    </tr>\n",
       "    <tr>\n",
       "      <th>2</th>\n",
       "      <td>WD20SPZX</td>\n",
       "      <td>2TB</td>\n",
       "      <td>5400 RPM</td>\n",
       "      <td>2.5\"</td>\n",
       "      <td>$67.99</td>\n",
       "    </tr>\n",
       "    <tr>\n",
       "      <th>3</th>\n",
       "      <td>WD10JFCX</td>\n",
       "      <td>1TB</td>\n",
       "      <td>5400 RPM</td>\n",
       "      <td>2.5</td>\n",
       "      <td>$86.55</td>\n",
       "    </tr>\n",
       "    <tr>\n",
       "      <th>4</th>\n",
       "      <td>WD1000CHTZ</td>\n",
       "      <td>1TB</td>\n",
       "      <td>10000 RPM</td>\n",
       "      <td>2.5\"</td>\n",
       "      <td>$57.99</td>\n",
       "    </tr>\n",
       "    <tr>\n",
       "      <th>...</th>\n",
       "      <td>...</td>\n",
       "      <td>...</td>\n",
       "      <td>...</td>\n",
       "      <td>...</td>\n",
       "      <td>...</td>\n",
       "    </tr>\n",
       "    <tr>\n",
       "      <th>92</th>\n",
       "      <td>WD1600BEVE</td>\n",
       "      <td>500GB</td>\n",
       "      <td>5400 RPM</td>\n",
       "      <td>2.5\"</td>\n",
       "      <td>$199.0</td>\n",
       "    </tr>\n",
       "    <tr>\n",
       "      <th>93</th>\n",
       "      <td>WD5000BHTZ</td>\n",
       "      <td>500GB</td>\n",
       "      <td>5400 RPM</td>\n",
       "      <td>2.5</td>\n",
       "      <td>$139.0</td>\n",
       "    </tr>\n",
       "    <tr>\n",
       "      <th>94</th>\n",
       "      <td>WD5000BHTZ</td>\n",
       "      <td>160GB</td>\n",
       "      <td>7200 RPM</td>\n",
       "      <td>2.5\"</td>\n",
       "      <td>$31.00</td>\n",
       "    </tr>\n",
       "    <tr>\n",
       "      <th>95</th>\n",
       "      <td>WD7500KEVT</td>\n",
       "      <td>750GB</td>\n",
       "      <td>5200 RPM</td>\n",
       "      <td>2.5\"</td>\n",
       "      <td>$89.00</td>\n",
       "    </tr>\n",
       "    <tr>\n",
       "      <th>96</th>\n",
       "      <td>WD800BEVT/</td>\n",
       "      <td>750GB</td>\n",
       "      <td>5400 RPM</td>\n",
       "      <td>2.5\"</td>\n",
       "      <td>$32.19</td>\n",
       "    </tr>\n",
       "  </tbody>\n",
       "</table>\n",
       "<p>97 rows × 5 columns</p>\n",
       "</div>"
      ],
      "text/plain": [
       "         Model Capacity      Speed   Size   Price\n",
       "0     WD10SPSX      1TB   7200 RPM   2.5   $65.99\n",
       "1     WD10SPZX      1TB   5400 RPM   2.5\"  $48.90\n",
       "2     WD20SPZX      2TB   5400 RPM   2.5\"  $67.99\n",
       "3     WD10JFCX      1TB   5400 RPM   2.5   $86.55\n",
       "4   WD1000CHTZ      1TB  10000 RPM   2.5\"  $57.99\n",
       "..         ...      ...        ...    ...     ...\n",
       "92  WD1600BEVE    500GB   5400 RPM   2.5\"  $199.0\n",
       "93  WD5000BHTZ    500GB   5400 RPM   2.5   $139.0\n",
       "94  WD5000BHTZ    160GB   7200 RPM   2.5\"  $31.00\n",
       "95  WD7500KEVT    750GB   5200 RPM   2.5\"  $89.00\n",
       "96  WD800BEVT/    750GB   5400 RPM   2.5\"  $32.19\n",
       "\n",
       "[97 rows x 5 columns]"
      ]
     },
     "execution_count": 1083,
     "metadata": {},
     "output_type": "execute_result"
    }
   ],
   "source": [
    "df = pd.DataFrame(hard_disk_data, columns=['Model', 'Capacity', 'Speed', 'Size', 'Price'])\n",
    "df"
   ]
  },
  {
   "cell_type": "markdown",
   "id": "f36284b5",
   "metadata": {},
   "source": [
    "## Lets save our data with pandas"
   ]
  },
  {
   "cell_type": "code",
   "execution_count": 1105,
   "id": "b3266893",
   "metadata": {},
   "outputs": [],
   "source": [
    "df.to_csv('NewEggScraping.csv')"
   ]
  },
  {
   "cell_type": "code",
   "execution_count": 1109,
   "id": "9f3f8c63",
   "metadata": {},
   "outputs": [
    {
     "data": {
      "text/html": [
       "<div>\n",
       "<style scoped>\n",
       "    .dataframe tbody tr th:only-of-type {\n",
       "        vertical-align: middle;\n",
       "    }\n",
       "\n",
       "    .dataframe tbody tr th {\n",
       "        vertical-align: top;\n",
       "    }\n",
       "\n",
       "    .dataframe thead th {\n",
       "        text-align: right;\n",
       "    }\n",
       "</style>\n",
       "<table border=\"1\" class=\"dataframe\">\n",
       "  <thead>\n",
       "    <tr style=\"text-align: right;\">\n",
       "      <th></th>\n",
       "      <th>Model</th>\n",
       "      <th>Capacity</th>\n",
       "      <th>Speed</th>\n",
       "      <th>Size</th>\n",
       "      <th>Price</th>\n",
       "    </tr>\n",
       "  </thead>\n",
       "  <tbody>\n",
       "    <tr>\n",
       "      <th>0</th>\n",
       "      <td>WD10SPSX</td>\n",
       "      <td>1TB</td>\n",
       "      <td>7200 RPM</td>\n",
       "      <td>2.5</td>\n",
       "      <td>$65.99</td>\n",
       "    </tr>\n",
       "    <tr>\n",
       "      <th>1</th>\n",
       "      <td>WD10SPZX</td>\n",
       "      <td>1TB</td>\n",
       "      <td>5400 RPM</td>\n",
       "      <td>2.5\"</td>\n",
       "      <td>$48.90</td>\n",
       "    </tr>\n",
       "    <tr>\n",
       "      <th>2</th>\n",
       "      <td>WD20SPZX</td>\n",
       "      <td>2TB</td>\n",
       "      <td>5400 RPM</td>\n",
       "      <td>2.5\"</td>\n",
       "      <td>$67.99</td>\n",
       "    </tr>\n",
       "    <tr>\n",
       "      <th>3</th>\n",
       "      <td>WD10JFCX</td>\n",
       "      <td>1TB</td>\n",
       "      <td>5400 RPM</td>\n",
       "      <td>2.5</td>\n",
       "      <td>$86.55</td>\n",
       "    </tr>\n",
       "    <tr>\n",
       "      <th>4</th>\n",
       "      <td>WD1000CHTZ</td>\n",
       "      <td>1TB</td>\n",
       "      <td>10000 RPM</td>\n",
       "      <td>2.5\"</td>\n",
       "      <td>$57.99</td>\n",
       "    </tr>\n",
       "    <tr>\n",
       "      <th>...</th>\n",
       "      <td>...</td>\n",
       "      <td>...</td>\n",
       "      <td>...</td>\n",
       "      <td>...</td>\n",
       "      <td>...</td>\n",
       "    </tr>\n",
       "    <tr>\n",
       "      <th>92</th>\n",
       "      <td>WD1600BEVE</td>\n",
       "      <td>500GB</td>\n",
       "      <td>5400 RPM</td>\n",
       "      <td>2.5\"</td>\n",
       "      <td>$199.0</td>\n",
       "    </tr>\n",
       "    <tr>\n",
       "      <th>93</th>\n",
       "      <td>WD5000BHTZ</td>\n",
       "      <td>500GB</td>\n",
       "      <td>5400 RPM</td>\n",
       "      <td>2.5</td>\n",
       "      <td>$139.0</td>\n",
       "    </tr>\n",
       "    <tr>\n",
       "      <th>94</th>\n",
       "      <td>WD5000BHTZ</td>\n",
       "      <td>160GB</td>\n",
       "      <td>7200 RPM</td>\n",
       "      <td>2.5\"</td>\n",
       "      <td>$31.00</td>\n",
       "    </tr>\n",
       "    <tr>\n",
       "      <th>95</th>\n",
       "      <td>WD7500KEVT</td>\n",
       "      <td>750GB</td>\n",
       "      <td>5200 RPM</td>\n",
       "      <td>2.5\"</td>\n",
       "      <td>$89.00</td>\n",
       "    </tr>\n",
       "    <tr>\n",
       "      <th>96</th>\n",
       "      <td>WD800BEVT/</td>\n",
       "      <td>750GB</td>\n",
       "      <td>5400 RPM</td>\n",
       "      <td>2.5\"</td>\n",
       "      <td>$32.19</td>\n",
       "    </tr>\n",
       "  </tbody>\n",
       "</table>\n",
       "<p>97 rows × 5 columns</p>\n",
       "</div>"
      ],
      "text/plain": [
       "         Model Capacity      Speed   Size   Price\n",
       "0     WD10SPSX      1TB   7200 RPM   2.5   $65.99\n",
       "1     WD10SPZX      1TB   5400 RPM   2.5\"  $48.90\n",
       "2     WD20SPZX      2TB   5400 RPM   2.5\"  $67.99\n",
       "3     WD10JFCX      1TB   5400 RPM   2.5   $86.55\n",
       "4   WD1000CHTZ      1TB  10000 RPM   2.5\"  $57.99\n",
       "..         ...      ...        ...    ...     ...\n",
       "92  WD1600BEVE    500GB   5400 RPM   2.5\"  $199.0\n",
       "93  WD5000BHTZ    500GB   5400 RPM   2.5   $139.0\n",
       "94  WD5000BHTZ    160GB   7200 RPM   2.5\"  $31.00\n",
       "95  WD7500KEVT    750GB   5200 RPM   2.5\"  $89.00\n",
       "96  WD800BEVT/    750GB   5400 RPM   2.5\"  $32.19\n",
       "\n",
       "[97 rows x 5 columns]"
      ]
     },
     "execution_count": 1109,
     "metadata": {},
     "output_type": "execute_result"
    }
   ],
   "source": [
    "df1 = pd.read_csv('NewEggScraping.csv')\n",
    "df1.pop('Unnamed: 0')\n",
    "df1"
   ]
  }
 ],
 "metadata": {
  "kernelspec": {
   "display_name": "Python 3",
   "language": "python",
   "name": "python3"
  },
  "language_info": {
   "codemirror_mode": {
    "name": "ipython",
    "version": 3
   },
   "file_extension": ".py",
   "mimetype": "text/x-python",
   "name": "python",
   "nbconvert_exporter": "python",
   "pygments_lexer": "ipython3",
   "version": "3.8.8"
  }
 },
 "nbformat": 4,
 "nbformat_minor": 5
}
