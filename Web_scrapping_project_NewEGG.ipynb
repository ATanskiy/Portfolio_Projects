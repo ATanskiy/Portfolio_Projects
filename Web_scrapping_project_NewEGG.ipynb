{
 "cells": [
  {
   "cell_type": "markdown",
   "id": "6cf843fd",
   "metadata": {},
   "source": [
    "# Web scraping project for laptop hard drives made by Western Digital on an American retailer NewEgg"
   ]
  },
  {
   "cell_type": "markdown",
   "id": "8ee8dadb",
   "metadata": {},
   "source": [
    "## Installing some packages for the project"
   ]
  },
  {
   "cell_type": "code",
   "execution_count": 21,
   "id": "cba09b08",
   "metadata": {},
   "outputs": [
    {
     "name": "stdout",
     "output_type": "stream",
     "text": [
      "Requirement already satisfied: lxml in c:\\users\\atans\\anaconda3\\lib\\site-packages (5.1.0)\n",
      "Note: you may need to restart the kernel to use updated packages.\n"
     ]
    }
   ],
   "source": [
    "pip install lxml"
   ]
  },
  {
   "cell_type": "code",
   "execution_count": 22,
   "id": "7f4cb60d",
   "metadata": {},
   "outputs": [
    {
     "name": "stdout",
     "output_type": "stream",
     "text": [
      "Requirement already satisfied: bs4 in c:\\users\\atans\\anaconda3\\lib\\site-packages (0.0.2)\n",
      "Requirement already satisfied: beautifulsoup4 in c:\\users\\atans\\anaconda3\\lib\\site-packages (from bs4) (4.12.2)\n",
      "Requirement already satisfied: soupsieve>1.2 in c:\\users\\atans\\anaconda3\\lib\\site-packages (from beautifulsoup4->bs4) (2.5)\n",
      "Note: you may need to restart the kernel to use updated packages.\n"
     ]
    }
   ],
   "source": [
    "pip install bs4"
   ]
  },
  {
   "cell_type": "markdown",
   "id": "36c27c8a",
   "metadata": {},
   "source": [
    "## Importing the libraries that are required"
   ]
  },
  {
   "cell_type": "code",
   "execution_count": 1,
   "id": "91794006",
   "metadata": {},
   "outputs": [],
   "source": [
    "import requests\n",
    "import bs4\n",
    "import lxml\n",
    "import re\n",
    "import pandas as pd\n",
    "import csv"
   ]
  },
  {
   "cell_type": "markdown",
   "id": "01161871",
   "metadata": {},
   "source": [
    "## Creating base_url"
   ]
  },
  {
   "cell_type": "code",
   "execution_count": 2,
   "id": "c81a87ec",
   "metadata": {},
   "outputs": [],
   "source": [
    "base_url = 'https://www.newegg.com/p/pl?PageSize=36&N=100167524%2050001306&page={}'"
   ]
  },
  {
   "cell_type": "code",
   "execution_count": 3,
   "id": "db9e1706",
   "metadata": {},
   "outputs": [
    {
     "data": {
      "text/plain": [
       "'https://www.newegg.com/p/pl?PageSize=36&N=100167524%2050001306&page='"
      ]
     },
     "execution_count": 3,
     "metadata": {},
     "output_type": "execute_result"
    }
   ],
   "source": [
    "base_url.format('')"
   ]
  },
  {
   "cell_type": "markdown",
   "id": "447c83d5",
   "metadata": {},
   "source": [
    "## Saving res cell"
   ]
  },
  {
   "cell_type": "code",
   "execution_count": 4,
   "id": "74233942",
   "metadata": {},
   "outputs": [],
   "source": [
    "res = requests.get(base_url.format(3))"
   ]
  },
  {
   "cell_type": "code",
   "execution_count": 5,
   "id": "4c357eb4",
   "metadata": {},
   "outputs": [],
   "source": [
    "soup = bs4.BeautifulSoup(res.text, 'html.parser')"
   ]
  },
  {
   "cell_type": "code",
   "execution_count": 6,
   "id": "3845466d",
   "metadata": {},
   "outputs": [
    {
     "data": {
      "text/plain": [
       "18"
      ]
     },
     "execution_count": 6,
     "metadata": {},
     "output_type": "execute_result"
    }
   ],
   "source": [
    "len(soup.select('.item-info'))"
   ]
  },
  {
   "cell_type": "code",
   "execution_count": 29,
   "id": "8db3832b",
   "metadata": {
    "scrolled": true
   },
   "outputs": [],
   "source": [
    "string = soup.select('.item-info')[10].getText()"
   ]
  },
  {
   "cell_type": "code",
   "execution_count": 30,
   "id": "3801f661",
   "metadata": {},
   "outputs": [
    {
     "data": {
      "text/plain": [
       "'(2)Refurbished WD WD VelociRaptor WD4500BLHX 450GB 10000 RPM 32MB Cache SATA 6.0Gb/s 2.5\" Internal Enterprise Hard Drive Bare DriveModel #: WD4500BLHXItem #: 9SIB85DJA16516Return Policy: View Return Policy'"
      ]
     },
     "execution_count": 30,
     "metadata": {},
     "output_type": "execute_result"
    }
   ],
   "source": [
    "string"
   ]
  },
  {
   "cell_type": "markdown",
   "id": "c3394aba",
   "metadata": {},
   "source": [
    "## It's time to make re and check if everything works for retreiving data"
   ]
  },
  {
   "cell_type": "markdown",
   "id": "d9b2343d",
   "metadata": {},
   "source": [
    "## Applying regular expression for every required piece of data"
   ]
  },
  {
   "cell_type": "code",
   "execution_count": 9,
   "id": "d6f02d0d",
   "metadata": {},
   "outputs": [
    {
     "data": {
      "text/plain": [
       "['WD5000LPVX']"
      ]
     },
     "execution_count": 9,
     "metadata": {},
     "output_type": "execute_result"
    }
   ],
   "source": [
    "name = re.findall('\\s(WD......|WD........)[IR]', string)\n",
    "name"
   ]
  },
  {
   "cell_type": "code",
   "execution_count": 10,
   "id": "d0ffcab6",
   "metadata": {},
   "outputs": [
    {
     "data": {
      "text/plain": [
       "'500GB'"
      ]
     },
     "execution_count": 10,
     "metadata": {},
     "output_type": "execute_result"
    }
   ],
   "source": [
    "capacity = re.findall('\\dTB|\\d\\d\\dGB', string)[0]\n",
    "capacity"
   ]
  },
  {
   "cell_type": "code",
   "execution_count": 11,
   "id": "fa6f4299",
   "metadata": {},
   "outputs": [
    {
     "data": {
      "text/plain": [
       "'5400 RPM'"
      ]
     },
     "execution_count": 11,
     "metadata": {},
     "output_type": "execute_result"
    }
   ],
   "source": [
    "speed = re.findall('\\d\\d\\d\\d\\s\\D\\D\\D|\\d\\d\\d\\d\\d\\s\\D\\D\\D',string)[0]\n",
    "speed"
   ]
  },
  {
   "cell_type": "code",
   "execution_count": 12,
   "id": "642db354",
   "metadata": {},
   "outputs": [
    {
     "data": {
      "text/plain": [
       "' 2.5\"'"
      ]
     },
     "execution_count": 12,
     "metadata": {},
     "output_type": "execute_result"
    }
   ],
   "source": [
    "size = re.findall('\\s\\d\\.\\d[\\s|\\W]',string)[0]\n",
    "size"
   ]
  },
  {
   "cell_type": "code",
   "execution_count": 13,
   "id": "6ea11ef4",
   "metadata": {},
   "outputs": [
    {
     "data": {
      "text/plain": [
       "'$143.18\\xa0–'"
      ]
     },
     "execution_count": 13,
     "metadata": {},
     "output_type": "execute_result"
    }
   ],
   "source": [
    "string1 = soup.select('.price-current')[0].getText()\n",
    "string1"
   ]
  },
  {
   "cell_type": "code",
   "execution_count": 14,
   "id": "a269685f",
   "metadata": {},
   "outputs": [
    {
     "data": {
      "text/plain": [
       "'$143.1'"
      ]
     },
     "execution_count": 14,
     "metadata": {},
     "output_type": "execute_result"
    }
   ],
   "source": [
    "money = re.findall('\\A......', string1)[0]\n",
    "money"
   ]
  },
  {
   "cell_type": "markdown",
   "id": "82b96e78",
   "metadata": {},
   "source": [
    "## So looks like everythiing works. It's time to scrape through all the pages"
   ]
  },
  {
   "cell_type": "code",
   "execution_count": 15,
   "id": "d100dbc7",
   "metadata": {},
   "outputs": [],
   "source": [
    "hard_disk_data = []\n",
    "for n in range(1,4):\n",
    "    scrape_url = base_url.format(n)\n",
    "    res = requests.get(scrape_url)\n",
    "\n",
    "    soup = bs4.BeautifulSoup(res.text, 'lxml')\n",
    "    for i in range(0, len(soup.select('.item-info'))):\n",
    "        first_data = []\n",
    "        disk_info = soup.select('.item-info')[i].getText()\n",
    "        disk_price = soup.select('.price-current')[i].getText()\n",
    "        \n",
    "        try: \n",
    "            name = re.findall('\\s(WD......|WD........)[IR]', disk_info)[0]\n",
    "        except:\n",
    "            pass\n",
    "        try:\n",
    "            capacity = re.findall('\\dTB|\\d\\d\\dGB', disk_info)[0]\n",
    "        except:\n",
    "            pass\n",
    "        try:\n",
    "            speed = re.findall('\\d\\d\\d\\d\\s\\D\\D\\D|\\d\\d\\d\\d\\d\\s\\D\\D\\D',disk_info)[0]\n",
    "        except:\n",
    "            pass\n",
    "        \n",
    "        try:\n",
    "            size = re.findall('\\s\\d\\.\\d[\\s|\\W]',disk_info)[0]\n",
    "        except:\n",
    "            pass\n",
    "        \n",
    "        try:\n",
    "            money = re.findall('\\A......', disk_price)[0]\n",
    "        except:\n",
    "            pass\n",
    "        \n",
    "        first_data.append(name)\n",
    "        first_data.append(capacity)\n",
    "        first_data.append(speed)\n",
    "        first_data.append(size)\n",
    "        first_data.append(money)\n",
    "        \n",
    "        hard_disk_data.append(first_data)"
   ]
  },
  {
   "cell_type": "markdown",
   "id": "cded24dc",
   "metadata": {},
   "source": [
    "## Lets check what we got"
   ]
  },
  {
   "cell_type": "code",
   "execution_count": 16,
   "id": "e9d8e38a",
   "metadata": {},
   "outputs": [
    {
     "data": {
      "text/plain": [
       "[['WD20SPZX', '2TB', '5400 RPM', ' 2.5\"', '$73.99'],\n",
       " ['WD5000LPSX', '500GB', '7200 RPM', ' 2.5\"', '$38.99'],\n",
       " ['WD10SPSX', '1TB', '7200 RPM', ' 2.5 ', '$73.99'],\n",
       " ['WD5000BHTZ', '500GB', '10000 RPM', ' 2.5\"', '$98.34'],\n",
       " ['WD5000LPCX', '500GB', '5400 RPM', ' 2.5\"', '$34.50'],\n",
       " ['WD1000CHTZ', '1TB', '10000 RPM', ' 2.5\"', '$54.95'],\n",
       " ['WD10SPZX', '1TB', '5400 RPM', ' 2.5\"', '$59.38'],\n",
       " ['WD7500BPVX', '750GB', '5400 RPM', ' 2.5 ', '$61.84'],\n",
       " ['WD7500BPVX', '750GB', '5400 RPM', ' 2.5\"', '$98.76'],\n",
       " ['WD5000LPLX', '500GB', '7200 RPM', ' 2.5\"', '$40.00'],\n",
       " ['WD10JUCT', '1TB', '5400 RPM', ' 2.5-', '$50.00'],\n",
       " ['WD7500BPVT', '750GB', '5400 RPM', ' 2.5\"', '$56.99'],\n",
       " ['WD2500BPVT', '250GB', '5400 RPM', ' 2.5\"', '$54.00'],\n",
       " ['WD9001BKHG', '900GB', '10000 RPM', ' 2.5\"', '$94.99'],\n",
       " ['WD10SPCX', '1TB', '5400 RPM', ' 2.5\"', '$74.75'],\n",
       " ['WD2500LPLX', '250GB', '7200 RPM', ' 2.5\"', '$45.00'],\n",
       " ['WD2500LPLX', '640GB', '5400 RPM', ' 2.5\"', '$69.95'],\n",
       " ['WD2500LPLX', '1TB', '5400 RPM', ' 6.0 ', '$33.50'],\n",
       " ['WD2500LPLX', '1TB', '5400 RPM', ' 2.5\"', '$64.95'],\n",
       " ['WD3001BKHG', '300GB', '10000 RPM', ' 2.5\"', '$128.4'],\n",
       " ['WD3001BKHG', '300GB', '10000 RPM', ' 2.5\"', '$2,000'],\n",
       " ['WD3001BKHG', '160GB', '5400 RPM', ' 2.5\"', '$50.00'],\n",
       " ['WD6400AAKS', '160GB', '7200 RPM', ' 3.5\"', '$206.2'],\n",
       " ['WD6400AAKS', '1TB', '5400 RPM', ' 2.5\"', '$99.99'],\n",
       " ['WD6000BLHX', '600GB', '10000 RPM', ' 2.5\"', '$172.8'],\n",
       " ['WD10JPLX', '1TB', '7200 RPM', ' 2.5 ', '$95.00'],\n",
       " ['WD1600BEVE', '160GB', '5400 RPM', ' 2.5\"', '$125.0'],\n",
       " ['WD1200BEVS', '120GB', '5400 RPM', ' 2.5\"', '$231.2'],\n",
       " ['WD3000BLFS', '300GB', '10000 RPM', ' 2.5\"', '$161.2'],\n",
       " ['WD3000BLFS', '300GB', '5400 RPM', ' 2.5\"', '$90.00'],\n",
       " ['WD3000BLFS', '300GB', '5400 RPM', ' 2.5\"', '$35.00'],\n",
       " ['WD10JPVT', '1TB', '5400 RPM', ' 2.5\"', '$45.00'],\n",
       " ['WD10JPVT', '1TB', '5400 RPM', ' 2.5\"', '$21.10'],\n",
       " ['WD2500BEVS', '1TB', '5400 RPM', ' 2.5\"', '$58.00'],\n",
       " ['WD1200VE', '120GB', '5400 RPM', ' 2.5\"', '$125.1'],\n",
       " ['WD1200VE', '120GB', '5400 RPM', ' 2.5\"', '$22.10'],\n",
       " ['WD3200LPVX', '320GB', '5400 RPM', ' 2.5\"', '$40.00'],\n",
       " ['WD2500LPVT', '250GB', '5400 RPM', ' 2.5 ', '$35.00'],\n",
       " ['WD7500BPKX', '750GB', '7200 RPM', ' 2.5 ', '$39.99'],\n",
       " ['WD7500BPKT', '750GB', '7200 RPM', ' 2.5\"', '$28.74'],\n",
       " ['WD5000BEVT', '500GB', '5400 RPM', ' 2.5\"', '$37.49'],\n",
       " ['WD6400BPVT', '640GB', '5400 RPM', ' 2.5\"', '$24.99'],\n",
       " ['WD5000LPVX', '500GB', '5400 RPM', ' 2.5 ', '$16.24'],\n",
       " ['WD5000LPVX', '500GB', '7200 RPM', ' 2.5\"', '$16.24'],\n",
       " ['WD5000BPKX', '500GB', '7200 RPM', ' 2.5\"', '$13.74'],\n",
       " ['WD1600BPVT', '160GB', '5400 RPM', ' 2.5\"', '$17.49'],\n",
       " ['WD5000LPVT', '160GB', '5400 RPM', ' 2.5\"', '$32.49'],\n",
       " ['WD1600BEVT', '160GB', '5400 RPM', ' 2.5\"', '$110.5'],\n",
       " ['WD5000BEKT', '500GB', '7200 RPM', ' 2.5\"', '$148.3'],\n",
       " ['WD2500BEVT', '250GB', '5400 RPM', ' 2.5\"', '$19.99'],\n",
       " ['WD2500BPVT', '250GB', '5400 RPM', ' 2.5\"', '$19.95'],\n",
       " ['WD3200BEKT', '320GB', '7200 RPM', ' 2.5\"', '$19.95'],\n",
       " ['WD5000BPKT', '500GB', '7200 RPM', ' 2.5\"', '$38.95'],\n",
       " ['WD5000BPKT', '500GB', '5400 RPM', ' 2.5\"', '$27.84'],\n",
       " ['WD5000BPKT', '500GB', '7200 RPM', ' 2.5\"', '$39.95'],\n",
       " ['WD3200BEKX', '320GB', '7200 RPM', ' 2.5\"', '$32.00'],\n",
       " ['WD7500KEVT', '750GB', '5200 RPM', ' 2.5\"', '$88.95'],\n",
       " ['WD7500KEVT', '640GB', '5400 RPM', ' 2.5\"', '$69.95'],\n",
       " ['WD10S21X', '1TB', '5400 RPM', ' 2.5\"', '$75.00'],\n",
       " ['WD10S21X', '500GB', '5400 RPM', ' 2.5\"', '$199.0'],\n",
       " ['WD2500BEKT', '250GB', '7200 RPM', ' 2.5\"', '$49.95'],\n",
       " ['WD3000BLHX', '300GB', '10000 RPM', ' 2.5\"', '$20.00'],\n",
       " ['WD3000BLHX', '300GB', '5400 RPM', ' 2.5\"', '$111.8'],\n",
       " ['WD6400BPVT', '640GB', '5400 RPM', ' 2.5\"', '$77.14'],\n",
       " ['WD6400BPVT', '640GB', '5400 RPM', ' 2.5\"', '$84.86'],\n",
       " ['WD5000BEVT', '500GB', '5400 RPM', ' 2.5\"', '$97.30'],\n",
       " ['WD5000BPKX', '500GB', '7200 RPM', ' 2.5\"', '$97.30'],\n",
       " ['WD2000BEVS', '200GB', '5400 RPM', ' 2.5\"', '$99.28'],\n",
       " ['WD1200BEKT', '120GB', '7200 RPM', ' 2.5\"', '$128.5'],\n",
       " ['WD2000BEVT', '200GB', '5400 RPM', ' 2.5\"', '$133.6'],\n",
       " ['WD2500LPVT', '250GB', '5400 RPM', ' 2.5\"', '$139.2'],\n",
       " ['WD7500KPVT', '750GB', '5200 RPM', ' 2.5\"', '$132.6'],\n",
       " ['WD1600BEVS', '160GB', '5400 RPM', ' 2.5\"', '$143.1'],\n",
       " ['WD2500BVVT', '250GB', '5400 RPM', ' 2.5\"', '$143.1'],\n",
       " ['WD3200BUDT', '320GB', '5400 RPM', ' 2.5\"', '$106.5'],\n",
       " ['WD1600BUCT', '160GB', '5400 RPM', ' 2.5\"', '$153.4'],\n",
       " ['WD7500BPKT', '750GB', '7200 RPM', ' 2.5\"', '$164.0'],\n",
       " ['WD1200BEVT', '120GB', '5400 RPM', ' 2.5\"', '$160.0'],\n",
       " ['WD1600BEVE', '160GB', '5400 RPM', ' 2.5\"', '$198.0'],\n",
       " ['WD3200BPKT', '320GB', '7200 RPM', ' 2.5\"', '$151.3'],\n",
       " ['WD7500BPVX', '750GB', '5400 RPM', ' 2.5\"', '$143.1'],\n",
       " ['WD7500BPVT', '750GB', '5400 RPM', ' 2.5\"', '$145.7'],\n",
       " ['WD4500BLHX', '450GB', '10000 RPM', ' 2.5\"', '$211.4'],\n",
       " ['WD1600BVVT', '160GB', '5400 RPM', ' 2.5\"', '$218.5'],\n",
       " ['WD10JPVT', '160GB', '5400 RPM', ' 2.5\"', '$128.5'],\n",
       " ['WD15NPVT', '5TB', '5400 RPM', ' 2.5\"', '$450.0'],\n",
       " ['WD20NPVT', '5TB', '5400 RPM', ' 2.5\"', '$321.4'],\n",
       " ['WD5000LPVX', '500GB', '5400 RPM', ' 2.5\"', '$36.09'],\n",
       " ['WD3200LPLX', '320GB', '7200 RPM', ' 2.5\"', '$62.33'],\n",
       " ['WD10JPVX', '1TB', '5400 RPM', ' 2.5 ', '$28.74']]"
      ]
     },
     "execution_count": 16,
     "metadata": {},
     "output_type": "execute_result"
    }
   ],
   "source": [
    "hard_disk_data"
   ]
  },
  {
   "cell_type": "code",
   "execution_count": 17,
   "id": "4b5b59da",
   "metadata": {},
   "outputs": [
    {
     "data": {
      "text/plain": [
       "90"
      ]
     },
     "execution_count": 17,
     "metadata": {},
     "output_type": "execute_result"
    }
   ],
   "source": [
    "len(hard_disk_data)"
   ]
  },
  {
   "cell_type": "markdown",
   "id": "0d935805",
   "metadata": {},
   "source": [
    "## Looks like we scraped through everything and colected all the required information\n",
    "## So now lets convert our data into a data frame and take a look at it"
   ]
  },
  {
   "cell_type": "code",
   "execution_count": 18,
   "id": "239bc114",
   "metadata": {},
   "outputs": [
    {
     "data": {
      "text/html": [
       "<div>\n",
       "<style scoped>\n",
       "    .dataframe tbody tr th:only-of-type {\n",
       "        vertical-align: middle;\n",
       "    }\n",
       "\n",
       "    .dataframe tbody tr th {\n",
       "        vertical-align: top;\n",
       "    }\n",
       "\n",
       "    .dataframe thead th {\n",
       "        text-align: right;\n",
       "    }\n",
       "</style>\n",
       "<table border=\"1\" class=\"dataframe\">\n",
       "  <thead>\n",
       "    <tr style=\"text-align: right;\">\n",
       "      <th></th>\n",
       "      <th>Model</th>\n",
       "      <th>Capacity</th>\n",
       "      <th>Speed</th>\n",
       "      <th>Size</th>\n",
       "      <th>Price</th>\n",
       "    </tr>\n",
       "  </thead>\n",
       "  <tbody>\n",
       "    <tr>\n",
       "      <th>0</th>\n",
       "      <td>WD20SPZX</td>\n",
       "      <td>2TB</td>\n",
       "      <td>5400 RPM</td>\n",
       "      <td>2.5\"</td>\n",
       "      <td>$73.99</td>\n",
       "    </tr>\n",
       "    <tr>\n",
       "      <th>1</th>\n",
       "      <td>WD5000LPSX</td>\n",
       "      <td>500GB</td>\n",
       "      <td>7200 RPM</td>\n",
       "      <td>2.5\"</td>\n",
       "      <td>$38.99</td>\n",
       "    </tr>\n",
       "    <tr>\n",
       "      <th>2</th>\n",
       "      <td>WD10SPSX</td>\n",
       "      <td>1TB</td>\n",
       "      <td>7200 RPM</td>\n",
       "      <td>2.5</td>\n",
       "      <td>$73.99</td>\n",
       "    </tr>\n",
       "    <tr>\n",
       "      <th>3</th>\n",
       "      <td>WD5000BHTZ</td>\n",
       "      <td>500GB</td>\n",
       "      <td>10000 RPM</td>\n",
       "      <td>2.5\"</td>\n",
       "      <td>$98.34</td>\n",
       "    </tr>\n",
       "    <tr>\n",
       "      <th>4</th>\n",
       "      <td>WD5000LPCX</td>\n",
       "      <td>500GB</td>\n",
       "      <td>5400 RPM</td>\n",
       "      <td>2.5\"</td>\n",
       "      <td>$34.50</td>\n",
       "    </tr>\n",
       "    <tr>\n",
       "      <th>...</th>\n",
       "      <td>...</td>\n",
       "      <td>...</td>\n",
       "      <td>...</td>\n",
       "      <td>...</td>\n",
       "      <td>...</td>\n",
       "    </tr>\n",
       "    <tr>\n",
       "      <th>85</th>\n",
       "      <td>WD15NPVT</td>\n",
       "      <td>5TB</td>\n",
       "      <td>5400 RPM</td>\n",
       "      <td>2.5\"</td>\n",
       "      <td>$450.0</td>\n",
       "    </tr>\n",
       "    <tr>\n",
       "      <th>86</th>\n",
       "      <td>WD20NPVT</td>\n",
       "      <td>5TB</td>\n",
       "      <td>5400 RPM</td>\n",
       "      <td>2.5\"</td>\n",
       "      <td>$321.4</td>\n",
       "    </tr>\n",
       "    <tr>\n",
       "      <th>87</th>\n",
       "      <td>WD5000LPVX</td>\n",
       "      <td>500GB</td>\n",
       "      <td>5400 RPM</td>\n",
       "      <td>2.5\"</td>\n",
       "      <td>$36.09</td>\n",
       "    </tr>\n",
       "    <tr>\n",
       "      <th>88</th>\n",
       "      <td>WD3200LPLX</td>\n",
       "      <td>320GB</td>\n",
       "      <td>7200 RPM</td>\n",
       "      <td>2.5\"</td>\n",
       "      <td>$62.33</td>\n",
       "    </tr>\n",
       "    <tr>\n",
       "      <th>89</th>\n",
       "      <td>WD10JPVX</td>\n",
       "      <td>1TB</td>\n",
       "      <td>5400 RPM</td>\n",
       "      <td>2.5</td>\n",
       "      <td>$28.74</td>\n",
       "    </tr>\n",
       "  </tbody>\n",
       "</table>\n",
       "<p>90 rows × 5 columns</p>\n",
       "</div>"
      ],
      "text/plain": [
       "         Model Capacity      Speed   Size   Price\n",
       "0     WD20SPZX      2TB   5400 RPM   2.5\"  $73.99\n",
       "1   WD5000LPSX    500GB   7200 RPM   2.5\"  $38.99\n",
       "2     WD10SPSX      1TB   7200 RPM   2.5   $73.99\n",
       "3   WD5000BHTZ    500GB  10000 RPM   2.5\"  $98.34\n",
       "4   WD5000LPCX    500GB   5400 RPM   2.5\"  $34.50\n",
       "..         ...      ...        ...    ...     ...\n",
       "85    WD15NPVT      5TB   5400 RPM   2.5\"  $450.0\n",
       "86    WD20NPVT      5TB   5400 RPM   2.5\"  $321.4\n",
       "87  WD5000LPVX    500GB   5400 RPM   2.5\"  $36.09\n",
       "88  WD3200LPLX    320GB   7200 RPM   2.5\"  $62.33\n",
       "89    WD10JPVX      1TB   5400 RPM   2.5   $28.74\n",
       "\n",
       "[90 rows x 5 columns]"
      ]
     },
     "execution_count": 18,
     "metadata": {},
     "output_type": "execute_result"
    }
   ],
   "source": [
    "df = pd.DataFrame(hard_disk_data, columns=['Model', 'Capacity', 'Speed', 'Size', 'Price'])\n",
    "df"
   ]
  },
  {
   "cell_type": "markdown",
   "id": "f36284b5",
   "metadata": {},
   "source": [
    "## Lets save our data with pandas"
   ]
  },
  {
   "cell_type": "code",
   "execution_count": 19,
   "id": "b3266893",
   "metadata": {},
   "outputs": [],
   "source": [
    "df.to_csv('NewEggScraping.csv')"
   ]
  },
  {
   "cell_type": "code",
   "execution_count": 20,
   "id": "9f3f8c63",
   "metadata": {},
   "outputs": [
    {
     "data": {
      "text/html": [
       "<div>\n",
       "<style scoped>\n",
       "    .dataframe tbody tr th:only-of-type {\n",
       "        vertical-align: middle;\n",
       "    }\n",
       "\n",
       "    .dataframe tbody tr th {\n",
       "        vertical-align: top;\n",
       "    }\n",
       "\n",
       "    .dataframe thead th {\n",
       "        text-align: right;\n",
       "    }\n",
       "</style>\n",
       "<table border=\"1\" class=\"dataframe\">\n",
       "  <thead>\n",
       "    <tr style=\"text-align: right;\">\n",
       "      <th></th>\n",
       "      <th>Model</th>\n",
       "      <th>Capacity</th>\n",
       "      <th>Speed</th>\n",
       "      <th>Size</th>\n",
       "      <th>Price</th>\n",
       "    </tr>\n",
       "  </thead>\n",
       "  <tbody>\n",
       "    <tr>\n",
       "      <th>0</th>\n",
       "      <td>WD20SPZX</td>\n",
       "      <td>2TB</td>\n",
       "      <td>5400 RPM</td>\n",
       "      <td>2.5\"</td>\n",
       "      <td>$73.99</td>\n",
       "    </tr>\n",
       "    <tr>\n",
       "      <th>1</th>\n",
       "      <td>WD5000LPSX</td>\n",
       "      <td>500GB</td>\n",
       "      <td>7200 RPM</td>\n",
       "      <td>2.5\"</td>\n",
       "      <td>$38.99</td>\n",
       "    </tr>\n",
       "    <tr>\n",
       "      <th>2</th>\n",
       "      <td>WD10SPSX</td>\n",
       "      <td>1TB</td>\n",
       "      <td>7200 RPM</td>\n",
       "      <td>2.5</td>\n",
       "      <td>$73.99</td>\n",
       "    </tr>\n",
       "    <tr>\n",
       "      <th>3</th>\n",
       "      <td>WD5000BHTZ</td>\n",
       "      <td>500GB</td>\n",
       "      <td>10000 RPM</td>\n",
       "      <td>2.5\"</td>\n",
       "      <td>$98.34</td>\n",
       "    </tr>\n",
       "    <tr>\n",
       "      <th>4</th>\n",
       "      <td>WD5000LPCX</td>\n",
       "      <td>500GB</td>\n",
       "      <td>5400 RPM</td>\n",
       "      <td>2.5\"</td>\n",
       "      <td>$34.50</td>\n",
       "    </tr>\n",
       "    <tr>\n",
       "      <th>...</th>\n",
       "      <td>...</td>\n",
       "      <td>...</td>\n",
       "      <td>...</td>\n",
       "      <td>...</td>\n",
       "      <td>...</td>\n",
       "    </tr>\n",
       "    <tr>\n",
       "      <th>85</th>\n",
       "      <td>WD15NPVT</td>\n",
       "      <td>5TB</td>\n",
       "      <td>5400 RPM</td>\n",
       "      <td>2.5\"</td>\n",
       "      <td>$450.0</td>\n",
       "    </tr>\n",
       "    <tr>\n",
       "      <th>86</th>\n",
       "      <td>WD20NPVT</td>\n",
       "      <td>5TB</td>\n",
       "      <td>5400 RPM</td>\n",
       "      <td>2.5\"</td>\n",
       "      <td>$321.4</td>\n",
       "    </tr>\n",
       "    <tr>\n",
       "      <th>87</th>\n",
       "      <td>WD5000LPVX</td>\n",
       "      <td>500GB</td>\n",
       "      <td>5400 RPM</td>\n",
       "      <td>2.5\"</td>\n",
       "      <td>$36.09</td>\n",
       "    </tr>\n",
       "    <tr>\n",
       "      <th>88</th>\n",
       "      <td>WD3200LPLX</td>\n",
       "      <td>320GB</td>\n",
       "      <td>7200 RPM</td>\n",
       "      <td>2.5\"</td>\n",
       "      <td>$62.33</td>\n",
       "    </tr>\n",
       "    <tr>\n",
       "      <th>89</th>\n",
       "      <td>WD10JPVX</td>\n",
       "      <td>1TB</td>\n",
       "      <td>5400 RPM</td>\n",
       "      <td>2.5</td>\n",
       "      <td>$28.74</td>\n",
       "    </tr>\n",
       "  </tbody>\n",
       "</table>\n",
       "<p>90 rows × 5 columns</p>\n",
       "</div>"
      ],
      "text/plain": [
       "         Model Capacity      Speed   Size   Price\n",
       "0     WD20SPZX      2TB   5400 RPM   2.5\"  $73.99\n",
       "1   WD5000LPSX    500GB   7200 RPM   2.5\"  $38.99\n",
       "2     WD10SPSX      1TB   7200 RPM   2.5   $73.99\n",
       "3   WD5000BHTZ    500GB  10000 RPM   2.5\"  $98.34\n",
       "4   WD5000LPCX    500GB   5400 RPM   2.5\"  $34.50\n",
       "..         ...      ...        ...    ...     ...\n",
       "85    WD15NPVT      5TB   5400 RPM   2.5\"  $450.0\n",
       "86    WD20NPVT      5TB   5400 RPM   2.5\"  $321.4\n",
       "87  WD5000LPVX    500GB   5400 RPM   2.5\"  $36.09\n",
       "88  WD3200LPLX    320GB   7200 RPM   2.5\"  $62.33\n",
       "89    WD10JPVX      1TB   5400 RPM   2.5   $28.74\n",
       "\n",
       "[90 rows x 5 columns]"
      ]
     },
     "execution_count": 20,
     "metadata": {},
     "output_type": "execute_result"
    }
   ],
   "source": [
    "df1 = pd.read_csv('NewEggScraping.csv')\n",
    "df1.pop('Unnamed: 0')\n",
    "df1"
   ]
  },
  {
   "cell_type": "code",
   "execution_count": null,
   "id": "2da7cd98",
   "metadata": {},
   "outputs": [],
   "source": []
  },
  {
   "cell_type": "code",
   "execution_count": null,
   "id": "79751dcb",
   "metadata": {},
   "outputs": [],
   "source": []
  }
 ],
 "metadata": {
  "kernelspec": {
   "display_name": "Python 3 (ipykernel)",
   "language": "python",
   "name": "python3"
  },
  "language_info": {
   "codemirror_mode": {
    "name": "ipython",
    "version": 3
   },
   "file_extension": ".py",
   "mimetype": "text/x-python",
   "name": "python",
   "nbconvert_exporter": "python",
   "pygments_lexer": "ipython3",
   "version": "3.11.5"
  }
 },
 "nbformat": 4,
 "nbformat_minor": 5
}
