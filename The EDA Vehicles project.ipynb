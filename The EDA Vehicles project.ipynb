{
 "cells": [
  {
   "cell_type": "markdown",
   "id": "f7d6d542",
   "metadata": {
    "id": "f7d6d542"
   },
   "source": [
    "# Welcome to this lovely notebook. Here we are going to explore the data of private and business vehicles from The Ministry of Transportation of Israel\n",
    "* The [link](https://data.gov.il/dataset/private-and-commercial-vehicles) to the site.\n",
    "\n",
    "* The data last updated on 29/03/2024"
   ]
  },
  {
   "cell_type": "markdown",
   "id": "6e54d7e2",
   "metadata": {
    "id": "6e54d7e2"
   },
   "source": [
    "# Introduction\n",
    "\n",
    "The datasets below contain official information of license numbers of the private active vehicles from the year of manufacture 1996 and above and the license numbers of the commercial active vehicles weighing up to 3,500 kg from the year of manufacture 1998 and above.\n",
    "\n",
    "<p><img src=\"https://govextra.gov.il/media/b2foeo4j/%D7%A9%D7%99%D7%A8%D7%95%D7%AA-%D7%A2%D7%93%D7%9B%D7%95%D7%A0%D7%99%D7%9D-%D7%91%D7%A2%D7%A7%D7%91%D7%95%D7%AA-%D7%94%D7%9E%D7%A6%D7%91-%D7%94%D7%91%D7%99%D7%98%D7%97%D7%95%D7%A0%D7%99.jpg\" alt=\"Drive safe!\"></p>\n",
    "\n",
    "The following project is intended to deepdive into Israel's car lake with the help of Pandas and Polars libraries (with the usage of other packages, such as seaborn and matplotlib)\n",
    "\n",
    "Two datasets (on is an extention of the other one) containing some information about private and businnes vihecles were downloaded from the oficial gov.il site for EDA.\n",
    "\n",
    "The content of both datasets can be seen below:\n",
    "\n",
    "1. **data_part_1:**\n",
    "\n",
    "       'mispar_rechev' - vehicle number\n",
    "       'tozeret_cd' - manufacturer code\n",
    "       'sug_degem' - model type\n",
    "       'tozeret_nm' - manufacturer name\n",
    "       'degem_cd' - model code\n",
    "       'degem_nm' - model name\n",
    "       'ramat_gimur' - maturnity level\n",
    "       'ramat_eivzur_betihuty' - safety upgrade status\n",
    "       'kvutzat_zihum' - emission group\n",
    "       'shnat_yitzur' - manufacture year\n",
    "       'degem_manoa' - engine model\n",
    "       'mivchan_acharon_dt' - last test date\n",
    "       'tokef_dt' - validity date\n",
    "       'baalut' - ownership\n",
    "       'misgeret' - car shassis number\n",
    "       'tzeva_cd' - color code\n",
    "       'tzeva_rechev' - vehicle color\n",
    "       'zmig_kidmi' - front types\n",
    "       'zmig_ahori' - back types\n",
    "       'sug_delek_nm' - fuel type\n",
    "       'horaat_rishum' - registration instruction\n",
    "       'moed_aliya_lakvish' - road entry date\n",
    "       'kinuy_mishari' - commercial nickname\n",
    "       \n",
    "2. **data_part_2:**\n",
    "\n",
    "       'mispar_rechev'- vehicle number\n",
    "       'tozeret_cd' - manufacturer code\n",
    "       'sug_degem' - model type\n",
    "       'degem_cd' - model code\n",
    "       'kod_omes_tzmig_kidmi' - front axle load code\n",
    "       'kod_omes_tzmig_ahori' - rear axle load code\n",
    "       'kod_mehirut_tzmig_kidmi' - fron axle speed code\n",
    "       'kod_mehirut_tzmig_ahori' - rear axle speed code\n",
    "       'grira_nm' - towing capability\n",
    "       \n",
    "       \n",
    "The names of the columns, of course, will be replaced with other proper English names later."
   ]
  },
  {
   "cell_type": "markdown",
   "id": "a57c90f7",
   "metadata": {
    "id": "a57c90f7"
   },
   "source": [
    "# Goal\n",
    "My goal is to conduct a comprehensive analysis of the car dataset to uncover insights into the characteristics and trends of vehicles in Israel.\n",
    "This analysis will explore various aspects such as the distribution of car makes and models, the age and type of vehicles, their geographic distribution, and compliance with road safety regulations. The objective is to provide a detailed overview of the automotive landscape in Israel, which can inform policy decisions, market strategies, and consumer behavior analysis."
   ]
  },
  {
   "cell_type": "markdown",
   "id": "aeee9e76",
   "metadata": {
    "id": "aeee9e76"
   },
   "source": [
    "## The information about the columns in the data"
   ]
  },
  {
   "cell_type": "markdown",
   "id": "e7232198",
   "metadata": {
    "id": "e7232198"
   },
   "source": [
    "# The project will consist of the following parts:\n",
    "\n",
    "1. Solving issues with opening and reading the data (due to some Hebrew words appearing in a few columns, errors with encoding popped up)\n",
    "2. Preliminary Data Inspection\n",
    "3. Data manipulation and preparation for cleaning\n",
    "4. Data Cleaning\n",
    "5. Data Exploration and Visualization\n"
   ]
  },
  {
   "cell_type": "code",
   "execution_count": null,
   "id": "397e4ac2",
   "metadata": {
    "id": "397e4ac2"
   },
   "outputs": [],
   "source": [
    "#Let's import all the required packages and set everything that we will need for work\n",
    "import numpy as np\n",
    "import pandas as pd\n",
    "import matplotlib.pyplot as plt\n",
    "import plotly.express as px\n",
    "pd.set_option('display.max_columns', None)"
   ]
  },
  {
   "cell_type": "markdown",
   "id": "45f3ba52",
   "metadata": {
    "id": "45f3ba52"
   },
   "source": [
    "## 1. Solving loading Issues\n",
    "\n",
    "### A small comment about difficulties with the dataset due to Hebrew text appearing  in some columns. The following was done:\n",
    "* 1. Sublime editor was downloaded.\n",
    "* 2. The files were opened and then reopened and saved with 'windows-1255' encoding."
   ]
  },
  {
   "cell_type": "markdown",
   "id": "e81de817",
   "metadata": {
    "id": "e81de817"
   },
   "source": [
    "## 2. Loading data and preliminary data inspection"
   ]
  },
  {
   "cell_type": "code",
   "execution_count": null,
   "id": "ca2062c6",
   "metadata": {
    "id": "ca2062c6",
    "outputId": "79d117d4-e2ac-4a8e-c52b-fb60dc09ebcb"
   },
   "outputs": [
    {
     "name": "stdout",
     "output_type": "stream",
     "text": [
      "CPU times: total: 6.39 s\n",
      "Wall time: 20 s\n"
     ]
    }
   ],
   "source": [
    "%%time\n",
    "data_part_1 = pd.read_csv('transport_part_1.csv', header=0, encoding='windows-1255', delimiter='|')"
   ]
  },
  {
   "cell_type": "code",
   "execution_count": null,
   "id": "96810cb7",
   "metadata": {
    "id": "96810cb7",
    "outputId": "8f150006-ae48-4fd6-8cb1-b3a60acafc97",
    "scrolled": true
   },
   "outputs": [
    {
     "name": "stdout",
     "output_type": "stream",
     "text": [
      "CPU times: total: 2.48 s\n",
      "Wall time: 6.05 s\n"
     ]
    }
   ],
   "source": [
    "%%time\n",
    "data_part_2 = pd.read_csv('transport_part_2.csv', header=0, encoding='windows-1255', delimiter='|')"
   ]
  },
  {
   "cell_type": "markdown",
   "id": "1f826025",
   "metadata": {
    "id": "1f826025"
   },
   "source": [
    "#### data_part_1"
   ]
  },
  {
   "cell_type": "code",
   "execution_count": null,
   "id": "f0a98311",
   "metadata": {
    "id": "f0a98311",
    "outputId": "2b2151d7-086a-44ba-c15f-8ca9f8adeb12"
   },
   "outputs": [
    {
     "data": {
      "text/plain": [
       "(3840766, 23)"
      ]
     },
     "execution_count": 4,
     "metadata": {},
     "output_type": "execute_result"
    }
   ],
   "source": [
    "data_part_1.shape"
   ]
  },
  {
   "cell_type": "code",
   "execution_count": null,
   "id": "0193fa46",
   "metadata": {
    "id": "0193fa46",
    "outputId": "5244501b-0a2d-4f5e-b01d-748b0368b501"
   },
   "outputs": [
    {
     "name": "stdout",
     "output_type": "stream",
     "text": [
      "<class 'pandas.core.frame.DataFrame'>\n",
      "RangeIndex: 3840766 entries, 0 to 3840765\n",
      "Data columns (total 23 columns):\n",
      " #   Column                 Dtype  \n",
      "---  ------                 -----  \n",
      " 0   mispar_rechev          int64  \n",
      " 1   tozeret_cd             int64  \n",
      " 2   sug_degem              object \n",
      " 3   tozeret_nm             object \n",
      " 4   degem_cd               int64  \n",
      " 5   degem_nm               object \n",
      " 6   ramat_gimur            object \n",
      " 7   ramat_eivzur_betihuty  float64\n",
      " 8   kvutzat_zihum          float64\n",
      " 9   shnat_yitzur           int64  \n",
      " 10  degem_manoa            object \n",
      " 11  mivchan_acharon_dt     object \n",
      " 12  tokef_dt               object \n",
      " 13  baalut                 object \n",
      " 14  misgeret               object \n",
      " 15  tzeva_cd               int64  \n",
      " 16  tzeva_rechev           object \n",
      " 17  zmig_kidmi             object \n",
      " 18  zmig_ahori             object \n",
      " 19  sug_delek_nm           object \n",
      " 20  horaat_rishum          float64\n",
      " 21  moed_aliya_lakvish     object \n",
      " 22  kinuy_mishari          object \n",
      "dtypes: float64(3), int64(5), object(15)\n",
      "memory usage: 674.0+ MB\n"
     ]
    }
   ],
   "source": [
    "data_part_1.info()"
   ]
  },
  {
   "cell_type": "code",
   "execution_count": null,
   "id": "502fda27",
   "metadata": {
    "id": "502fda27",
    "outputId": "f2d64541-8171-42bb-faba-24d90ad71b94"
   },
   "outputs": [
    {
     "data": {
      "text/plain": [
       "mispar_rechev            3840766\n",
       "tozeret_cd                   271\n",
       "sug_degem                      2\n",
       "tozeret_nm                   271\n",
       "degem_cd                    3974\n",
       "degem_nm                    9221\n",
       "ramat_gimur                 4660\n",
       "ramat_eivzur_betihuty          8\n",
       "kvutzat_zihum                 15\n",
       "shnat_yitzur                  29\n",
       "degem_manoa                 5736\n",
       "mivchan_acharon_dt          1360\n",
       "tokef_dt                     823\n",
       "baalut                         5\n",
       "misgeret                 3840763\n",
       "tzeva_cd                     100\n",
       "tzeva_rechev                 100\n",
       "zmig_kidmi                  6625\n",
       "zmig_ahori                  7054\n",
       "sug_delek_nm                   6\n",
       "horaat_rishum              10210\n",
       "moed_aliya_lakvish           200\n",
       "kinuy_mishari               3981\n",
       "dtype: int64"
      ]
     },
     "execution_count": 6,
     "metadata": {},
     "output_type": "execute_result"
    }
   ],
   "source": [
    "# We see that mispar_rechev is a column with unique values which represents each vehicle (along with misgeret column, almost).\n",
    "data_part_1.nunique()"
   ]
  },
  {
   "cell_type": "code",
   "execution_count": null,
   "id": "58c90383",
   "metadata": {
    "id": "58c90383",
    "outputId": "93de0fd2-53e8-41c7-f734-70e22a993c12"
   },
   "outputs": [
    {
     "data": {
      "text/plain": [
       "mispar_rechev                  0\n",
       "tozeret_cd                     0\n",
       "sug_degem                      0\n",
       "tozeret_nm                     0\n",
       "degem_cd                       0\n",
       "degem_nm                       0\n",
       "ramat_gimur                72262\n",
       "ramat_eivzur_betihuty    2491528\n",
       "kvutzat_zihum             406942\n",
       "shnat_yitzur                   0\n",
       "degem_manoa                    0\n",
       "mivchan_acharon_dt             0\n",
       "tokef_dt                       1\n",
       "baalut                         0\n",
       "misgeret                       0\n",
       "tzeva_cd                       0\n",
       "tzeva_rechev                   0\n",
       "zmig_kidmi                   138\n",
       "zmig_ahori                137615\n",
       "sug_delek_nm                   0\n",
       "horaat_rishum             974520\n",
       "moed_aliya_lakvish        378704\n",
       "kinuy_mishari                114\n",
       "dtype: int64"
      ]
     },
     "execution_count": 7,
     "metadata": {},
     "output_type": "execute_result"
    }
   ],
   "source": [
    "# taking a look at the number of nulls in the dataset\n",
    "# We see 3 columns with a sigificant number of nulls which we'll take a look at and decide what to do with them later\n",
    "data_part_1.isnull().sum()"
   ]
  },
  {
   "cell_type": "code",
   "execution_count": null,
   "id": "41223506",
   "metadata": {
    "id": "41223506",
    "outputId": "3c9af9e9-f8e5-49e4-d88a-f8d7e890630a"
   },
   "outputs": [
    {
     "data": {
      "text/html": [
       "<div>\n",
       "<style scoped>\n",
       "    .dataframe tbody tr th:only-of-type {\n",
       "        vertical-align: middle;\n",
       "    }\n",
       "\n",
       "    .dataframe tbody tr th {\n",
       "        vertical-align: top;\n",
       "    }\n",
       "\n",
       "    .dataframe thead th {\n",
       "        text-align: right;\n",
       "    }\n",
       "</style>\n",
       "<table border=\"1\" class=\"dataframe\">\n",
       "  <thead>\n",
       "    <tr style=\"text-align: right;\">\n",
       "      <th></th>\n",
       "      <th>mispar_rechev</th>\n",
       "      <th>tozeret_cd</th>\n",
       "      <th>sug_degem</th>\n",
       "      <th>tozeret_nm</th>\n",
       "      <th>degem_cd</th>\n",
       "      <th>degem_nm</th>\n",
       "      <th>ramat_gimur</th>\n",
       "      <th>ramat_eivzur_betihuty</th>\n",
       "      <th>kvutzat_zihum</th>\n",
       "      <th>shnat_yitzur</th>\n",
       "      <th>degem_manoa</th>\n",
       "      <th>mivchan_acharon_dt</th>\n",
       "      <th>tokef_dt</th>\n",
       "      <th>baalut</th>\n",
       "      <th>misgeret</th>\n",
       "      <th>tzeva_cd</th>\n",
       "      <th>tzeva_rechev</th>\n",
       "      <th>zmig_kidmi</th>\n",
       "      <th>zmig_ahori</th>\n",
       "      <th>sug_delek_nm</th>\n",
       "      <th>horaat_rishum</th>\n",
       "      <th>moed_aliya_lakvish</th>\n",
       "      <th>kinuy_mishari</th>\n",
       "    </tr>\n",
       "  </thead>\n",
       "  <tbody>\n",
       "    <tr>\n",
       "      <th>0</th>\n",
       "      <td>7993778</td>\n",
       "      <td>481</td>\n",
       "      <td>P</td>\n",
       "      <td>יונדאי קוריאה</td>\n",
       "      <td>15</td>\n",
       "      <td>DH41C</td>\n",
       "      <td>INSPIRE</td>\n",
       "      <td>NaN</td>\n",
       "      <td>15.0</td>\n",
       "      <td>2012</td>\n",
       "      <td>G4FG</td>\n",
       "      <td>2024-03-04</td>\n",
       "      <td>2025-03-28</td>\n",
       "      <td>פרטי</td>\n",
       "      <td>KMHDH41CBCU464082</td>\n",
       "      <td>93</td>\n",
       "      <td>כסוף כהה</td>\n",
       "      <td>195/65R15</td>\n",
       "      <td>195/65R15</td>\n",
       "      <td>בנזין</td>\n",
       "      <td>NaN</td>\n",
       "      <td>2012-3</td>\n",
       "      <td>I35</td>\n",
       "    </tr>\n",
       "    <tr>\n",
       "      <th>1</th>\n",
       "      <td>2481466</td>\n",
       "      <td>845</td>\n",
       "      <td>P</td>\n",
       "      <td>יונדאי טורקיה</td>\n",
       "      <td>72</td>\n",
       "      <td>CM41C</td>\n",
       "      <td>GL</td>\n",
       "      <td>NaN</td>\n",
       "      <td>NaN</td>\n",
       "      <td>2008</td>\n",
       "      <td>G4ED</td>\n",
       "      <td>2024-03-04</td>\n",
       "      <td>2025-03-24</td>\n",
       "      <td>פרטי</td>\n",
       "      <td>NLHCM41CP8Z096516</td>\n",
       "      <td>25</td>\n",
       "      <td>כסף</td>\n",
       "      <td>185/65R14</td>\n",
       "      <td>185/65R14</td>\n",
       "      <td>בנזין</td>\n",
       "      <td>NaN</td>\n",
       "      <td>NaN</td>\n",
       "      <td>ACCENT</td>\n",
       "    </tr>\n",
       "    <tr>\n",
       "      <th>2</th>\n",
       "      <td>6120469</td>\n",
       "      <td>253</td>\n",
       "      <td>P</td>\n",
       "      <td>יונדאי צ'כיה</td>\n",
       "      <td>21</td>\n",
       "      <td>DB51D</td>\n",
       "      <td>INSPIRE</td>\n",
       "      <td>NaN</td>\n",
       "      <td>15.0</td>\n",
       "      <td>2009</td>\n",
       "      <td>G4FC</td>\n",
       "      <td>2024-03-04</td>\n",
       "      <td>2024-09-28</td>\n",
       "      <td>פרטי</td>\n",
       "      <td>TMADB51DP9J041571</td>\n",
       "      <td>80</td>\n",
       "      <td>שנהב לבן</td>\n",
       "      <td>185/65R15</td>\n",
       "      <td>NaN</td>\n",
       "      <td>בנזין</td>\n",
       "      <td>NaN</td>\n",
       "      <td>2009-9</td>\n",
       "      <td>I30</td>\n",
       "    </tr>\n",
       "    <tr>\n",
       "      <th>3</th>\n",
       "      <td>7151374</td>\n",
       "      <td>885</td>\n",
       "      <td>P</td>\n",
       "      <td>קיה קוריאה</td>\n",
       "      <td>1011</td>\n",
       "      <td>FH2213</td>\n",
       "      <td>LX</td>\n",
       "      <td>NaN</td>\n",
       "      <td>15.0</td>\n",
       "      <td>2011</td>\n",
       "      <td>G4FC</td>\n",
       "      <td>2024-03-04</td>\n",
       "      <td>2025-02-02</td>\n",
       "      <td>פרטי</td>\n",
       "      <td>KNAFU411BB5364267</td>\n",
       "      <td>25</td>\n",
       "      <td>כסף</td>\n",
       "      <td>195/65R15</td>\n",
       "      <td>195/65R15</td>\n",
       "      <td>בנזין</td>\n",
       "      <td>NaN</td>\n",
       "      <td>2011-2</td>\n",
       "      <td>FORTE</td>\n",
       "    </tr>\n",
       "    <tr>\n",
       "      <th>4</th>\n",
       "      <td>5410413</td>\n",
       "      <td>299</td>\n",
       "      <td>P</td>\n",
       "      <td>סוזוקי הונגריה</td>\n",
       "      <td>41</td>\n",
       "      <td>EXB32</td>\n",
       "      <td>GLS</td>\n",
       "      <td>NaN</td>\n",
       "      <td>13.0</td>\n",
       "      <td>2012</td>\n",
       "      <td>K12B</td>\n",
       "      <td>2024-03-04</td>\n",
       "      <td>2025-02-22</td>\n",
       "      <td>פרטי</td>\n",
       "      <td>TSMEXB32S00564280</td>\n",
       "      <td>50</td>\n",
       "      <td>אדום</td>\n",
       "      <td>185/60R15</td>\n",
       "      <td>185/60R15</td>\n",
       "      <td>בנזין</td>\n",
       "      <td>NaN</td>\n",
       "      <td>2012-2</td>\n",
       "      <td>SPLASH</td>\n",
       "    </tr>\n",
       "  </tbody>\n",
       "</table>\n",
       "</div>"
      ],
      "text/plain": [
       "   mispar_rechev  tozeret_cd sug_degem      tozeret_nm  degem_cd degem_nm  \\\n",
       "0        7993778         481         P   יונדאי קוריאה        15    DH41C   \n",
       "1        2481466         845         P   יונדאי טורקיה        72    CM41C   \n",
       "2        6120469         253         P    יונדאי צ'כיה        21    DB51D   \n",
       "3        7151374         885         P      קיה קוריאה      1011   FH2213   \n",
       "4        5410413         299         P  סוזוקי הונגריה        41    EXB32   \n",
       "\n",
       "  ramat_gimur  ramat_eivzur_betihuty  kvutzat_zihum  shnat_yitzur degem_manoa  \\\n",
       "0     INSPIRE                    NaN           15.0          2012        G4FG   \n",
       "1          GL                    NaN            NaN          2008        G4ED   \n",
       "2     INSPIRE                    NaN           15.0          2009        G4FC   \n",
       "3          LX                    NaN           15.0          2011        G4FC   \n",
       "4         GLS                    NaN           13.0          2012        K12B   \n",
       "\n",
       "  mivchan_acharon_dt    tokef_dt baalut           misgeret  tzeva_cd  \\\n",
       "0         2024-03-04  2025-03-28   פרטי  KMHDH41CBCU464082        93   \n",
       "1         2024-03-04  2025-03-24   פרטי  NLHCM41CP8Z096516        25   \n",
       "2         2024-03-04  2024-09-28   פרטי  TMADB51DP9J041571        80   \n",
       "3         2024-03-04  2025-02-02   פרטי  KNAFU411BB5364267        25   \n",
       "4         2024-03-04  2025-02-22   פרטי  TSMEXB32S00564280        50   \n",
       "\n",
       "  tzeva_rechev zmig_kidmi zmig_ahori sug_delek_nm  horaat_rishum  \\\n",
       "0     כסוף כהה  195/65R15  195/65R15        בנזין            NaN   \n",
       "1          כסף  185/65R14  185/65R14        בנזין            NaN   \n",
       "2     שנהב לבן  185/65R15        NaN        בנזין            NaN   \n",
       "3          כסף  195/65R15  195/65R15        בנזין            NaN   \n",
       "4         אדום  185/60R15  185/60R15        בנזין            NaN   \n",
       "\n",
       "  moed_aliya_lakvish kinuy_mishari  \n",
       "0             2012-3           I35  \n",
       "1                NaN        ACCENT  \n",
       "2             2009-9           I30  \n",
       "3             2011-2         FORTE  \n",
       "4             2012-2        SPLASH  "
      ]
     },
     "execution_count": 8,
     "metadata": {},
     "output_type": "execute_result"
    }
   ],
   "source": [
    "# As we see, in data_part_1 there are four columns with Hebrew text in them which we will work on later\n",
    "data_part_1.head()"
   ]
  },
  {
   "cell_type": "code",
   "execution_count": null,
   "id": "3a4586cf",
   "metadata": {
    "id": "3a4586cf",
    "outputId": "81d77f7f-97ed-4c01-bfcb-c92e90ddb6d3"
   },
   "outputs": [
    {
     "data": {
      "text/html": [
       "<div>\n",
       "<style scoped>\n",
       "    .dataframe tbody tr th:only-of-type {\n",
       "        vertical-align: middle;\n",
       "    }\n",
       "\n",
       "    .dataframe tbody tr th {\n",
       "        vertical-align: top;\n",
       "    }\n",
       "\n",
       "    .dataframe thead th {\n",
       "        text-align: right;\n",
       "    }\n",
       "</style>\n",
       "<table border=\"1\" class=\"dataframe\">\n",
       "  <thead>\n",
       "    <tr style=\"text-align: right;\">\n",
       "      <th></th>\n",
       "      <th>mispar_rechev</th>\n",
       "      <th>tozeret_cd</th>\n",
       "      <th>sug_degem</th>\n",
       "      <th>tozeret_nm</th>\n",
       "      <th>degem_cd</th>\n",
       "      <th>degem_nm</th>\n",
       "      <th>ramat_gimur</th>\n",
       "      <th>ramat_eivzur_betihuty</th>\n",
       "      <th>kvutzat_zihum</th>\n",
       "      <th>shnat_yitzur</th>\n",
       "      <th>degem_manoa</th>\n",
       "      <th>mivchan_acharon_dt</th>\n",
       "      <th>tokef_dt</th>\n",
       "      <th>baalut</th>\n",
       "      <th>misgeret</th>\n",
       "      <th>tzeva_cd</th>\n",
       "      <th>tzeva_rechev</th>\n",
       "      <th>zmig_kidmi</th>\n",
       "      <th>zmig_ahori</th>\n",
       "      <th>sug_delek_nm</th>\n",
       "      <th>horaat_rishum</th>\n",
       "      <th>moed_aliya_lakvish</th>\n",
       "      <th>kinuy_mishari</th>\n",
       "    </tr>\n",
       "  </thead>\n",
       "  <tbody>\n",
       "    <tr>\n",
       "      <th>3840761</th>\n",
       "      <td>4903439</td>\n",
       "      <td>496</td>\n",
       "      <td>M</td>\n",
       "      <td>סיטרואן ספרד</td>\n",
       "      <td>37</td>\n",
       "      <td>7NBHW6/3</td>\n",
       "      <td>COMFORT</td>\n",
       "      <td>NaN</td>\n",
       "      <td>12.0</td>\n",
       "      <td>2016</td>\n",
       "      <td>BH02</td>\n",
       "      <td>2022-09-12</td>\n",
       "      <td>2023-09-28</td>\n",
       "      <td>פרטי</td>\n",
       "      <td>VF77NBHW6GJ723507</td>\n",
       "      <td>80</td>\n",
       "      <td>שנהב לבן</td>\n",
       "      <td>205/65R15</td>\n",
       "      <td>205/65R15</td>\n",
       "      <td>דיזל</td>\n",
       "      <td>160379.0</td>\n",
       "      <td>2016-9</td>\n",
       "      <td>BERLINGO</td>\n",
       "    </tr>\n",
       "    <tr>\n",
       "      <th>3840762</th>\n",
       "      <td>3100956</td>\n",
       "      <td>413</td>\n",
       "      <td>M</td>\n",
       "      <td>טויוטה יפן</td>\n",
       "      <td>850</td>\n",
       "      <td>KDJ120L-GKPEYW</td>\n",
       "      <td>LUXURY</td>\n",
       "      <td>NaN</td>\n",
       "      <td>NaN</td>\n",
       "      <td>2004</td>\n",
       "      <td>1KD</td>\n",
       "      <td>2023-08-09</td>\n",
       "      <td>2024-09-06</td>\n",
       "      <td>פרטי</td>\n",
       "      <td>JTEBZ29J140024217</td>\n",
       "      <td>65</td>\n",
       "      <td>זהב</td>\n",
       "      <td>265\\65 R17</td>\n",
       "      <td>265\\65 R17</td>\n",
       "      <td>דיזל</td>\n",
       "      <td>NaN</td>\n",
       "      <td>NaN</td>\n",
       "      <td>LAND CRISER</td>\n",
       "    </tr>\n",
       "    <tr>\n",
       "      <th>3840763</th>\n",
       "      <td>7595161</td>\n",
       "      <td>481</td>\n",
       "      <td>M</td>\n",
       "      <td>יונדאי קוריאה</td>\n",
       "      <td>2</td>\n",
       "      <td>NM81X</td>\n",
       "      <td>GLS</td>\n",
       "      <td>NaN</td>\n",
       "      <td>NaN</td>\n",
       "      <td>2007</td>\n",
       "      <td>J3</td>\n",
       "      <td>2022-10-25</td>\n",
       "      <td>2023-10-21</td>\n",
       "      <td>פרטי</td>\n",
       "      <td>KMHNM81XP7U205982</td>\n",
       "      <td>10</td>\n",
       "      <td>שחור</td>\n",
       "      <td>255/65R16</td>\n",
       "      <td>255/65R16</td>\n",
       "      <td>דיזל</td>\n",
       "      <td>NaN</td>\n",
       "      <td>NaN</td>\n",
       "      <td>TERRACAN</td>\n",
       "    </tr>\n",
       "    <tr>\n",
       "      <th>3840764</th>\n",
       "      <td>7208331</td>\n",
       "      <td>416</td>\n",
       "      <td>P</td>\n",
       "      <td>קיה סלובקיה</td>\n",
       "      <td>57</td>\n",
       "      <td>PC81BB</td>\n",
       "      <td>LX</td>\n",
       "      <td>NaN</td>\n",
       "      <td>15.0</td>\n",
       "      <td>2014</td>\n",
       "      <td>G4NC</td>\n",
       "      <td>2023-07-09</td>\n",
       "      <td>2024-07-05</td>\n",
       "      <td>פרטי</td>\n",
       "      <td>U5YPC81BBEL497293</td>\n",
       "      <td>80</td>\n",
       "      <td>שנהב לבן</td>\n",
       "      <td>225/60R17</td>\n",
       "      <td>225/60R17</td>\n",
       "      <td>בנזין</td>\n",
       "      <td>140299.0</td>\n",
       "      <td>2014-7</td>\n",
       "      <td>SPORTAGE</td>\n",
       "    </tr>\n",
       "    <tr>\n",
       "      <th>3840765</th>\n",
       "      <td>6622553</td>\n",
       "      <td>676</td>\n",
       "      <td>P</td>\n",
       "      <td>סקודה צ'כיה</td>\n",
       "      <td>285</td>\n",
       "      <td>5E33DD</td>\n",
       "      <td>AMBITION</td>\n",
       "      <td>NaN</td>\n",
       "      <td>14.0</td>\n",
       "      <td>2014</td>\n",
       "      <td>CJZ</td>\n",
       "      <td>2024-03-03</td>\n",
       "      <td>2024-11-22</td>\n",
       "      <td>סוחר</td>\n",
       "      <td>TMBAB7NE0F0096040</td>\n",
       "      <td>27</td>\n",
       "      <td>אפור מטל</td>\n",
       "      <td>205/55 R16</td>\n",
       "      <td>205/55 R16</td>\n",
       "      <td>בנזין</td>\n",
       "      <td>140049.0</td>\n",
       "      <td>2014-11</td>\n",
       "      <td>OCTAVIA</td>\n",
       "    </tr>\n",
       "  </tbody>\n",
       "</table>\n",
       "</div>"
      ],
      "text/plain": [
       "         mispar_rechev  tozeret_cd sug_degem     tozeret_nm  degem_cd  \\\n",
       "3840761        4903439         496         M   סיטרואן ספרד        37   \n",
       "3840762        3100956         413         M     טויוטה יפן       850   \n",
       "3840763        7595161         481         M  יונדאי קוריאה         2   \n",
       "3840764        7208331         416         P    קיה סלובקיה        57   \n",
       "3840765        6622553         676         P    סקודה צ'כיה       285   \n",
       "\n",
       "               degem_nm ramat_gimur  ramat_eivzur_betihuty  kvutzat_zihum  \\\n",
       "3840761        7NBHW6/3     COMFORT                    NaN           12.0   \n",
       "3840762  KDJ120L-GKPEYW      LUXURY                    NaN            NaN   \n",
       "3840763           NM81X         GLS                    NaN            NaN   \n",
       "3840764          PC81BB          LX                    NaN           15.0   \n",
       "3840765          5E33DD    AMBITION                    NaN           14.0   \n",
       "\n",
       "         shnat_yitzur degem_manoa mivchan_acharon_dt    tokef_dt baalut  \\\n",
       "3840761          2016        BH02         2022-09-12  2023-09-28   פרטי   \n",
       "3840762          2004         1KD         2023-08-09  2024-09-06   פרטי   \n",
       "3840763          2007          J3         2022-10-25  2023-10-21   פרטי   \n",
       "3840764          2014        G4NC         2023-07-09  2024-07-05   פרטי   \n",
       "3840765          2014         CJZ         2024-03-03  2024-11-22   סוחר   \n",
       "\n",
       "                  misgeret  tzeva_cd tzeva_rechev  zmig_kidmi  zmig_ahori  \\\n",
       "3840761  VF77NBHW6GJ723507        80     שנהב לבן   205/65R15   205/65R15   \n",
       "3840762  JTEBZ29J140024217        65          זהב  265\\65 R17  265\\65 R17   \n",
       "3840763  KMHNM81XP7U205982        10         שחור   255/65R16   255/65R16   \n",
       "3840764  U5YPC81BBEL497293        80     שנהב לבן   225/60R17   225/60R17   \n",
       "3840765  TMBAB7NE0F0096040        27     אפור מטל  205/55 R16  205/55 R16   \n",
       "\n",
       "        sug_delek_nm  horaat_rishum moed_aliya_lakvish kinuy_mishari  \n",
       "3840761         דיזל       160379.0             2016-9      BERLINGO  \n",
       "3840762         דיזל            NaN                NaN   LAND CRISER  \n",
       "3840763         דיזל            NaN                NaN      TERRACAN  \n",
       "3840764        בנזין       140299.0             2014-7      SPORTAGE  \n",
       "3840765        בנזין       140049.0            2014-11       OCTAVIA  "
      ]
     },
     "execution_count": 9,
     "metadata": {},
     "output_type": "execute_result"
    }
   ],
   "source": [
    "data_part_1.tail()"
   ]
  },
  {
   "cell_type": "markdown",
   "id": "db0e4df0",
   "metadata": {
    "id": "db0e4df0"
   },
   "source": [
    "#### data_part_2"
   ]
  },
  {
   "cell_type": "code",
   "execution_count": null,
   "id": "063b8744",
   "metadata": {
    "id": "063b8744",
    "outputId": "816d7118-8460-4b89-ad8c-b1526d8a05a4"
   },
   "outputs": [
    {
     "data": {
      "text/plain": [
       "(3840766, 9)"
      ]
     },
     "execution_count": 10,
     "metadata": {},
     "output_type": "execute_result"
    }
   ],
   "source": [
    "data_part_2.shape"
   ]
  },
  {
   "cell_type": "code",
   "execution_count": null,
   "id": "82583d13",
   "metadata": {
    "id": "82583d13",
    "outputId": "c3bc4b67-930d-4a23-c734-22011f3429a4"
   },
   "outputs": [
    {
     "name": "stdout",
     "output_type": "stream",
     "text": [
      "<class 'pandas.core.frame.DataFrame'>\n",
      "RangeIndex: 3840766 entries, 0 to 3840765\n",
      "Data columns (total 9 columns):\n",
      " #   Column                   Dtype \n",
      "---  ------                   ----- \n",
      " 0   mispar_rechev            int64 \n",
      " 1   tozeret_cd               int64 \n",
      " 2   sug_degem                object\n",
      " 3   degem_cd                 int64 \n",
      " 4   kod_omes_tzmig_kidmi     int64 \n",
      " 5   kod_omes_tzmig_ahori     int64 \n",
      " 6   kod_mehirut_tzmig_kidmi  object\n",
      " 7   kod_mehirut_tzmig_ahori  object\n",
      " 8   grira_nm                 object\n",
      "dtypes: int64(5), object(4)\n",
      "memory usage: 263.7+ MB\n"
     ]
    }
   ],
   "source": [
    "# data_part_2 contains 9 columns and the same number of rows like data_part_1\n",
    "data_part_2.info()"
   ]
  },
  {
   "cell_type": "code",
   "execution_count": null,
   "id": "ec0c9d20",
   "metadata": {
    "id": "ec0c9d20",
    "outputId": "b1f69ae4-c67f-4b89-d863-9069db3e635e"
   },
   "outputs": [
    {
     "data": {
      "text/plain": [
       "mispar_rechev              3840766\n",
       "tozeret_cd                     271\n",
       "sug_degem                        2\n",
       "degem_cd                      3974\n",
       "kod_omes_tzmig_kidmi           126\n",
       "kod_omes_tzmig_ahori           130\n",
       "kod_mehirut_tzmig_kidmi         66\n",
       "kod_mehirut_tzmig_ahori         66\n",
       "grira_nm                         4\n",
       "dtype: int64"
      ]
     },
     "execution_count": 12,
     "metadata": {},
     "output_type": "execute_result"
    }
   ],
   "source": [
    "# We see that mispar_rechev is a column with unique values which represents each vehicle like in data_part_1\n",
    "data_part_2.nunique()"
   ]
  },
  {
   "cell_type": "code",
   "execution_count": null,
   "id": "12bcaeb6",
   "metadata": {
    "id": "12bcaeb6",
    "outputId": "6fa30fc8-88e2-421a-f75f-4aba4a709f34"
   },
   "outputs": [
    {
     "data": {
      "text/plain": [
       "mispar_rechev                   0\n",
       "tozeret_cd                      0\n",
       "sug_degem                       0\n",
       "degem_cd                        0\n",
       "kod_omes_tzmig_kidmi            0\n",
       "kod_omes_tzmig_ahori            0\n",
       "kod_mehirut_tzmig_kidmi    466633\n",
       "kod_mehirut_tzmig_ahori    466633\n",
       "grira_nm                        0\n",
       "dtype: int64"
      ]
     },
     "execution_count": 13,
     "metadata": {},
     "output_type": "execute_result"
    }
   ],
   "source": [
    "# taking a look at the number of nulls in the dataset\n",
    "# We see 3 columns with a sigificant number of nulls which we'll take a look at and decide what to do with them later\n",
    "data_part_2.isnull().sum()"
   ]
  },
  {
   "cell_type": "code",
   "execution_count": null,
   "id": "54b13b59",
   "metadata": {
    "id": "54b13b59",
    "outputId": "385cc193-0fa3-4be9-ea35-4add5b3b0c5c"
   },
   "outputs": [
    {
     "data": {
      "text/html": [
       "<div>\n",
       "<style scoped>\n",
       "    .dataframe tbody tr th:only-of-type {\n",
       "        vertical-align: middle;\n",
       "    }\n",
       "\n",
       "    .dataframe tbody tr th {\n",
       "        vertical-align: top;\n",
       "    }\n",
       "\n",
       "    .dataframe thead th {\n",
       "        text-align: right;\n",
       "    }\n",
       "</style>\n",
       "<table border=\"1\" class=\"dataframe\">\n",
       "  <thead>\n",
       "    <tr style=\"text-align: right;\">\n",
       "      <th></th>\n",
       "      <th>mispar_rechev</th>\n",
       "      <th>tozeret_cd</th>\n",
       "      <th>sug_degem</th>\n",
       "      <th>degem_cd</th>\n",
       "      <th>kod_omes_tzmig_kidmi</th>\n",
       "      <th>kod_omes_tzmig_ahori</th>\n",
       "      <th>kod_mehirut_tzmig_kidmi</th>\n",
       "      <th>kod_mehirut_tzmig_ahori</th>\n",
       "      <th>grira_nm</th>\n",
       "    </tr>\n",
       "  </thead>\n",
       "  <tbody>\n",
       "    <tr>\n",
       "      <th>0</th>\n",
       "      <td>7993778</td>\n",
       "      <td>481</td>\n",
       "      <td>P</td>\n",
       "      <td>15</td>\n",
       "      <td>91</td>\n",
       "      <td>91</td>\n",
       "      <td>H</td>\n",
       "      <td>H</td>\n",
       "      <td>אין וו גרירה</td>\n",
       "    </tr>\n",
       "    <tr>\n",
       "      <th>1</th>\n",
       "      <td>2481466</td>\n",
       "      <td>845</td>\n",
       "      <td>P</td>\n",
       "      <td>72</td>\n",
       "      <td>0</td>\n",
       "      <td>0</td>\n",
       "      <td>NaN</td>\n",
       "      <td>NaN</td>\n",
       "      <td>אין וו גרירה</td>\n",
       "    </tr>\n",
       "    <tr>\n",
       "      <th>2</th>\n",
       "      <td>6120469</td>\n",
       "      <td>253</td>\n",
       "      <td>P</td>\n",
       "      <td>21</td>\n",
       "      <td>88</td>\n",
       "      <td>0</td>\n",
       "      <td>H</td>\n",
       "      <td>H</td>\n",
       "      <td>אין וו גרירה</td>\n",
       "    </tr>\n",
       "    <tr>\n",
       "      <th>3</th>\n",
       "      <td>7151374</td>\n",
       "      <td>885</td>\n",
       "      <td>P</td>\n",
       "      <td>1011</td>\n",
       "      <td>91</td>\n",
       "      <td>91</td>\n",
       "      <td>H</td>\n",
       "      <td>H</td>\n",
       "      <td>אין וו גרירה</td>\n",
       "    </tr>\n",
       "    <tr>\n",
       "      <th>4</th>\n",
       "      <td>5410413</td>\n",
       "      <td>299</td>\n",
       "      <td>P</td>\n",
       "      <td>41</td>\n",
       "      <td>84</td>\n",
       "      <td>84</td>\n",
       "      <td>H</td>\n",
       "      <td>H</td>\n",
       "      <td>אין וו גרירה</td>\n",
       "    </tr>\n",
       "  </tbody>\n",
       "</table>\n",
       "</div>"
      ],
      "text/plain": [
       "   mispar_rechev  tozeret_cd sug_degem  degem_cd  kod_omes_tzmig_kidmi  \\\n",
       "0        7993778         481         P        15                    91   \n",
       "1        2481466         845         P        72                     0   \n",
       "2        6120469         253         P        21                    88   \n",
       "3        7151374         885         P      1011                    91   \n",
       "4        5410413         299         P        41                    84   \n",
       "\n",
       "   kod_omes_tzmig_ahori kod_mehirut_tzmig_kidmi kod_mehirut_tzmig_ahori  \\\n",
       "0                    91                       H                       H   \n",
       "1                     0                     NaN                     NaN   \n",
       "2                     0                       H                       H   \n",
       "3                    91                       H                       H   \n",
       "4                    84                       H                       H   \n",
       "\n",
       "       grira_nm  \n",
       "0  אין וו גרירה  \n",
       "1  אין וו גרירה  \n",
       "2  אין וו גרירה  \n",
       "3  אין וו גרירה  \n",
       "4  אין וו גרירה  "
      ]
     },
     "execution_count": 14,
     "metadata": {},
     "output_type": "execute_result"
    }
   ],
   "source": [
    "data_part_2.head()"
   ]
  },
  {
   "cell_type": "code",
   "execution_count": null,
   "id": "c9822236",
   "metadata": {
    "id": "c9822236",
    "outputId": "871ae829-0d95-42d6-9e11-2ab6f2c524f8",
    "scrolled": true
   },
   "outputs": [
    {
     "data": {
      "text/html": [
       "<div>\n",
       "<style scoped>\n",
       "    .dataframe tbody tr th:only-of-type {\n",
       "        vertical-align: middle;\n",
       "    }\n",
       "\n",
       "    .dataframe tbody tr th {\n",
       "        vertical-align: top;\n",
       "    }\n",
       "\n",
       "    .dataframe thead th {\n",
       "        text-align: right;\n",
       "    }\n",
       "</style>\n",
       "<table border=\"1\" class=\"dataframe\">\n",
       "  <thead>\n",
       "    <tr style=\"text-align: right;\">\n",
       "      <th></th>\n",
       "      <th>mispar_rechev</th>\n",
       "      <th>tozeret_cd</th>\n",
       "      <th>sug_degem</th>\n",
       "      <th>degem_cd</th>\n",
       "      <th>kod_omes_tzmig_kidmi</th>\n",
       "      <th>kod_omes_tzmig_ahori</th>\n",
       "      <th>kod_mehirut_tzmig_kidmi</th>\n",
       "      <th>kod_mehirut_tzmig_ahori</th>\n",
       "      <th>grira_nm</th>\n",
       "    </tr>\n",
       "  </thead>\n",
       "  <tbody>\n",
       "    <tr>\n",
       "      <th>3840761</th>\n",
       "      <td>70881902</td>\n",
       "      <td>839</td>\n",
       "      <td>P</td>\n",
       "      <td>237</td>\n",
       "      <td>91</td>\n",
       "      <td>91</td>\n",
       "      <td>V</td>\n",
       "      <td>V</td>\n",
       "      <td>אין וו גרירה</td>\n",
       "    </tr>\n",
       "    <tr>\n",
       "      <th>3840762</th>\n",
       "      <td>21879603</td>\n",
       "      <td>839</td>\n",
       "      <td>P</td>\n",
       "      <td>237</td>\n",
       "      <td>91</td>\n",
       "      <td>91</td>\n",
       "      <td>V</td>\n",
       "      <td>V</td>\n",
       "      <td>אין וו גרירה</td>\n",
       "    </tr>\n",
       "    <tr>\n",
       "      <th>3840763</th>\n",
       "      <td>21719403</td>\n",
       "      <td>839</td>\n",
       "      <td>P</td>\n",
       "      <td>234</td>\n",
       "      <td>95</td>\n",
       "      <td>95</td>\n",
       "      <td>V</td>\n",
       "      <td>V</td>\n",
       "      <td>אין וו גרירה</td>\n",
       "    </tr>\n",
       "    <tr>\n",
       "      <th>3840764</th>\n",
       "      <td>70681502</td>\n",
       "      <td>839</td>\n",
       "      <td>P</td>\n",
       "      <td>234</td>\n",
       "      <td>95</td>\n",
       "      <td>95</td>\n",
       "      <td>V</td>\n",
       "      <td>V</td>\n",
       "      <td>אין וו גרירה</td>\n",
       "    </tr>\n",
       "    <tr>\n",
       "      <th>3840765</th>\n",
       "      <td>56085103</td>\n",
       "      <td>413</td>\n",
       "      <td>P</td>\n",
       "      <td>297</td>\n",
       "      <td>95</td>\n",
       "      <td>95</td>\n",
       "      <td>V</td>\n",
       "      <td>V</td>\n",
       "      <td>אין וו גרירה</td>\n",
       "    </tr>\n",
       "  </tbody>\n",
       "</table>\n",
       "</div>"
      ],
      "text/plain": [
       "         mispar_rechev  tozeret_cd sug_degem  degem_cd  kod_omes_tzmig_kidmi  \\\n",
       "3840761       70881902         839         P       237                    91   \n",
       "3840762       21879603         839         P       237                    91   \n",
       "3840763       21719403         839         P       234                    95   \n",
       "3840764       70681502         839         P       234                    95   \n",
       "3840765       56085103         413         P       297                    95   \n",
       "\n",
       "         kod_omes_tzmig_ahori kod_mehirut_tzmig_kidmi kod_mehirut_tzmig_ahori  \\\n",
       "3840761                    91                       V                       V   \n",
       "3840762                    91                       V                       V   \n",
       "3840763                    95                       V                       V   \n",
       "3840764                    95                       V                       V   \n",
       "3840765                    95                       V                       V   \n",
       "\n",
       "             grira_nm  \n",
       "3840761  אין וו גרירה  \n",
       "3840762  אין וו גרירה  \n",
       "3840763  אין וו גרירה  \n",
       "3840764  אין וו גרירה  \n",
       "3840765  אין וו גרירה  "
      ]
     },
     "execution_count": 15,
     "metadata": {},
     "output_type": "execute_result"
    }
   ],
   "source": [
    "data_part_2.tail()"
   ]
  },
  {
   "cell_type": "code",
   "execution_count": null,
   "id": "576310e8",
   "metadata": {
    "id": "576310e8",
    "outputId": "835b931f-a108-41be-bf1b-683ddff53bca"
   },
   "outputs": [
    {
     "name": "stdout",
     "output_type": "stream",
     "text": [
      "<class 'pandas.core.frame.DataFrame'>\n",
      "RangeIndex: 3840766 entries, 0 to 3840765\n",
      "Data columns (total 9 columns):\n",
      " #   Column                   Dtype \n",
      "---  ------                   ----- \n",
      " 0   mispar_rechev            int64 \n",
      " 1   tozeret_cd               int64 \n",
      " 2   sug_degem                object\n",
      " 3   degem_cd                 int64 \n",
      " 4   kod_omes_tzmig_kidmi     int64 \n",
      " 5   kod_omes_tzmig_ahori     int64 \n",
      " 6   kod_mehirut_tzmig_kidmi  object\n",
      " 7   kod_mehirut_tzmig_ahori  object\n",
      " 8   grira_nm                 object\n",
      "dtypes: int64(5), object(4)\n",
      "memory usage: 263.7+ MB\n"
     ]
    }
   ],
   "source": [
    "data_part_2.info()"
   ]
  },
  {
   "cell_type": "code",
   "execution_count": null,
   "id": "46527389",
   "metadata": {
    "id": "46527389",
    "outputId": "859b7cde-73ae-4142-b622-ca468ae6e1fe",
    "scrolled": true
   },
   "outputs": [
    {
     "data": {
      "text/plain": [
       "mispar_rechev                   0\n",
       "tozeret_cd                      0\n",
       "sug_degem                       0\n",
       "degem_cd                        0\n",
       "kod_omes_tzmig_kidmi            0\n",
       "kod_omes_tzmig_ahori            0\n",
       "kod_mehirut_tzmig_kidmi    466633\n",
       "kod_mehirut_tzmig_ahori    466633\n",
       "grira_nm                        0\n",
       "dtype: int64"
      ]
     },
     "execution_count": 17,
     "metadata": {},
     "output_type": "execute_result"
    }
   ],
   "source": [
    "# As it can be seen only 2 columns in dataset2 have nulls and the share of nulls is around 9%\n",
    "# The 2 columns kod_mehirut_tzmig_kidmi and kod_mehirut_tzmig_ahori have a little bit more than 10% nulls,\n",
    "# these columns won't be reduced as we'll check the codes and what they mean, we'll probably add another column with mapping.\n",
    "data_part_2.isnull().sum()"
   ]
  },
  {
   "cell_type": "markdown",
   "id": "075a8237",
   "metadata": {
    "id": "075a8237"
   },
   "source": [
    "## 3. Data manipulation and preparation for cleaning"
   ]
  },
  {
   "cell_type": "code",
   "execution_count": null,
   "id": "1202b3c4",
   "metadata": {
    "id": "1202b3c4",
    "outputId": "3bf1229a-7f40-4680-b5c6-c6c08763a68e"
   },
   "outputs": [
    {
     "data": {
      "text/plain": [
       "True"
      ]
     },
     "execution_count": 18,
     "metadata": {},
     "output_type": "execute_result"
    }
   ],
   "source": [
    "# Now let's check if we can seamlessly join the two datasets (so to say all mispar_rechev in\n",
    "# data_part_1 are equal to all mispart_rechev in data_part_2)\n",
    "set(data_part_1['mispar_rechev']) == set(data_part_2['mispar_rechev'])\n",
    "\n",
    "#perfect, we can join the tables seamlessly."
   ]
  },
  {
   "cell_type": "code",
   "execution_count": null,
   "id": "694606e2",
   "metadata": {
    "id": "694606e2",
    "outputId": "6fd45b30-5edc-401f-9238-b4f8f3734272"
   },
   "outputs": [
    {
     "data": {
      "text/plain": [
       "{'degem_cd', 'mispar_rechev', 'sug_degem', 'tozeret_cd'}"
      ]
     },
     "execution_count": 19,
     "metadata": {},
     "output_type": "execute_result"
    }
   ],
   "source": [
    "#next step is to identify mutual columns and check if they are exactly the same and each similar column can be reduced\n",
    "set(data_part_1.columns).intersection(set(data_part_2.columns))\n"
   ]
  },
  {
   "cell_type": "code",
   "execution_count": null,
   "id": "761aa042",
   "metadata": {
    "id": "761aa042",
    "outputId": "69101e4c-c310-4628-ebd7-bb8a19ffd136"
   },
   "outputs": [
    {
     "data": {
      "text/plain": [
       "True"
      ]
     },
     "execution_count": 20,
     "metadata": {},
     "output_type": "execute_result"
    }
   ],
   "source": [
    "# As we see there are 4 mutual columns. Lets check if the similar columns have exact values\n",
    "set(data_part_1['degem_cd']) == set(data_part_2['degem_cd'])"
   ]
  },
  {
   "cell_type": "code",
   "execution_count": null,
   "id": "e0a21e0c",
   "metadata": {
    "id": "e0a21e0c",
    "outputId": "f9c2aa98-3d92-4c11-ccff-12813a0cd6a5"
   },
   "outputs": [
    {
     "data": {
      "text/plain": [
       "True"
      ]
     },
     "execution_count": 21,
     "metadata": {},
     "output_type": "execute_result"
    }
   ],
   "source": [
    "set(data_part_1['sug_degem']) == set(data_part_2['sug_degem'])"
   ]
  },
  {
   "cell_type": "code",
   "execution_count": null,
   "id": "cf0d7aec",
   "metadata": {
    "id": "cf0d7aec",
    "outputId": "40fde580-c208-4f96-fc2f-cd79dd9df1c7"
   },
   "outputs": [
    {
     "data": {
      "text/plain": [
       "True"
      ]
     },
     "execution_count": 22,
     "metadata": {},
     "output_type": "execute_result"
    }
   ],
   "source": [
    "set(data_part_1['tozeret_cd']) == set(data_part_2['tozeret_cd'])"
   ]
  },
  {
   "cell_type": "code",
   "execution_count": null,
   "id": "48d8d560",
   "metadata": {
    "id": "48d8d560",
    "outputId": "a3d9ebd9-74d1-4c92-db95-fd36cf999f29"
   },
   "outputs": [
    {
     "data": {
      "text/html": [
       "<div>\n",
       "<style scoped>\n",
       "    .dataframe tbody tr th:only-of-type {\n",
       "        vertical-align: middle;\n",
       "    }\n",
       "\n",
       "    .dataframe tbody tr th {\n",
       "        vertical-align: top;\n",
       "    }\n",
       "\n",
       "    .dataframe thead th {\n",
       "        text-align: right;\n",
       "    }\n",
       "</style>\n",
       "<table border=\"1\" class=\"dataframe\">\n",
       "  <thead>\n",
       "    <tr style=\"text-align: right;\">\n",
       "      <th></th>\n",
       "      <th>mispar_rechev</th>\n",
       "      <th>kod_omes_tzmig_kidmi</th>\n",
       "      <th>kod_omes_tzmig_ahori</th>\n",
       "      <th>kod_mehirut_tzmig_kidmi</th>\n",
       "      <th>kod_mehirut_tzmig_ahori</th>\n",
       "      <th>grira_nm</th>\n",
       "    </tr>\n",
       "  </thead>\n",
       "  <tbody>\n",
       "    <tr>\n",
       "      <th>0</th>\n",
       "      <td>7993778</td>\n",
       "      <td>91</td>\n",
       "      <td>91</td>\n",
       "      <td>H</td>\n",
       "      <td>H</td>\n",
       "      <td>אין וו גרירה</td>\n",
       "    </tr>\n",
       "    <tr>\n",
       "      <th>1</th>\n",
       "      <td>2481466</td>\n",
       "      <td>0</td>\n",
       "      <td>0</td>\n",
       "      <td>NaN</td>\n",
       "      <td>NaN</td>\n",
       "      <td>אין וו גרירה</td>\n",
       "    </tr>\n",
       "  </tbody>\n",
       "</table>\n",
       "</div>"
      ],
      "text/plain": [
       "   mispar_rechev  kod_omes_tzmig_kidmi  kod_omes_tzmig_ahori  \\\n",
       "0        7993778                    91                    91   \n",
       "1        2481466                     0                     0   \n",
       "\n",
       "  kod_mehirut_tzmig_kidmi kod_mehirut_tzmig_ahori      grira_nm  \n",
       "0                       H                       H  אין וו גרירה  \n",
       "1                     NaN                     NaN  אין וו גרירה  "
      ]
     },
     "execution_count": 23,
     "metadata": {},
     "output_type": "execute_result"
    }
   ],
   "source": [
    "#All the columns including the column 'mispar_rechev' are equal in both datasets,\n",
    "# therefore we can remove the 3 columns from the second dataframe and join the data.\n",
    "data_part_2 = data_part_2.drop(columns=['degem_cd', 'sug_degem', 'tozeret_cd'], axis=1)\n",
    "data_part_2.head(2)"
   ]
  },
  {
   "cell_type": "markdown",
   "id": "bca00f7b",
   "metadata": {
    "id": "bca00f7b"
   },
   "source": [
    "### Joining the two datasets"
   ]
  },
  {
   "cell_type": "code",
   "execution_count": null,
   "id": "964922ff",
   "metadata": {
    "id": "964922ff"
   },
   "outputs": [],
   "source": [
    "#let's merge both datasets and conduct all further implementations on the full data, such as renaming columns, removing extra columns,\n",
    "#replacing Hebrew words with English ones.\n",
    "\n",
    "#We'll use inner join because we know both dataframes have the same number and values in mispar_rechev column\n",
    "\n",
    "data_merged_raw = pd.merge(data_part_1, data_part_2, on='mispar_rechev', how='inner')"
   ]
  },
  {
   "cell_type": "code",
   "execution_count": null,
   "id": "8730d8de",
   "metadata": {
    "id": "8730d8de",
    "outputId": "5cab8857-d05d-484c-b36c-7600cbb929ad"
   },
   "outputs": [
    {
     "data": {
      "text/plain": [
       "(3840766, 28)"
      ]
     },
     "execution_count": 25,
     "metadata": {},
     "output_type": "execute_result"
    }
   ],
   "source": [
    "# the merged data contains 3.840.766 vihecles along with 28 columns which tells us the datasets were joined 1:1\n",
    "data_merged_raw.shape\n",
    "\n",
    "#The data is ready to be cleaned"
   ]
  },
  {
   "cell_type": "markdown",
   "id": "a2a25d76",
   "metadata": {
    "id": "a2a25d76"
   },
   "source": [
    "## 4. Data Cleaning"
   ]
  },
  {
   "cell_type": "markdown",
   "id": "46f1a622",
   "metadata": {
    "id": "46f1a622"
   },
   "source": [
    "### I We'll start from giving the columns proper names"
   ]
  },
  {
   "cell_type": "code",
   "execution_count": null,
   "id": "693d8f66",
   "metadata": {
    "id": "693d8f66",
    "outputId": "6227c14c-7126-4065-cb15-d1366d3773b1",
    "scrolled": true
   },
   "outputs": [
    {
     "data": {
      "text/plain": [
       "Index(['mispar_rechev', 'tozeret_cd', 'sug_degem', 'tozeret_nm', 'degem_cd',\n",
       "       'degem_nm', 'ramat_gimur', 'ramat_eivzur_betihuty', 'kvutzat_zihum',\n",
       "       'shnat_yitzur', 'degem_manoa', 'mivchan_acharon_dt', 'tokef_dt',\n",
       "       'baalut', 'misgeret', 'tzeva_cd', 'tzeva_rechev', 'zmig_kidmi',\n",
       "       'zmig_ahori', 'sug_delek_nm', 'horaat_rishum', 'moed_aliya_lakvish',\n",
       "       'kinuy_mishari', 'kod_omes_tzmig_kidmi', 'kod_omes_tzmig_ahori',\n",
       "       'kod_mehirut_tzmig_kidmi', 'kod_mehirut_tzmig_ahori', 'grira_nm'],\n",
       "      dtype='object')"
      ]
     },
     "execution_count": 26,
     "metadata": {},
     "output_type": "execute_result"
    }
   ],
   "source": [
    "# All the names of the columns of the merged df\n",
    "data_merged_raw.columns"
   ]
  },
  {
   "cell_type": "code",
   "execution_count": null,
   "id": "0d5b8f09",
   "metadata": {
    "id": "0d5b8f09"
   },
   "outputs": [],
   "source": [
    "# a dict with new column names\n",
    "new_column_names = {\n",
    "    'mispar_rechev': 'vehicle_number',\n",
    "    'tozeret_cd': 'manufacturer_code',\n",
    "    'sug_degem': 'model_type',\n",
    "    'tozeret_nm': 'manufacturer_name',\n",
    "    'degem_cd': 'model_code',\n",
    "    'degem_nm': 'model_name',\n",
    "    'ramat_gimur': 'maturity_level',\n",
    "    'ramat_eivzur_betihuty': 'safety_upgrade_status',\n",
    "    'kvutzat_zihum': 'emission_group',\n",
    "    'shnat_yitzur': 'manufacture_year',\n",
    "    'degem_manoa': 'chassis_model',\n",
    "    'mivchan_acharon_dt': 'last_test_date',\n",
    "    'tokef_dt': 'validity_date',\n",
    "    'baalut': 'ownership',\n",
    "    'misgeret': 'frame',\n",
    "    'tzeva_cd': 'color_code',\n",
    "    'tzeva_rechev': 'vehicle_color',\n",
    "    'zmig_kidmi': 'front_axle',\n",
    "    'zmig_ahori': 'rear_axle',\n",
    "    'sug_delek_nm': 'fuel_type',\n",
    "    'horaat_rishum': 'registration_instruction',\n",
    "    'moed_aliya_lakvish': 'road_entry_date',\n",
    "    'kinuy_mishari': 'commercial_name',\n",
    "    'kod_omes_tzmig_kidmi': 'front_axle_load_code',\n",
    "    'kod_omes_tzmig_ahori': 'rear_axle_load_code',\n",
    "    'kod_mehirut_tzmig_kidmi': 'front_axle_speed_code',\n",
    "    'kod_mehirut_tzmig_ahori': 'rear_axle_speed_code',\n",
    "    'grira_nm': 'towing_capability'\n",
    "}"
   ]
  },
  {
   "cell_type": "code",
   "execution_count": null,
   "id": "7c71301e",
   "metadata": {
    "id": "7c71301e",
    "outputId": "e86d5818-56ac-4697-cc98-d6959b8261fd"
   },
   "outputs": [
    {
     "data": {
      "text/html": [
       "<div>\n",
       "<style scoped>\n",
       "    .dataframe tbody tr th:only-of-type {\n",
       "        vertical-align: middle;\n",
       "    }\n",
       "\n",
       "    .dataframe tbody tr th {\n",
       "        vertical-align: top;\n",
       "    }\n",
       "\n",
       "    .dataframe thead th {\n",
       "        text-align: right;\n",
       "    }\n",
       "</style>\n",
       "<table border=\"1\" class=\"dataframe\">\n",
       "  <thead>\n",
       "    <tr style=\"text-align: right;\">\n",
       "      <th></th>\n",
       "      <th>vehicle_number</th>\n",
       "      <th>manufacturer_code</th>\n",
       "      <th>model_type</th>\n",
       "      <th>manufacturer_name</th>\n",
       "      <th>model_code</th>\n",
       "      <th>model_name</th>\n",
       "      <th>maturity_level</th>\n",
       "      <th>safety_upgrade_status</th>\n",
       "      <th>emission_group</th>\n",
       "      <th>manufacture_year</th>\n",
       "      <th>chassis_model</th>\n",
       "      <th>last_test_date</th>\n",
       "      <th>validity_date</th>\n",
       "      <th>ownership</th>\n",
       "      <th>frame</th>\n",
       "      <th>color_code</th>\n",
       "      <th>vehicle_color</th>\n",
       "      <th>front_axle</th>\n",
       "      <th>rear_axle</th>\n",
       "      <th>fuel_type</th>\n",
       "      <th>registration_instruction</th>\n",
       "      <th>road_entry_date</th>\n",
       "      <th>commercial_name</th>\n",
       "      <th>front_axle_load_code</th>\n",
       "      <th>rear_axle_load_code</th>\n",
       "      <th>front_axle_speed_code</th>\n",
       "      <th>rear_axle_speed_code</th>\n",
       "      <th>towing_capability</th>\n",
       "    </tr>\n",
       "  </thead>\n",
       "  <tbody>\n",
       "    <tr>\n",
       "      <th>0</th>\n",
       "      <td>7993778</td>\n",
       "      <td>481</td>\n",
       "      <td>P</td>\n",
       "      <td>יונדאי קוריאה</td>\n",
       "      <td>15</td>\n",
       "      <td>DH41C</td>\n",
       "      <td>INSPIRE</td>\n",
       "      <td>NaN</td>\n",
       "      <td>15.0</td>\n",
       "      <td>2012</td>\n",
       "      <td>G4FG</td>\n",
       "      <td>2024-03-04</td>\n",
       "      <td>2025-03-28</td>\n",
       "      <td>פרטי</td>\n",
       "      <td>KMHDH41CBCU464082</td>\n",
       "      <td>93</td>\n",
       "      <td>כסוף כהה</td>\n",
       "      <td>195/65R15</td>\n",
       "      <td>195/65R15</td>\n",
       "      <td>בנזין</td>\n",
       "      <td>NaN</td>\n",
       "      <td>2012-3</td>\n",
       "      <td>I35</td>\n",
       "      <td>91</td>\n",
       "      <td>91</td>\n",
       "      <td>H</td>\n",
       "      <td>H</td>\n",
       "      <td>אין וו גרירה</td>\n",
       "    </tr>\n",
       "  </tbody>\n",
       "</table>\n",
       "</div>"
      ],
      "text/plain": [
       "   vehicle_number  manufacturer_code model_type manufacturer_name  model_code  \\\n",
       "0         7993778                481          P     יונדאי קוריאה          15   \n",
       "\n",
       "  model_name maturity_level  safety_upgrade_status  emission_group  \\\n",
       "0      DH41C        INSPIRE                    NaN            15.0   \n",
       "\n",
       "   manufacture_year chassis_model last_test_date validity_date ownership  \\\n",
       "0              2012          G4FG     2024-03-04    2025-03-28      פרטי   \n",
       "\n",
       "               frame  color_code vehicle_color front_axle  rear_axle  \\\n",
       "0  KMHDH41CBCU464082          93      כסוף כהה  195/65R15  195/65R15   \n",
       "\n",
       "  fuel_type  registration_instruction road_entry_date commercial_name  \\\n",
       "0     בנזין                       NaN          2012-3             I35   \n",
       "\n",
       "   front_axle_load_code  rear_axle_load_code front_axle_speed_code  \\\n",
       "0                    91                   91                     H   \n",
       "\n",
       "  rear_axle_speed_code towing_capability  \n",
       "0                    H      אין וו גרירה  "
      ]
     },
     "execution_count": 28,
     "metadata": {},
     "output_type": "execute_result"
    }
   ],
   "source": [
    "#Renaming the columns\n",
    "data_merged_raw.rename(columns=new_column_names, inplace=True)\n",
    "data_merged_raw.head(1)"
   ]
  },
  {
   "cell_type": "markdown",
   "id": "042174f7",
   "metadata": {
    "id": "042174f7"
   },
   "source": [
    "### II We want to replace all Hebrew words and set English ones instead\n",
    "We now have 4 columns in which we need to do it: ('manufacturer_name', 'ownership', 'vehicle_color', 'fuel_type', 'towing_capability')"
   ]
  },
  {
   "cell_type": "code",
   "execution_count": null,
   "id": "f424337d",
   "metadata": {
    "id": "f424337d"
   },
   "outputs": [],
   "source": [
    "#let's keep it near by what the null situation in our dataframe\n",
    "#data_merged_raw.isnull().sum()\n",
    "#the columns we want to do replacements onto don't contain nulls."
   ]
  },
  {
   "cell_type": "markdown",
   "id": "38ef1dba",
   "metadata": {
    "id": "38ef1dba"
   },
   "source": [
    "#### towing_capability"
   ]
  },
  {
   "cell_type": "code",
   "execution_count": null,
   "id": "695e167f",
   "metadata": {
    "id": "695e167f",
    "outputId": "827c0bd3-1146-43e6-911e-6118cf760f9e"
   },
   "outputs": [
    {
     "data": {
      "text/plain": [
       "['אין וו גרירה', 'וו גרירה קבוע', 'וו גרירה נשלף', 'יש וו גרירה']"
      ]
     },
     "execution_count": 30,
     "metadata": {},
     "output_type": "execute_result"
    }
   ],
   "source": [
    "#let's begin from the end\n",
    "data_merged_raw['towing_capability'].unique().tolist()\n",
    "#we got a list of unique values in Hebrew"
   ]
  },
  {
   "cell_type": "code",
   "execution_count": null,
   "id": "3e693670",
   "metadata": {
    "id": "3e693670"
   },
   "outputs": [],
   "source": [
    "# Dictionary to define replacements\n",
    "towing_replacements = {\n",
    "    'אין וו גרירה': 'No towing hook',\n",
    "    'וו גרירה קבוע': 'Fixed towing hook',\n",
    "    'וו גרירה נשלף': 'Detachable towing hook',\n",
    "    'יש וו גרירה': 'Has towing hook'\n",
    "}\n",
    "\n",
    "# Replace the values in the DataFrame\n",
    "data_merged_raw['towing_capability'] = data_merged_raw['towing_capability'].replace(towing_replacements)"
   ]
  },
  {
   "cell_type": "markdown",
   "id": "a929f559",
   "metadata": {
    "id": "a929f559"
   },
   "source": [
    "#### fuel_type"
   ]
  },
  {
   "cell_type": "code",
   "execution_count": null,
   "id": "5ffc0eff",
   "metadata": {
    "id": "5ffc0eff",
    "outputId": "92a1e10a-f918-49ea-af17-c41d1eecd489"
   },
   "outputs": [
    {
     "data": {
      "text/plain": [
       "['בנזין', 'גפמ\"', 'דיזל', 'חשמל/בנזין', 'חשמל', 'חשמל/דיזל']"
      ]
     },
     "execution_count": 32,
     "metadata": {},
     "output_type": "execute_result"
    }
   ],
   "source": [
    "data_merged_raw['fuel_type'].unique().tolist()"
   ]
  },
  {
   "cell_type": "code",
   "execution_count": null,
   "id": "f6fa125d",
   "metadata": {
    "id": "f6fa125d"
   },
   "outputs": [],
   "source": [
    "# Dictionary to define replacements\n",
    "fuel_replacements = {\n",
    "    'בנזין': 'Gasoline',\n",
    "    'גפמ\"': 'GPL',\n",
    "    'דיזל': 'Diesel',\n",
    "    'חשמל/בנזין': 'Hybrid (Electric/Gasoline)',\n",
    "    'חשמל': 'Electric',\n",
    "    'חשמל/דיזל': 'Hybrid (Electric/Diesel)'\n",
    "}\n",
    "\n",
    "# Replace the values in the DataFrame\n",
    "data_merged_raw['fuel_type'] = data_merged_raw['fuel_type'].replace(fuel_replacements)"
   ]
  },
  {
   "cell_type": "markdown",
   "id": "da01b9b3",
   "metadata": {
    "id": "da01b9b3"
   },
   "source": [
    "#### vehicle_color"
   ]
  },
  {
   "cell_type": "code",
   "execution_count": null,
   "id": "ed8b05e6",
   "metadata": {
    "id": "ed8b05e6",
    "outputId": "befc4c01-fdbc-401f-b5f5-a1a93271f5a1"
   },
   "outputs": [
    {
     "name": "stdout",
     "output_type": "stream",
     "text": [
      "['כסוף כהה', 'כסף', 'שנהב לבן', 'אדום', 'כסף מטלי', 'שחור מטלי', 'אפור מטל', 'אפור כהה מטלי', 'אפור', 'אפור פלדה', 'ורוד', 'זהב מטאלי', 'כחול', 'כחול בהיר', 'תכלת מטאלי', 'תכלת', 'כחול כהה', 'כחול מטל', 'אפור בהיר מטלי', 'בז', 'אפור כהה', 'שחור', 'בז מטאלי', 'חום', 'ירוק', 'אפור כחול מטלי', 'כסף תכלת מטלי', 'זהב', 'שחור פנינה', 'זית מטאלי', 'ירוק בהיר', 'חציל', 'בורדו', 'ברונזה', 'ירוק כהה', 'כסוף כהה מטלי', 'ירוק כסוף', 'קרם', 'צהוב', 'ירוק מטל', 'אפור ברונזה', 'בורדו מטל', 'אפור בהיר', 'כחול פנינה', 'קפה מטאלי', 'כתום', 'ירקרק', 'טוניק', 'חום בהיר', 'ירוק פנינה', 'אדום מטל', 'אדום כהה (יין)', 'אדום קלאסי', 'צהוב מטאלי', 'נחושת מטאלי', 'שחור חציל', 'סגול', 'רב גווני', 'אדום זוהר', 'ירוק זית', 'בז כהה', 'סהרה', 'ירקרק בהיר', 'זהוב', 'טורקיז', 'חום כהה', 'כחול פחם מטלי', 'סגול כהה', 'נחושת', 'כסף כחלחל מטלי', 'שן פיל', 'פלטינה', 'אדום שחור', ' לא ידוע', 'טורקיז מטאלי', 'כסוף בהיר', 'צהוב לימון', 'רוז מתכתי', 'ירוק זית מטלי', 'טורקיז בהיר מטאלי', 'כסף ים', 'ירוק טורקיז', 'כחול קריסטל', 'ירוק אקווה', 'מלאנג', 'ירקרק מטלי', 'סגול בהיר', 'ירוק ים', 'כסוף מילניום', 'טורקיז כהה', 'אדום בהיר', 'אדמדם מטאלי', 'כסף ירקרק', 'מנדרינה מט', 'ירוק זהב מטלי', 'מלאנג מטאלי', 'צהוב חזק', 'חרדל', 'אחר', 'אינדיגו מט']\n"
     ]
    }
   ],
   "source": [
    "# There are quite a lot colors, but no problem, we'll solve it :)\n",
    "print(data_merged_raw['vehicle_color'].unique().tolist())"
   ]
  },
  {
   "cell_type": "code",
   "execution_count": null,
   "id": "4016b3b0",
   "metadata": {
    "id": "4016b3b0",
    "outputId": "39f1631b-7d2c-4ac9-fac7-b6bb1e4fb58c"
   },
   "outputs": [
    {
     "data": {
      "text/plain": [
       "100"
      ]
     },
     "execution_count": 35,
     "metadata": {},
     "output_type": "execute_result"
    }
   ],
   "source": [
    "# So we have 100 different colors\n",
    "len(data_merged_raw['vehicle_color'].unique().tolist())"
   ]
  },
  {
   "cell_type": "code",
   "execution_count": null,
   "id": "c938dd23",
   "metadata": {
    "id": "c938dd23"
   },
   "outputs": [],
   "source": [
    "color_replacements = {\n",
    "    'כסוף כהה': 'Dark Silver', 'כסף': 'Silver', 'שנהב לבן': 'White Ivory', 'אדום': 'Red',\n",
    "    'כסף מטלי': 'Metallic Silver', 'שחור מטלי': 'Metallic Black', 'אפור מטל': 'Metallic Grey',\n",
    "    'אפור כהה מטלי': 'Dark Metallic Grey', 'אפור': 'Grey', 'אפור פלדה': 'Steel Grey',\n",
    "    'ורוד': 'Pink', 'זהב מטאלי': 'Metallic Gold', 'כחול': 'Blue', 'כחול בהיר': 'Light Blue',\n",
    "    'תכלת מטאלי': 'Metallic Sky Blue', 'תכלת': 'Sky Blue', 'כחול כהה': 'Dark Blue',\n",
    "    'כחול מטל': 'Metallic Blue', 'אפור בהיר מטלי': 'Light Metallic Grey', 'בז': 'Beige',\n",
    "    'אפור כהה': 'Dark Grey', 'שחור': 'Black', 'בז מטאלי': 'Metallic Beige', 'חום': 'Brown',\n",
    "    'ירוק': 'Green', 'אפור כחול מטלי': 'Blue Grey Metallic', 'כסף תכלת מטלי': 'Metallic Blue Silver',\n",
    "    'זהב': 'Gold', 'שחור פנינה': 'Pearl Black', 'זית מטאלי': 'Metallic Olive', 'ירוק בהיר': 'Light Green',\n",
    "    'חציל': 'Eggplant', 'בורדו': 'Burgundy', 'ברונזה': 'Bronze', 'ירוק כהה': 'Dark Green',\n",
    "    'כסוף כהה מטלי': 'Dark Metallic Silver', 'ירוק כסוף': 'Silver Green', 'קרם': 'Cream',\n",
    "    'צהוב': 'Yellow', 'ירוק מטל': 'Metallic Green', 'אפור ברונזה': 'Bronze Grey',\n",
    "    'בורדו מטל': 'Metallic Burgundy', 'אפור בהיר': 'Light Grey', 'כחול פנינה': 'Pearl Blue',\n",
    "    'קפה מטאלי': 'Metallic Coffee', 'כתום': 'Orange', 'ירקרק': 'Turquoise', 'טוניק': 'Tunic',\n",
    "    'חום בהיר': 'Light Brown', 'ירוק פנינה': 'Pearl Green', 'אדום מטל': 'Metallic Red',\n",
    "    'אדום כהה (יין)': 'Dark Red (Wine)', 'אדום קלאסי': 'Classic Red', 'צהוב מטאלי': 'Metallic Yellow',\n",
    "    'נחושת מטאלי': 'Metallic Copper', 'שחור חציל': 'Eggplant Black', 'סגול': 'Purple',\n",
    "    'רב גווני': 'Multicolor', 'אדום זוהר': 'Bright Red', 'ירוק זית': 'Olive Green', 'בז כהה': 'Dark Beige',\n",
    "    'סהרה': 'Sahara', 'ירקרק בהיר': 'Light Turquoise', 'זהוב': 'Golden', 'טורקיז': 'Turquoise',\n",
    "    'חום כהה': 'Dark Brown', 'כחול פחם מטלי': 'Coal Blue Metallic', 'סגול כהה': 'Dark Purple',\n",
    "    'נחושת': 'Copper', 'כסף כחלחל מטלי': 'Pale Metallic Silver', 'שן פיל': 'Elephant Tusk',\n",
    "    'פלטינה': 'Platinum', 'אדום שחור': 'Red Black', 'לא ידוע': 'Unknown', 'טורקיז מטאלי': 'Metallic Turquoise',\n",
    "    'כסוף בהיר': 'Bright Silver', 'צהוב לימון': 'Lemon Yellow', 'רוז מתכתי': 'Metallic Rose',\n",
    "    'ירוק זית מטלי': 'Metallic Olive Green', 'טורקיז בהיר מטאלי': 'Bright Metallic Turquoise',\n",
    "    'כסף ים': 'Sea Silver', 'ירוק טורקיז': 'Turquoise Green', 'כחול קריסטל': 'Crystal Blue',\n",
    "    'ירוק אקווה': 'Aqua Green', 'מלאנג': 'Melange', 'ירקרק מטלי': 'Metallic Turquoise',\n",
    "    'סגול בהיר': 'Light Purple', 'ירוק ים': 'Sea Green', 'כסוף מילניום': 'Millennium Silver',\n",
    "    'טורקיז כהה': 'Dark Turquoise', 'אדום בהיר': 'Bright Red', 'אדמדם מטאלי': 'Metallic Rust',\n",
    "    'כסף ירקרק': 'Turquoise Silver', 'מנדרינה מט': 'Matte Mandarin', 'ירוק זהב מטלי': 'Metallic Gold Green',\n",
    "    'מלאנג מטאלי': 'Metallic Melange', 'צהוב חזק': 'Strong Yellow', 'חרדל': 'Mustard',\n",
    "    'אחר': 'Other', 'אינדיגו מט': 'Matte Indigo'\n",
    "}"
   ]
  },
  {
   "cell_type": "code",
   "execution_count": null,
   "id": "2f9b9dcc",
   "metadata": {
    "id": "2f9b9dcc"
   },
   "outputs": [],
   "source": [
    "data_merged_raw['vehicle_color'] = data_merged_raw['vehicle_color'].replace(color_replacements)"
   ]
  },
  {
   "cell_type": "markdown",
   "id": "f232c919",
   "metadata": {
    "id": "f232c919"
   },
   "source": [
    "#### ownership"
   ]
  },
  {
   "cell_type": "code",
   "execution_count": null,
   "id": "1626f1b8",
   "metadata": {
    "id": "1626f1b8",
    "outputId": "0fb98e6f-ed33-4279-e80a-c27b6b4d541f"
   },
   "outputs": [
    {
     "name": "stdout",
     "output_type": "stream",
     "text": [
      "['פרטי', 'ליסינג', 'השכרה', 'חברה', 'סוחר']\n"
     ]
    }
   ],
   "source": [
    "# There are quite a lot colors, but no problem, we'll solve it :)\n",
    "print(data_merged_raw['ownership'].unique().tolist())"
   ]
  },
  {
   "cell_type": "code",
   "execution_count": null,
   "id": "afbc2840",
   "metadata": {
    "id": "afbc2840"
   },
   "outputs": [],
   "source": [
    "ownership_replacements = {\n",
    "    'פרטי': 'Private',\n",
    "    'ליסינג': 'Leasing',\n",
    "    'השכרה': 'Rental',\n",
    "    'חברה': 'Company',\n",
    "    'סוחר': 'Dealer'\n",
    "}"
   ]
  },
  {
   "cell_type": "code",
   "execution_count": null,
   "id": "ee109188",
   "metadata": {
    "id": "ee109188"
   },
   "outputs": [],
   "source": [
    "data_merged_raw['ownership'] = data_merged_raw['ownership'].replace(ownership_replacements)"
   ]
  },
  {
   "cell_type": "markdown",
   "id": "836fc039",
   "metadata": {
    "id": "836fc039"
   },
   "source": [
    "#### One to go - manufacturer_name"
   ]
  },
  {
   "cell_type": "code",
   "execution_count": null,
   "id": "c1c264f0",
   "metadata": {
    "id": "c1c264f0",
    "outputId": "7107340e-ec47-4891-db6d-8cf9d6f7cfe2"
   },
   "outputs": [
    {
     "data": {
      "text/plain": [
       "['יונדאי קוריאה',\n",
       " 'יונדאי טורקיה',\n",
       " \"יונדאי צ'כיה\",\n",
       " 'קיה קוריאה',\n",
       " 'סוזוקי הונגריה']"
      ]
     },
     "execution_count": 41,
     "metadata": {},
     "output_type": "execute_result"
    }
   ],
   "source": [
    "#Below we see quite a few unique values, we see only 5 first values\n",
    "data_merged_raw['manufacturer_name'].unique().tolist()[0:5]"
   ]
  },
  {
   "cell_type": "code",
   "execution_count": null,
   "id": "e3383342",
   "metadata": {
    "id": "e3383342",
    "outputId": "adf6e632-4036-472b-92d6-6822728ad0af"
   },
   "outputs": [
    {
     "name": "stdout",
     "output_type": "stream",
     "text": [
      "271\n"
     ]
    }
   ],
   "source": [
    "#due to the length, we need to split the unique values into to because chatgpt freezes\n",
    "print(len(data_merged_raw['manufacturer_name'].unique().tolist()))"
   ]
  },
  {
   "cell_type": "code",
   "execution_count": null,
   "id": "7227ed55",
   "metadata": {
    "id": "7227ed55"
   },
   "outputs": [],
   "source": [
    "# Get the list of unique manufacturers once\n",
    "unique_manufacturers = data_merged_raw['manufacturer_name'].unique().tolist()\n",
    "\n",
    "# Number of items per chunk\n",
    "chunk_size = 40\n",
    "\n",
    "# List to hold all chunks\n",
    "manufacturer_chunks = [unique_manufacturers[i:i + chunk_size] for i in range(0, len(unique_manufacturers), chunk_size)]\n",
    "\n",
    "# Now, manufacturer_chunks[0] is the first chunk, manufacturer_chunks[1] is the second, etc.\n",
    "# If you need individual variables for some reason, you can still assign them:\n",
    "first_chunk_manufacturers = manufacturer_chunks[0]\n",
    "second_chunk_manufacturers = manufacturer_chunks[1]\n",
    "third_chunk_manufacturers = manufacturer_chunks[2]\n",
    "forth_chunk_manufacturers = manufacturer_chunks[3]\n",
    "fifth_chunk_manufacturers = manufacturer_chunks[4]\n",
    "sixth_chunk_manufacturers = manufacturer_chunks[5]\n",
    "seventh_chunk_manufacturers = manufacturer_chunks[6]"
   ]
  },
  {
   "cell_type": "code",
   "execution_count": null,
   "id": "b2b84e7f",
   "metadata": {
    "id": "b2b84e7f",
    "outputId": "f49e09ce-1c89-4bb6-e9b7-e97e1706acb3"
   },
   "outputs": [
    {
     "name": "stdout",
     "output_type": "stream",
     "text": [
      "[\"פיג'ו אנגליה\", 'סאאב אוסטריה', 'סוזוקי-מרוטי', 'סוזוקי אנגליה', 'אלפין צרפת', 'מאן פולין', 'טויוטה מקסיקו', 'למבורגיני', 'גיאיוואן סין', 'סנטרו סין', \"פיג'ו פולין\", 'רנו אנגליה', 'גיפ-ישראל', 'סאאב פינלנד', 'רנו-בלגיה', 'לינקולן', 'אס דאבל יו אמ', 'יונדאי סלובקיה', 'דודג\\' ארהב\"', 'אל.טי.איי.', 'טלקו הודו', 'ג\\'.מ ארהב\"', 'רולס-רויס', \"פיג'ו יפן\", 'מורגן', 'דאבל יו אם איי', 'פונטיאק', 'קיה ארהב\"', \"קארמה ארה''ב\", 'דימלרקריזלר-אס', 'ואז']\n"
     ]
    }
   ],
   "source": [
    "print(seventh_chunk_manufacturers)"
   ]
  },
  {
   "cell_type": "code",
   "execution_count": null,
   "id": "9a4b5aaa",
   "metadata": {
    "id": "9a4b5aaa"
   },
   "outputs": [],
   "source": [
    "first_chunk_mapped = {\n",
    "    'יונדאי קוריאה': 'Hyundai Korea',\n",
    "    'יונדאי טורקיה': 'Hyundai Turkey',\n",
    "    \"יונדאי צ'כיה\": 'Hyundai Czech Republic',\n",
    "    'קיה קוריאה': 'Kia Korea',\n",
    "    'סוזוקי הונגריה': 'Suzuki Hungary',\n",
    "    'שברולט ד.קוריא': 'Chevrolet South Korea',\n",
    "    'סיאט ספרד': 'SEAT Spain',\n",
    "    'טויוטה יפן': 'Toyota Japan',\n",
    "    'מזדה יפן': 'Mazda Japan',\n",
    "    'וולבו בלגיה': 'Volvo Belgium',\n",
    "    'סוזוקי-יפן': 'Suzuki Japan',\n",
    "    'הונדה-יפן': 'Honda Japan',\n",
    "    'דייהטסו-יפן': 'Daihatsu Japan',\n",
    "    'טויוטה טורקיה': 'Toyota Turkey',\n",
    "    'פולקסווגן גרמנ': 'Volkswagen Germany',\n",
    "    'מיצובישי יפן': 'Mitsubishi Japan',\n",
    "    'פורד ספרד': 'Ford Spain',\n",
    "    'פורד-בלגיה': 'Ford Belgium',\n",
    "    'הונדה בריטניה': 'Honda UK',\n",
    "    'סובארו יפן': 'Subaru Japan',\n",
    "    'הונדה טורקיה': 'Honda Turkey',\n",
    "    'יונדאי הודו': 'Hyundai India',\n",
    "    'פולקסווגן מכסי': 'Volkswagen Mexico',\n",
    "    'פולקסווגן-ספרד': 'Volkswagen Spain',\n",
    "    'וולבו שוודיה': 'Volvo Sweden',\n",
    "    'ב מ וו גרמניה': 'BMW Germany',\n",
    "    'טויוטה צרפת': 'Toyota France',\n",
    "    'אלפא רומיאו': 'Alfa Romeo',\n",
    "    'אופל-ספרד': 'Opel Spain',\n",
    "    'פורד גרמניה': 'Ford Germany',\n",
    "    'מזדה תאילנד': 'Mazda Thailand',\n",
    "    'קרייזלר ארהב\"': 'Chrysler USA',\n",
    "    'מרוטי-סוזוקי': 'Maruti Suzuki',\n",
    "    'טויוטה אנגליה': 'Toyota UK',\n",
    "    'פיאט איטליה': 'Fiat Italy',\n",
    "    'שברולט ארהב\"': 'Chevrolet USA',\n",
    "    'דימלרקריזלר-גר': 'DaimlerChrysler Germany',\n",
    "    'קיה סלובקיה': 'Kia Slovakia',\n",
    "    'ב מ וו בריטניה': 'BMW UK',\n",
    "    \"סקודה צ'כיה\": 'Skoda Czech Republic'\n",
    "}\n"
   ]
  },
  {
   "cell_type": "code",
   "execution_count": null,
   "id": "24c4aed0",
   "metadata": {
    "id": "24c4aed0"
   },
   "outputs": [],
   "source": [
    "second_chunk_mapped  = {\n",
    "    'לקסוס יפן': 'Lexus Japan',\n",
    "    'מרצדס בנץ גרמנ': 'Mercedes-Benz Germany',\n",
    "    'רובר אנגליה': 'Rover England',\n",
    "    'קאדילאק ארהב\"': 'Cadillac USA',\n",
    "    'פיאט פולין': 'Fiat Poland',\n",
    "    \"פיג'ו צרפת\": 'Peugeot France',\n",
    "    'קרייזלר מכסיקו': 'Chrysler Mexico',\n",
    "    \"פיג'ו צ'כיה\": 'Peugeot Czech Republic',\n",
    "    'ביואיק ארהב': 'Buick USA',\n",
    "    'לנציה פולין': 'Lancia Poland',\n",
    "    'אופל-בלגיה': 'Opel Belgium',\n",
    "    'מיצובישי תאילנ': 'Mitsubishi Thailand',\n",
    "    'פיאט תורכיה': 'Fiat Turkey',\n",
    "    'ביואיק קנדה': 'Buick Canada',\n",
    "    'יגואר': 'Jaguar',\n",
    "    'אאודי בלגיה': 'Audi Belgium',\n",
    "    'קרייזלר קנדה': 'Chrysler Canada',\n",
    "    'מיצובישי הולנד': 'Mitsubishi Netherlands',\n",
    "    'אאודי': 'Audi',\n",
    "    'סאאב שודיה': 'Saab Sweden',\n",
    "    'ניסאן יפן': 'Nissan Japan',\n",
    "    'וולבו הולנד': 'Volvo Netherlands',\n",
    "    'שברולט קנדה': 'Chevrolet Canada',\n",
    "    'מזארטי איטליה': 'Maserati Italy',\n",
    "    'אופל-גרמניה': 'Opel Germany',\n",
    "    'אאודי סלובקיה': 'Audi Slovakia',\n",
    "    'אאודי ספרד': 'Audi Spain',\n",
    "    'פורד קנדה': 'Ford Canada',\n",
    "    'מרצדס בנץ ארהב': 'Mercedes-Benz USA',\n",
    "    'פולקסווגן בלגי': 'Volkswagen Belgium',\n",
    "    'ב מ וו ארהב\"': 'BMW USA',\n",
    "    'פורד ארהב\"': 'Ford USA',\n",
    "    'פולקסווגן סלוב': 'Volkswagen Slovakia',\n",
    "    'שברולט מקסיקו': 'Chevrolet Mexico',\n",
    "    'טויוטה ספרד': 'Toyota Spain',\n",
    "    'הונדה מקסיקו': 'Honda Mexico',\n",
    "    'סיטרואן ספרד': 'Citroën Spain',\n",
    "    'מרצדס-בנץ אוסט': 'Mercedes-Benz Austria',\n",
    "    'ניסאן אנגליה': 'Nissan England',\n",
    "    'ג\\'יפ ארהב\"': 'Jeep USA'\n",
    "}\n"
   ]
  },
  {
   "cell_type": "code",
   "execution_count": null,
   "id": "de94a3b8",
   "metadata": {
    "id": "de94a3b8"
   },
   "outputs": [],
   "source": [
    "third_chunk_mapped = {\n",
    "    'מרצדס בנץ הונג': 'Mercedes-Benz Hungary',\n",
    "    'רנו ספרד': 'Renault Spain',\n",
    "    'ליפמוטור סין': 'Leapmotor China',\n",
    "    'איווייס סין': 'Aiways China',\n",
    "    \"ג'יפ איטליה\": 'Jeep Italy',\n",
    "    'רנו צרפת': 'Renault France',\n",
    "    'פורד איטליה': 'Ford Italy',\n",
    "    'וואי סין': 'Wey China',\n",
    "    'אופל פולין': 'Opel Poland',\n",
    "    'איסוזו תאילנד': 'Isuzu Thailand',\n",
    "    'טויוטה תאילנד': 'Toyota Thailand',\n",
    "    'אופל אנגליה': 'Opel UK',\n",
    "    \"סיטרואן צ'כיה\": 'Citroën Czech Republic',\n",
    "    'ניסאן הודו': 'Nissan India',\n",
    "    \"ג'ילי זיקר\": 'Geely China',\n",
    "    'טויוטה ארהב\"': 'Toyota USA',\n",
    "    'סקיוול סין': 'Skywell China',\n",
    "    'טסלה סין': 'Tesla China',\n",
    "    'רנו טורקיה': 'Renault Turkey',\n",
    "    'בי ווי די': 'BYD China',\n",
    "    'טסלה גרמניה': 'Tesla Germany',\n",
    "    'סרס סין': 'Seres China',\n",
    "    'אאודי הונגריה': 'Audi Hungary',\n",
    "    'ב מ וו הולנד': 'BMW Netherlands',\n",
    "    \"סיאט צ'כיה\": 'SEAT Czech Republic',\n",
    "    'פולסטאר סין': 'Polestar China',\n",
    "    'הונדה הודו': 'Honda India',\n",
    "    'פורד מקסיקו': 'Ford Mexico',\n",
    "    'פולקסווגן ד.אפ': 'Volkswagen South Africa',\n",
    "    'גיי.איי.סי סין': 'GAC China',\n",
    "    'גילי סין': 'Geely China',\n",
    "    'סאנגיונג ד.קור': 'SsangYong South Korea',\n",
    "    'איסוזו יפן': 'Isuzu Japan',\n",
    "    'ניסאן ארהב\"': 'Nissan USA',\n",
    "    'דאציה רומניה': 'Dacia Romania',\n",
    "    'סיטרואן צרפת': 'Citroën France',\n",
    "    'פורד רומניה': 'Ford Romania',\n",
    "    'אורה סין': 'ORA China',\n",
    "    'ב מ וו סין': 'BMW China',\n",
    "    'אודי מכסיקו': 'Audi Mexico'\n",
    "}\n"
   ]
  },
  {
   "cell_type": "code",
   "execution_count": null,
   "id": "0ac6ffca",
   "metadata": {
    "id": "0ac6ffca"
   },
   "outputs": [],
   "source": [
    "forth_chunk_mapped = {\n",
    "    \"טויוטה צ'כיה\": 'Toyota Czech Republic',\n",
    "    'קרייזלר-אוסטרי': 'Chrysler Austria',\n",
    "    'לינק אנד קו': 'Link & Co',\n",
    "    'פיאט פורטוגל': 'Fiat Portugal',\n",
    "    'פולקסווגן פורט': 'Volkswagen Portugal',\n",
    "    'ניסאן מקסיקו': 'Nissan Mexico',\n",
    "    'מרצדס בנץ ד.אפ': 'Mercedes-Benz South Africa',\n",
    "    'סוזוקי תאילנד': 'Suzuki Thailand',\n",
    "    'קיה מכסיקו': 'Kia Mexico',\n",
    "    'פורשה גרמניה': 'Porsche Germany',\n",
    "    'רנו רומניה': 'Renault Romania',\n",
    "    'ניסאן ספרד': 'Nissan Spain',\n",
    "    \"פיג'ו ספרד\": 'Peugeot Spain',\n",
    "    'סיטרואן תורכיה': 'Citroën Turkey',\n",
    "    'סיטרואן פורטוג': 'Citroën Portugal',\n",
    "    'סמארט צרפת': 'Smart France',\n",
    "    'הונדה-ארהב\"': 'Honda USA',\n",
    "    \"פיג'ו סלובקיה\": 'Peugeot Slovakia',\n",
    "    'רנו ד.קוריאה': 'Renault South Korea',\n",
    "    \"פיג'ו אוסטריה\": 'Peugeot Austria',\n",
    "    'מרצדס בנץ ספרד': 'Mercedes-Benz Spain',\n",
    "    'פורד תורכיה': 'Ford Turkey',\n",
    "    'מ.ג סין': 'MG China',\n",
    "    'דאציה מרוקו': 'Dacia Morocco',\n",
    "    'ביואיק_מקסיקו': 'Buick Mexico',\n",
    "    \"פיג'ו תורכיה\": 'Peugeot Turkey',\n",
    "    'פולקסווגן פולי': 'Volkswagen Poland',\n",
    "    'ב מ וו אוסטריה': 'BMW Austria',\n",
    "    'דימלרקריזלר-אר': 'DaimlerChrysler USA',\n",
    "    'טויוטה דרום אפ': 'Toyota South Africa',\n",
    "    'סיטרואן סלובק': 'Citroën Slovakia',\n",
    "    'דימלרקריזלר-ספ': 'DaimlerChrysler Spain',\n",
    "    \"מיצובישי פורט'\": 'Mitsubishi Portugal',\n",
    "    \"דודג' קנדה\": 'Dodge Canada',\n",
    "    'איסוזו ארהב\"': 'Isuzu USA',\n",
    "    'וולבו ארהב\"': 'Volvo USA',\n",
    "    \"צ'רי סין\": 'Chery China',\n",
    "    'אופל ד.קוריאה': 'Opel South Korea',\n",
    "    'גי.אי.סי סין': 'GAC China',\n",
    "    'אל אי וי סי': 'ELIVC (brand might be incorrect)'\n",
    "}\n",
    "\n"
   ]
  },
  {
   "cell_type": "code",
   "execution_count": null,
   "id": "9296259a",
   "metadata": {
    "id": "9296259a"
   },
   "outputs": [],
   "source": [
    "fifth_chunk_mapped = {\n",
    "    'איויאיסי סין': 'AIWAYS China',\n",
    "    'טויוטה קנדה': 'Toyota Canada',\n",
    "    \"פיג'ו פורטוגל\": 'Peugeot Portugal',\n",
    "    'דאציה סין': 'Dacia China',\n",
    "    \"ג'י.אמ.סי\": 'GMC',\n",
    "    'סיאט פורטוגל': 'SEAT Portugal',\n",
    "    'סיאט סלובקיה': 'SEAT Slovakia',\n",
    "    'קאדילאק מכסיקו': 'Cadillac Mexico',\n",
    "    'סיטרואן אנגליה': 'Citroën UK',\n",
    "    'אקספנג סין': 'Xpeng China',\n",
    "    'סיאט בלגיה': 'SEAT Belgium',\n",
    "    \"ג'יפ מכסיקו\": 'Jeep Mexico',\n",
    "    'אופל צרפת': 'Opel France',\n",
    "    'פורשה סלובקיה': 'Porsche Slovakia',\n",
    "    'סובארו ארהב\"': 'Subaru USA',\n",
    "    'לנדרובר סלובקי': 'Land Rover Slovakia',\n",
    "    'לקסוס קנדה': 'Lexus Canada',\n",
    "    'סקודה סלובקיה': 'Skoda Slovakia',\n",
    "    'לנדרובר אנגליה': 'Land Rover UK',\n",
    "    'פיאט קרייזלר': 'Fiat Chrysler',\n",
    "    'אף אי דאבל יו': 'FEV (Fahrzeug-Entwicklung)',\n",
    "    \"טסלה ארה''ב\": 'Tesla USA',\n",
    "    'פולקסווגן סין': 'Volkswagen China',\n",
    "    'מקסוס סין': 'Maxus China',\n",
    "    'ניסאן צרפת': 'Nissan France',\n",
    "    'האמר ג.מ. דרום': 'Hummer GM South',\n",
    "    'פיאט צרפת': 'Fiat France',\n",
    "    'פורד תאילנד': 'Ford Thailand',\n",
    "    'די.אף.אס.קיי': 'DFS Korea',\n",
    "    'סיאט גרמניה': 'SEAT Germany',\n",
    "    'די.אס צרפת': 'DS France',\n",
    "    'רנו סלובניה': 'Renault Slovenia',\n",
    "    'פולקסווגן ארהב': 'Volkswagen USA',\n",
    "    'ניאו רכב סין': 'NIO China',\n",
    "    'פרארי': 'Ferrari',\n",
    "    'טויוטה בלגיה': 'Toyota Belgium',\n",
    "    'די אס גרמניה': 'DS Germany',\n",
    "    'וולבו סין': 'Volvo China',\n",
    "    'אמ.סי.סי.': 'MCC (Micro Compact Car)',\n",
    "    \"לנצ'יה\": 'Lancia'\n",
    "}\n"
   ]
  },
  {
   "cell_type": "code",
   "execution_count": null,
   "id": "a481783d",
   "metadata": {
    "id": "a481783d"
   },
   "outputs": [],
   "source": [
    "sixth_chunk_mapped = {\n",
    "    'פורתינג סין': 'Forthing China',\n",
    "    \"סמארט ג'.מ.ב.ה\": 'Smart GmbH',\n",
    "    'הונדה תאילנד': 'Honda Thailand',\n",
    "    'מרצדס בנץ מקסי': 'Mercedes-Benz Mexico',\n",
    "    'ניאו סין': 'NIO China',\n",
    "    'דייהו קוריאה ד': 'Daewoo South Korea',\n",
    "    'אסטון מרטין': 'Aston Martin',\n",
    "    'וויה סין': 'Weiy China',\n",
    "    'פיגו איטליה': 'Piaggio Italy',\n",
    "    \"אונג'ר פולין\": 'Hunger Poland',\n",
    "    'סמארט סין': 'Smart China',\n",
    "    'פיאט ספרד': 'Fiat Spain',\n",
    "    'מזדה צרפת': 'Mazda France',\n",
    "    'מזדה ארהב\"': 'Mazda USA',\n",
    "    'מזדה מקסיקו': 'Mazda Mexico',\n",
    "    'ב מ וו מקסיקו': 'BMW Mexico',\n",
    "    'מרצדס-בנץ צרפת': 'Mercedes-Benz France',\n",
    "    'טויוטה אוסטריה': 'Toyota Austria',\n",
    "    'מרצדס פינלנד': 'Mercedes-Benz Finland',\n",
    "    'פולקסווגן ארגנ': 'Volkswagen Argentina',\n",
    "    'פורד בריטניה': 'Ford UK',\n",
    "    'גרייט וול סין': 'Great Wall China',\n",
    "    'סיטרואן יפן': 'Citroën Japan',\n",
    "    'האמר-ארהב\"': 'Hummer USA',\n",
    "    'יגואר אוסטריה': 'Jaguar Austria',\n",
    "    'סמארט סלובניה': 'Smart Slovenia',\n",
    "    'בנטלי בריטניה': 'Bentley UK',\n",
    "    'הונדה-קנדה': 'Honda Canada',\n",
    "    'יונדאי ארהב\"': 'Hyundai USA',\n",
    "    'פיאט סרביה': 'Fiat Serbia',\n",
    "    'פורד ד אפריקה': 'Ford South Africa',\n",
    "    'פיאגיו': 'Piaggio',\n",
    "    'איווקו איטליה': 'Iveco Italy',\n",
    "    'פיאט יפן': 'Fiat Japan',\n",
    "    'פיאט תאילנד': 'Fiat Thailand',\n",
    "    'טויוטה ב מ וו': 'Toyota BMW (cooperation)',\n",
    "    'פיאט/מדייר סוז': 'Fiat/Media Suzuki (likely a joint venture)',\n",
    "    'פיאט אנגליה': 'Fiat UK',\n",
    "    'רנו מרוקו': 'Renault Morocco',\n",
    "    'גמס': 'GMS'\n",
    "}\n"
   ]
  },
  {
   "cell_type": "code",
   "execution_count": null,
   "id": "e1a1a7b6",
   "metadata": {
    "id": "e1a1a7b6"
   },
   "outputs": [],
   "source": [
    "seventh_chunk_mapped = {\n",
    "    \"פיג'ו אנגליה\": 'Peugeot UK',\n",
    "    'סאאב אוסטריה': 'Saab Austria',\n",
    "    'סוזוקי-מרוטי': 'Suzuki Maruti (India)',\n",
    "    'סוזוקי אנגליה': 'Suzuki UK',\n",
    "    'אלפין צרפת': 'Alpine France',\n",
    "    'מאן פולין': 'MAN Poland',\n",
    "    'טויוטה מקסיקו': 'Toyota Mexico',\n",
    "    'למבורגיני': 'Lamborghini',\n",
    "    'גיאיוואן סין': 'Giovan China',  # Possibly a transliteration error if brand not recognized\n",
    "    'סנטרו סין': 'Centro China',  # If not recognized, check for correct brand name\n",
    "    \"פיג'ו פולין\": 'Peugeot Poland',\n",
    "    'רנו אנגליה': 'Renault UK',\n",
    "    'גיפ-ישראל': 'Jeep Israel',\n",
    "    'סאאב פינלנד': 'Saab Finland',\n",
    "    'רנו-בלגיה': 'Renault Belgium',\n",
    "    'לינקולן': 'Lincoln',\n",
    "    'אס דאבל יו אמ': 'ASWUM',  # Possibly a transliteration or acronym error\n",
    "    'יונדאי סלובקיה': 'Hyundai Slovakia',\n",
    "    'דודג\\' ארהב\"': 'Dodge USA',\n",
    "    'אל.טי.איי.': 'LTA',  # Needs clarification, possible local company or abbreviation\n",
    "    'טלקו הודו': 'Telco India',\n",
    "    'ג\\'.מ ארהב\"': 'GM USA',\n",
    "    'רולס-רויס': 'Rolls-Royce',\n",
    "    \"פיג'ו יפן\": 'Peugeot Japan',\n",
    "    'מורגן': 'Morgan',\n",
    "    'דאבל יו אם איי': 'Double U M A',  # Check for correct interpretation or company name\n",
    "    'פונטיאק': 'Pontiac',\n",
    "    'קיה ארהב\"': 'Kia USA',\n",
    "    \"קארמה ארה''ב\": 'Karma USA',\n",
    "    'דימלרקריזלר-אס': 'DaimlerChrysler USA',\n",
    "    'ואז': 'VAZ'  # Commonly known as Lada\n",
    "}\n",
    "\n"
   ]
  },
  {
   "cell_type": "code",
   "execution_count": null,
   "id": "3d29794a",
   "metadata": {
    "id": "3d29794a",
    "outputId": "3d74c56e-78e7-4363-970e-83e4061a268c"
   },
   "outputs": [
    {
     "data": {
      "text/plain": [
       "271"
      ]
     },
     "execution_count": 52,
     "metadata": {},
     "output_type": "execute_result"
    }
   ],
   "source": [
    "#merging all the dictionaries\n",
    "merged_dict = {}\n",
    "for d in [first_chunk_mapped, second_chunk_mapped, third_chunk_mapped, forth_chunk_mapped,\n",
    "                fifth_chunk_mapped, sixth_chunk_mapped, seventh_chunk_mapped]:\n",
    "    merged_dict.update(d)\n",
    "\n",
    "#the length is correct\n",
    "len(merged_dict)"
   ]
  },
  {
   "cell_type": "code",
   "execution_count": null,
   "id": "7de1c3eb",
   "metadata": {
    "id": "7de1c3eb",
    "outputId": "185c342b-e6af-484c-c117-631b2df1d587"
   },
   "outputs": [
    {
     "name": "stdout",
     "output_type": "stream",
     "text": [
      "CPU times: total: 7.77 s\n",
      "Wall time: 1min\n"
     ]
    }
   ],
   "source": [
    "%%time\n",
    "#Let's finally replace the values\n",
    "data_merged_raw['manufacturer_name'] = data_merged_raw['manufacturer_name'].replace(merged_dict)"
   ]
  },
  {
   "cell_type": "code",
   "execution_count": null,
   "id": "0fa620ab",
   "metadata": {
    "id": "0fa620ab",
    "outputId": "e16f610f-6007-447a-ed5d-49eaf804fee9",
    "scrolled": true
   },
   "outputs": [
    {
     "data": {
      "text/plain": [
       "array(['Hyundai Korea', 'Hyundai Turkey', 'Hyundai Czech Republic',\n",
       "       'Kia Korea', 'Suzuki Hungary', 'Chevrolet South Korea',\n",
       "       'SEAT Spain', 'Toyota Japan', 'Mazda Japan', 'Volvo Belgium',\n",
       "       'Suzuki Japan', 'Honda Japan', 'Daihatsu Japan', 'Toyota Turkey',\n",
       "       'Volkswagen Germany'], dtype=object)"
      ]
     },
     "execution_count": 54,
     "metadata": {},
     "output_type": "execute_result"
    }
   ],
   "source": [
    "#Let's see what we got\n",
    "data_merged_raw['manufacturer_name'].unique()[0:15]"
   ]
  },
  {
   "cell_type": "markdown",
   "id": "17f3c7f7",
   "metadata": {
    "id": "17f3c7f7"
   },
   "source": [
    "### Creating 2 new columns: ['brand'] and ['country']. It will be interesting to see how data is distributed"
   ]
  },
  {
   "cell_type": "markdown",
   "id": "87483632",
   "metadata": {
    "id": "87483632"
   },
   "source": [
    "##### 'brand"
   ]
  },
  {
   "cell_type": "code",
   "execution_count": null,
   "id": "8e320e92",
   "metadata": {
    "id": "8e320e92",
    "outputId": "7c11802a-487d-4ea0-dcf2-e3111693bdd0",
    "scrolled": true
   },
   "outputs": [
    {
     "data": {
      "text/plain": [
       "array(['Hyundai Czech Republic', 'Chevrolet South Korea',\n",
       "       'Skoda Czech Republic', 'Peugeot Czech Republic',\n",
       "       'Citroën Czech Republic', 'SEAT Czech Republic',\n",
       "       'Volkswagen South Africa', 'SsangYong South Korea',\n",
       "       'Toyota Czech Republic', 'Link & Co', 'Mercedes-Benz South Africa',\n",
       "       'Renault South Korea', 'Toyota South Africa', 'Opel South Korea',\n",
       "       'Land Rover Slovakia', 'Land Rover UK', 'Hummer GM South',\n",
       "       'Daewoo South Korea', 'Great Wall China', 'Ford South Africa',\n",
       "       'Toyota BMW (cooperation)', 'Suzuki Maruti (India)'], dtype=object)"
      ]
     },
     "execution_count": 55,
     "metadata": {},
     "output_type": "execute_result"
    }
   ],
   "source": [
    "#creating a new column ['brand']. It's alwasy either one value - brand or it's the first value after splitting.\n",
    "#Some other cases were found. If after splitting the length is greater than 4 it is mostlikely one long brand.\n",
    "#Let's take a look\n",
    "\n",
    "data_merged_raw[data_merged_raw['manufacturer_name'].apply(lambda x: len(x.split(' ')) ==3)]['manufacturer_name'].unique()"
   ]
  },
  {
   "cell_type": "code",
   "execution_count": null,
   "id": "6de14d0a",
   "metadata": {
    "id": "6de14d0a"
   },
   "outputs": [],
   "source": [
    "#Therefore we take all brands which length equals to 1,4,5,6\n",
    "list_of_brands = ['Link & Co', 'ELIVC (brand might be incorrect)', 'MCC (Micro Compact Car)',\n",
    "                  'Toyota BMW (cooperation)']\n",
    "\n",
    "def return_value(value):\n",
    "    if len(value.split(' ')) in ([1,4,5,6]) or value in list_of_brands:\n",
    "        return value\n",
    "    elif 'Land Rover' in value:\n",
    "        return 'Land Rover'\n",
    "    elif 'Hummer GM' in value:\n",
    "        return 'Hummer GM'\n",
    "    elif 'Great Wall' in value:\n",
    "        return 'Great Wall'\n",
    "    elif 'Alfa Romeo' in value:\n",
    "        return 'Alfa Romeo'\n",
    "    elif 'Aston Martin' in value:\n",
    "        return 'Aston Martin'\n",
    "    elif 'Maruti Suzuki' in value:\n",
    "        return 'Maruti Suzuki'\n",
    "    else:\n",
    "        return value.split(' ')[0]"
   ]
  },
  {
   "cell_type": "code",
   "execution_count": null,
   "id": "d05d4a09",
   "metadata": {
    "id": "d05d4a09"
   },
   "outputs": [],
   "source": [
    "data_merged_raw['brand'] = data_merged_raw['manufacturer_name'].apply(lambda x: return_value(x))"
   ]
  },
  {
   "cell_type": "code",
   "execution_count": null,
   "id": "68d7a9ad",
   "metadata": {
    "id": "68d7a9ad",
    "outputId": "69ca6e6e-79a2-42ae-955b-3451fbc6b5dd"
   },
   "outputs": [
    {
     "data": {
      "text/plain": [
       "array(['Hyundai', 'Kia', 'Suzuki', 'Chevrolet', 'SEAT', 'Toyota', 'Mazda',\n",
       "       'Volvo', 'Honda', 'Daihatsu', 'Volkswagen', 'Mitsubishi', 'Ford',\n",
       "       'Subaru', 'BMW', 'Alfa Romeo', 'Opel', 'Chrysler', 'Maruti Suzuki',\n",
       "       'Fiat', 'DaimlerChrysler', 'Skoda', 'Lexus', 'Mercedes-Benz',\n",
       "       'Rover', 'Cadillac', 'Peugeot', 'Buick', 'Lancia', 'Jaguar',\n",
       "       'Audi', 'Saab', 'Nissan', 'Maserati', 'Citroën', 'Jeep', 'Renault',\n",
       "       'Leapmotor', 'Aiways', 'Wey', 'Isuzu', 'Geely', 'Skywell', 'Tesla',\n",
       "       'BYD', 'Seres', 'Polestar', 'GAC', 'SsangYong', 'Dacia', 'ORA',\n",
       "       'Link & Co', 'Porsche', 'Smart', 'MG', 'Dodge', 'Chery',\n",
       "       'ELIVC (brand might be incorrect)', 'AIWAYS', 'GMC', 'Xpeng',\n",
       "       'Land Rover', 'FEV', 'Maxus', 'Hummer GM', 'DFS', 'DS', 'NIO',\n",
       "       'Ferrari', 'MCC (Micro Compact Car)', 'Forthing', 'Daewoo',\n",
       "       'Aston Martin', 'Weiy', 'Piaggio', 'Hunger', 'Great Wall',\n",
       "       'Hummer', 'Bentley', 'Iveco', 'Toyota BMW (cooperation)',\n",
       "       'Fiat/Media Suzuki (likely a joint venture)', 'GMS', 'Alpine',\n",
       "       'MAN', 'Lamborghini', 'Giovan', 'Centro', 'Lincoln', 'ASWUM',\n",
       "       'LTA', 'Telco', 'GM', 'Rolls-Royce', 'Morgan', 'Double U M A',\n",
       "       'Pontiac', 'Karma', 'VAZ'], dtype=object)"
      ]
     },
     "execution_count": 58,
     "metadata": {},
     "output_type": "execute_result"
    }
   ],
   "source": [
    "data_merged_raw['brand'].unique()"
   ]
  },
  {
   "cell_type": "code",
   "execution_count": null,
   "id": "0326b9ae",
   "metadata": {
    "id": "0326b9ae",
    "outputId": "6aa8c493-a13b-4610-d034-2ef6af721980"
   },
   "outputs": [
    {
     "data": {
      "text/html": [
       "<div>\n",
       "<style scoped>\n",
       "    .dataframe tbody tr th:only-of-type {\n",
       "        vertical-align: middle;\n",
       "    }\n",
       "\n",
       "    .dataframe tbody tr th {\n",
       "        vertical-align: top;\n",
       "    }\n",
       "\n",
       "    .dataframe thead th {\n",
       "        text-align: right;\n",
       "    }\n",
       "</style>\n",
       "<table border=\"1\" class=\"dataframe\">\n",
       "  <thead>\n",
       "    <tr style=\"text-align: right;\">\n",
       "      <th></th>\n",
       "      <th>vehicle_number</th>\n",
       "      <th>manufacturer_code</th>\n",
       "      <th>model_type</th>\n",
       "      <th>manufacturer_name</th>\n",
       "      <th>model_code</th>\n",
       "      <th>model_name</th>\n",
       "      <th>maturity_level</th>\n",
       "      <th>safety_upgrade_status</th>\n",
       "      <th>emission_group</th>\n",
       "      <th>manufacture_year</th>\n",
       "      <th>chassis_model</th>\n",
       "      <th>last_test_date</th>\n",
       "      <th>validity_date</th>\n",
       "      <th>ownership</th>\n",
       "      <th>frame</th>\n",
       "      <th>color_code</th>\n",
       "      <th>vehicle_color</th>\n",
       "      <th>front_axle</th>\n",
       "      <th>rear_axle</th>\n",
       "      <th>fuel_type</th>\n",
       "      <th>registration_instruction</th>\n",
       "      <th>road_entry_date</th>\n",
       "      <th>commercial_name</th>\n",
       "      <th>front_axle_load_code</th>\n",
       "      <th>rear_axle_load_code</th>\n",
       "      <th>front_axle_speed_code</th>\n",
       "      <th>rear_axle_speed_code</th>\n",
       "      <th>towing_capability</th>\n",
       "      <th>brand</th>\n",
       "    </tr>\n",
       "  </thead>\n",
       "  <tbody>\n",
       "  </tbody>\n",
       "</table>\n",
       "</div>"
      ],
      "text/plain": [
       "Empty DataFrame\n",
       "Columns: [vehicle_number, manufacturer_code, model_type, manufacturer_name, model_code, model_name, maturity_level, safety_upgrade_status, emission_group, manufacture_year, chassis_model, last_test_date, validity_date, ownership, frame, color_code, vehicle_color, front_axle, rear_axle, fuel_type, registration_instruction, road_entry_date, commercial_name, front_axle_load_code, rear_axle_load_code, front_axle_speed_code, rear_axle_speed_code, towing_capability, brand]\n",
       "Index: []"
      ]
     },
     "execution_count": 59,
     "metadata": {},
     "output_type": "execute_result"
    }
   ],
   "source": [
    "data_merged_raw[data_merged_raw['brand']=='Maruti']"
   ]
  },
  {
   "cell_type": "code",
   "execution_count": null,
   "id": "a1fc7d7f",
   "metadata": {
    "id": "a1fc7d7f",
    "outputId": "967f89a5-f5ed-4763-fbb8-109de1efc152"
   },
   "outputs": [
    {
     "data": {
      "text/plain": [
       "99"
      ]
     },
     "execution_count": 60,
     "metadata": {},
     "output_type": "execute_result"
    }
   ],
   "source": [
    "len(data_merged_raw['brand'].unique())"
   ]
  },
  {
   "cell_type": "markdown",
   "id": "83593f7d",
   "metadata": {
    "id": "83593f7d"
   },
   "source": [
    "##### 'country'"
   ]
  },
  {
   "cell_type": "code",
   "execution_count": null,
   "id": "e2af9620",
   "metadata": {
    "id": "e2af9620",
    "outputId": "11a63709-d9c7-4d93-bef5-5b4f08edb456"
   },
   "outputs": [
    {
     "data": {
      "text/plain": [
       "array(['Jaguar', 'Audi', 'GMC', 'Ferrari', 'Lancia', 'Piaggio', 'GMS',\n",
       "       'Lamborghini', 'Lincoln', 'ASWUM', 'LTA', 'Rolls-Royce', 'Morgan',\n",
       "       'Pontiac', 'VAZ'], dtype=object)"
      ]
     },
     "execution_count": 61,
     "metadata": {},
     "output_type": "execute_result"
    }
   ],
   "source": [
    "#It was noticed that there are brands with no countries. Let's take a look at them\n",
    "data_merged_raw[data_merged_raw['manufacturer_name'].apply(lambda x: len(x.split(' ')) == 1)]['manufacturer_name'].unique()\n",
    "\n",
    "#not_many :)"
   ]
  },
  {
   "cell_type": "code",
   "execution_count": null,
   "id": "1f184cc4",
   "metadata": {
    "id": "1f184cc4"
   },
   "outputs": [],
   "source": [
    "# creating a mapping dictionary for rows where manufacturer name is only the name of the brand\n",
    "car_brands_origin = {\n",
    "    \"Jaguar\": \"UK\",\n",
    "    \"Audi\": \"Germany\",\n",
    "    \"GMC\": \"USA\",\n",
    "    \"Ferrari\": \"Italy\",\n",
    "    \"Lancia\": \"Italy\",\n",
    "    \"Piaggio\": \"Italy\",  # Noted for scooters and motorcycles\n",
    "    \"GMS\": \"USA\",  # Assuming GMC, if GMS is different, please clarify\n",
    "    \"Lamborghini\": \"Italy\",\n",
    "    \"Lincoln\": \"USA\",\n",
    "    \"ASWUM\": \"Unknown\",  # Not a widely recognized brand\n",
    "    \"LTA\": \"Unknown\",  # Needs further clarification\n",
    "    \"Rolls-Royce\": \"UK\",\n",
    "    \"Morgan\": \"UK\",\n",
    "    \"Pontiac\": \"USA\",  # Brand was discontinued in 2010\n",
    "    \"VAZ\": \"Russia\",  # Known as AvtoVAZ (Lada)\n",
    "    'MCC (Micro Compact Car)': 'China',\n",
    "    'Fiat/Media Suzuki (likely a joint venture)': 'Other',\n",
    "    'ELIVC (brand might be incorrect)': 'Other',\n",
    "    'Double U M A': 'Other',\n",
    "    'Smart GmbH': 'Germany',\n",
    "    'Aston Martin': 'UK',\n",
    "    'Land Rover UK': 'UK',\n",
    "    'ASWUM': 'Other',\n",
    "    'LTA': 'Other',\n",
    "    'Link & Co': 'Sweden',\n",
    "    'FEV (Fahrzeug-Entwicklung)': 'China',\n",
    "    'Toyota BMW (cooperation)': 'Japan',\n",
    "    'Great Wall China': 'China',\n",
    "    'Hyundai Korea': 'South Korea',\n",
    "    'Kia Korea': 'South Korea',\n",
    "    'DFS Korea': 'South Korea'\n",
    "}"
   ]
  },
  {
   "cell_type": "code",
   "execution_count": null,
   "id": "0d28a98b",
   "metadata": {
    "id": "0d28a98b"
   },
   "outputs": [],
   "source": [
    "#country extraction function\n",
    "def get_country(value):\n",
    "    if value in car_brands_origin or len(value.split(' ')) == 1:\n",
    "        return car_brands_origin[value]\n",
    "    elif len(value.split(' ')) == 2:\n",
    "        return value.split(' ')[1]\n",
    "    elif len(value.split(' ')) == 3:\n",
    "        return value.split(' ')[1] + ' ' + value.split(' ')[2]\n",
    "    else:\n",
    "        return 'BlaBla'"
   ]
  },
  {
   "cell_type": "code",
   "execution_count": null,
   "id": "74be5a50",
   "metadata": {
    "id": "74be5a50"
   },
   "outputs": [],
   "source": [
    "data_merged_raw['country'] =\\\n",
    "        data_merged_raw['manufacturer_name'].apply(lambda x: get_country(x))"
   ]
  },
  {
   "cell_type": "code",
   "execution_count": null,
   "id": "aca92ff2",
   "metadata": {
    "id": "aca92ff2",
    "outputId": "5141e834-85b9-46b7-8233-3907831ec405",
    "scrolled": true
   },
   "outputs": [
    {
     "data": {
      "text/plain": [
       "array(['South Korea', 'Turkey', 'Czech Republic', 'Hungary', 'Spain',\n",
       "       'Japan', 'Belgium', 'Germany', 'UK', 'India', 'Mexico', 'Sweden',\n",
       "       'France', 'Romeo', 'Thailand', 'USA', 'Suzuki', 'Italy',\n",
       "       'Slovakia', 'England', 'Poland', 'Canada', 'Netherlands',\n",
       "       'Austria', 'China', 'South Africa', 'Romania', 'Portugal',\n",
       "       'Morocco', 'Other', 'Rover Slovakia', 'Chrysler', 'GM South',\n",
       "       'Slovenia', 'Finland', 'Argentina', 'Serbia', 'Maruti (India)',\n",
       "       'Israel', 'Russia'], dtype=object)"
      ]
     },
     "execution_count": 65,
     "metadata": {},
     "output_type": "execute_result"
    }
   ],
   "source": [
    "#The countries look good\n",
    "data_merged_raw['country'].unique()"
   ]
  },
  {
   "cell_type": "code",
   "execution_count": null,
   "id": "79b8a266",
   "metadata": {
    "id": "79b8a266"
   },
   "outputs": [],
   "source": [
    "#an example of what car group pullutes the most\n",
    "#more or less safe\n",
    "#safety by private or business vehicles\n",
    "#"
   ]
  },
  {
   "cell_type": "markdown",
   "id": "d9d63078",
   "metadata": {
    "id": "d9d63078"
   },
   "source": [
    "## 5. Data Exploration and Visualization"
   ]
  },
  {
   "cell_type": "markdown",
   "id": "5da7b757",
   "metadata": {
    "id": "5da7b757"
   },
   "source": [
    "The questions that I want to ask\n",
    "\n",
    "1. Distribution ownership DONE\n",
    "2. Distribution per emission group DONE\n",
    "3. barplot on manufacture year (how many cars were made each year) DONE\n",
    "4. Distribution per car age (now - manufacturer year) DONE\n",
    "5. Distribution per data cars went onto road DONE\n",
    "6. Cumulative sum year cars went onto roads not interesting\n",
    "7. Distribution per model type (P/M) DONE\n",
    "8. Disctribution per color DONE\n",
    "10. Distributino per commercial name\n",
    "11. Distribution per fron axle speed code MAYBY\n",
    "12. distribution per towing capability MAYBE\n",
    "13. Distribution per brand\n",
    "14. Distribution per country\n",
    "15. Distribution per country and brand\n",
    "16. line graph brand per years\n",
    "17. line graph countries per years\n",
    "18. Fuel type per years by num DONE\n",
    "19. Safety upgrade status by emission group Done"
   ]
  },
  {
   "cell_type": "markdown",
   "id": "99b9eccd",
   "metadata": {
    "id": "99b9eccd"
   },
   "source": [
    "#### 5.1 Owndership"
   ]
  },
  {
   "cell_type": "code",
   "execution_count": null,
   "id": "43213f38",
   "metadata": {
    "id": "43213f38",
    "outputId": "453dc76e-6a62-4550-e652-d3087c80f811"
   },
   "outputs": [
    {
     "data": {
      "text/html": [
       "<div>\n",
       "<style scoped>\n",
       "    .dataframe tbody tr th:only-of-type {\n",
       "        vertical-align: middle;\n",
       "    }\n",
       "\n",
       "    .dataframe tbody tr th {\n",
       "        vertical-align: top;\n",
       "    }\n",
       "\n",
       "    .dataframe thead th {\n",
       "        text-align: right;\n",
       "    }\n",
       "</style>\n",
       "<table border=\"1\" class=\"dataframe\">\n",
       "  <thead>\n",
       "    <tr style=\"text-align: right;\">\n",
       "      <th></th>\n",
       "      <th>count_cars</th>\n",
       "      <th>share</th>\n",
       "    </tr>\n",
       "    <tr>\n",
       "      <th>ownership</th>\n",
       "      <th></th>\n",
       "      <th></th>\n",
       "    </tr>\n",
       "  </thead>\n",
       "  <tbody>\n",
       "    <tr>\n",
       "      <th>Rental</th>\n",
       "      <td>38016</td>\n",
       "      <td>0.009898</td>\n",
       "    </tr>\n",
       "    <tr>\n",
       "      <th>Dealer</th>\n",
       "      <td>54111</td>\n",
       "      <td>0.014089</td>\n",
       "    </tr>\n",
       "    <tr>\n",
       "      <th>Company</th>\n",
       "      <td>170060</td>\n",
       "      <td>0.044278</td>\n",
       "    </tr>\n",
       "    <tr>\n",
       "      <th>Leasing</th>\n",
       "      <td>254494</td>\n",
       "      <td>0.066261</td>\n",
       "    </tr>\n",
       "    <tr>\n",
       "      <th>Private</th>\n",
       "      <td>3324085</td>\n",
       "      <td>0.865474</td>\n",
       "    </tr>\n",
       "  </tbody>\n",
       "</table>\n",
       "</div>"
      ],
      "text/plain": [
       "           count_cars     share\n",
       "ownership                      \n",
       "Rental          38016  0.009898\n",
       "Dealer          54111  0.014089\n",
       "Company        170060  0.044278\n",
       "Leasing        254494  0.066261\n",
       "Private       3324085  0.865474"
      ]
     },
     "execution_count": 67,
     "metadata": {},
     "output_type": "execute_result"
    }
   ],
   "source": [
    "#le'ts build a pie chart showing the distribution of ownership\n",
    "ownership = data_merged_raw.groupby('ownership')['vehicle_number'].count().to_frame().\\\n",
    "                        rename(columns={'vehicle_number': 'count_cars'})\n",
    "\n",
    "ownership['share'] = ownership['count_cars'].apply(lambda x: x/ownership['count_cars'].sum())\n",
    "ownership.sort_values(by='share', ascending=True, inplace=True)\n",
    "ownership\n"
   ]
  },
  {
   "cell_type": "code",
   "execution_count": null,
   "id": "d7a5637c",
   "metadata": {
    "id": "d7a5637c",
    "outputId": "43f1a43b-2378-45f4-d7be-9efa31456c2f",
    "scrolled": false
   },
   "outputs": [
    {
     "data": {
      "image/png": "[encoded data removed]",
      "text/plain": [
       "<Figure size 640x480 with 1 Axes>"
      ]
     },
     "metadata": {},
     "output_type": "display_data"
    }
   ],
   "source": [
    "#creating a horizontal bar chart\n",
    "ownership['share'].plot.barh()\n",
    "\n",
    "#adding some more information to the plot to make it easy-readable\n",
    "plt.title('% of cars per ownership type in Israel', fontsize=10, fontweight='bold')\n",
    "plt.xlabel('Ownership', fontsize=10, fontweight='bold')\n",
    "plt.ylabel('Share', fontsize=10, fontweight='bold')\n",
    "plt.grid()\n",
    "plt.show()"
   ]
  },
  {
   "cell_type": "markdown",
   "id": "bdda296d",
   "metadata": {
    "id": "bdda296d"
   },
   "source": [
    "#####  Conclusion:\n",
    "    Most of the cars (around 85%) are private ones. 4 other groups take up to 15% all together."
   ]
  },
  {
   "cell_type": "code",
   "execution_count": null,
   "id": "e50abd03",
   "metadata": {
    "id": "e50abd03",
    "outputId": "b4a0d627-c5cf-46c2-8f83-519fd92dcd48"
   },
   "outputs": [
    {
     "data": {
      "text/html": [
       "<div>\n",
       "<style scoped>\n",
       "    .dataframe tbody tr th:only-of-type {\n",
       "        vertical-align: middle;\n",
       "    }\n",
       "\n",
       "    .dataframe tbody tr th {\n",
       "        vertical-align: top;\n",
       "    }\n",
       "\n",
       "    .dataframe thead th {\n",
       "        text-align: right;\n",
       "    }\n",
       "</style>\n",
       "<table border=\"1\" class=\"dataframe\">\n",
       "  <thead>\n",
       "    <tr style=\"text-align: right;\">\n",
       "      <th></th>\n",
       "      <th>vehicle_number</th>\n",
       "      <th>manufacturer_code</th>\n",
       "      <th>model_type</th>\n",
       "      <th>manufacturer_name</th>\n",
       "      <th>model_code</th>\n",
       "      <th>model_name</th>\n",
       "      <th>maturity_level</th>\n",
       "      <th>safety_upgrade_status</th>\n",
       "      <th>emission_group</th>\n",
       "      <th>manufacture_year</th>\n",
       "      <th>chassis_model</th>\n",
       "      <th>last_test_date</th>\n",
       "      <th>validity_date</th>\n",
       "      <th>ownership</th>\n",
       "      <th>frame</th>\n",
       "      <th>color_code</th>\n",
       "      <th>vehicle_color</th>\n",
       "      <th>front_axle</th>\n",
       "      <th>rear_axle</th>\n",
       "      <th>fuel_type</th>\n",
       "      <th>registration_instruction</th>\n",
       "      <th>road_entry_date</th>\n",
       "      <th>commercial_name</th>\n",
       "      <th>front_axle_load_code</th>\n",
       "      <th>rear_axle_load_code</th>\n",
       "      <th>front_axle_speed_code</th>\n",
       "      <th>rear_axle_speed_code</th>\n",
       "      <th>towing_capability</th>\n",
       "      <th>brand</th>\n",
       "      <th>country</th>\n",
       "      <th>car_age</th>\n",
       "    </tr>\n",
       "  </thead>\n",
       "  <tbody>\n",
       "    <tr>\n",
       "      <th>0</th>\n",
       "      <td>7993778</td>\n",
       "      <td>481</td>\n",
       "      <td>P</td>\n",
       "      <td>Hyundai Korea</td>\n",
       "      <td>15</td>\n",
       "      <td>DH41C</td>\n",
       "      <td>INSPIRE</td>\n",
       "      <td>NaN</td>\n",
       "      <td>15.0000</td>\n",
       "      <td>2012</td>\n",
       "      <td>G4FG</td>\n",
       "      <td>2024-03-04</td>\n",
       "      <td>2025-03-28</td>\n",
       "      <td>Private</td>\n",
       "      <td>KMHDH41CBCU464082</td>\n",
       "      <td>93</td>\n",
       "      <td>Dark Silver</td>\n",
       "      <td>195/65R15</td>\n",
       "      <td>195/65R15</td>\n",
       "      <td>Gasoline</td>\n",
       "      <td>NaN</td>\n",
       "      <td>2012-03-01</td>\n",
       "      <td>I35</td>\n",
       "      <td>91</td>\n",
       "      <td>91</td>\n",
       "      <td>H</td>\n",
       "      <td>H</td>\n",
       "      <td>No towing hook</td>\n",
       "      <td>Hyundai</td>\n",
       "      <td>South Korea</td>\n",
       "      <td>12</td>\n",
       "    </tr>\n",
       "    <tr>\n",
       "      <th>1</th>\n",
       "      <td>2481466</td>\n",
       "      <td>845</td>\n",
       "      <td>P</td>\n",
       "      <td>Hyundai Turkey</td>\n",
       "      <td>72</td>\n",
       "      <td>CM41C</td>\n",
       "      <td>GL</td>\n",
       "      <td>NaN</td>\n",
       "      <td>NaN</td>\n",
       "      <td>2008</td>\n",
       "      <td>G4ED</td>\n",
       "      <td>2024-03-04</td>\n",
       "      <td>2025-03-24</td>\n",
       "      <td>Private</td>\n",
       "      <td>NLHCM41CP8Z096516</td>\n",
       "      <td>25</td>\n",
       "      <td>Silver</td>\n",
       "      <td>185/65R14</td>\n",
       "      <td>185/65R14</td>\n",
       "      <td>Gasoline</td>\n",
       "      <td>NaN</td>\n",
       "      <td>NaT</td>\n",
       "      <td>ACCENT</td>\n",
       "      <td>0</td>\n",
       "      <td>0</td>\n",
       "      <td>NaN</td>\n",
       "      <td>NaN</td>\n",
       "      <td>No towing hook</td>\n",
       "      <td>Hyundai</td>\n",
       "      <td>Turkey</td>\n",
       "      <td>16</td>\n",
       "    </tr>\n",
       "    <tr>\n",
       "      <th>2</th>\n",
       "      <td>6120469</td>\n",
       "      <td>253</td>\n",
       "      <td>P</td>\n",
       "      <td>Hyundai Czech Republic</td>\n",
       "      <td>21</td>\n",
       "      <td>DB51D</td>\n",
       "      <td>INSPIRE</td>\n",
       "      <td>NaN</td>\n",
       "      <td>15.0000</td>\n",
       "      <td>2009</td>\n",
       "      <td>G4FC</td>\n",
       "      <td>2024-03-04</td>\n",
       "      <td>2024-09-28</td>\n",
       "      <td>Private</td>\n",
       "      <td>TMADB51DP9J041571</td>\n",
       "      <td>80</td>\n",
       "      <td>White Ivory</td>\n",
       "      <td>185/65R15</td>\n",
       "      <td>NaN</td>\n",
       "      <td>Gasoline</td>\n",
       "      <td>NaN</td>\n",
       "      <td>2009-09-01</td>\n",
       "      <td>I30</td>\n",
       "      <td>88</td>\n",
       "      <td>0</td>\n",
       "      <td>H</td>\n",
       "      <td>H</td>\n",
       "      <td>No towing hook</td>\n",
       "      <td>Hyundai</td>\n",
       "      <td>Czech Republic</td>\n",
       "      <td>15</td>\n",
       "    </tr>\n",
       "    <tr>\n",
       "      <th>3</th>\n",
       "      <td>7151374</td>\n",
       "      <td>885</td>\n",
       "      <td>P</td>\n",
       "      <td>Kia Korea</td>\n",
       "      <td>1011</td>\n",
       "      <td>FH2213</td>\n",
       "      <td>LX</td>\n",
       "      <td>NaN</td>\n",
       "      <td>15.0000</td>\n",
       "      <td>2011</td>\n",
       "      <td>G4FC</td>\n",
       "      <td>2024-03-04</td>\n",
       "      <td>2025-02-02</td>\n",
       "      <td>Private</td>\n",
       "      <td>KNAFU411BB5364267</td>\n",
       "      <td>25</td>\n",
       "      <td>Silver</td>\n",
       "      <td>195/65R15</td>\n",
       "      <td>195/65R15</td>\n",
       "      <td>Gasoline</td>\n",
       "      <td>NaN</td>\n",
       "      <td>2011-02-01</td>\n",
       "      <td>FORTE</td>\n",
       "      <td>91</td>\n",
       "      <td>91</td>\n",
       "      <td>H</td>\n",
       "      <td>H</td>\n",
       "      <td>No towing hook</td>\n",
       "      <td>Kia</td>\n",
       "      <td>South Korea</td>\n",
       "      <td>13</td>\n",
       "    </tr>\n",
       "    <tr>\n",
       "      <th>4</th>\n",
       "      <td>5410413</td>\n",
       "      <td>299</td>\n",
       "      <td>P</td>\n",
       "      <td>Suzuki Hungary</td>\n",
       "      <td>41</td>\n",
       "      <td>EXB32</td>\n",
       "      <td>GLS</td>\n",
       "      <td>NaN</td>\n",
       "      <td>13.0000</td>\n",
       "      <td>2012</td>\n",
       "      <td>K12B</td>\n",
       "      <td>2024-03-04</td>\n",
       "      <td>2025-02-22</td>\n",
       "      <td>Private</td>\n",
       "      <td>TSMEXB32S00564280</td>\n",
       "      <td>50</td>\n",
       "      <td>Red</td>\n",
       "      <td>185/60R15</td>\n",
       "      <td>185/60R15</td>\n",
       "      <td>Gasoline</td>\n",
       "      <td>NaN</td>\n",
       "      <td>2012-02-01</td>\n",
       "      <td>SPLASH</td>\n",
       "      <td>84</td>\n",
       "      <td>84</td>\n",
       "      <td>H</td>\n",
       "      <td>H</td>\n",
       "      <td>No towing hook</td>\n",
       "      <td>Suzuki</td>\n",
       "      <td>Hungary</td>\n",
       "      <td>12</td>\n",
       "    </tr>\n",
       "  </tbody>\n",
       "</table>\n",
       "</div>"
      ],
      "text/plain": [
       "   vehicle_number  manufacturer_code model_type       manufacturer_name  \\\n",
       "0         7993778                481          P           Hyundai Korea   \n",
       "1         2481466                845          P          Hyundai Turkey   \n",
       "2         6120469                253          P  Hyundai Czech Republic   \n",
       "3         7151374                885          P               Kia Korea   \n",
       "4         5410413                299          P          Suzuki Hungary   \n",
       "\n",
       "   model_code model_name maturity_level  safety_upgrade_status  \\\n",
       "0          15      DH41C        INSPIRE                    NaN   \n",
       "1          72      CM41C             GL                    NaN   \n",
       "2          21      DB51D        INSPIRE                    NaN   \n",
       "3        1011     FH2213             LX                    NaN   \n",
       "4          41      EXB32            GLS                    NaN   \n",
       "\n",
       "   emission_group  manufacture_year chassis_model last_test_date  \\\n",
       "0         15.0000              2012          G4FG     2024-03-04   \n",
       "1             NaN              2008          G4ED     2024-03-04   \n",
       "2         15.0000              2009          G4FC     2024-03-04   \n",
       "3         15.0000              2011          G4FC     2024-03-04   \n",
       "4         13.0000              2012          K12B     2024-03-04   \n",
       "\n",
       "  validity_date ownership              frame  color_code vehicle_color  \\\n",
       "0    2025-03-28   Private  KMHDH41CBCU464082          93   Dark Silver   \n",
       "1    2025-03-24   Private  NLHCM41CP8Z096516          25        Silver   \n",
       "2    2024-09-28   Private  TMADB51DP9J041571          80   White Ivory   \n",
       "3    2025-02-02   Private  KNAFU411BB5364267          25        Silver   \n",
       "4    2025-02-22   Private  TSMEXB32S00564280          50           Red   \n",
       "\n",
       "  front_axle  rear_axle fuel_type  registration_instruction road_entry_date  \\\n",
       "0  195/65R15  195/65R15  Gasoline                       NaN      2012-03-01   \n",
       "1  185/65R14  185/65R14  Gasoline                       NaN             NaT   \n",
       "2  185/65R15        NaN  Gasoline                       NaN      2009-09-01   \n",
       "3  195/65R15  195/65R15  Gasoline                       NaN      2011-02-01   \n",
       "4  185/60R15  185/60R15  Gasoline                       NaN      2012-02-01   \n",
       "\n",
       "  commercial_name  front_axle_load_code  rear_axle_load_code  \\\n",
       "0             I35                    91                   91   \n",
       "1          ACCENT                     0                    0   \n",
       "2             I30                    88                    0   \n",
       "3           FORTE                    91                   91   \n",
       "4          SPLASH                    84                   84   \n",
       "\n",
       "  front_axle_speed_code rear_axle_speed_code towing_capability    brand  \\\n",
       "0                     H                    H    No towing hook  Hyundai   \n",
       "1                   NaN                  NaN    No towing hook  Hyundai   \n",
       "2                     H                    H    No towing hook  Hyundai   \n",
       "3                     H                    H    No towing hook      Kia   \n",
       "4                     H                    H    No towing hook   Suzuki   \n",
       "\n",
       "          country  car_age  \n",
       "0     South Korea       12  \n",
       "1          Turkey       16  \n",
       "2  Czech Republic       15  \n",
       "3     South Korea       13  \n",
       "4         Hungary       12  "
      ]
     },
     "execution_count": 113,
     "metadata": {},
     "output_type": "execute_result"
    }
   ],
   "source": [
    "data_merged_raw.head()"
   ]
  },
  {
   "cell_type": "markdown",
   "id": "a5779810",
   "metadata": {
    "id": "a5779810"
   },
   "source": [
    "#### 5.2 Emission group"
   ]
  },
  {
   "cell_type": "code",
   "execution_count": null,
   "id": "aa7a64f9",
   "metadata": {
    "id": "aa7a64f9",
    "outputId": "77548911-8c2c-418d-d15d-28301e5a82e7"
   },
   "outputs": [
    {
     "data": {
      "application/vnd.plotly.v1+json": {
       "config": {
        "plotlyServerURL": "https://plot.ly"
       },
       "data": [
        {
         "hovertemplate": "Emission Group=1.0<br>Manufacture Year=%{x}<br>Count of Cars=%{y}<extra></extra>",
         "legendgroup": "1.0",
         "line": {
          "color": "#636efa",
          "dash": "solid"
         },
         "marker": {
          "symbol": "circle"
         },
         "mode": "lines",
         "name": "1.0",
         "orientation": "v",
         "showlegend": true,
         "type": "scatter",
         "x": [
          2018,
          2019,
          2020,
          2021,
          2022,
          2023
         ],
         "xaxis": "x",
         "y": [
          15,
          168,
          1516,
          6672,
          4966,
          4535
         ],
         "yaxis": "y"
        },
        {
         "hovertemplate": "Emission Group=2.0<br>Manufacture Year=%{x}<br>Count of Cars=%{y}<extra></extra>",
         "legendgroup": "2.0",
         "line": {
          "color": "#EF553B",
          "dash": "solid"
         },
         "marker": {
          "symbol": "circle"
         },
         "mode": "lines",
         "name": "2.0",
         "orientation": "v",
         "showlegend": true,
         "type": "scatter",
         "x": [
          2013,
          2014,
          2015,
          2016,
          2017,
          2018,
          2019,
          2020,
          2021,
          2022,
          2023
         ],
         "xaxis": "x",
         "y": [
          17,
          49,
          65,
          71,
          1433,
          3313,
          4391,
          5378,
          11614,
          12092,
          18782
         ],
         "yaxis": "y"
        },
        {
         "hovertemplate": "Emission Group=3.0<br>Manufacture Year=%{x}<br>Count of Cars=%{y}<extra></extra>",
         "legendgroup": "3.0",
         "line": {
          "color": "#00cc96",
          "dash": "solid"
         },
         "marker": {
          "symbol": "circle"
         },
         "mode": "lines",
         "name": "3.0",
         "orientation": "v",
         "showlegend": true,
         "type": "scatter",
         "x": [
          2009,
          2010,
          2011,
          2012,
          2013,
          2014,
          2015,
          2016,
          2017,
          2018,
          2019,
          2020,
          2021,
          2022,
          2023
         ],
         "xaxis": "x",
         "y": [
          642,
          1164,
          1359,
          1492,
          3060,
          4387,
          4128,
          4536,
          18965,
          27493,
          39966,
          34166,
          42051,
          33409,
          25456
         ],
         "yaxis": "y"
        },
        {
         "hovertemplate": "Emission Group=4.0<br>Manufacture Year=%{x}<br>Count of Cars=%{y}<extra></extra>",
         "legendgroup": "4.0",
         "line": {
          "color": "#ab63fa",
          "dash": "solid"
         },
         "marker": {
          "symbol": "circle"
         },
         "mode": "lines",
         "name": "4.0",
         "orientation": "v",
         "showlegend": true,
         "type": "scatter",
         "x": [
          2009,
          2010,
          2011,
          2012,
          2013,
          2014,
          2015,
          2016,
          2017,
          2018,
          2019,
          2020,
          2021,
          2022,
          2023
         ],
         "xaxis": "x",
         "y": [
          291,
          2624,
          4701,
          3621,
          3763,
          4889,
          5712,
          5687,
          6544,
          7652,
          9104,
          8932,
          13395,
          12996,
          13783
         ],
         "yaxis": "y"
        },
        {
         "hovertemplate": "Emission Group=5.0<br>Manufacture Year=%{x}<br>Count of Cars=%{y}<extra></extra>",
         "legendgroup": "5.0",
         "line": {
          "color": "#FFA15A",
          "dash": "solid"
         },
         "marker": {
          "symbol": "circle"
         },
         "mode": "lines",
         "name": "5.0",
         "orientation": "v",
         "showlegend": true,
         "type": "scatter",
         "x": [
          2007,
          2008,
          2009,
          2010,
          2011,
          2012,
          2013,
          2014,
          2015,
          2016,
          2017,
          2018,
          2019,
          2020,
          2021,
          2022,
          2023
         ],
         "xaxis": "x",
         "y": [
          105,
          2201,
          713,
          71,
          615,
          1594,
          3205,
          3015,
          276,
          3615,
          5860,
          3976,
          3203,
          2141,
          2860,
          3753,
          3418
         ],
         "yaxis": "y"
        },
        {
         "hovertemplate": "Emission Group=6.0<br>Manufacture Year=%{x}<br>Count of Cars=%{y}<extra></extra>",
         "legendgroup": "6.0",
         "line": {
          "color": "#19d3f3",
          "dash": "solid"
         },
         "marker": {
          "symbol": "circle"
         },
         "mode": "lines",
         "name": "6.0",
         "orientation": "v",
         "showlegend": true,
         "type": "scatter",
         "x": [
          2012,
          2013,
          2014,
          2015,
          2016,
          2017,
          2018,
          2019,
          2020,
          2021,
          2022,
          2023
         ],
         "xaxis": "x",
         "y": [
          69,
          805,
          2131,
          2048,
          4347,
          6085,
          5511,
          5082,
          3346,
          5019,
          4891,
          7970
         ],
         "yaxis": "y"
        },
        {
         "hovertemplate": "Emission Group=7.0<br>Manufacture Year=%{x}<br>Count of Cars=%{y}<extra></extra>",
         "legendgroup": "7.0",
         "line": {
          "color": "#FF6692",
          "dash": "solid"
         },
         "marker": {
          "symbol": "circle"
         },
         "mode": "lines",
         "name": "7.0",
         "orientation": "v",
         "showlegend": true,
         "type": "scatter",
         "x": [
          2009,
          2010,
          2011,
          2012,
          2013,
          2014,
          2015,
          2016,
          2017,
          2018,
          2019,
          2020,
          2021,
          2022,
          2023
         ],
         "xaxis": "x",
         "y": [
          46,
          258,
          1,
          32,
          1,
          66,
          438,
          656,
          1494,
          2165,
          6843,
          8563,
          23065,
          20074,
          13294
         ],
         "yaxis": "y"
        },
        {
         "hovertemplate": "Emission Group=8.0<br>Manufacture Year=%{x}<br>Count of Cars=%{y}<extra></extra>",
         "legendgroup": "8.0",
         "line": {
          "color": "#B6E880",
          "dash": "solid"
         },
         "marker": {
          "symbol": "circle"
         },
         "mode": "lines",
         "name": "8.0",
         "orientation": "v",
         "showlegend": true,
         "type": "scatter",
         "x": [
          2006,
          2007,
          2008,
          2009,
          2010,
          2011,
          2012,
          2013,
          2014,
          2015,
          2016,
          2017,
          2018,
          2019,
          2020,
          2021,
          2022,
          2023
         ],
         "xaxis": "x",
         "y": [
          22,
          393,
          481,
          288,
          68,
          41,
          140,
          924,
          1496,
          5131,
          12078,
          8859,
          5988,
          7341,
          5101,
          5892,
          6725,
          5155
         ],
         "yaxis": "y"
        },
        {
         "hovertemplate": "Emission Group=9.0<br>Manufacture Year=%{x}<br>Count of Cars=%{y}<extra></extra>",
         "legendgroup": "9.0",
         "line": {
          "color": "#FF97FF",
          "dash": "solid"
         },
         "marker": {
          "symbol": "circle"
         },
         "mode": "lines",
         "name": "9.0",
         "orientation": "v",
         "showlegend": true,
         "type": "scatter",
         "x": [
          2010,
          2011,
          2012,
          2013,
          2014,
          2015,
          2016,
          2017,
          2018,
          2019,
          2020,
          2021,
          2022,
          2023
         ],
         "xaxis": "x",
         "y": [
          152,
          1031,
          1294,
          1547,
          2010,
          3832,
          8227,
          11046,
          7928,
          9797,
          11133,
          17931,
          19155,
          18431
         ],
         "yaxis": "y"
        },
        {
         "hovertemplate": "Emission Group=10.0<br>Manufacture Year=%{x}<br>Count of Cars=%{y}<extra></extra>",
         "legendgroup": "10.0",
         "line": {
          "color": "#FECB52",
          "dash": "solid"
         },
         "marker": {
          "symbol": "circle"
         },
         "mode": "lines",
         "name": "10.0",
         "orientation": "v",
         "showlegend": true,
         "type": "scatter",
         "x": [
          2009,
          2010,
          2011,
          2012,
          2013,
          2014,
          2015,
          2016,
          2017,
          2018,
          2019,
          2020,
          2021,
          2022,
          2023
         ],
         "xaxis": "x",
         "y": [
          214,
          1093,
          2436,
          2039,
          1551,
          2413,
          7671,
          10831,
          6878,
          6591,
          6214,
          4487,
          8877,
          9530,
          9079
         ],
         "yaxis": "y"
        },
        {
         "hovertemplate": "Emission Group=11.0<br>Manufacture Year=%{x}<br>Count of Cars=%{y}<extra></extra>",
         "legendgroup": "11.0",
         "line": {
          "color": "#636efa",
          "dash": "solid"
         },
         "marker": {
          "symbol": "circle"
         },
         "mode": "lines",
         "name": "11.0",
         "orientation": "v",
         "showlegend": true,
         "type": "scatter",
         "x": [
          2009,
          2010,
          2011,
          2012,
          2013,
          2014,
          2015,
          2016,
          2017,
          2018,
          2019,
          2020,
          2021,
          2022,
          2023
         ],
         "xaxis": "x",
         "y": [
          10,
          160,
          5560,
          7667,
          8925,
          8695,
          11690,
          10490,
          10322,
          13250,
          23118,
          12688,
          9119,
          11696,
          10102
         ],
         "yaxis": "y"
        },
        {
         "hovertemplate": "Emission Group=12.0<br>Manufacture Year=%{x}<br>Count of Cars=%{y}<extra></extra>",
         "legendgroup": "12.0",
         "line": {
          "color": "#EF553B",
          "dash": "solid"
         },
         "marker": {
          "symbol": "circle"
         },
         "mode": "lines",
         "name": "12.0",
         "orientation": "v",
         "showlegend": true,
         "type": "scatter",
         "x": [
          2008,
          2009,
          2010,
          2011,
          2012,
          2013,
          2014,
          2015,
          2016,
          2017,
          2018,
          2019,
          2020,
          2021,
          2022,
          2023
         ],
         "xaxis": "x",
         "y": [
          1,
          122,
          237,
          3270,
          3055,
          4339,
          9362,
          5048,
          7425,
          8404,
          12609,
          16679,
          21104,
          23791,
          9007,
          6331
         ],
         "yaxis": "y"
        },
        {
         "hovertemplate": "Emission Group=13.0<br>Manufacture Year=%{x}<br>Count of Cars=%{y}<extra></extra>",
         "legendgroup": "13.0",
         "line": {
          "color": "#00cc96",
          "dash": "solid"
         },
         "marker": {
          "symbol": "circle"
         },
         "mode": "lines",
         "name": "13.0",
         "orientation": "v",
         "showlegend": true,
         "type": "scatter",
         "x": [
          2009,
          2010,
          2011,
          2012,
          2013,
          2014,
          2015,
          2016,
          2017,
          2018,
          2019,
          2020,
          2021,
          2022,
          2023
         ],
         "xaxis": "x",
         "y": [
          43,
          1139,
          6920,
          9514,
          21362,
          32766,
          35497,
          49008,
          43510,
          27959,
          19861,
          15513,
          19704,
          13651,
          12681
         ],
         "yaxis": "y"
        },
        {
         "hovertemplate": "Emission Group=14.0<br>Manufacture Year=%{x}<br>Count of Cars=%{y}<extra></extra>",
         "legendgroup": "14.0",
         "line": {
          "color": "#ab63fa",
          "dash": "solid"
         },
         "marker": {
          "symbol": "circle"
         },
         "mode": "lines",
         "name": "14.0",
         "orientation": "v",
         "showlegend": true,
         "type": "scatter",
         "x": [
          2007,
          2008,
          2009,
          2010,
          2011,
          2012,
          2013,
          2014,
          2015,
          2016,
          2017,
          2018,
          2019,
          2020,
          2021,
          2022,
          2023
         ],
         "xaxis": "x",
         "y": [
          1906,
          8880,
          6007,
          15575,
          21862,
          28483,
          41025,
          56847,
          59756,
          68495,
          63415,
          61887,
          47608,
          44970,
          52607,
          35157,
          30910
         ],
         "yaxis": "y"
        },
        {
         "hovertemplate": "Emission Group=15.0<br>Manufacture Year=%{x}<br>Count of Cars=%{y}<extra></extra>",
         "legendgroup": "15.0",
         "line": {
          "color": "#FFA15A",
          "dash": "solid"
         },
         "marker": {
          "symbol": "circle"
         },
         "mode": "lines",
         "name": "15.0",
         "orientation": "v",
         "showlegend": true,
         "type": "scatter",
         "x": [
          2006,
          2007,
          2008,
          2009,
          2010,
          2011,
          2012,
          2013,
          2014,
          2015,
          2016,
          2017,
          2018,
          2019,
          2020,
          2021,
          2022,
          2023
         ],
         "xaxis": "x",
         "y": [
          66,
          10285,
          135012,
          106089,
          132860,
          120939,
          103722,
          86502,
          81635,
          88593,
          78914,
          72234,
          68995,
          48430,
          32258,
          37463,
          45808,
          46534
         ],
         "yaxis": "y"
        }
       ],
       "layout": {
        "legend": {
         "title": {
          "text": "Emission Group"
         },
         "tracegroupgap": 0
        },
        "template": {
         "data": {
          "bar": [
           {
            "error_x": {
             "color": "#2a3f5f"
            },
            "error_y": {
             "color": "#2a3f5f"
            },
            "marker": {
             "line": {
              "color": "#E5ECF6",
              "width": 0.5
             },
             "pattern": {
              "fillmode": "overlay",
              "size": 10,
              "solidity": 0.2
             }
            },
            "type": "bar"
           }
          ],
          "barpolar": [
           {
            "marker": {
             "line": {
              "color": "#E5ECF6",
              "width": 0.5
             },
             "pattern": {
              "fillmode": "overlay",
              "size": 10,
              "solidity": 0.2
             }
            },
            "type": "barpolar"
           }
          ],
          "carpet": [
           {
            "aaxis": {
             "endlinecolor": "#2a3f5f",
             "gridcolor": "white",
             "linecolor": "white",
             "minorgridcolor": "white",
             "startlinecolor": "#2a3f5f"
            },
            "baxis": {
             "endlinecolor": "#2a3f5f",
             "gridcolor": "white",
             "linecolor": "white",
             "minorgridcolor": "white",
             "startlinecolor": "#2a3f5f"
            },
            "type": "carpet"
           }
          ],
          "choropleth": [
           {
            "colorbar": {
             "outlinewidth": 0,
             "ticks": ""
            },
            "type": "choropleth"
           }
          ],
          "contour": [
           {
            "colorbar": {
             "outlinewidth": 0,
             "ticks": ""
            },
            "colorscale": [
             [
              0,
              "#0d0887"
             ],
             [
              0.1111111111111111,
              "#46039f"
             ],
             [
              0.2222222222222222,
              "#7201a8"
             ],
             [
              0.3333333333333333,
              "#9c179e"
             ],
             [
              0.4444444444444444,
              "#bd3786"
             ],
             [
              0.5555555555555556,
              "#d8576b"
             ],
             [
              0.6666666666666666,
              "#ed7953"
             ],
             [
              0.7777777777777778,
              "#fb9f3a"
             ],
             [
              0.8888888888888888,
              "#fdca26"
             ],
             [
              1,
              "#f0f921"
             ]
            ],
            "type": "contour"
           }
          ],
          "contourcarpet": [
           {
            "colorbar": {
             "outlinewidth": 0,
             "ticks": ""
            },
            "type": "contourcarpet"
           }
          ],
          "heatmap": [
           {
            "colorbar": {
             "outlinewidth": 0,
             "ticks": ""
            },
            "colorscale": [
             [
              0,
              "#0d0887"
             ],
             [
              0.1111111111111111,
              "#46039f"
             ],
             [
              0.2222222222222222,
              "#7201a8"
             ],
             [
              0.3333333333333333,
              "#9c179e"
             ],
             [
              0.4444444444444444,
              "#bd3786"
             ],
             [
              0.5555555555555556,
              "#d8576b"
             ],
             [
              0.6666666666666666,
              "#ed7953"
             ],
             [
              0.7777777777777778,
              "#fb9f3a"
             ],
             [
              0.8888888888888888,
              "#fdca26"
             ],
             [
              1,
              "#f0f921"
             ]
            ],
            "type": "heatmap"
           }
          ],
          "heatmapgl": [
           {
            "colorbar": {
             "outlinewidth": 0,
             "ticks": ""
            },
            "colorscale": [
             [
              0,
              "#0d0887"
             ],
             [
              0.1111111111111111,
              "#46039f"
             ],
             [
              0.2222222222222222,
              "#7201a8"
             ],
             [
              0.3333333333333333,
              "#9c179e"
             ],
             [
              0.4444444444444444,
              "#bd3786"
             ],
             [
              0.5555555555555556,
              "#d8576b"
             ],
             [
              0.6666666666666666,
              "#ed7953"
             ],
             [
              0.7777777777777778,
              "#fb9f3a"
             ],
             [
              0.8888888888888888,
              "#fdca26"
             ],
             [
              1,
              "#f0f921"
             ]
            ],
            "type": "heatmapgl"
           }
          ],
          "histogram": [
           {
            "marker": {
             "pattern": {
              "fillmode": "overlay",
              "size": 10,
              "solidity": 0.2
             }
            },
            "type": "histogram"
           }
          ],
          "histogram2d": [
           {
            "colorbar": {
             "outlinewidth": 0,
             "ticks": ""
            },
            "colorscale": [
             [
              0,
              "#0d0887"
             ],
             [
              0.1111111111111111,
              "#46039f"
             ],
             [
              0.2222222222222222,
              "#7201a8"
             ],
             [
              0.3333333333333333,
              "#9c179e"
             ],
             [
              0.4444444444444444,
              "#bd3786"
             ],
             [
              0.5555555555555556,
              "#d8576b"
             ],
             [
              0.6666666666666666,
              "#ed7953"
             ],
             [
              0.7777777777777778,
              "#fb9f3a"
             ],
             [
              0.8888888888888888,
              "#fdca26"
             ],
             [
              1,
              "#f0f921"
             ]
            ],
            "type": "histogram2d"
           }
          ],
          "histogram2dcontour": [
           {
            "colorbar": {
             "outlinewidth": 0,
             "ticks": ""
            },
            "colorscale": [
             [
              0,
              "#0d0887"
             ],
             [
              0.1111111111111111,
              "#46039f"
             ],
             [
              0.2222222222222222,
              "#7201a8"
             ],
             [
              0.3333333333333333,
              "#9c179e"
             ],
             [
              0.4444444444444444,
              "#bd3786"
             ],
             [
              0.5555555555555556,
              "#d8576b"
             ],
             [
              0.6666666666666666,
              "#ed7953"
             ],
             [
              0.7777777777777778,
              "#fb9f3a"
             ],
             [
              0.8888888888888888,
              "#fdca26"
             ],
             [
              1,
              "#f0f921"
             ]
            ],
            "type": "histogram2dcontour"
           }
          ],
          "mesh3d": [
           {
            "colorbar": {
             "outlinewidth": 0,
             "ticks": ""
            },
            "type": "mesh3d"
           }
          ],
          "parcoords": [
           {
            "line": {
             "colorbar": {
              "outlinewidth": 0,
              "ticks": ""
             }
            },
            "type": "parcoords"
           }
          ],
          "pie": [
           {
            "automargin": true,
            "type": "pie"
           }
          ],
          "scatter": [
           {
            "fillpattern": {
             "fillmode": "overlay",
             "size": 10,
             "solidity": 0.2
            },
            "type": "scatter"
           }
          ],
          "scatter3d": [
           {
            "line": {
             "colorbar": {
              "outlinewidth": 0,
              "ticks": ""
             }
            },
            "marker": {
             "colorbar": {
              "outlinewidth": 0,
              "ticks": ""
             }
            },
            "type": "scatter3d"
           }
          ],
          "scattercarpet": [
           {
            "marker": {
             "colorbar": {
              "outlinewidth": 0,
              "ticks": ""
             }
            },
            "type": "scattercarpet"
           }
          ],
          "scattergeo": [
           {
            "marker": {
             "colorbar": {
              "outlinewidth": 0,
              "ticks": ""
             }
            },
            "type": "scattergeo"
           }
          ],
          "scattergl": [
           {
            "marker": {
             "colorbar": {
              "outlinewidth": 0,
              "ticks": ""
             }
            },
            "type": "scattergl"
           }
          ],
          "scattermapbox": [
           {
            "marker": {
             "colorbar": {
              "outlinewidth": 0,
              "ticks": ""
             }
            },
            "type": "scattermapbox"
           }
          ],
          "scatterpolar": [
           {
            "marker": {
             "colorbar": {
              "outlinewidth": 0,
              "ticks": ""
             }
            },
            "type": "scatterpolar"
           }
          ],
          "scatterpolargl": [
           {
            "marker": {
             "colorbar": {
              "outlinewidth": 0,
              "ticks": ""
             }
            },
            "type": "scatterpolargl"
           }
          ],
          "scatterternary": [
           {
            "marker": {
             "colorbar": {
              "outlinewidth": 0,
              "ticks": ""
             }
            },
            "type": "scatterternary"
           }
          ],
          "surface": [
           {
            "colorbar": {
             "outlinewidth": 0,
             "ticks": ""
            },
            "colorscale": [
             [
              0,
              "#0d0887"
             ],
             [
              0.1111111111111111,
              "#46039f"
             ],
             [
              0.2222222222222222,
              "#7201a8"
             ],
             [
              0.3333333333333333,
              "#9c179e"
             ],
             [
              0.4444444444444444,
              "#bd3786"
             ],
             [
              0.5555555555555556,
              "#d8576b"
             ],
             [
              0.6666666666666666,
              "#ed7953"
             ],
             [
              0.7777777777777778,
              "#fb9f3a"
             ],
             [
              0.8888888888888888,
              "#fdca26"
             ],
             [
              1,
              "#f0f921"
             ]
            ],
            "type": "surface"
           }
          ],
          "table": [
           {
            "cells": {
             "fill": {
              "color": "#EBF0F8"
             },
             "line": {
              "color": "white"
             }
            },
            "header": {
             "fill": {
              "color": "#C8D4E3"
             },
             "line": {
              "color": "white"
             }
            },
            "type": "table"
           }
          ]
         },
         "layout": {
          "annotationdefaults": {
           "arrowcolor": "#2a3f5f",
           "arrowhead": 0,
           "arrowwidth": 1
          },
          "autotypenumbers": "strict",
          "coloraxis": {
           "colorbar": {
            "outlinewidth": 0,
            "ticks": ""
           }
          },
          "colorscale": {
           "diverging": [
            [
             0,
             "#8e0152"
            ],
            [
             0.1,
             "#c51b7d"
            ],
            [
             0.2,
             "#de77ae"
            ],
            [
             0.3,
             "#f1b6da"
            ],
            [
             0.4,
             "#fde0ef"
            ],
            [
             0.5,
             "#f7f7f7"
            ],
            [
             0.6,
             "#e6f5d0"
            ],
            [
             0.7,
             "#b8e186"
            ],
            [
             0.8,
             "#7fbc41"
            ],
            [
             0.9,
             "#4d9221"
            ],
            [
             1,
             "#276419"
            ]
           ],
           "sequential": [
            [
             0,
             "#0d0887"
            ],
            [
             0.1111111111111111,
             "#46039f"
            ],
            [
             0.2222222222222222,
             "#7201a8"
            ],
            [
             0.3333333333333333,
             "#9c179e"
            ],
            [
             0.4444444444444444,
             "#bd3786"
            ],
            [
             0.5555555555555556,
             "#d8576b"
            ],
            [
             0.6666666666666666,
             "#ed7953"
            ],
            [
             0.7777777777777778,
             "#fb9f3a"
            ],
            [
             0.8888888888888888,
             "#fdca26"
            ],
            [
             1,
             "#f0f921"
            ]
           ],
           "sequentialminus": [
            [
             0,
             "#0d0887"
            ],
            [
             0.1111111111111111,
             "#46039f"
            ],
            [
             0.2222222222222222,
             "#7201a8"
            ],
            [
             0.3333333333333333,
             "#9c179e"
            ],
            [
             0.4444444444444444,
             "#bd3786"
            ],
            [
             0.5555555555555556,
             "#d8576b"
            ],
            [
             0.6666666666666666,
             "#ed7953"
            ],
            [
             0.7777777777777778,
             "#fb9f3a"
            ],
            [
             0.8888888888888888,
             "#fdca26"
            ],
            [
             1,
             "#f0f921"
            ]
           ]
          },
          "colorway": [
           "#636efa",
           "#EF553B",
           "#00cc96",
           "#ab63fa",
           "#FFA15A",
           "#19d3f3",
           "#FF6692",
           "#B6E880",
           "#FF97FF",
           "#FECB52"
          ],
          "font": {
           "color": "#2a3f5f"
          },
          "geo": {
           "bgcolor": "white",
           "lakecolor": "white",
           "landcolor": "#E5ECF6",
           "showlakes": true,
           "showland": true,
           "subunitcolor": "white"
          },
          "hoverlabel": {
           "align": "left"
          },
          "hovermode": "closest",
          "mapbox": {
           "style": "light"
          },
          "paper_bgcolor": "white",
          "plot_bgcolor": "#E5ECF6",
          "polar": {
           "angularaxis": {
            "gridcolor": "white",
            "linecolor": "white",
            "ticks": ""
           },
           "bgcolor": "#E5ECF6",
           "radialaxis": {
            "gridcolor": "white",
            "linecolor": "white",
            "ticks": ""
           }
          },
          "scene": {
           "xaxis": {
            "backgroundcolor": "#E5ECF6",
            "gridcolor": "white",
            "gridwidth": 2,
            "linecolor": "white",
            "showbackground": true,
            "ticks": "",
            "zerolinecolor": "white"
           },
           "yaxis": {
            "backgroundcolor": "#E5ECF6",
            "gridcolor": "white",
            "gridwidth": 2,
            "linecolor": "white",
            "showbackground": true,
            "ticks": "",
            "zerolinecolor": "white"
           },
           "zaxis": {
            "backgroundcolor": "#E5ECF6",
            "gridcolor": "white",
            "gridwidth": 2,
            "linecolor": "white",
            "showbackground": true,
            "ticks": "",
            "zerolinecolor": "white"
           }
          },
          "shapedefaults": {
           "line": {
            "color": "#2a3f5f"
           }
          },
          "ternary": {
           "aaxis": {
            "gridcolor": "white",
            "linecolor": "white",
            "ticks": ""
           },
           "baxis": {
            "gridcolor": "white",
            "linecolor": "white",
            "ticks": ""
           },
           "bgcolor": "#E5ECF6",
           "caxis": {
            "gridcolor": "white",
            "linecolor": "white",
            "ticks": ""
           }
          },
          "title": {
           "x": 0.05
          },
          "xaxis": {
           "automargin": true,
           "gridcolor": "white",
           "linecolor": "white",
           "ticks": "",
           "title": {
            "standoff": 15
           },
           "zerolinecolor": "white",
           "zerolinewidth": 2
          },
          "yaxis": {
           "automargin": true,
           "gridcolor": "white",
           "linecolor": "white",
           "ticks": "",
           "title": {
            "standoff": 15
           },
           "zerolinecolor": "white",
           "zerolinewidth": 2
          }
         }
        },
        "title": {
         "font": {
          "color": "black",
          "family": "Arial",
          "size": 24
         },
         "text": "Count of Cars by Manufacture Year and Emission Group",
         "x": 0.5,
         "xanchor": "center",
         "y": 0.9,
         "yanchor": "top"
        },
        "xaxis": {
         "anchor": "y",
         "domain": [
          0,
          1
         ],
         "title": {
          "font": {
           "color": "blue",
           "family": "Helvetica",
           "size": 18
          },
          "text": "Manufacture Year"
         }
        },
        "yaxis": {
         "anchor": "x",
         "domain": [
          0,
          1
         ],
         "title": {
          "font": {
           "color": "blue",
           "family": "Helvetica",
           "size": 18
          },
          "text": "Count of Cars"
         }
        }
       }
      },
      "text/html": [
       "<div>                            <div id=\"71ea04f3-e0e7-439f-b225-938f890427b0\" class=\"plotly-graph-div\" style=\"height:525px; width:100%;\"></div>            <script type=\"text/javascript\">                require([\"plotly\"], function(Plotly) {                    window.PLOTLYENV=window.PLOTLYENV || {};                                    if (document.getElementById(\"71ea04f3-e0e7-439f-b225-938f890427b0\")) {                    Plotly.newPlot(                        \"71ea04f3-e0e7-439f-b225-938f890427b0\",                        [{\"hovertemplate\":\"Emission Group=1.0\\u003cbr\\u003eManufacture Year=%{x}\\u003cbr\\u003eCount of Cars=%{y}\\u003cextra\\u003e\\u003c\\u002fextra\\u003e\",\"legendgroup\":\"1.0\",\"line\":{\"color\":\"#636efa\",\"dash\":\"solid\"},\"marker\":{\"symbol\":\"circle\"},\"mode\":\"lines\",\"name\":\"1.0\",\"orientation\":\"v\",\"showlegend\":true,\"x\":[2018,2019,2020,2021,2022,2023],\"xaxis\":\"x\",\"y\":[15,168,1516,6672,4966,4535],\"yaxis\":\"y\",\"type\":\"scatter\"},{\"hovertemplate\":\"Emission Group=2.0\\u003cbr\\u003eManufacture Year=%{x}\\u003cbr\\u003eCount of Cars=%{y}\\u003cextra\\u003e\\u003c\\u002fextra\\u003e\",\"legendgroup\":\"2.0\",\"line\":{\"color\":\"#EF553B\",\"dash\":\"solid\"},\"marker\":{\"symbol\":\"circle\"},\"mode\":\"lines\",\"name\":\"2.0\",\"orientation\":\"v\",\"showlegend\":true,\"x\":[2013,2014,2015,2016,2017,2018,2019,2020,2021,2022,2023],\"xaxis\":\"x\",\"y\":[17,49,65,71,1433,3313,4391,5378,11614,12092,18782],\"yaxis\":\"y\",\"type\":\"scatter\"},{\"hovertemplate\":\"Emission Group=3.0\\u003cbr\\u003eManufacture Year=%{x}\\u003cbr\\u003eCount of Cars=%{y}\\u003cextra\\u003e\\u003c\\u002fextra\\u003e\",\"legendgroup\":\"3.0\",\"line\":{\"color\":\"#00cc96\",\"dash\":\"solid\"},\"marker\":{\"symbol\":\"circle\"},\"mode\":\"lines\",\"name\":\"3.0\",\"orientation\":\"v\",\"showlegend\":true,\"x\":[2009,2010,2011,2012,2013,2014,2015,2016,2017,2018,2019,2020,2021,2022,2023],\"xaxis\":\"x\",\"y\":[642,1164,1359,1492,3060,4387,4128,4536,18965,27493,39966,34166,42051,33409,25456],\"yaxis\":\"y\",\"type\":\"scatter\"},{\"hovertemplate\":\"Emission Group=4.0\\u003cbr\\u003eManufacture Year=%{x}\\u003cbr\\u003eCount of Cars=%{y}\\u003cextra\\u003e\\u003c\\u002fextra\\u003e\",\"legendgroup\":\"4.0\",\"line\":{\"color\":\"#ab63fa\",\"dash\":\"solid\"},\"marker\":{\"symbol\":\"circle\"},\"mode\":\"lines\",\"name\":\"4.0\",\"orientation\":\"v\",\"showlegend\":true,\"x\":[2009,2010,2011,2012,2013,2014,2015,2016,2017,2018,2019,2020,2021,2022,2023],\"xaxis\":\"x\",\"y\":[291,2624,4701,3621,3763,4889,5712,5687,6544,7652,9104,8932,13395,12996,13783],\"yaxis\":\"y\",\"type\":\"scatter\"},{\"hovertemplate\":\"Emission Group=5.0\\u003cbr\\u003eManufacture Year=%{x}\\u003cbr\\u003eCount of Cars=%{y}\\u003cextra\\u003e\\u003c\\u002fextra\\u003e\",\"legendgroup\":\"5.0\",\"line\":{\"color\":\"#FFA15A\",\"dash\":\"solid\"},\"marker\":{\"symbol\":\"circle\"},\"mode\":\"lines\",\"name\":\"5.0\",\"orientation\":\"v\",\"showlegend\":true,\"x\":[2007,2008,2009,2010,2011,2012,2013,2014,2015,2016,2017,2018,2019,2020,2021,2022,2023],\"xaxis\":\"x\",\"y\":[105,2201,713,71,615,1594,3205,3015,276,3615,5860,3976,3203,2141,2860,3753,3418],\"yaxis\":\"y\",\"type\":\"scatter\"},{\"hovertemplate\":\"Emission Group=6.0\\u003cbr\\u003eManufacture Year=%{x}\\u003cbr\\u003eCount of Cars=%{y}\\u003cextra\\u003e\\u003c\\u002fextra\\u003e\",\"legendgroup\":\"6.0\",\"line\":{\"color\":\"#19d3f3\",\"dash\":\"solid\"},\"marker\":{\"symbol\":\"circle\"},\"mode\":\"lines\",\"name\":\"6.0\",\"orientation\":\"v\",\"showlegend\":true,\"x\":[2012,2013,2014,2015,2016,2017,2018,2019,2020,2021,2022,2023],\"xaxis\":\"x\",\"y\":[69,805,2131,2048,4347,6085,5511,5082,3346,5019,4891,7970],\"yaxis\":\"y\",\"type\":\"scatter\"},{\"hovertemplate\":\"Emission Group=7.0\\u003cbr\\u003eManufacture Year=%{x}\\u003cbr\\u003eCount of Cars=%{y}\\u003cextra\\u003e\\u003c\\u002fextra\\u003e\",\"legendgroup\":\"7.0\",\"line\":{\"color\":\"#FF6692\",\"dash\":\"solid\"},\"marker\":{\"symbol\":\"circle\"},\"mode\":\"lines\",\"name\":\"7.0\",\"orientation\":\"v\",\"showlegend\":true,\"x\":[2009,2010,2011,2012,2013,2014,2015,2016,2017,2018,2019,2020,2021,2022,2023],\"xaxis\":\"x\",\"y\":[46,258,1,32,1,66,438,656,1494,2165,6843,8563,23065,20074,13294],\"yaxis\":\"y\",\"type\":\"scatter\"},{\"hovertemplate\":\"Emission Group=8.0\\u003cbr\\u003eManufacture Year=%{x}\\u003cbr\\u003eCount of Cars=%{y}\\u003cextra\\u003e\\u003c\\u002fextra\\u003e\",\"legendgroup\":\"8.0\",\"line\":{\"color\":\"#B6E880\",\"dash\":\"solid\"},\"marker\":{\"symbol\":\"circle\"},\"mode\":\"lines\",\"name\":\"8.0\",\"orientation\":\"v\",\"showlegend\":true,\"x\":[2006,2007,2008,2009,2010,2011,2012,2013,2014,2015,2016,2017,2018,2019,2020,2021,2022,2023],\"xaxis\":\"x\",\"y\":[22,393,481,288,68,41,140,924,1496,5131,12078,8859,5988,7341,5101,5892,6725,5155],\"yaxis\":\"y\",\"type\":\"scatter\"},{\"hovertemplate\":\"Emission Group=9.0\\u003cbr\\u003eManufacture Year=%{x}\\u003cbr\\u003eCount of Cars=%{y}\\u003cextra\\u003e\\u003c\\u002fextra\\u003e\",\"legendgroup\":\"9.0\",\"line\":{\"color\":\"#FF97FF\",\"dash\":\"solid\"},\"marker\":{\"symbol\":\"circle\"},\"mode\":\"lines\",\"name\":\"9.0\",\"orientation\":\"v\",\"showlegend\":true,\"x\":[2010,2011,2012,2013,2014,2015,2016,2017,2018,2019,2020,2021,2022,2023],\"xaxis\":\"x\",\"y\":[152,1031,1294,1547,2010,3832,8227,11046,7928,9797,11133,17931,19155,18431],\"yaxis\":\"y\",\"type\":\"scatter\"},{\"hovertemplate\":\"Emission Group=10.0\\u003cbr\\u003eManufacture Year=%{x}\\u003cbr\\u003eCount of Cars=%{y}\\u003cextra\\u003e\\u003c\\u002fextra\\u003e\",\"legendgroup\":\"10.0\",\"line\":{\"color\":\"#FECB52\",\"dash\":\"solid\"},\"marker\":{\"symbol\":\"circle\"},\"mode\":\"lines\",\"name\":\"10.0\",\"orientation\":\"v\",\"showlegend\":true,\"x\":[2009,2010,2011,2012,2013,2014,2015,2016,2017,2018,2019,2020,2021,2022,2023],\"xaxis\":\"x\",\"y\":[214,1093,2436,2039,1551,2413,7671,10831,6878,6591,6214,4487,8877,9530,9079],\"yaxis\":\"y\",\"type\":\"scatter\"},{\"hovertemplate\":\"Emission Group=11.0\\u003cbr\\u003eManufacture Year=%{x}\\u003cbr\\u003eCount of Cars=%{y}\\u003cextra\\u003e\\u003c\\u002fextra\\u003e\",\"legendgroup\":\"11.0\",\"line\":{\"color\":\"#636efa\",\"dash\":\"solid\"},\"marker\":{\"symbol\":\"circle\"},\"mode\":\"lines\",\"name\":\"11.0\",\"orientation\":\"v\",\"showlegend\":true,\"x\":[2009,2010,2011,2012,2013,2014,2015,2016,2017,2018,2019,2020,2021,2022,2023],\"xaxis\":\"x\",\"y\":[10,160,5560,7667,8925,8695,11690,10490,10322,13250,23118,12688,9119,11696,10102],\"yaxis\":\"y\",\"type\":\"scatter\"},{\"hovertemplate\":\"Emission Group=12.0\\u003cbr\\u003eManufacture Year=%{x}\\u003cbr\\u003eCount of Cars=%{y}\\u003cextra\\u003e\\u003c\\u002fextra\\u003e\",\"legendgroup\":\"12.0\",\"line\":{\"color\":\"#EF553B\",\"dash\":\"solid\"},\"marker\":{\"symbol\":\"circle\"},\"mode\":\"lines\",\"name\":\"12.0\",\"orientation\":\"v\",\"showlegend\":true,\"x\":[2008,2009,2010,2011,2012,2013,2014,2015,2016,2017,2018,2019,2020,2021,2022,2023],\"xaxis\":\"x\",\"y\":[1,122,237,3270,3055,4339,9362,5048,7425,8404,12609,16679,21104,23791,9007,6331],\"yaxis\":\"y\",\"type\":\"scatter\"},{\"hovertemplate\":\"Emission Group=13.0\\u003cbr\\u003eManufacture Year=%{x}\\u003cbr\\u003eCount of Cars=%{y}\\u003cextra\\u003e\\u003c\\u002fextra\\u003e\",\"legendgroup\":\"13.0\",\"line\":{\"color\":\"#00cc96\",\"dash\":\"solid\"},\"marker\":{\"symbol\":\"circle\"},\"mode\":\"lines\",\"name\":\"13.0\",\"orientation\":\"v\",\"showlegend\":true,\"x\":[2009,2010,2011,2012,2013,2014,2015,2016,2017,2018,2019,2020,2021,2022,2023],\"xaxis\":\"x\",\"y\":[43,1139,6920,9514,21362,32766,35497,49008,43510,27959,19861,15513,19704,13651,12681],\"yaxis\":\"y\",\"type\":\"scatter\"},{\"hovertemplate\":\"Emission Group=14.0\\u003cbr\\u003eManufacture Year=%{x}\\u003cbr\\u003eCount of Cars=%{y}\\u003cextra\\u003e\\u003c\\u002fextra\\u003e\",\"legendgroup\":\"14.0\",\"line\":{\"color\":\"#ab63fa\",\"dash\":\"solid\"},\"marker\":{\"symbol\":\"circle\"},\"mode\":\"lines\",\"name\":\"14.0\",\"orientation\":\"v\",\"showlegend\":true,\"x\":[2007,2008,2009,2010,2011,2012,2013,2014,2015,2016,2017,2018,2019,2020,2021,2022,2023],\"xaxis\":\"x\",\"y\":[1906,8880,6007,15575,21862,28483,41025,56847,59756,68495,63415,61887,47608,44970,52607,35157,30910],\"yaxis\":\"y\",\"type\":\"scatter\"},{\"hovertemplate\":\"Emission Group=15.0\\u003cbr\\u003eManufacture Year=%{x}\\u003cbr\\u003eCount of Cars=%{y}\\u003cextra\\u003e\\u003c\\u002fextra\\u003e\",\"legendgroup\":\"15.0\",\"line\":{\"color\":\"#FFA15A\",\"dash\":\"solid\"},\"marker\":{\"symbol\":\"circle\"},\"mode\":\"lines\",\"name\":\"15.0\",\"orientation\":\"v\",\"showlegend\":true,\"x\":[2006,2007,2008,2009,2010,2011,2012,2013,2014,2015,2016,2017,2018,2019,2020,2021,2022,2023],\"xaxis\":\"x\",\"y\":[66,10285,135012,106089,132860,120939,103722,86502,81635,88593,78914,72234,68995,48430,32258,37463,45808,46534],\"yaxis\":\"y\",\"type\":\"scatter\"}],                        {\"template\":{\"data\":{\"histogram2dcontour\":[{\"type\":\"histogram2dcontour\",\"colorbar\":{\"outlinewidth\":0,\"ticks\":\"\"},\"colorscale\":[[0.0,\"#0d0887\"],[0.1111111111111111,\"#46039f\"],[0.2222222222222222,\"#7201a8\"],[0.3333333333333333,\"#9c179e\"],[0.4444444444444444,\"#bd3786\"],[0.5555555555555556,\"#d8576b\"],[0.6666666666666666,\"#ed7953\"],[0.7777777777777778,\"#fb9f3a\"],[0.8888888888888888,\"#fdca26\"],[1.0,\"#f0f921\"]]}],\"choropleth\":[{\"type\":\"choropleth\",\"colorbar\":{\"outlinewidth\":0,\"ticks\":\"\"}}],\"histogram2d\":[{\"type\":\"histogram2d\",\"colorbar\":{\"outlinewidth\":0,\"ticks\":\"\"},\"colorscale\":[[0.0,\"#0d0887\"],[0.1111111111111111,\"#46039f\"],[0.2222222222222222,\"#7201a8\"],[0.3333333333333333,\"#9c179e\"],[0.4444444444444444,\"#bd3786\"],[0.5555555555555556,\"#d8576b\"],[0.6666666666666666,\"#ed7953\"],[0.7777777777777778,\"#fb9f3a\"],[0.8888888888888888,\"#fdca26\"],[1.0,\"#f0f921\"]]}],\"heatmap\":[{\"type\":\"heatmap\",\"colorbar\":{\"outlinewidth\":0,\"ticks\":\"\"},\"colorscale\":[[0.0,\"#0d0887\"],[0.1111111111111111,\"#46039f\"],[0.2222222222222222,\"#7201a8\"],[0.3333333333333333,\"#9c179e\"],[0.4444444444444444,\"#bd3786\"],[0.5555555555555556,\"#d8576b\"],[0.6666666666666666,\"#ed7953\"],[0.7777777777777778,\"#fb9f3a\"],[0.8888888888888888,\"#fdca26\"],[1.0,\"#f0f921\"]]}],\"heatmapgl\":[{\"type\":\"heatmapgl\",\"colorbar\":{\"outlinewidth\":0,\"ticks\":\"\"},\"colorscale\":[[0.0,\"#0d0887\"],[0.1111111111111111,\"#46039f\"],[0.2222222222222222,\"#7201a8\"],[0.3333333333333333,\"#9c179e\"],[0.4444444444444444,\"#bd3786\"],[0.5555555555555556,\"#d8576b\"],[0.6666666666666666,\"#ed7953\"],[0.7777777777777778,\"#fb9f3a\"],[0.8888888888888888,\"#fdca26\"],[1.0,\"#f0f921\"]]}],\"contourcarpet\":[{\"type\":\"contourcarpet\",\"colorbar\":{\"outlinewidth\":0,\"ticks\":\"\"}}],\"contour\":[{\"type\":\"contour\",\"colorbar\":{\"outlinewidth\":0,\"ticks\":\"\"},\"colorscale\":[[0.0,\"#0d0887\"],[0.1111111111111111,\"#46039f\"],[0.2222222222222222,\"#7201a8\"],[0.3333333333333333,\"#9c179e\"],[0.4444444444444444,\"#bd3786\"],[0.5555555555555556,\"#d8576b\"],[0.6666666666666666,\"#ed7953\"],[0.7777777777777778,\"#fb9f3a\"],[0.8888888888888888,\"#fdca26\"],[1.0,\"#f0f921\"]]}],\"surface\":[{\"type\":\"surface\",\"colorbar\":{\"outlinewidth\":0,\"ticks\":\"\"},\"colorscale\":[[0.0,\"#0d0887\"],[0.1111111111111111,\"#46039f\"],[0.2222222222222222,\"#7201a8\"],[0.3333333333333333,\"#9c179e\"],[0.4444444444444444,\"#bd3786\"],[0.5555555555555556,\"#d8576b\"],[0.6666666666666666,\"#ed7953\"],[0.7777777777777778,\"#fb9f3a\"],[0.8888888888888888,\"#fdca26\"],[1.0,\"#f0f921\"]]}],\"mesh3d\":[{\"type\":\"mesh3d\",\"colorbar\":{\"outlinewidth\":0,\"ticks\":\"\"}}],\"scatter\":[{\"fillpattern\":{\"fillmode\":\"overlay\",\"size\":10,\"solidity\":0.2},\"type\":\"scatter\"}],\"parcoords\":[{\"type\":\"parcoords\",\"line\":{\"colorbar\":{\"outlinewidth\":0,\"ticks\":\"\"}}}],\"scatterpolargl\":[{\"type\":\"scatterpolargl\",\"marker\":{\"colorbar\":{\"outlinewidth\":0,\"ticks\":\"\"}}}],\"bar\":[{\"error_x\":{\"color\":\"#2a3f5f\"},\"error_y\":{\"color\":\"#2a3f5f\"},\"marker\":{\"line\":{\"color\":\"#E5ECF6\",\"width\":0.5},\"pattern\":{\"fillmode\":\"overlay\",\"size\":10,\"solidity\":0.2}},\"type\":\"bar\"}],\"scattergeo\":[{\"type\":\"scattergeo\",\"marker\":{\"colorbar\":{\"outlinewidth\":0,\"ticks\":\"\"}}}],\"scatterpolar\":[{\"type\":\"scatterpolar\",\"marker\":{\"colorbar\":{\"outlinewidth\":0,\"ticks\":\"\"}}}],\"histogram\":[{\"marker\":{\"pattern\":{\"fillmode\":\"overlay\",\"size\":10,\"solidity\":0.2}},\"type\":\"histogram\"}],\"scattergl\":[{\"type\":\"scattergl\",\"marker\":{\"colorbar\":{\"outlinewidth\":0,\"ticks\":\"\"}}}],\"scatter3d\":[{\"type\":\"scatter3d\",\"line\":{\"colorbar\":{\"outlinewidth\":0,\"ticks\":\"\"}},\"marker\":{\"colorbar\":{\"outlinewidth\":0,\"ticks\":\"\"}}}],\"scattermapbox\":[{\"type\":\"scattermapbox\",\"marker\":{\"colorbar\":{\"outlinewidth\":0,\"ticks\":\"\"}}}],\"scatterternary\":[{\"type\":\"scatterternary\",\"marker\":{\"colorbar\":{\"outlinewidth\":0,\"ticks\":\"\"}}}],\"scattercarpet\":[{\"type\":\"scattercarpet\",\"marker\":{\"colorbar\":{\"outlinewidth\":0,\"ticks\":\"\"}}}],\"carpet\":[{\"aaxis\":{\"endlinecolor\":\"#2a3f5f\",\"gridcolor\":\"white\",\"linecolor\":\"white\",\"minorgridcolor\":\"white\",\"startlinecolor\":\"#2a3f5f\"},\"baxis\":{\"endlinecolor\":\"#2a3f5f\",\"gridcolor\":\"white\",\"linecolor\":\"white\",\"minorgridcolor\":\"white\",\"startlinecolor\":\"#2a3f5f\"},\"type\":\"carpet\"}],\"table\":[{\"cells\":{\"fill\":{\"color\":\"#EBF0F8\"},\"line\":{\"color\":\"white\"}},\"header\":{\"fill\":{\"color\":\"#C8D4E3\"},\"line\":{\"color\":\"white\"}},\"type\":\"table\"}],\"barpolar\":[{\"marker\":{\"line\":{\"color\":\"#E5ECF6\",\"width\":0.5},\"pattern\":{\"fillmode\":\"overlay\",\"size\":10,\"solidity\":0.2}},\"type\":\"barpolar\"}],\"pie\":[{\"automargin\":true,\"type\":\"pie\"}]},\"layout\":{\"autotypenumbers\":\"strict\",\"colorway\":[\"#636efa\",\"#EF553B\",\"#00cc96\",\"#ab63fa\",\"#FFA15A\",\"#19d3f3\",\"#FF6692\",\"#B6E880\",\"#FF97FF\",\"#FECB52\"],\"font\":{\"color\":\"#2a3f5f\"},\"hovermode\":\"closest\",\"hoverlabel\":{\"align\":\"left\"},\"paper_bgcolor\":\"white\",\"plot_bgcolor\":\"#E5ECF6\",\"polar\":{\"bgcolor\":\"#E5ECF6\",\"angularaxis\":{\"gridcolor\":\"white\",\"linecolor\":\"white\",\"ticks\":\"\"},\"radialaxis\":{\"gridcolor\":\"white\",\"linecolor\":\"white\",\"ticks\":\"\"}},\"ternary\":{\"bgcolor\":\"#E5ECF6\",\"aaxis\":{\"gridcolor\":\"white\",\"linecolor\":\"white\",\"ticks\":\"\"},\"baxis\":{\"gridcolor\":\"white\",\"linecolor\":\"white\",\"ticks\":\"\"},\"caxis\":{\"gridcolor\":\"white\",\"linecolor\":\"white\",\"ticks\":\"\"}},\"coloraxis\":{\"colorbar\":{\"outlinewidth\":0,\"ticks\":\"\"}},\"colorscale\":{\"sequential\":[[0.0,\"#0d0887\"],[0.1111111111111111,\"#46039f\"],[0.2222222222222222,\"#7201a8\"],[0.3333333333333333,\"#9c179e\"],[0.4444444444444444,\"#bd3786\"],[0.5555555555555556,\"#d8576b\"],[0.6666666666666666,\"#ed7953\"],[0.7777777777777778,\"#fb9f3a\"],[0.8888888888888888,\"#fdca26\"],[1.0,\"#f0f921\"]],\"sequentialminus\":[[0.0,\"#0d0887\"],[0.1111111111111111,\"#46039f\"],[0.2222222222222222,\"#7201a8\"],[0.3333333333333333,\"#9c179e\"],[0.4444444444444444,\"#bd3786\"],[0.5555555555555556,\"#d8576b\"],[0.6666666666666666,\"#ed7953\"],[0.7777777777777778,\"#fb9f3a\"],[0.8888888888888888,\"#fdca26\"],[1.0,\"#f0f921\"]],\"diverging\":[[0,\"#8e0152\"],[0.1,\"#c51b7d\"],[0.2,\"#de77ae\"],[0.3,\"#f1b6da\"],[0.4,\"#fde0ef\"],[0.5,\"#f7f7f7\"],[0.6,\"#e6f5d0\"],[0.7,\"#b8e186\"],[0.8,\"#7fbc41\"],[0.9,\"#4d9221\"],[1,\"#276419\"]]},\"xaxis\":{\"gridcolor\":\"white\",\"linecolor\":\"white\",\"ticks\":\"\",\"title\":{\"standoff\":15},\"zerolinecolor\":\"white\",\"automargin\":true,\"zerolinewidth\":2},\"yaxis\":{\"gridcolor\":\"white\",\"linecolor\":\"white\",\"ticks\":\"\",\"title\":{\"standoff\":15},\"zerolinecolor\":\"white\",\"automargin\":true,\"zerolinewidth\":2},\"scene\":{\"xaxis\":{\"backgroundcolor\":\"#E5ECF6\",\"gridcolor\":\"white\",\"linecolor\":\"white\",\"showbackground\":true,\"ticks\":\"\",\"zerolinecolor\":\"white\",\"gridwidth\":2},\"yaxis\":{\"backgroundcolor\":\"#E5ECF6\",\"gridcolor\":\"white\",\"linecolor\":\"white\",\"showbackground\":true,\"ticks\":\"\",\"zerolinecolor\":\"white\",\"gridwidth\":2},\"zaxis\":{\"backgroundcolor\":\"#E5ECF6\",\"gridcolor\":\"white\",\"linecolor\":\"white\",\"showbackground\":true,\"ticks\":\"\",\"zerolinecolor\":\"white\",\"gridwidth\":2}},\"shapedefaults\":{\"line\":{\"color\":\"#2a3f5f\"}},\"annotationdefaults\":{\"arrowcolor\":\"#2a3f5f\",\"arrowhead\":0,\"arrowwidth\":1},\"geo\":{\"bgcolor\":\"white\",\"landcolor\":\"#E5ECF6\",\"subunitcolor\":\"white\",\"showland\":true,\"showlakes\":true,\"lakecolor\":\"white\"},\"title\":{\"x\":0.05},\"mapbox\":{\"style\":\"light\"}}},\"xaxis\":{\"anchor\":\"y\",\"domain\":[0.0,1.0],\"title\":{\"text\":\"Manufacture Year\",\"font\":{\"family\":\"Helvetica\",\"size\":18,\"color\":\"blue\"}}},\"yaxis\":{\"anchor\":\"x\",\"domain\":[0.0,1.0],\"title\":{\"text\":\"Count of Cars\",\"font\":{\"family\":\"Helvetica\",\"size\":18,\"color\":\"blue\"}}},\"legend\":{\"title\":{\"text\":\"Emission Group\"},\"tracegroupgap\":0},\"title\":{\"text\":\"Count of Cars by Manufacture Year and Emission Group\",\"font\":{\"family\":\"Arial\",\"size\":24,\"color\":\"black\"},\"y\":0.9,\"x\":0.5,\"xanchor\":\"center\",\"yanchor\":\"top\"}},                        {\"responsive\": true}                    ).then(function(){\n",
       "                            \n",
       "var gd = document.getElementById('71ea04f3-e0e7-439f-b225-938f890427b0');\n",
       "var x = new MutationObserver(function (mutations, observer) {{\n",
       "        var display = window.getComputedStyle(gd).display;\n",
       "        if (!display || display === 'none') {{\n",
       "            console.log([gd, 'removed!']);\n",
       "            Plotly.purge(gd);\n",
       "            observer.disconnect();\n",
       "        }}\n",
       "}});\n",
       "\n",
       "// Listen for the removal of the full notebook cells\n",
       "var notebookContainer = gd.closest('#notebook-container');\n",
       "if (notebookContainer) {{\n",
       "    x.observe(notebookContainer, {childList: true});\n",
       "}}\n",
       "\n",
       "// Listen for the clearing of the current output cell\n",
       "var outputEl = gd.closest('.output');\n",
       "if (outputEl) {{\n",
       "    x.observe(outputEl, {childList: true});\n",
       "}}\n",
       "\n",
       "                        })                };                });            </script>        </div>"
      ]
     },
     "metadata": {},
     "output_type": "display_data"
    }
   ],
   "source": [
    "# An interactive line graph with plotly\n",
    "emission_group = data_merged_raw.groupby(['manufacture_year','emission_group'])['vehicle_number'].count().to_frame().\\\n",
    "                        rename(columns={'vehicle_number': 'count_cars'}).reset_index()\n",
    "\n",
    "emission_group = emission_group[emission_group['manufacture_year'] != 2024]\n",
    "\n",
    "#creating a list of unique values for sorting\n",
    "sorted_groups = sorted(emission_group['emission_group'].unique())\n",
    "\n",
    "# Creating an interactive line graph with Plotly Express\n",
    "fig = px.line(emission_group,\n",
    "              x='manufacture_year',  # Year on the X-axis\n",
    "              y='count_cars',        # Count of cars on the Y-axis\n",
    "              color='emission_group',  # Different lines for each emission group\n",
    "              title='Count of Cars by Manufacture Year and Emission Group',\n",
    "              labels={'count_cars': 'Count of Cars', 'manufacture_year': 'Manufacture Year',\n",
    "                      'emission_group': 'Emission Group'},\n",
    "              category_orders={'emission_group': sorted_groups})\n",
    "\n",
    "# Update layout for title and labels\n",
    "fig.update_layout(\n",
    "    title={\n",
    "        'text': 'Count of Cars by Manufacture Year and Emission Group',\n",
    "        'y': 0.9,  # You can adjust the position with y\n",
    "        'x': 0.5,  # Centering the title using x\n",
    "        'xanchor': 'center',\n",
    "        'yanchor': 'top',\n",
    "        'font': {\n",
    "            'family': 'Arial',  # Font family\n",
    "            'size': 24,         # Font size\n",
    "            'color': 'black'    # Font color\n",
    "        }\n",
    "    },\n",
    "    xaxis_title={\n",
    "        'font': {\n",
    "            'family': 'Helvetica',  # Font family\n",
    "            'size': 18,             # Font size\n",
    "            'color': 'blue'         # Font color\n",
    "        }\n",
    "    },\n",
    "    yaxis_title={\n",
    "        'font': {\n",
    "            'family': 'Helvetica',\n",
    "            'size': 18,\n",
    "            'color': 'blue'\n",
    "        }\n",
    "    }\n",
    ")\n",
    "# Show the plot\n",
    "fig.show()"
   ]
  },
  {
   "cell_type": "markdown",
   "id": "f9db20c6",
   "metadata": {
    "id": "f9db20c6"
   },
   "source": [
    "#####  2 conclusions can be made:\n",
    "    1. There is a general trend on improving in terms of pulluting by looking at 10.0-15.0 emission groups\n",
    "    (the number of cars with higher emission group goes down along the years)\n",
    "    2. There is a trend on improving in terms of the polluting situation of new cars (emission groups 1.0-5.0),\n",
    "    although a lot is left to be desired"
   ]
  },
  {
   "cell_type": "markdown",
   "id": "00108c43",
   "metadata": {
    "id": "00108c43"
   },
   "source": [
    "#### 5.3 Model types"
   ]
  },
  {
   "cell_type": "code",
   "execution_count": null,
   "id": "35643caa",
   "metadata": {
    "id": "35643caa",
    "outputId": "6a760fb0-dc0a-421f-c88f-e14b70c46892"
   },
   "outputs": [
    {
     "data": {
      "text/html": [
       "<div>\n",
       "<style scoped>\n",
       "    .dataframe tbody tr th:only-of-type {\n",
       "        vertical-align: middle;\n",
       "    }\n",
       "\n",
       "    .dataframe tbody tr th {\n",
       "        vertical-align: top;\n",
       "    }\n",
       "\n",
       "    .dataframe thead th {\n",
       "        text-align: right;\n",
       "    }\n",
       "</style>\n",
       "<table border=\"1\" class=\"dataframe\">\n",
       "  <thead>\n",
       "    <tr style=\"text-align: right;\">\n",
       "      <th></th>\n",
       "      <th>model_type</th>\n",
       "      <th>vehicle_number</th>\n",
       "    </tr>\n",
       "  </thead>\n",
       "  <tbody>\n",
       "    <tr>\n",
       "      <th>0</th>\n",
       "      <td>M</td>\n",
       "      <td>181961</td>\n",
       "    </tr>\n",
       "    <tr>\n",
       "      <th>1</th>\n",
       "      <td>P</td>\n",
       "      <td>3658805</td>\n",
       "    </tr>\n",
       "  </tbody>\n",
       "</table>\n",
       "</div>"
      ],
      "text/plain": [
       "  model_type  vehicle_number\n",
       "0          M          181961\n",
       "1          P         3658805"
      ]
     },
     "execution_count": 70,
     "metadata": {},
     "output_type": "execute_result"
    }
   ],
   "source": [
    "model_types = data_merged_raw.groupby('model_type')['vehicle_number'].count().to_frame().reset_index()\n",
    "model_types"
   ]
  },
  {
   "cell_type": "code",
   "execution_count": null,
   "id": "95aabe22",
   "metadata": {
    "id": "95aabe22",
    "outputId": "773074f7-ef5d-4f81-8b94-611f423ce00c"
   },
   "outputs": [
    {
     "data": {
      "image/png": "[encoded data removed]",
      "text/plain": [
       "<Figure size 640x480 with 1 Axes>"
      ]
     },
     "metadata": {},
     "output_type": "display_data"
    }
   ],
   "source": [
    "labels = ['M', 'P']\n",
    "\n",
    "explode = (0, 0.3)\n",
    "\n",
    "fig, ax = plt.subplots()\n",
    "ax.pie(model_types['vehicle_number'], labels=labels, explode = explode, autopct='%1.1f%%',\n",
    "       shadow={'ox': -0.04, 'edgecolor': 'none', 'shade': 0.9}, startangle=0)\n",
    "\n",
    "plt.title('% of per model type in Israel', fontsize=10, fontweight='bold')\n",
    "plt.xlabel('model type', fontsize=10, fontweight='bold')\n",
    "plt.ylabel('Share', fontsize=10, fontweight='bold', labelpad=30)\n",
    "\n",
    "plt.show()"
   ]
  },
  {
   "cell_type": "markdown",
   "id": "934f27a1",
   "metadata": {
    "id": "934f27a1"
   },
   "source": [
    "#####  Conclusion:\n",
    "    Most likely M stands for mechanical gear and P for Automotive one. No explanation for those was found"
   ]
  },
  {
   "cell_type": "markdown",
   "id": "9a3a3c5e",
   "metadata": {
    "id": "9a3a3c5e"
   },
   "source": [
    "#### 5.4 Distribution on car manufacturer year"
   ]
  },
  {
   "cell_type": "code",
   "execution_count": null,
   "id": "1ee07a94",
   "metadata": {
    "id": "1ee07a94",
    "outputId": "0d2b97ea-dd15-45ed-aa18-17646d09e75b"
   },
   "outputs": [
    {
     "data": {
      "text/html": [
       "<div>\n",
       "<style scoped>\n",
       "    .dataframe tbody tr th:only-of-type {\n",
       "        vertical-align: middle;\n",
       "    }\n",
       "\n",
       "    .dataframe tbody tr th {\n",
       "        vertical-align: top;\n",
       "    }\n",
       "\n",
       "    .dataframe thead th {\n",
       "        text-align: right;\n",
       "    }\n",
       "</style>\n",
       "<table border=\"1\" class=\"dataframe\">\n",
       "  <thead>\n",
       "    <tr style=\"text-align: right;\">\n",
       "      <th></th>\n",
       "      <th>manufacture_year</th>\n",
       "      <th>count_cars</th>\n",
       "      <th>share</th>\n",
       "    </tr>\n",
       "  </thead>\n",
       "  <tbody>\n",
       "    <tr>\n",
       "      <th>0</th>\n",
       "      <td>1996</td>\n",
       "      <td>725</td>\n",
       "      <td>0.000193</td>\n",
       "    </tr>\n",
       "    <tr>\n",
       "      <th>1</th>\n",
       "      <td>1997</td>\n",
       "      <td>1891</td>\n",
       "      <td>0.000503</td>\n",
       "    </tr>\n",
       "    <tr>\n",
       "      <th>2</th>\n",
       "      <td>1998</td>\n",
       "      <td>3760</td>\n",
       "      <td>0.001001</td>\n",
       "    </tr>\n",
       "    <tr>\n",
       "      <th>3</th>\n",
       "      <td>1999</td>\n",
       "      <td>5871</td>\n",
       "      <td>0.001563</td>\n",
       "    </tr>\n",
       "    <tr>\n",
       "      <th>4</th>\n",
       "      <td>2000</td>\n",
       "      <td>7958</td>\n",
       "      <td>0.002118</td>\n",
       "    </tr>\n",
       "  </tbody>\n",
       "</table>\n",
       "</div>"
      ],
      "text/plain": [
       "   manufacture_year  count_cars     share\n",
       "0              1996         725  0.000193\n",
       "1              1997        1891  0.000503\n",
       "2              1998        3760  0.001001\n",
       "3              1999        5871  0.001563\n",
       "4              2000        7958  0.002118"
      ]
     },
     "execution_count": 72,
     "metadata": {},
     "output_type": "execute_result"
    }
   ],
   "source": [
    "#le'ts build a pie chart showing the distribution of ownership\n",
    "manufacture_year = data_merged_raw[data_merged_raw['manufacture_year']!=2024].\\\n",
    "        groupby('manufacture_year')['vehicle_number'].count().to_frame().rename(columns={'vehicle_number': 'count_cars'})\n",
    "\n",
    "manufacture_year['share'] = manufacture_year['count_cars'].apply(lambda x: x/manufacture_year['count_cars'].sum())\n",
    "manufacture_year.sort_values(by='share', ascending=True, inplace=True)\n",
    "manufacture_year.reset_index(inplace=True)\n",
    "manufacture_year.sort_values(by='manufacture_year', inplace=True)\n",
    "\n",
    "manufacture_year.head()"
   ]
  },
  {
   "cell_type": "code",
   "execution_count": null,
   "id": "c8c895a4",
   "metadata": {
    "id": "c8c895a4",
    "outputId": "8262198d-847d-4e04-832c-8054d7bd9c78"
   },
   "outputs": [
    {
     "data": {
      "image/png": "[encoded data removed]",
      "text/plain": [
       "<Figure size 640x480 with 1 Axes>"
      ]
     },
     "metadata": {},
     "output_type": "display_data"
    }
   ],
   "source": [
    "manufacture_year.plot.line(x='manufacture_year', y='count_cars')\n",
    "\n",
    "plt.title('% Num of cars manufactured per year (imported)', fontsize=10, fontweight='bold')\n",
    "plt.xlabel('Manufacture_year', fontsize=10, fontweight='bold')\n",
    "plt.ylabel('Count_cars', fontsize=10, fontweight='bold', labelpad=30)\n",
    "plt.grid()\n",
    "plt.show()"
   ]
  },
  {
   "cell_type": "markdown",
   "id": "95828a28",
   "metadata": {
    "id": "95828a28"
   },
   "source": [
    "#####  Conclusion: (2024 was removed from the dataset in order to keep it consistant)\n",
    "    1. It can be seen the the number of cars imported grows continually\n",
    "    2. There is a peak in 2008 with some extra import (a little bit weird)\n",
    "    3. There is a drop in 2020, as it seams, due to beginning of the Corona, but then it went up sharply.\n",
    "    "
   ]
  },
  {
   "cell_type": "markdown",
   "id": "d7ec2e9a",
   "metadata": {
    "id": "d7ec2e9a"
   },
   "source": [
    "#### 5.5 Car age distribution in Israel  (now - manufacturer_year (1 for cars of year 2024)"
   ]
  },
  {
   "cell_type": "code",
   "execution_count": null,
   "id": "86537500",
   "metadata": {
    "id": "86537500"
   },
   "outputs": [],
   "source": [
    "# let's add a new column with car age\n",
    "data_merged_raw['car_age'] = data_merged_raw['manufacture_year'].apply(lambda x: 1 if x == 2024 else 2024 - x)"
   ]
  },
  {
   "cell_type": "code",
   "execution_count": null,
   "id": "08bbafef",
   "metadata": {
    "id": "08bbafef",
    "outputId": "50091af8-5ebc-43a3-9ffa-1246cf414e5d"
   },
   "outputs": [
    {
     "data": {
      "image/png": "[encoded data removed]",
      "text/plain": [
       "<Figure size 800x600 with 1 Axes>"
      ]
     },
     "metadata": {},
     "output_type": "display_data"
    }
   ],
   "source": [
    "plt.figure(figsize=(8, 6))\n",
    "plt.boxplot(data_merged_raw['car_age'])\n",
    "plt.title('Car age distribution')\n",
    "plt.ylabel('Car age')\n",
    "plt.grid(True)\n",
    "plt.show()"
   ]
  },
  {
   "cell_type": "markdown",
   "id": "e8dab9c0",
   "metadata": {
    "id": "e8dab9c0"
   },
   "source": [
    "#####  Conclusion: (cars with year of 2024 were assigned with value 1, for the rest it is a difference between year no and manufacture year)\n",
    "    1. 25% of the vehicles are 1-4 years old\n",
    "    2. 50% of the vehicles are between 4 and 12 years old\n",
    "    3. 75% of the vehicles are 12 year old ones or newer"
   ]
  },
  {
   "cell_type": "markdown",
   "id": "1b129320",
   "metadata": {
    "id": "1b129320"
   },
   "source": [
    "#### 5.6 Let's descover how many cars went onto road annually and monthly and find top 10 by years and months it happend"
   ]
  },
  {
   "cell_type": "code",
   "execution_count": null,
   "id": "272c93c9",
   "metadata": {
    "id": "272c93c9"
   },
   "outputs": [],
   "source": [
    "#let's convert the road_entry_date into date object\n",
    "data_merged_raw['road_entry_date'] = pd.to_datetime(data_merged_raw['road_entry_date'], format='%Y-%m')"
   ]
  },
  {
   "cell_type": "code",
   "execution_count": null,
   "id": "76333217",
   "metadata": {
    "id": "76333217",
    "outputId": "ae09b2fb-328f-46b5-a48d-3c65f57beb5e"
   },
   "outputs": [
    {
     "data": {
      "image/png": "[encoded data removed]",
      "text/plain": [
       "<Figure size 640x480 with 1 Axes>"
      ]
     },
     "metadata": {},
     "output_type": "display_data"
    }
   ],
   "source": [
    "#count per years\n",
    "data_merged_raw.groupby(data_merged_raw['road_entry_date'].dt.year)['road_entry_date'].count().plot.bar()\n",
    "\n",
    "plt.title('% Num of cars went onto road per year', fontsize=10, fontweight='bold')\n",
    "plt.xlabel('Year', fontsize=10, fontweight='bold')\n",
    "plt.ylabel('Count_cars', fontsize=10, fontweight='bold', labelpad=30)\n",
    "plt.show()\n"
   ]
  },
  {
   "cell_type": "markdown",
   "id": "25767fe1",
   "metadata": {
    "id": "25767fe1"
   },
   "source": [
    "#####  Conclusion:\n",
    "    1. Year 2024 wasn't removed from the data and isn't representative here\n",
    "    2. A stron trend in growing the number of cars going onto roads from year to year\n",
    "    3. 7The year with most cars that went onto roads is 2021 (probably recovery after the Corona began)"
   ]
  },
  {
   "cell_type": "code",
   "execution_count": null,
   "id": "84e38681",
   "metadata": {
    "id": "84e38681",
    "outputId": "9fa6f3b6-e1da-4af0-c91a-53c6001014b5"
   },
   "outputs": [
    {
     "data": {
      "image/png": "[encoded data removed]",
      "text/plain": [
       "<Figure size 640x480 with 1 Axes>"
      ]
     },
     "metadata": {},
     "output_type": "display_data"
    }
   ],
   "source": [
    "#count per month\n",
    "data_merged_raw.groupby(data_merged_raw['road_entry_date'].dt.month)['road_entry_date'].count().plot.bar()\n",
    "\n",
    "plt.title('% Num of cars went onto road per month', fontsize=10, fontweight='bold')\n",
    "plt.xlabel('Month', fontsize=10, fontweight='bold')\n",
    "plt.ylabel('Count_cars', fontsize=10, fontweight='bold', labelpad=30)\n",
    "plt.show()\n"
   ]
  },
  {
   "cell_type": "markdown",
   "id": "96eadbed",
   "metadata": {
    "id": "96eadbed"
   },
   "source": [
    "#####  Conclusion:\n",
    "    1. Strangely enough, the month overall time perdiond with most cars that went onto road is January, the least - December\n",
    "    2. Some similarity can be see along summer and autumn months"
   ]
  },
  {
   "cell_type": "code",
   "execution_count": null,
   "id": "805b62a3",
   "metadata": {
    "id": "805b62a3",
    "outputId": "d19881a2-e185-4774-f537-b6e9cc97dba8",
    "scrolled": false
   },
   "outputs": [
    {
     "data": {
      "image/png": "[encoded data removed]",
      "text/plain": [
       "<Figure size 800x600 with 1 Axes>"
      ]
     },
     "metadata": {},
     "output_type": "display_data"
    }
   ],
   "source": [
    "#count per year-month, top 10\n",
    "year_months = data_merged_raw.groupby(data_merged_raw['road_entry_date'].dt.strftime('%Y-%m'))['vehicle_number'].\\\n",
    "                    count().to_frame().rename(columns={'vehicle_number':'count_vehicles'}).\\\n",
    "                    sort_values(by='count_vehicles', ascending=False).reset_index().head(10).sort_values(by='count_vehicles',\\\n",
    "                                                                                                            ascending=True)\n",
    "plt.figure(figsize=(8, 6))\n",
    "plt.barh(year_months['road_entry_date'], year_months['count_vehicles'])\n",
    "\n",
    "plt.title('% Top 10 Num of cars went onto road per year/month', fontsize=10, fontweight='bold')\n",
    "plt.xlabel('Count_cars', fontsize=10, fontweight='bold')\n",
    "plt.ylabel('Year/month', fontsize=10, fontweight='bold', labelpad=30)\n",
    "plt.show()"
   ]
  },
  {
   "cell_type": "markdown",
   "id": "86e6c641",
   "metadata": {
    "id": "86e6c641"
   },
   "source": [
    "#####  Conclusion:\n",
    "    1. It can be seen that not only is January the most popular month for getting cars on to road, but it happenes every\n",
    "        year starting from 2016 (for top 10 year-month periods) apart from year 2021"
   ]
  },
  {
   "cell_type": "markdown",
   "id": "a9fe98c5",
   "metadata": {
    "id": "a9fe98c5"
   },
   "source": [
    "#### 5.7 Distribution per color"
   ]
  },
  {
   "cell_type": "code",
   "execution_count": null,
   "id": "ca398298",
   "metadata": {
    "id": "ca398298",
    "outputId": "a1f51e0a-aeb2-4ae2-8643-49d60a6a55b5",
    "scrolled": true
   },
   "outputs": [
    {
     "data": {
      "text/html": [
       "<div>\n",
       "<style scoped>\n",
       "    .dataframe tbody tr th:only-of-type {\n",
       "        vertical-align: middle;\n",
       "    }\n",
       "\n",
       "    .dataframe tbody tr th {\n",
       "        vertical-align: top;\n",
       "    }\n",
       "\n",
       "    .dataframe thead th {\n",
       "        text-align: right;\n",
       "    }\n",
       "</style>\n",
       "<table border=\"1\" class=\"dataframe\">\n",
       "  <thead>\n",
       "    <tr style=\"text-align: right;\">\n",
       "      <th></th>\n",
       "      <th>vehicle_color</th>\n",
       "      <th>count_colors</th>\n",
       "      <th>share</th>\n",
       "    </tr>\n",
       "  </thead>\n",
       "  <tbody>\n",
       "    <tr>\n",
       "      <th>95</th>\n",
       "      <td>White Ivory</td>\n",
       "      <td>1481254</td>\n",
       "      <td>0.3857</td>\n",
       "    </tr>\n",
       "    <tr>\n",
       "      <th>86</th>\n",
       "      <td>Silver</td>\n",
       "      <td>323600</td>\n",
       "      <td>0.0843</td>\n",
       "    </tr>\n",
       "    <tr>\n",
       "      <th>64</th>\n",
       "      <td>Metallic Silver</td>\n",
       "      <td>304834</td>\n",
       "      <td>0.0794</td>\n",
       "    </tr>\n",
       "    <tr>\n",
       "      <th>3</th>\n",
       "      <td>Black</td>\n",
       "      <td>268168</td>\n",
       "      <td>0.0698</td>\n",
       "    </tr>\n",
       "    <tr>\n",
       "      <th>48</th>\n",
       "      <td>Metallic Black</td>\n",
       "      <td>183133</td>\n",
       "      <td>0.0477</td>\n",
       "    </tr>\n",
       "    <tr>\n",
       "      <th>35</th>\n",
       "      <td>Grey</td>\n",
       "      <td>182719</td>\n",
       "      <td>0.0476</td>\n",
       "    </tr>\n",
       "    <tr>\n",
       "      <th>57</th>\n",
       "      <td>Metallic Grey</td>\n",
       "      <td>159601</td>\n",
       "      <td>0.0416</td>\n",
       "    </tr>\n",
       "    <tr>\n",
       "      <th>22</th>\n",
       "      <td>Dark Grey</td>\n",
       "      <td>90391</td>\n",
       "      <td>0.0235</td>\n",
       "    </tr>\n",
       "    <tr>\n",
       "      <th>23</th>\n",
       "      <td>Dark Metallic Grey</td>\n",
       "      <td>83106</td>\n",
       "      <td>0.0216</td>\n",
       "    </tr>\n",
       "    <tr>\n",
       "      <th>4</th>\n",
       "      <td>Blue</td>\n",
       "      <td>67104</td>\n",
       "      <td>0.0175</td>\n",
       "    </tr>\n",
       "  </tbody>\n",
       "</table>\n",
       "</div>"
      ],
      "text/plain": [
       "         vehicle_color  count_colors  share\n",
       "95         White Ivory       1481254 0.3857\n",
       "86              Silver        323600 0.0843\n",
       "64     Metallic Silver        304834 0.0794\n",
       "3                Black        268168 0.0698\n",
       "48      Metallic Black        183133 0.0477\n",
       "35                Grey        182719 0.0476\n",
       "57       Metallic Grey        159601 0.0416\n",
       "22           Dark Grey         90391 0.0235\n",
       "23  Dark Metallic Grey         83106 0.0216\n",
       "4                 Blue         67104 0.0175"
      ]
     },
     "execution_count": 80,
     "metadata": {},
     "output_type": "execute_result"
    }
   ],
   "source": [
    "pd.set_option('display.float_format', '{:.4f}'.format)\n",
    "colors = data_merged_raw.groupby('vehicle_color')['vehicle_number'].count().reset_index().\\\n",
    "                        rename(columns={'vehicle_number':'count_colors'})\n",
    "\n",
    "colors['share'] = colors['count_colors'].apply(lambda x: x/colors['count_colors'].sum())\n",
    "colors.sort_values(by='share', ascending=False, inplace=True)\n",
    "\n",
    "\n",
    "colors.head(10)"
   ]
  },
  {
   "cell_type": "code",
   "execution_count": null,
   "id": "9ddbae53",
   "metadata": {
    "id": "9ddbae53",
    "outputId": "32235c2b-2fc7-4b87-f02b-2b68b88830c8"
   },
   "outputs": [
    {
     "data": {
      "text/plain": [
       "(97, 3)"
      ]
     },
     "execution_count": 81,
     "metadata": {},
     "output_type": "execute_result"
    }
   ],
   "source": [
    "colors.shape"
   ]
  },
  {
   "cell_type": "code",
   "execution_count": null,
   "id": "f1d8e680",
   "metadata": {
    "id": "f1d8e680",
    "outputId": "afc8803b-8e82-44e8-dbf7-a4e50db98cff"
   },
   "outputs": [
    {
     "data": {
      "text/html": [
       "<div>\n",
       "<style scoped>\n",
       "    .dataframe tbody tr th:only-of-type {\n",
       "        vertical-align: middle;\n",
       "    }\n",
       "\n",
       "    .dataframe tbody tr th {\n",
       "        vertical-align: top;\n",
       "    }\n",
       "\n",
       "    .dataframe thead th {\n",
       "        text-align: right;\n",
       "    }\n",
       "</style>\n",
       "<table border=\"1\" class=\"dataframe\">\n",
       "  <thead>\n",
       "    <tr style=\"text-align: right;\">\n",
       "      <th></th>\n",
       "      <th>vehicle_color</th>\n",
       "      <th>count_colors</th>\n",
       "      <th>share</th>\n",
       "      <th>cumulative_share</th>\n",
       "    </tr>\n",
       "  </thead>\n",
       "  <tbody>\n",
       "    <tr>\n",
       "      <th>95</th>\n",
       "      <td>White Ivory</td>\n",
       "      <td>1481254</td>\n",
       "      <td>0.3857</td>\n",
       "      <td>0.3857</td>\n",
       "    </tr>\n",
       "    <tr>\n",
       "      <th>86</th>\n",
       "      <td>Silver</td>\n",
       "      <td>323600</td>\n",
       "      <td>0.0843</td>\n",
       "      <td>0.4699</td>\n",
       "    </tr>\n",
       "    <tr>\n",
       "      <th>64</th>\n",
       "      <td>Metallic Silver</td>\n",
       "      <td>304834</td>\n",
       "      <td>0.0794</td>\n",
       "      <td>0.5493</td>\n",
       "    </tr>\n",
       "    <tr>\n",
       "      <th>3</th>\n",
       "      <td>Black</td>\n",
       "      <td>268168</td>\n",
       "      <td>0.0698</td>\n",
       "      <td>0.6191</td>\n",
       "    </tr>\n",
       "    <tr>\n",
       "      <th>48</th>\n",
       "      <td>Metallic Black</td>\n",
       "      <td>183133</td>\n",
       "      <td>0.0477</td>\n",
       "      <td>0.6668</td>\n",
       "    </tr>\n",
       "    <tr>\n",
       "      <th>35</th>\n",
       "      <td>Grey</td>\n",
       "      <td>182719</td>\n",
       "      <td>0.0476</td>\n",
       "      <td>0.7144</td>\n",
       "    </tr>\n",
       "    <tr>\n",
       "      <th>57</th>\n",
       "      <td>Metallic Grey</td>\n",
       "      <td>159601</td>\n",
       "      <td>0.0416</td>\n",
       "      <td>0.7559</td>\n",
       "    </tr>\n",
       "    <tr>\n",
       "      <th>22</th>\n",
       "      <td>Dark Grey</td>\n",
       "      <td>90391</td>\n",
       "      <td>0.0235</td>\n",
       "      <td>0.7795</td>\n",
       "    </tr>\n",
       "    <tr>\n",
       "      <th>23</th>\n",
       "      <td>Dark Metallic Grey</td>\n",
       "      <td>83106</td>\n",
       "      <td>0.0216</td>\n",
       "      <td>0.8011</td>\n",
       "    </tr>\n",
       "    <tr>\n",
       "      <th>4</th>\n",
       "      <td>Blue</td>\n",
       "      <td>67104</td>\n",
       "      <td>0.0175</td>\n",
       "      <td>0.8186</td>\n",
       "    </tr>\n",
       "  </tbody>\n",
       "</table>\n",
       "</div>"
      ],
      "text/plain": [
       "         vehicle_color  count_colors  share  cumulative_share\n",
       "95         White Ivory       1481254 0.3857            0.3857\n",
       "86              Silver        323600 0.0843            0.4699\n",
       "64     Metallic Silver        304834 0.0794            0.5493\n",
       "3                Black        268168 0.0698            0.6191\n",
       "48      Metallic Black        183133 0.0477            0.6668\n",
       "35                Grey        182719 0.0476            0.7144\n",
       "57       Metallic Grey        159601 0.0416            0.7559\n",
       "22           Dark Grey         90391 0.0235            0.7795\n",
       "23  Dark Metallic Grey         83106 0.0216            0.8011\n",
       "4                 Blue         67104 0.0175            0.8186"
      ]
     },
     "execution_count": 82,
     "metadata": {},
     "output_type": "execute_result"
    }
   ],
   "source": [
    "#cumulative sum\n",
    "colors['cumulative_share'] = colors['share'].cumsum()\n",
    "colors.head(10)"
   ]
  },
  {
   "cell_type": "markdown",
   "id": "981ef182",
   "metadata": {
    "id": "981ef182"
   },
   "source": [
    "#####  Conclusion:\n",
    "    1. It can be seen that White Ivory takes up 38.5% of all the data (pretty obvious)\n",
    "    2. Silver and Metallic Silver around 16.5% together\n",
    "    3. Black and Metallic Black almost 12%\n",
    "    4. Grey, Metallic Grey and Dark Grey take up around 10%\n",
    "    5. Lastly, Blue takes up 1.8%\n",
    "    5. Top 10 above-mentioned colors take up 82% of the data"
   ]
  },
  {
   "cell_type": "markdown",
   "id": "219a851e",
   "metadata": {
    "id": "219a851e"
   },
   "source": [
    "##### 5.8 Fuel types"
   ]
  },
  {
   "cell_type": "code",
   "execution_count": null,
   "id": "12ef92c6",
   "metadata": {
    "id": "12ef92c6",
    "outputId": "fd907caa-b9a6-4a77-ff78-86abecc3e58e"
   },
   "outputs": [
    {
     "data": {
      "application/vnd.plotly.v1+json": {
       "config": {
        "plotlyServerURL": "https://plot.ly"
       },
       "data": [
        {
         "hovertemplate": "fuel_type=Diesel<br>Manufacture Year=%{x}<br>Count of Cars=%{y}<extra></extra>",
         "legendgroup": "Diesel",
         "line": {
          "color": "#636efa",
          "dash": "solid"
         },
         "marker": {
          "symbol": "circle"
         },
         "mode": "lines",
         "name": "Diesel",
         "orientation": "v",
         "showlegend": true,
         "type": "scatter",
         "x": [
          1996,
          1997,
          1998,
          1999,
          2000,
          2001,
          2002,
          2003,
          2004,
          2005,
          2006,
          2007,
          2008,
          2009,
          2010,
          2011,
          2012,
          2013,
          2014,
          2015,
          2016,
          2017,
          2018,
          2019,
          2020,
          2021,
          2022,
          2023
         ],
         "xaxis": "x",
         "y": [
          5,
          24,
          772,
          2277,
          2568,
          4225,
          4040,
          4356,
          6388,
          7564,
          7800,
          9034,
          18067,
          7619,
          10641,
          11059,
          12642,
          15874,
          14730,
          19031,
          26636,
          31356,
          34828,
          34687,
          25328,
          31430,
          24020,
          21824
         ],
         "yaxis": "y"
        },
        {
         "hovertemplate": "fuel_type=GPL<br>Manufacture Year=%{x}<br>Count of Cars=%{y}<extra></extra>",
         "legendgroup": "GPL",
         "line": {
          "color": "#EF553B",
          "dash": "solid"
         },
         "marker": {
          "symbol": "circle"
         },
         "mode": "lines",
         "name": "GPL",
         "orientation": "v",
         "showlegend": true,
         "type": "scatter",
         "x": [
          1996,
          1997,
          1998,
          1999,
          2000,
          2001,
          2002,
          2003,
          2004,
          2005,
          2006,
          2007,
          2008,
          2009,
          2010,
          2011,
          2012,
          2013,
          2014,
          2015,
          2016,
          2017,
          2018,
          2019,
          2020,
          2021,
          2022,
          2023
         ],
         "xaxis": "x",
         "y": [
          6,
          27,
          53,
          48,
          88,
          118,
          171,
          251,
          352,
          690,
          1118,
          1301,
          3209,
          1970,
          2198,
          1784,
          1318,
          869,
          970,
          933,
          795,
          552,
          331,
          163,
          87,
          58,
          40,
          17
         ],
         "yaxis": "y"
        },
        {
         "hovertemplate": "fuel_type=Gasoline<br>Manufacture Year=%{x}<br>Count of Cars=%{y}<extra></extra>",
         "legendgroup": "Gasoline",
         "line": {
          "color": "#00cc96",
          "dash": "solid"
         },
         "marker": {
          "symbol": "circle"
         },
         "mode": "lines",
         "name": "Gasoline",
         "orientation": "v",
         "showlegend": true,
         "type": "scatter",
         "x": [
          1996,
          1997,
          1998,
          1999,
          2000,
          2001,
          2002,
          2003,
          2004,
          2005,
          2006,
          2007,
          2008,
          2009,
          2010,
          2011,
          2012,
          2013,
          2014,
          2015,
          2016,
          2017,
          2018,
          2019,
          2020,
          2021,
          2022,
          2023
         ],
         "xaxis": "x",
         "y": [
          714,
          1840,
          2935,
          3546,
          5302,
          10179,
          11065,
          14877,
          21753,
          33400,
          52103,
          67306,
          157038,
          104876,
          142562,
          155892,
          148761,
          160271,
          194009,
          209854,
          236889,
          231681,
          216624,
          209112,
          180524,
          235286,
          203243,
          187959
         ],
         "yaxis": "y"
        },
        {
         "hovertemplate": "fuel_type=Hybrid (Electric/Gasoline)<br>Manufacture Year=%{x}<br>Count of Cars=%{y}<extra></extra>",
         "legendgroup": "Hybrid (Electric/Gasoline)",
         "line": {
          "color": "#ab63fa",
          "dash": "solid"
         },
         "marker": {
          "symbol": "circle"
         },
         "mode": "lines",
         "name": "Hybrid (Electric/Gasoline)",
         "orientation": "v",
         "showlegend": true,
         "type": "scatter",
         "x": [
          2006,
          2012,
          2013,
          2014,
          2015,
          2016,
          2017,
          2018,
          2019,
          2020,
          2021,
          2022,
          2023
         ],
         "xaxis": "x",
         "y": [
          1,
          1,
          12,
          52,
          67,
          60,
          1460,
          3338,
          3704,
          5333,
          13056,
          15410,
          16508
         ],
         "yaxis": "y"
        },
        {
         "hovertemplate": "fuel_type=Electric<br>Manufacture Year=%{x}<br>Count of Cars=%{y}<extra></extra>",
         "legendgroup": "Electric",
         "line": {
          "color": "#FFA15A",
          "dash": "solid"
         },
         "marker": {
          "symbol": "circle"
         },
         "mode": "lines",
         "name": "Electric",
         "orientation": "v",
         "showlegend": true,
         "type": "scatter",
         "x": [
          2011,
          2012,
          2013,
          2014,
          2015,
          2016,
          2017,
          2018,
          2019,
          2020,
          2021,
          2022,
          2023
         ],
         "xaxis": "x",
         "y": [
          5,
          67,
          80,
          28,
          1,
          4,
          111,
          146,
          593,
          1515,
          11015,
          27776,
          47359
         ],
         "yaxis": "y"
        },
        {
         "hovertemplate": "fuel_type=Hybrid (Electric/Diesel)<br>Manufacture Year=%{x}<br>Count of Cars=%{y}<extra></extra>",
         "legendgroup": "Hybrid (Electric/Diesel)",
         "line": {
          "color": "#19d3f3",
          "dash": "solid"
         },
         "marker": {
          "symbol": "circle"
         },
         "mode": "lines",
         "name": "Hybrid (Electric/Diesel)",
         "orientation": "v",
         "showlegend": true,
         "type": "scatter",
         "x": [
          2018,
          2019,
          2020,
          2021,
          2022,
          2023
         ],
         "xaxis": "x",
         "y": [
          211,
          139,
          24,
          230,
          197,
          153
         ],
         "yaxis": "y"
        }
       ],
       "layout": {
        "legend": {
         "title": {
          "text": "fuel_type"
         },
         "tracegroupgap": 0
        },
        "template": {
         "data": {
          "bar": [
           {
            "error_x": {
             "color": "#2a3f5f"
            },
            "error_y": {
             "color": "#2a3f5f"
            },
            "marker": {
             "line": {
              "color": "#E5ECF6",
              "width": 0.5
             },
             "pattern": {
              "fillmode": "overlay",
              "size": 10,
              "solidity": 0.2
             }
            },
            "type": "bar"
           }
          ],
          "barpolar": [
           {
            "marker": {
             "line": {
              "color": "#E5ECF6",
              "width": 0.5
             },
             "pattern": {
              "fillmode": "overlay",
              "size": 10,
              "solidity": 0.2
             }
            },
            "type": "barpolar"
           }
          ],
          "carpet": [
           {
            "aaxis": {
             "endlinecolor": "#2a3f5f",
             "gridcolor": "white",
             "linecolor": "white",
             "minorgridcolor": "white",
             "startlinecolor": "#2a3f5f"
            },
            "baxis": {
             "endlinecolor": "#2a3f5f",
             "gridcolor": "white",
             "linecolor": "white",
             "minorgridcolor": "white",
             "startlinecolor": "#2a3f5f"
            },
            "type": "carpet"
           }
          ],
          "choropleth": [
           {
            "colorbar": {
             "outlinewidth": 0,
             "ticks": ""
            },
            "type": "choropleth"
           }
          ],
          "contour": [
           {
            "colorbar": {
             "outlinewidth": 0,
             "ticks": ""
            },
            "colorscale": [
             [
              0,
              "#0d0887"
             ],
             [
              0.1111111111111111,
              "#46039f"
             ],
             [
              0.2222222222222222,
              "#7201a8"
             ],
             [
              0.3333333333333333,
              "#9c179e"
             ],
             [
              0.4444444444444444,
              "#bd3786"
             ],
             [
              0.5555555555555556,
              "#d8576b"
             ],
             [
              0.6666666666666666,
              "#ed7953"
             ],
             [
              0.7777777777777778,
              "#fb9f3a"
             ],
             [
              0.8888888888888888,
              "#fdca26"
             ],
             [
              1,
              "#f0f921"
             ]
            ],
            "type": "contour"
           }
          ],
          "contourcarpet": [
           {
            "colorbar": {
             "outlinewidth": 0,
             "ticks": ""
            },
            "type": "contourcarpet"
           }
          ],
          "heatmap": [
           {
            "colorbar": {
             "outlinewidth": 0,
             "ticks": ""
            },
            "colorscale": [
             [
              0,
              "#0d0887"
             ],
             [
              0.1111111111111111,
              "#46039f"
             ],
             [
              0.2222222222222222,
              "#7201a8"
             ],
             [
              0.3333333333333333,
              "#9c179e"
             ],
             [
              0.4444444444444444,
              "#bd3786"
             ],
             [
              0.5555555555555556,
              "#d8576b"
             ],
             [
              0.6666666666666666,
              "#ed7953"
             ],
             [
              0.7777777777777778,
              "#fb9f3a"
             ],
             [
              0.8888888888888888,
              "#fdca26"
             ],
             [
              1,
              "#f0f921"
             ]
            ],
            "type": "heatmap"
           }
          ],
          "heatmapgl": [
           {
            "colorbar": {
             "outlinewidth": 0,
             "ticks": ""
            },
            "colorscale": [
             [
              0,
              "#0d0887"
             ],
             [
              0.1111111111111111,
              "#46039f"
             ],
             [
              0.2222222222222222,
              "#7201a8"
             ],
             [
              0.3333333333333333,
              "#9c179e"
             ],
             [
              0.4444444444444444,
              "#bd3786"
             ],
             [
              0.5555555555555556,
              "#d8576b"
             ],
             [
              0.6666666666666666,
              "#ed7953"
             ],
             [
              0.7777777777777778,
              "#fb9f3a"
             ],
             [
              0.8888888888888888,
              "#fdca26"
             ],
             [
              1,
              "#f0f921"
             ]
            ],
            "type": "heatmapgl"
           }
          ],
          "histogram": [
           {
            "marker": {
             "pattern": {
              "fillmode": "overlay",
              "size": 10,
              "solidity": 0.2
             }
            },
            "type": "histogram"
           }
          ],
          "histogram2d": [
           {
            "colorbar": {
             "outlinewidth": 0,
             "ticks": ""
            },
            "colorscale": [
             [
              0,
              "#0d0887"
             ],
             [
              0.1111111111111111,
              "#46039f"
             ],
             [
              0.2222222222222222,
              "#7201a8"
             ],
             [
              0.3333333333333333,
              "#9c179e"
             ],
             [
              0.4444444444444444,
              "#bd3786"
             ],
             [
              0.5555555555555556,
              "#d8576b"
             ],
             [
              0.6666666666666666,
              "#ed7953"
             ],
             [
              0.7777777777777778,
              "#fb9f3a"
             ],
             [
              0.8888888888888888,
              "#fdca26"
             ],
             [
              1,
              "#f0f921"
             ]
            ],
            "type": "histogram2d"
           }
          ],
          "histogram2dcontour": [
           {
            "colorbar": {
             "outlinewidth": 0,
             "ticks": ""
            },
            "colorscale": [
             [
              0,
              "#0d0887"
             ],
             [
              0.1111111111111111,
              "#46039f"
             ],
             [
              0.2222222222222222,
              "#7201a8"
             ],
             [
              0.3333333333333333,
              "#9c179e"
             ],
             [
              0.4444444444444444,
              "#bd3786"
             ],
             [
              0.5555555555555556,
              "#d8576b"
             ],
             [
              0.6666666666666666,
              "#ed7953"
             ],
             [
              0.7777777777777778,
              "#fb9f3a"
             ],
             [
              0.8888888888888888,
              "#fdca26"
             ],
             [
              1,
              "#f0f921"
             ]
            ],
            "type": "histogram2dcontour"
           }
          ],
          "mesh3d": [
           {
            "colorbar": {
             "outlinewidth": 0,
             "ticks": ""
            },
            "type": "mesh3d"
           }
          ],
          "parcoords": [
           {
            "line": {
             "colorbar": {
              "outlinewidth": 0,
              "ticks": ""
             }
            },
            "type": "parcoords"
           }
          ],
          "pie": [
           {
            "automargin": true,
            "type": "pie"
           }
          ],
          "scatter": [
           {
            "fillpattern": {
             "fillmode": "overlay",
             "size": 10,
             "solidity": 0.2
            },
            "type": "scatter"
           }
          ],
          "scatter3d": [
           {
            "line": {
             "colorbar": {
              "outlinewidth": 0,
              "ticks": ""
             }
            },
            "marker": {
             "colorbar": {
              "outlinewidth": 0,
              "ticks": ""
             }
            },
            "type": "scatter3d"
           }
          ],
          "scattercarpet": [
           {
            "marker": {
             "colorbar": {
              "outlinewidth": 0,
              "ticks": ""
             }
            },
            "type": "scattercarpet"
           }
          ],
          "scattergeo": [
           {
            "marker": {
             "colorbar": {
              "outlinewidth": 0,
              "ticks": ""
             }
            },
            "type": "scattergeo"
           }
          ],
          "scattergl": [
           {
            "marker": {
             "colorbar": {
              "outlinewidth": 0,
              "ticks": ""
             }
            },
            "type": "scattergl"
           }
          ],
          "scattermapbox": [
           {
            "marker": {
             "colorbar": {
              "outlinewidth": 0,
              "ticks": ""
             }
            },
            "type": "scattermapbox"
           }
          ],
          "scatterpolar": [
           {
            "marker": {
             "colorbar": {
              "outlinewidth": 0,
              "ticks": ""
             }
            },
            "type": "scatterpolar"
           }
          ],
          "scatterpolargl": [
           {
            "marker": {
             "colorbar": {
              "outlinewidth": 0,
              "ticks": ""
             }
            },
            "type": "scatterpolargl"
           }
          ],
          "scatterternary": [
           {
            "marker": {
             "colorbar": {
              "outlinewidth": 0,
              "ticks": ""
             }
            },
            "type": "scatterternary"
           }
          ],
          "surface": [
           {
            "colorbar": {
             "outlinewidth": 0,
             "ticks": ""
            },
            "colorscale": [
             [
              0,
              "#0d0887"
             ],
             [
              0.1111111111111111,
              "#46039f"
             ],
             [
              0.2222222222222222,
              "#7201a8"
             ],
             [
              0.3333333333333333,
              "#9c179e"
             ],
             [
              0.4444444444444444,
              "#bd3786"
             ],
             [
              0.5555555555555556,
              "#d8576b"
             ],
             [
              0.6666666666666666,
              "#ed7953"
             ],
             [
              0.7777777777777778,
              "#fb9f3a"
             ],
             [
              0.8888888888888888,
              "#fdca26"
             ],
             [
              1,
              "#f0f921"
             ]
            ],
            "type": "surface"
           }
          ],
          "table": [
           {
            "cells": {
             "fill": {
              "color": "#EBF0F8"
             },
             "line": {
              "color": "white"
             }
            },
            "header": {
             "fill": {
              "color": "#C8D4E3"
             },
             "line": {
              "color": "white"
             }
            },
            "type": "table"
           }
          ]
         },
         "layout": {
          "annotationdefaults": {
           "arrowcolor": "#2a3f5f",
           "arrowhead": 0,
           "arrowwidth": 1
          },
          "autotypenumbers": "strict",
          "coloraxis": {
           "colorbar": {
            "outlinewidth": 0,
            "ticks": ""
           }
          },
          "colorscale": {
           "diverging": [
            [
             0,
             "#8e0152"
            ],
            [
             0.1,
             "#c51b7d"
            ],
            [
             0.2,
             "#de77ae"
            ],
            [
             0.3,
             "#f1b6da"
            ],
            [
             0.4,
             "#fde0ef"
            ],
            [
             0.5,
             "#f7f7f7"
            ],
            [
             0.6,
             "#e6f5d0"
            ],
            [
             0.7,
             "#b8e186"
            ],
            [
             0.8,
             "#7fbc41"
            ],
            [
             0.9,
             "#4d9221"
            ],
            [
             1,
             "#276419"
            ]
           ],
           "sequential": [
            [
             0,
             "#0d0887"
            ],
            [
             0.1111111111111111,
             "#46039f"
            ],
            [
             0.2222222222222222,
             "#7201a8"
            ],
            [
             0.3333333333333333,
             "#9c179e"
            ],
            [
             0.4444444444444444,
             "#bd3786"
            ],
            [
             0.5555555555555556,
             "#d8576b"
            ],
            [
             0.6666666666666666,
             "#ed7953"
            ],
            [
             0.7777777777777778,
             "#fb9f3a"
            ],
            [
             0.8888888888888888,
             "#fdca26"
            ],
            [
             1,
             "#f0f921"
            ]
           ],
           "sequentialminus": [
            [
             0,
             "#0d0887"
            ],
            [
             0.1111111111111111,
             "#46039f"
            ],
            [
             0.2222222222222222,
             "#7201a8"
            ],
            [
             0.3333333333333333,
             "#9c179e"
            ],
            [
             0.4444444444444444,
             "#bd3786"
            ],
            [
             0.5555555555555556,
             "#d8576b"
            ],
            [
             0.6666666666666666,
             "#ed7953"
            ],
            [
             0.7777777777777778,
             "#fb9f3a"
            ],
            [
             0.8888888888888888,
             "#fdca26"
            ],
            [
             1,
             "#f0f921"
            ]
           ]
          },
          "colorway": [
           "#636efa",
           "#EF553B",
           "#00cc96",
           "#ab63fa",
           "#FFA15A",
           "#19d3f3",
           "#FF6692",
           "#B6E880",
           "#FF97FF",
           "#FECB52"
          ],
          "font": {
           "color": "#2a3f5f"
          },
          "geo": {
           "bgcolor": "white",
           "lakecolor": "white",
           "landcolor": "#E5ECF6",
           "showlakes": true,
           "showland": true,
           "subunitcolor": "white"
          },
          "hoverlabel": {
           "align": "left"
          },
          "hovermode": "closest",
          "mapbox": {
           "style": "light"
          },
          "paper_bgcolor": "white",
          "plot_bgcolor": "#E5ECF6",
          "polar": {
           "angularaxis": {
            "gridcolor": "white",
            "linecolor": "white",
            "ticks": ""
           },
           "bgcolor": "#E5ECF6",
           "radialaxis": {
            "gridcolor": "white",
            "linecolor": "white",
            "ticks": ""
           }
          },
          "scene": {
           "xaxis": {
            "backgroundcolor": "#E5ECF6",
            "gridcolor": "white",
            "gridwidth": 2,
            "linecolor": "white",
            "showbackground": true,
            "ticks": "",
            "zerolinecolor": "white"
           },
           "yaxis": {
            "backgroundcolor": "#E5ECF6",
            "gridcolor": "white",
            "gridwidth": 2,
            "linecolor": "white",
            "showbackground": true,
            "ticks": "",
            "zerolinecolor": "white"
           },
           "zaxis": {
            "backgroundcolor": "#E5ECF6",
            "gridcolor": "white",
            "gridwidth": 2,
            "linecolor": "white",
            "showbackground": true,
            "ticks": "",
            "zerolinecolor": "white"
           }
          },
          "shapedefaults": {
           "line": {
            "color": "#2a3f5f"
           }
          },
          "ternary": {
           "aaxis": {
            "gridcolor": "white",
            "linecolor": "white",
            "ticks": ""
           },
           "baxis": {
            "gridcolor": "white",
            "linecolor": "white",
            "ticks": ""
           },
           "bgcolor": "#E5ECF6",
           "caxis": {
            "gridcolor": "white",
            "linecolor": "white",
            "ticks": ""
           }
          },
          "title": {
           "x": 0.05
          },
          "xaxis": {
           "automargin": true,
           "gridcolor": "white",
           "linecolor": "white",
           "ticks": "",
           "title": {
            "standoff": 15
           },
           "zerolinecolor": "white",
           "zerolinewidth": 2
          },
          "yaxis": {
           "automargin": true,
           "gridcolor": "white",
           "linecolor": "white",
           "ticks": "",
           "title": {
            "standoff": 15
           },
           "zerolinecolor": "white",
           "zerolinewidth": 2
          }
         }
        },
        "title": {
         "font": {
          "color": "black",
          "family": "Arial",
          "size": 24
         },
         "text": "Count of Cars by Manufacture Year and fuel_type",
         "x": 0.5,
         "xanchor": "center",
         "y": 0.9,
         "yanchor": "top"
        },
        "xaxis": {
         "anchor": "y",
         "domain": [
          0,
          1
         ],
         "title": {
          "font": {
           "color": "blue",
           "family": "Helvetica",
           "size": 18
          },
          "text": "Manufacture Year"
         }
        },
        "yaxis": {
         "anchor": "x",
         "domain": [
          0,
          1
         ],
         "title": {
          "font": {
           "color": "blue",
           "family": "Helvetica",
           "size": 18
          },
          "text": "Count of Cars"
         }
        }
       }
      },
      "text/html": [
       "<div>                            <div id=\"474eea6a-bd10-4e4b-9e04-959fdd3cf2af\" class=\"plotly-graph-div\" style=\"height:525px; width:100%;\"></div>            <script type=\"text/javascript\">                require([\"plotly\"], function(Plotly) {                    window.PLOTLYENV=window.PLOTLYENV || {};                                    if (document.getElementById(\"474eea6a-bd10-4e4b-9e04-959fdd3cf2af\")) {                    Plotly.newPlot(                        \"474eea6a-bd10-4e4b-9e04-959fdd3cf2af\",                        [{\"hovertemplate\":\"fuel_type=Diesel\\u003cbr\\u003eManufacture Year=%{x}\\u003cbr\\u003eCount of Cars=%{y}\\u003cextra\\u003e\\u003c\\u002fextra\\u003e\",\"legendgroup\":\"Diesel\",\"line\":{\"color\":\"#636efa\",\"dash\":\"solid\"},\"marker\":{\"symbol\":\"circle\"},\"mode\":\"lines\",\"name\":\"Diesel\",\"orientation\":\"v\",\"showlegend\":true,\"x\":[1996,1997,1998,1999,2000,2001,2002,2003,2004,2005,2006,2007,2008,2009,2010,2011,2012,2013,2014,2015,2016,2017,2018,2019,2020,2021,2022,2023],\"xaxis\":\"x\",\"y\":[5,24,772,2277,2568,4225,4040,4356,6388,7564,7800,9034,18067,7619,10641,11059,12642,15874,14730,19031,26636,31356,34828,34687,25328,31430,24020,21824],\"yaxis\":\"y\",\"type\":\"scatter\"},{\"hovertemplate\":\"fuel_type=GPL\\u003cbr\\u003eManufacture Year=%{x}\\u003cbr\\u003eCount of Cars=%{y}\\u003cextra\\u003e\\u003c\\u002fextra\\u003e\",\"legendgroup\":\"GPL\",\"line\":{\"color\":\"#EF553B\",\"dash\":\"solid\"},\"marker\":{\"symbol\":\"circle\"},\"mode\":\"lines\",\"name\":\"GPL\",\"orientation\":\"v\",\"showlegend\":true,\"x\":[1996,1997,1998,1999,2000,2001,2002,2003,2004,2005,2006,2007,2008,2009,2010,2011,2012,2013,2014,2015,2016,2017,2018,2019,2020,2021,2022,2023],\"xaxis\":\"x\",\"y\":[6,27,53,48,88,118,171,251,352,690,1118,1301,3209,1970,2198,1784,1318,869,970,933,795,552,331,163,87,58,40,17],\"yaxis\":\"y\",\"type\":\"scatter\"},{\"hovertemplate\":\"fuel_type=Gasoline\\u003cbr\\u003eManufacture Year=%{x}\\u003cbr\\u003eCount of Cars=%{y}\\u003cextra\\u003e\\u003c\\u002fextra\\u003e\",\"legendgroup\":\"Gasoline\",\"line\":{\"color\":\"#00cc96\",\"dash\":\"solid\"},\"marker\":{\"symbol\":\"circle\"},\"mode\":\"lines\",\"name\":\"Gasoline\",\"orientation\":\"v\",\"showlegend\":true,\"x\":[1996,1997,1998,1999,2000,2001,2002,2003,2004,2005,2006,2007,2008,2009,2010,2011,2012,2013,2014,2015,2016,2017,2018,2019,2020,2021,2022,2023],\"xaxis\":\"x\",\"y\":[714,1840,2935,3546,5302,10179,11065,14877,21753,33400,52103,67306,157038,104876,142562,155892,148761,160271,194009,209854,236889,231681,216624,209112,180524,235286,203243,187959],\"yaxis\":\"y\",\"type\":\"scatter\"},{\"hovertemplate\":\"fuel_type=Hybrid (Electric\\u002fGasoline)\\u003cbr\\u003eManufacture Year=%{x}\\u003cbr\\u003eCount of Cars=%{y}\\u003cextra\\u003e\\u003c\\u002fextra\\u003e\",\"legendgroup\":\"Hybrid (Electric\\u002fGasoline)\",\"line\":{\"color\":\"#ab63fa\",\"dash\":\"solid\"},\"marker\":{\"symbol\":\"circle\"},\"mode\":\"lines\",\"name\":\"Hybrid (Electric\\u002fGasoline)\",\"orientation\":\"v\",\"showlegend\":true,\"x\":[2006,2012,2013,2014,2015,2016,2017,2018,2019,2020,2021,2022,2023],\"xaxis\":\"x\",\"y\":[1,1,12,52,67,60,1460,3338,3704,5333,13056,15410,16508],\"yaxis\":\"y\",\"type\":\"scatter\"},{\"hovertemplate\":\"fuel_type=Electric\\u003cbr\\u003eManufacture Year=%{x}\\u003cbr\\u003eCount of Cars=%{y}\\u003cextra\\u003e\\u003c\\u002fextra\\u003e\",\"legendgroup\":\"Electric\",\"line\":{\"color\":\"#FFA15A\",\"dash\":\"solid\"},\"marker\":{\"symbol\":\"circle\"},\"mode\":\"lines\",\"name\":\"Electric\",\"orientation\":\"v\",\"showlegend\":true,\"x\":[2011,2012,2013,2014,2015,2016,2017,2018,2019,2020,2021,2022,2023],\"xaxis\":\"x\",\"y\":[5,67,80,28,1,4,111,146,593,1515,11015,27776,47359],\"yaxis\":\"y\",\"type\":\"scatter\"},{\"hovertemplate\":\"fuel_type=Hybrid (Electric\\u002fDiesel)\\u003cbr\\u003eManufacture Year=%{x}\\u003cbr\\u003eCount of Cars=%{y}\\u003cextra\\u003e\\u003c\\u002fextra\\u003e\",\"legendgroup\":\"Hybrid (Electric\\u002fDiesel)\",\"line\":{\"color\":\"#19d3f3\",\"dash\":\"solid\"},\"marker\":{\"symbol\":\"circle\"},\"mode\":\"lines\",\"name\":\"Hybrid (Electric\\u002fDiesel)\",\"orientation\":\"v\",\"showlegend\":true,\"x\":[2018,2019,2020,2021,2022,2023],\"xaxis\":\"x\",\"y\":[211,139,24,230,197,153],\"yaxis\":\"y\",\"type\":\"scatter\"}],                        {\"template\":{\"data\":{\"histogram2dcontour\":[{\"type\":\"histogram2dcontour\",\"colorbar\":{\"outlinewidth\":0,\"ticks\":\"\"},\"colorscale\":[[0.0,\"#0d0887\"],[0.1111111111111111,\"#46039f\"],[0.2222222222222222,\"#7201a8\"],[0.3333333333333333,\"#9c179e\"],[0.4444444444444444,\"#bd3786\"],[0.5555555555555556,\"#d8576b\"],[0.6666666666666666,\"#ed7953\"],[0.7777777777777778,\"#fb9f3a\"],[0.8888888888888888,\"#fdca26\"],[1.0,\"#f0f921\"]]}],\"choropleth\":[{\"type\":\"choropleth\",\"colorbar\":{\"outlinewidth\":0,\"ticks\":\"\"}}],\"histogram2d\":[{\"type\":\"histogram2d\",\"colorbar\":{\"outlinewidth\":0,\"ticks\":\"\"},\"colorscale\":[[0.0,\"#0d0887\"],[0.1111111111111111,\"#46039f\"],[0.2222222222222222,\"#7201a8\"],[0.3333333333333333,\"#9c179e\"],[0.4444444444444444,\"#bd3786\"],[0.5555555555555556,\"#d8576b\"],[0.6666666666666666,\"#ed7953\"],[0.7777777777777778,\"#fb9f3a\"],[0.8888888888888888,\"#fdca26\"],[1.0,\"#f0f921\"]]}],\"heatmap\":[{\"type\":\"heatmap\",\"colorbar\":{\"outlinewidth\":0,\"ticks\":\"\"},\"colorscale\":[[0.0,\"#0d0887\"],[0.1111111111111111,\"#46039f\"],[0.2222222222222222,\"#7201a8\"],[0.3333333333333333,\"#9c179e\"],[0.4444444444444444,\"#bd3786\"],[0.5555555555555556,\"#d8576b\"],[0.6666666666666666,\"#ed7953\"],[0.7777777777777778,\"#fb9f3a\"],[0.8888888888888888,\"#fdca26\"],[1.0,\"#f0f921\"]]}],\"heatmapgl\":[{\"type\":\"heatmapgl\",\"colorbar\":{\"outlinewidth\":0,\"ticks\":\"\"},\"colorscale\":[[0.0,\"#0d0887\"],[0.1111111111111111,\"#46039f\"],[0.2222222222222222,\"#7201a8\"],[0.3333333333333333,\"#9c179e\"],[0.4444444444444444,\"#bd3786\"],[0.5555555555555556,\"#d8576b\"],[0.6666666666666666,\"#ed7953\"],[0.7777777777777778,\"#fb9f3a\"],[0.8888888888888888,\"#fdca26\"],[1.0,\"#f0f921\"]]}],\"contourcarpet\":[{\"type\":\"contourcarpet\",\"colorbar\":{\"outlinewidth\":0,\"ticks\":\"\"}}],\"contour\":[{\"type\":\"contour\",\"colorbar\":{\"outlinewidth\":0,\"ticks\":\"\"},\"colorscale\":[[0.0,\"#0d0887\"],[0.1111111111111111,\"#46039f\"],[0.2222222222222222,\"#7201a8\"],[0.3333333333333333,\"#9c179e\"],[0.4444444444444444,\"#bd3786\"],[0.5555555555555556,\"#d8576b\"],[0.6666666666666666,\"#ed7953\"],[0.7777777777777778,\"#fb9f3a\"],[0.8888888888888888,\"#fdca26\"],[1.0,\"#f0f921\"]]}],\"surface\":[{\"type\":\"surface\",\"colorbar\":{\"outlinewidth\":0,\"ticks\":\"\"},\"colorscale\":[[0.0,\"#0d0887\"],[0.1111111111111111,\"#46039f\"],[0.2222222222222222,\"#7201a8\"],[0.3333333333333333,\"#9c179e\"],[0.4444444444444444,\"#bd3786\"],[0.5555555555555556,\"#d8576b\"],[0.6666666666666666,\"#ed7953\"],[0.7777777777777778,\"#fb9f3a\"],[0.8888888888888888,\"#fdca26\"],[1.0,\"#f0f921\"]]}],\"mesh3d\":[{\"type\":\"mesh3d\",\"colorbar\":{\"outlinewidth\":0,\"ticks\":\"\"}}],\"scatter\":[{\"fillpattern\":{\"fillmode\":\"overlay\",\"size\":10,\"solidity\":0.2},\"type\":\"scatter\"}],\"parcoords\":[{\"type\":\"parcoords\",\"line\":{\"colorbar\":{\"outlinewidth\":0,\"ticks\":\"\"}}}],\"scatterpolargl\":[{\"type\":\"scatterpolargl\",\"marker\":{\"colorbar\":{\"outlinewidth\":0,\"ticks\":\"\"}}}],\"bar\":[{\"error_x\":{\"color\":\"#2a3f5f\"},\"error_y\":{\"color\":\"#2a3f5f\"},\"marker\":{\"line\":{\"color\":\"#E5ECF6\",\"width\":0.5},\"pattern\":{\"fillmode\":\"overlay\",\"size\":10,\"solidity\":0.2}},\"type\":\"bar\"}],\"scattergeo\":[{\"type\":\"scattergeo\",\"marker\":{\"colorbar\":{\"outlinewidth\":0,\"ticks\":\"\"}}}],\"scatterpolar\":[{\"type\":\"scatterpolar\",\"marker\":{\"colorbar\":{\"outlinewidth\":0,\"ticks\":\"\"}}}],\"histogram\":[{\"marker\":{\"pattern\":{\"fillmode\":\"overlay\",\"size\":10,\"solidity\":0.2}},\"type\":\"histogram\"}],\"scattergl\":[{\"type\":\"scattergl\",\"marker\":{\"colorbar\":{\"outlinewidth\":0,\"ticks\":\"\"}}}],\"scatter3d\":[{\"type\":\"scatter3d\",\"line\":{\"colorbar\":{\"outlinewidth\":0,\"ticks\":\"\"}},\"marker\":{\"colorbar\":{\"outlinewidth\":0,\"ticks\":\"\"}}}],\"scattermapbox\":[{\"type\":\"scattermapbox\",\"marker\":{\"colorbar\":{\"outlinewidth\":0,\"ticks\":\"\"}}}],\"scatterternary\":[{\"type\":\"scatterternary\",\"marker\":{\"colorbar\":{\"outlinewidth\":0,\"ticks\":\"\"}}}],\"scattercarpet\":[{\"type\":\"scattercarpet\",\"marker\":{\"colorbar\":{\"outlinewidth\":0,\"ticks\":\"\"}}}],\"carpet\":[{\"aaxis\":{\"endlinecolor\":\"#2a3f5f\",\"gridcolor\":\"white\",\"linecolor\":\"white\",\"minorgridcolor\":\"white\",\"startlinecolor\":\"#2a3f5f\"},\"baxis\":{\"endlinecolor\":\"#2a3f5f\",\"gridcolor\":\"white\",\"linecolor\":\"white\",\"minorgridcolor\":\"white\",\"startlinecolor\":\"#2a3f5f\"},\"type\":\"carpet\"}],\"table\":[{\"cells\":{\"fill\":{\"color\":\"#EBF0F8\"},\"line\":{\"color\":\"white\"}},\"header\":{\"fill\":{\"color\":\"#C8D4E3\"},\"line\":{\"color\":\"white\"}},\"type\":\"table\"}],\"barpolar\":[{\"marker\":{\"line\":{\"color\":\"#E5ECF6\",\"width\":0.5},\"pattern\":{\"fillmode\":\"overlay\",\"size\":10,\"solidity\":0.2}},\"type\":\"barpolar\"}],\"pie\":[{\"automargin\":true,\"type\":\"pie\"}]},\"layout\":{\"autotypenumbers\":\"strict\",\"colorway\":[\"#636efa\",\"#EF553B\",\"#00cc96\",\"#ab63fa\",\"#FFA15A\",\"#19d3f3\",\"#FF6692\",\"#B6E880\",\"#FF97FF\",\"#FECB52\"],\"font\":{\"color\":\"#2a3f5f\"},\"hovermode\":\"closest\",\"hoverlabel\":{\"align\":\"left\"},\"paper_bgcolor\":\"white\",\"plot_bgcolor\":\"#E5ECF6\",\"polar\":{\"bgcolor\":\"#E5ECF6\",\"angularaxis\":{\"gridcolor\":\"white\",\"linecolor\":\"white\",\"ticks\":\"\"},\"radialaxis\":{\"gridcolor\":\"white\",\"linecolor\":\"white\",\"ticks\":\"\"}},\"ternary\":{\"bgcolor\":\"#E5ECF6\",\"aaxis\":{\"gridcolor\":\"white\",\"linecolor\":\"white\",\"ticks\":\"\"},\"baxis\":{\"gridcolor\":\"white\",\"linecolor\":\"white\",\"ticks\":\"\"},\"caxis\":{\"gridcolor\":\"white\",\"linecolor\":\"white\",\"ticks\":\"\"}},\"coloraxis\":{\"colorbar\":{\"outlinewidth\":0,\"ticks\":\"\"}},\"colorscale\":{\"sequential\":[[0.0,\"#0d0887\"],[0.1111111111111111,\"#46039f\"],[0.2222222222222222,\"#7201a8\"],[0.3333333333333333,\"#9c179e\"],[0.4444444444444444,\"#bd3786\"],[0.5555555555555556,\"#d8576b\"],[0.6666666666666666,\"#ed7953\"],[0.7777777777777778,\"#fb9f3a\"],[0.8888888888888888,\"#fdca26\"],[1.0,\"#f0f921\"]],\"sequentialminus\":[[0.0,\"#0d0887\"],[0.1111111111111111,\"#46039f\"],[0.2222222222222222,\"#7201a8\"],[0.3333333333333333,\"#9c179e\"],[0.4444444444444444,\"#bd3786\"],[0.5555555555555556,\"#d8576b\"],[0.6666666666666666,\"#ed7953\"],[0.7777777777777778,\"#fb9f3a\"],[0.8888888888888888,\"#fdca26\"],[1.0,\"#f0f921\"]],\"diverging\":[[0,\"#8e0152\"],[0.1,\"#c51b7d\"],[0.2,\"#de77ae\"],[0.3,\"#f1b6da\"],[0.4,\"#fde0ef\"],[0.5,\"#f7f7f7\"],[0.6,\"#e6f5d0\"],[0.7,\"#b8e186\"],[0.8,\"#7fbc41\"],[0.9,\"#4d9221\"],[1,\"#276419\"]]},\"xaxis\":{\"gridcolor\":\"white\",\"linecolor\":\"white\",\"ticks\":\"\",\"title\":{\"standoff\":15},\"zerolinecolor\":\"white\",\"automargin\":true,\"zerolinewidth\":2},\"yaxis\":{\"gridcolor\":\"white\",\"linecolor\":\"white\",\"ticks\":\"\",\"title\":{\"standoff\":15},\"zerolinecolor\":\"white\",\"automargin\":true,\"zerolinewidth\":2},\"scene\":{\"xaxis\":{\"backgroundcolor\":\"#E5ECF6\",\"gridcolor\":\"white\",\"linecolor\":\"white\",\"showbackground\":true,\"ticks\":\"\",\"zerolinecolor\":\"white\",\"gridwidth\":2},\"yaxis\":{\"backgroundcolor\":\"#E5ECF6\",\"gridcolor\":\"white\",\"linecolor\":\"white\",\"showbackground\":true,\"ticks\":\"\",\"zerolinecolor\":\"white\",\"gridwidth\":2},\"zaxis\":{\"backgroundcolor\":\"#E5ECF6\",\"gridcolor\":\"white\",\"linecolor\":\"white\",\"showbackground\":true,\"ticks\":\"\",\"zerolinecolor\":\"white\",\"gridwidth\":2}},\"shapedefaults\":{\"line\":{\"color\":\"#2a3f5f\"}},\"annotationdefaults\":{\"arrowcolor\":\"#2a3f5f\",\"arrowhead\":0,\"arrowwidth\":1},\"geo\":{\"bgcolor\":\"white\",\"landcolor\":\"#E5ECF6\",\"subunitcolor\":\"white\",\"showland\":true,\"showlakes\":true,\"lakecolor\":\"white\"},\"title\":{\"x\":0.05},\"mapbox\":{\"style\":\"light\"}}},\"xaxis\":{\"anchor\":\"y\",\"domain\":[0.0,1.0],\"title\":{\"text\":\"Manufacture Year\",\"font\":{\"family\":\"Helvetica\",\"size\":18,\"color\":\"blue\"}}},\"yaxis\":{\"anchor\":\"x\",\"domain\":[0.0,1.0],\"title\":{\"text\":\"Count of Cars\",\"font\":{\"family\":\"Helvetica\",\"size\":18,\"color\":\"blue\"}}},\"legend\":{\"title\":{\"text\":\"fuel_type\"},\"tracegroupgap\":0},\"title\":{\"text\":\"Count of Cars by Manufacture Year and fuel_type\",\"font\":{\"family\":\"Arial\",\"size\":24,\"color\":\"black\"},\"y\":0.9,\"x\":0.5,\"xanchor\":\"center\",\"yanchor\":\"top\"}},                        {\"responsive\": true}                    ).then(function(){\n",
       "                            \n",
       "var gd = document.getElementById('474eea6a-bd10-4e4b-9e04-959fdd3cf2af');\n",
       "var x = new MutationObserver(function (mutations, observer) {{\n",
       "        var display = window.getComputedStyle(gd).display;\n",
       "        if (!display || display === 'none') {{\n",
       "            console.log([gd, 'removed!']);\n",
       "            Plotly.purge(gd);\n",
       "            observer.disconnect();\n",
       "        }}\n",
       "}});\n",
       "\n",
       "// Listen for the removal of the full notebook cells\n",
       "var notebookContainer = gd.closest('#notebook-container');\n",
       "if (notebookContainer) {{\n",
       "    x.observe(notebookContainer, {childList: true});\n",
       "}}\n",
       "\n",
       "// Listen for the clearing of the current output cell\n",
       "var outputEl = gd.closest('.output');\n",
       "if (outputEl) {{\n",
       "    x.observe(outputEl, {childList: true});\n",
       "}}\n",
       "\n",
       "                        })                };                });            </script>        </div>"
      ]
     },
     "metadata": {},
     "output_type": "display_data"
    }
   ],
   "source": [
    "# An interactive line graph with plotly\n",
    "emission_group = data_merged_raw.groupby(['manufacture_year','fuel_type'])['vehicle_number'].count().to_frame().\\\n",
    "                        rename(columns={'vehicle_number': 'count_cars'}).reset_index()\n",
    "\n",
    "emission_group = emission_group[emission_group['manufacture_year'] != 2024]\n",
    "\n",
    "#creating a list of unique values for sorting\n",
    "sorted_groups = sorted(emission_group['fuel_type'].unique())\n",
    "\n",
    "# Creating an interactive line graph with Plotly Express\n",
    "fig = px.line(emission_group,\n",
    "              x='manufacture_year',  # Year on the X-axis\n",
    "              y='count_cars',        # Count of cars on the Y-axis\n",
    "              color='fuel_type',  # Different lines for each fuel_type\n",
    "              title='Count of Cars by Manufacture Year and fuel_type',\n",
    "              labels={'count_cars': 'Count of Cars', 'manufacture_year': 'Manufacture Year',\n",
    "                      'fuel_type': 'fuel_type'},\n",
    "              category_orders={'emission_group': sorted_groups})\n",
    "\n",
    "# Update layout for title and labels\n",
    "fig.update_layout(\n",
    "    title={\n",
    "        'text': 'Count of Cars by Manufacture Year and fuel_type',\n",
    "        'y': 0.9,  # You can adjust the position with y\n",
    "        'x': 0.5,  # Centering the title using x\n",
    "        'xanchor': 'center',\n",
    "        'yanchor': 'top',\n",
    "        'font': {\n",
    "            'family': 'Arial',  # Font family\n",
    "            'size': 24,         # Font size\n",
    "            'color': 'black'    # Font color\n",
    "        }\n",
    "    },\n",
    "    xaxis_title={\n",
    "        'font': {\n",
    "            'family': 'Helvetica',  # Font family\n",
    "            'size': 18,             # Font size\n",
    "            'color': 'blue'         # Font color\n",
    "        }\n",
    "    },\n",
    "    yaxis_title={\n",
    "        'font': {\n",
    "            'family': 'Helvetica',\n",
    "            'size': 18,\n",
    "            'color': 'blue'\n",
    "        }\n",
    "    }\n",
    ")\n",
    "# Show the plot\n",
    "fig.show()"
   ]
  },
  {
   "cell_type": "code",
   "execution_count": null,
   "id": "168faa6a",
   "metadata": {
    "id": "168faa6a",
    "outputId": "7f833d9e-4947-4f95-f2a0-9f8b0e240967"
   },
   "outputs": [
    {
     "data": {
      "text/plain": [
       "fuel_type\n",
       "Diesel                         394920\n",
       "Electric                       109683\n",
       "GPL                             19517\n",
       "Gasoline                      3252986\n",
       "Hybrid (Electric/Diesel)          960\n",
       "Hybrid (Electric/Gasoline)      62700\n",
       "Name: manufacture_year, dtype: int64"
      ]
     },
     "execution_count": 84,
     "metadata": {},
     "output_type": "execute_result"
    }
   ],
   "source": [
    "data_merged_raw.groupby('fuel_type')['manufacture_year'].count()"
   ]
  },
  {
   "cell_type": "markdown",
   "id": "ceada05c",
   "metadata": {
    "id": "ceada05c"
   },
   "source": [
    "#####  Conclusion:\n",
    "    1. At the moment there isn't a clear trend on the number of Gasoline cars going down\n",
    "    2. There is a lsight trend in the number of Diesel vihecles going down\n",
    "    3. There is a clear trend in the number of Electric/Hybrid cars going up\n",
    "    "
   ]
  },
  {
   "cell_type": "markdown",
   "id": "7efef0c6",
   "metadata": {
    "id": "7efef0c6"
   },
   "source": [
    "##### 5.9 safety_upgrade_status"
   ]
  },
  {
   "cell_type": "code",
   "execution_count": null,
   "id": "929ee76f",
   "metadata": {
    "id": "929ee76f",
    "outputId": "3b7f0e9e-a23b-4509-d9ea-c0c7160e3521",
    "scrolled": false
   },
   "outputs": [
    {
     "data": {
      "application/vnd.plotly.v1+json": {
       "config": {
        "plotlyServerURL": "https://plot.ly"
       },
       "data": [
        {
         "hovertemplate": "safety_upgrade_status=1.0<br>Manufacture Year=%{x}<br>Count of Cars=%{y}<extra></extra>",
         "legendgroup": "1.0",
         "line": {
          "color": "#636efa",
          "dash": "solid"
         },
         "marker": {
          "symbol": "circle"
         },
         "mode": "lines",
         "name": "1.0",
         "orientation": "v",
         "showlegend": true,
         "type": "scatter",
         "x": [
          2008,
          2009,
          2010,
          2011,
          2012,
          2013,
          2014,
          2015,
          2016,
          2017,
          2018,
          2019,
          2020,
          2021,
          2022,
          2023
         ],
         "xaxis": "x",
         "y": [
          24,
          28,
          64,
          300,
          500,
          1099,
          2235,
          5618,
          18233,
          47099,
          76686,
          85678,
          57931,
          29779,
          20534,
          13421
         ],
         "yaxis": "y"
        },
        {
         "hovertemplate": "safety_upgrade_status=2.0<br>Manufacture Year=%{x}<br>Count of Cars=%{y}<extra></extra>",
         "legendgroup": "2.0",
         "line": {
          "color": "#EF553B",
          "dash": "solid"
         },
         "marker": {
          "symbol": "circle"
         },
         "mode": "lines",
         "name": "2.0",
         "orientation": "v",
         "showlegend": true,
         "type": "scatter",
         "x": [
          2011,
          2012,
          2013,
          2014,
          2015,
          2016,
          2017,
          2018,
          2019,
          2020,
          2021,
          2022,
          2023
         ],
         "xaxis": "x",
         "y": [
          6,
          6,
          38,
          217,
          412,
          1911,
          8918,
          26026,
          55546,
          51688,
          33411,
          9920,
          8815
         ],
         "yaxis": "y"
        },
        {
         "hovertemplate": "safety_upgrade_status=3.0<br>Manufacture Year=%{x}<br>Count of Cars=%{y}<extra></extra>",
         "legendgroup": "3.0",
         "line": {
          "color": "#00cc96",
          "dash": "solid"
         },
         "marker": {
          "symbol": "circle"
         },
         "mode": "lines",
         "name": "3.0",
         "orientation": "v",
         "showlegend": true,
         "type": "scatter",
         "x": [
          2018,
          2019,
          2020,
          2021,
          2022,
          2023
         ],
         "xaxis": "x",
         "y": [
          46,
          10584,
          39520,
          101337,
          101454,
          82341
         ],
         "yaxis": "y"
        },
        {
         "hovertemplate": "safety_upgrade_status=4.0<br>Manufacture Year=%{x}<br>Count of Cars=%{y}<extra></extra>",
         "legendgroup": "4.0",
         "line": {
          "color": "#ab63fa",
          "dash": "solid"
         },
         "marker": {
          "symbol": "circle"
         },
         "mode": "lines",
         "name": "4.0",
         "orientation": "v",
         "showlegend": true,
         "type": "scatter",
         "x": [
          2018,
          2019,
          2020,
          2021,
          2022,
          2023
         ],
         "xaxis": "x",
         "y": [
          4,
          785,
          6992,
          35842,
          50392,
          62783
         ],
         "yaxis": "y"
        },
        {
         "hovertemplate": "safety_upgrade_status=5.0<br>Manufacture Year=%{x}<br>Count of Cars=%{y}<extra></extra>",
         "legendgroup": "5.0",
         "line": {
          "color": "#FFA15A",
          "dash": "solid"
         },
         "marker": {
          "symbol": "circle"
         },
         "mode": "lines",
         "name": "5.0",
         "orientation": "v",
         "showlegend": true,
         "type": "scatter",
         "x": [
          2018,
          2019,
          2020,
          2021,
          2022,
          2023
         ],
         "xaxis": "x",
         "y": [
          1,
          727,
          1816,
          30027,
          32848,
          30394
         ],
         "yaxis": "y"
        },
        {
         "hovertemplate": "safety_upgrade_status=6.0<br>Manufacture Year=%{x}<br>Count of Cars=%{y}<extra></extra>",
         "legendgroup": "6.0",
         "line": {
          "color": "#19d3f3",
          "dash": "solid"
         },
         "marker": {
          "symbol": "circle"
         },
         "mode": "lines",
         "name": "6.0",
         "orientation": "v",
         "showlegend": true,
         "type": "scatter",
         "x": [
          2020,
          2021,
          2022,
          2023
         ],
         "xaxis": "x",
         "y": [
          335,
          15309,
          37592,
          52298
         ],
         "yaxis": "y"
        },
        {
         "hovertemplate": "safety_upgrade_status=7.0<br>Manufacture Year=%{x}<br>Count of Cars=%{y}<extra></extra>",
         "legendgroup": "7.0",
         "line": {
          "color": "#FF6692",
          "dash": "solid"
         },
         "marker": {
          "symbol": "circle"
         },
         "mode": "lines",
         "name": "7.0",
         "orientation": "v",
         "showlegend": true,
         "type": "scatter",
         "x": [
          2021,
          2022,
          2023
         ],
         "xaxis": "x",
         "y": [
          1336,
          4717,
          11063
         ],
         "yaxis": "y"
        },
        {
         "hovertemplate": "safety_upgrade_status=8.0<br>Manufacture Year=%{x}<br>Count of Cars=%{y}<extra></extra>",
         "legendgroup": "8.0",
         "line": {
          "color": "#B6E880",
          "dash": "solid"
         },
         "marker": {
          "symbol": "circle"
         },
         "mode": "lines",
         "name": "8.0",
         "orientation": "v",
         "showlegend": true,
         "type": "scatter",
         "x": [
          2023
         ],
         "xaxis": "x",
         "y": [
          500
         ],
         "yaxis": "y"
        }
       ],
       "layout": {
        "legend": {
         "title": {
          "text": "safety_upgrade_status"
         },
         "tracegroupgap": 0
        },
        "template": {
         "data": {
          "bar": [
           {
            "error_x": {
             "color": "#2a3f5f"
            },
            "error_y": {
             "color": "#2a3f5f"
            },
            "marker": {
             "line": {
              "color": "#E5ECF6",
              "width": 0.5
             },
             "pattern": {
              "fillmode": "overlay",
              "size": 10,
              "solidity": 0.2
             }
            },
            "type": "bar"
           }
          ],
          "barpolar": [
           {
            "marker": {
             "line": {
              "color": "#E5ECF6",
              "width": 0.5
             },
             "pattern": {
              "fillmode": "overlay",
              "size": 10,
              "solidity": 0.2
             }
            },
            "type": "barpolar"
           }
          ],
          "carpet": [
           {
            "aaxis": {
             "endlinecolor": "#2a3f5f",
             "gridcolor": "white",
             "linecolor": "white",
             "minorgridcolor": "white",
             "startlinecolor": "#2a3f5f"
            },
            "baxis": {
             "endlinecolor": "#2a3f5f",
             "gridcolor": "white",
             "linecolor": "white",
             "minorgridcolor": "white",
             "startlinecolor": "#2a3f5f"
            },
            "type": "carpet"
           }
          ],
          "choropleth": [
           {
            "colorbar": {
             "outlinewidth": 0,
             "ticks": ""
            },
            "type": "choropleth"
           }
          ],
          "contour": [
           {
            "colorbar": {
             "outlinewidth": 0,
             "ticks": ""
            },
            "colorscale": [
             [
              0,
              "#0d0887"
             ],
             [
              0.1111111111111111,
              "#46039f"
             ],
             [
              0.2222222222222222,
              "#7201a8"
             ],
             [
              0.3333333333333333,
              "#9c179e"
             ],
             [
              0.4444444444444444,
              "#bd3786"
             ],
             [
              0.5555555555555556,
              "#d8576b"
             ],
             [
              0.6666666666666666,
              "#ed7953"
             ],
             [
              0.7777777777777778,
              "#fb9f3a"
             ],
             [
              0.8888888888888888,
              "#fdca26"
             ],
             [
              1,
              "#f0f921"
             ]
            ],
            "type": "contour"
           }
          ],
          "contourcarpet": [
           {
            "colorbar": {
             "outlinewidth": 0,
             "ticks": ""
            },
            "type": "contourcarpet"
           }
          ],
          "heatmap": [
           {
            "colorbar": {
             "outlinewidth": 0,
             "ticks": ""
            },
            "colorscale": [
             [
              0,
              "#0d0887"
             ],
             [
              0.1111111111111111,
              "#46039f"
             ],
             [
              0.2222222222222222,
              "#7201a8"
             ],
             [
              0.3333333333333333,
              "#9c179e"
             ],
             [
              0.4444444444444444,
              "#bd3786"
             ],
             [
              0.5555555555555556,
              "#d8576b"
             ],
             [
              0.6666666666666666,
              "#ed7953"
             ],
             [
              0.7777777777777778,
              "#fb9f3a"
             ],
             [
              0.8888888888888888,
              "#fdca26"
             ],
             [
              1,
              "#f0f921"
             ]
            ],
            "type": "heatmap"
           }
          ],
          "heatmapgl": [
           {
            "colorbar": {
             "outlinewidth": 0,
             "ticks": ""
            },
            "colorscale": [
             [
              0,
              "#0d0887"
             ],
             [
              0.1111111111111111,
              "#46039f"
             ],
             [
              0.2222222222222222,
              "#7201a8"
             ],
             [
              0.3333333333333333,
              "#9c179e"
             ],
             [
              0.4444444444444444,
              "#bd3786"
             ],
             [
              0.5555555555555556,
              "#d8576b"
             ],
             [
              0.6666666666666666,
              "#ed7953"
             ],
             [
              0.7777777777777778,
              "#fb9f3a"
             ],
             [
              0.8888888888888888,
              "#fdca26"
             ],
             [
              1,
              "#f0f921"
             ]
            ],
            "type": "heatmapgl"
           }
          ],
          "histogram": [
           {
            "marker": {
             "pattern": {
              "fillmode": "overlay",
              "size": 10,
              "solidity": 0.2
             }
            },
            "type": "histogram"
           }
          ],
          "histogram2d": [
           {
            "colorbar": {
             "outlinewidth": 0,
             "ticks": ""
            },
            "colorscale": [
             [
              0,
              "#0d0887"
             ],
             [
              0.1111111111111111,
              "#46039f"
             ],
             [
              0.2222222222222222,
              "#7201a8"
             ],
             [
              0.3333333333333333,
              "#9c179e"
             ],
             [
              0.4444444444444444,
              "#bd3786"
             ],
             [
              0.5555555555555556,
              "#d8576b"
             ],
             [
              0.6666666666666666,
              "#ed7953"
             ],
             [
              0.7777777777777778,
              "#fb9f3a"
             ],
             [
              0.8888888888888888,
              "#fdca26"
             ],
             [
              1,
              "#f0f921"
             ]
            ],
            "type": "histogram2d"
           }
          ],
          "histogram2dcontour": [
           {
            "colorbar": {
             "outlinewidth": 0,
             "ticks": ""
            },
            "colorscale": [
             [
              0,
              "#0d0887"
             ],
             [
              0.1111111111111111,
              "#46039f"
             ],
             [
              0.2222222222222222,
              "#7201a8"
             ],
             [
              0.3333333333333333,
              "#9c179e"
             ],
             [
              0.4444444444444444,
              "#bd3786"
             ],
             [
              0.5555555555555556,
              "#d8576b"
             ],
             [
              0.6666666666666666,
              "#ed7953"
             ],
             [
              0.7777777777777778,
              "#fb9f3a"
             ],
             [
              0.8888888888888888,
              "#fdca26"
             ],
             [
              1,
              "#f0f921"
             ]
            ],
            "type": "histogram2dcontour"
           }
          ],
          "mesh3d": [
           {
            "colorbar": {
             "outlinewidth": 0,
             "ticks": ""
            },
            "type": "mesh3d"
           }
          ],
          "parcoords": [
           {
            "line": {
             "colorbar": {
              "outlinewidth": 0,
              "ticks": ""
             }
            },
            "type": "parcoords"
           }
          ],
          "pie": [
           {
            "automargin": true,
            "type": "pie"
           }
          ],
          "scatter": [
           {
            "fillpattern": {
             "fillmode": "overlay",
             "size": 10,
             "solidity": 0.2
            },
            "type": "scatter"
           }
          ],
          "scatter3d": [
           {
            "line": {
             "colorbar": {
              "outlinewidth": 0,
              "ticks": ""
             }
            },
            "marker": {
             "colorbar": {
              "outlinewidth": 0,
              "ticks": ""
             }
            },
            "type": "scatter3d"
           }
          ],
          "scattercarpet": [
           {
            "marker": {
             "colorbar": {
              "outlinewidth": 0,
              "ticks": ""
             }
            },
            "type": "scattercarpet"
           }
          ],
          "scattergeo": [
           {
            "marker": {
             "colorbar": {
              "outlinewidth": 0,
              "ticks": ""
             }
            },
            "type": "scattergeo"
           }
          ],
          "scattergl": [
           {
            "marker": {
             "colorbar": {
              "outlinewidth": 0,
              "ticks": ""
             }
            },
            "type": "scattergl"
           }
          ],
          "scattermapbox": [
           {
            "marker": {
             "colorbar": {
              "outlinewidth": 0,
              "ticks": ""
             }
            },
            "type": "scattermapbox"
           }
          ],
          "scatterpolar": [
           {
            "marker": {
             "colorbar": {
              "outlinewidth": 0,
              "ticks": ""
             }
            },
            "type": "scatterpolar"
           }
          ],
          "scatterpolargl": [
           {
            "marker": {
             "colorbar": {
              "outlinewidth": 0,
              "ticks": ""
             }
            },
            "type": "scatterpolargl"
           }
          ],
          "scatterternary": [
           {
            "marker": {
             "colorbar": {
              "outlinewidth": 0,
              "ticks": ""
             }
            },
            "type": "scatterternary"
           }
          ],
          "surface": [
           {
            "colorbar": {
             "outlinewidth": 0,
             "ticks": ""
            },
            "colorscale": [
             [
              0,
              "#0d0887"
             ],
             [
              0.1111111111111111,
              "#46039f"
             ],
             [
              0.2222222222222222,
              "#7201a8"
             ],
             [
              0.3333333333333333,
              "#9c179e"
             ],
             [
              0.4444444444444444,
              "#bd3786"
             ],
             [
              0.5555555555555556,
              "#d8576b"
             ],
             [
              0.6666666666666666,
              "#ed7953"
             ],
             [
              0.7777777777777778,
              "#fb9f3a"
             ],
             [
              0.8888888888888888,
              "#fdca26"
             ],
             [
              1,
              "#f0f921"
             ]
            ],
            "type": "surface"
           }
          ],
          "table": [
           {
            "cells": {
             "fill": {
              "color": "#EBF0F8"
             },
             "line": {
              "color": "white"
             }
            },
            "header": {
             "fill": {
              "color": "#C8D4E3"
             },
             "line": {
              "color": "white"
             }
            },
            "type": "table"
           }
          ]
         },
         "layout": {
          "annotationdefaults": {
           "arrowcolor": "#2a3f5f",
           "arrowhead": 0,
           "arrowwidth": 1
          },
          "autotypenumbers": "strict",
          "coloraxis": {
           "colorbar": {
            "outlinewidth": 0,
            "ticks": ""
           }
          },
          "colorscale": {
           "diverging": [
            [
             0,
             "#8e0152"
            ],
            [
             0.1,
             "#c51b7d"
            ],
            [
             0.2,
             "#de77ae"
            ],
            [
             0.3,
             "#f1b6da"
            ],
            [
             0.4,
             "#fde0ef"
            ],
            [
             0.5,
             "#f7f7f7"
            ],
            [
             0.6,
             "#e6f5d0"
            ],
            [
             0.7,
             "#b8e186"
            ],
            [
             0.8,
             "#7fbc41"
            ],
            [
             0.9,
             "#4d9221"
            ],
            [
             1,
             "#276419"
            ]
           ],
           "sequential": [
            [
             0,
             "#0d0887"
            ],
            [
             0.1111111111111111,
             "#46039f"
            ],
            [
             0.2222222222222222,
             "#7201a8"
            ],
            [
             0.3333333333333333,
             "#9c179e"
            ],
            [
             0.4444444444444444,
             "#bd3786"
            ],
            [
             0.5555555555555556,
             "#d8576b"
            ],
            [
             0.6666666666666666,
             "#ed7953"
            ],
            [
             0.7777777777777778,
             "#fb9f3a"
            ],
            [
             0.8888888888888888,
             "#fdca26"
            ],
            [
             1,
             "#f0f921"
            ]
           ],
           "sequentialminus": [
            [
             0,
             "#0d0887"
            ],
            [
             0.1111111111111111,
             "#46039f"
            ],
            [
             0.2222222222222222,
             "#7201a8"
            ],
            [
             0.3333333333333333,
             "#9c179e"
            ],
            [
             0.4444444444444444,
             "#bd3786"
            ],
            [
             0.5555555555555556,
             "#d8576b"
            ],
            [
             0.6666666666666666,
             "#ed7953"
            ],
            [
             0.7777777777777778,
             "#fb9f3a"
            ],
            [
             0.8888888888888888,
             "#fdca26"
            ],
            [
             1,
             "#f0f921"
            ]
           ]
          },
          "colorway": [
           "#636efa",
           "#EF553B",
           "#00cc96",
           "#ab63fa",
           "#FFA15A",
           "#19d3f3",
           "#FF6692",
           "#B6E880",
           "#FF97FF",
           "#FECB52"
          ],
          "font": {
           "color": "#2a3f5f"
          },
          "geo": {
           "bgcolor": "white",
           "lakecolor": "white",
           "landcolor": "#E5ECF6",
           "showlakes": true,
           "showland": true,
           "subunitcolor": "white"
          },
          "hoverlabel": {
           "align": "left"
          },
          "hovermode": "closest",
          "mapbox": {
           "style": "light"
          },
          "paper_bgcolor": "white",
          "plot_bgcolor": "#E5ECF6",
          "polar": {
           "angularaxis": {
            "gridcolor": "white",
            "linecolor": "white",
            "ticks": ""
           },
           "bgcolor": "#E5ECF6",
           "radialaxis": {
            "gridcolor": "white",
            "linecolor": "white",
            "ticks": ""
           }
          },
          "scene": {
           "xaxis": {
            "backgroundcolor": "#E5ECF6",
            "gridcolor": "white",
            "gridwidth": 2,
            "linecolor": "white",
            "showbackground": true,
            "ticks": "",
            "zerolinecolor": "white"
           },
           "yaxis": {
            "backgroundcolor": "#E5ECF6",
            "gridcolor": "white",
            "gridwidth": 2,
            "linecolor": "white",
            "showbackground": true,
            "ticks": "",
            "zerolinecolor": "white"
           },
           "zaxis": {
            "backgroundcolor": "#E5ECF6",
            "gridcolor": "white",
            "gridwidth": 2,
            "linecolor": "white",
            "showbackground": true,
            "ticks": "",
            "zerolinecolor": "white"
           }
          },
          "shapedefaults": {
           "line": {
            "color": "#2a3f5f"
           }
          },
          "ternary": {
           "aaxis": {
            "gridcolor": "white",
            "linecolor": "white",
            "ticks": ""
           },
           "baxis": {
            "gridcolor": "white",
            "linecolor": "white",
            "ticks": ""
           },
           "bgcolor": "#E5ECF6",
           "caxis": {
            "gridcolor": "white",
            "linecolor": "white",
            "ticks": ""
           }
          },
          "title": {
           "x": 0.05
          },
          "xaxis": {
           "automargin": true,
           "gridcolor": "white",
           "linecolor": "white",
           "ticks": "",
           "title": {
            "standoff": 15
           },
           "zerolinecolor": "white",
           "zerolinewidth": 2
          },
          "yaxis": {
           "automargin": true,
           "gridcolor": "white",
           "linecolor": "white",
           "ticks": "",
           "title": {
            "standoff": 15
           },
           "zerolinecolor": "white",
           "zerolinewidth": 2
          }
         }
        },
        "title": {
         "font": {
          "color": "black",
          "family": "Arial",
          "size": 24
         },
         "text": "Count of Cars by Manufacture Year and safety_upgrade_status",
         "x": 0.5,
         "xanchor": "center",
         "y": 0.9,
         "yanchor": "top"
        },
        "xaxis": {
         "anchor": "y",
         "domain": [
          0,
          1
         ],
         "title": {
          "font": {
           "color": "blue",
           "family": "Helvetica",
           "size": 18
          },
          "text": "Manufacture Year"
         }
        },
        "yaxis": {
         "anchor": "x",
         "domain": [
          0,
          1
         ],
         "title": {
          "font": {
           "color": "blue",
           "family": "Helvetica",
           "size": 18
          },
          "text": "Count of Cars"
         }
        }
       }
      },
      "text/html": [
       "<div>                            <div id=\"25c49fa6-ca12-42c5-9d62-a26b5b4d7fed\" class=\"plotly-graph-div\" style=\"height:525px; width:100%;\"></div>            <script type=\"text/javascript\">                require([\"plotly\"], function(Plotly) {                    window.PLOTLYENV=window.PLOTLYENV || {};                                    if (document.getElementById(\"25c49fa6-ca12-42c5-9d62-a26b5b4d7fed\")) {                    Plotly.newPlot(                        \"25c49fa6-ca12-42c5-9d62-a26b5b4d7fed\",                        [{\"hovertemplate\":\"safety_upgrade_status=1.0\\u003cbr\\u003eManufacture Year=%{x}\\u003cbr\\u003eCount of Cars=%{y}\\u003cextra\\u003e\\u003c\\u002fextra\\u003e\",\"legendgroup\":\"1.0\",\"line\":{\"color\":\"#636efa\",\"dash\":\"solid\"},\"marker\":{\"symbol\":\"circle\"},\"mode\":\"lines\",\"name\":\"1.0\",\"orientation\":\"v\",\"showlegend\":true,\"x\":[2008,2009,2010,2011,2012,2013,2014,2015,2016,2017,2018,2019,2020,2021,2022,2023],\"xaxis\":\"x\",\"y\":[24,28,64,300,500,1099,2235,5618,18233,47099,76686,85678,57931,29779,20534,13421],\"yaxis\":\"y\",\"type\":\"scatter\"},{\"hovertemplate\":\"safety_upgrade_status=2.0\\u003cbr\\u003eManufacture Year=%{x}\\u003cbr\\u003eCount of Cars=%{y}\\u003cextra\\u003e\\u003c\\u002fextra\\u003e\",\"legendgroup\":\"2.0\",\"line\":{\"color\":\"#EF553B\",\"dash\":\"solid\"},\"marker\":{\"symbol\":\"circle\"},\"mode\":\"lines\",\"name\":\"2.0\",\"orientation\":\"v\",\"showlegend\":true,\"x\":[2011,2012,2013,2014,2015,2016,2017,2018,2019,2020,2021,2022,2023],\"xaxis\":\"x\",\"y\":[6,6,38,217,412,1911,8918,26026,55546,51688,33411,9920,8815],\"yaxis\":\"y\",\"type\":\"scatter\"},{\"hovertemplate\":\"safety_upgrade_status=3.0\\u003cbr\\u003eManufacture Year=%{x}\\u003cbr\\u003eCount of Cars=%{y}\\u003cextra\\u003e\\u003c\\u002fextra\\u003e\",\"legendgroup\":\"3.0\",\"line\":{\"color\":\"#00cc96\",\"dash\":\"solid\"},\"marker\":{\"symbol\":\"circle\"},\"mode\":\"lines\",\"name\":\"3.0\",\"orientation\":\"v\",\"showlegend\":true,\"x\":[2018,2019,2020,2021,2022,2023],\"xaxis\":\"x\",\"y\":[46,10584,39520,101337,101454,82341],\"yaxis\":\"y\",\"type\":\"scatter\"},{\"hovertemplate\":\"safety_upgrade_status=4.0\\u003cbr\\u003eManufacture Year=%{x}\\u003cbr\\u003eCount of Cars=%{y}\\u003cextra\\u003e\\u003c\\u002fextra\\u003e\",\"legendgroup\":\"4.0\",\"line\":{\"color\":\"#ab63fa\",\"dash\":\"solid\"},\"marker\":{\"symbol\":\"circle\"},\"mode\":\"lines\",\"name\":\"4.0\",\"orientation\":\"v\",\"showlegend\":true,\"x\":[2018,2019,2020,2021,2022,2023],\"xaxis\":\"x\",\"y\":[4,785,6992,35842,50392,62783],\"yaxis\":\"y\",\"type\":\"scatter\"},{\"hovertemplate\":\"safety_upgrade_status=5.0\\u003cbr\\u003eManufacture Year=%{x}\\u003cbr\\u003eCount of Cars=%{y}\\u003cextra\\u003e\\u003c\\u002fextra\\u003e\",\"legendgroup\":\"5.0\",\"line\":{\"color\":\"#FFA15A\",\"dash\":\"solid\"},\"marker\":{\"symbol\":\"circle\"},\"mode\":\"lines\",\"name\":\"5.0\",\"orientation\":\"v\",\"showlegend\":true,\"x\":[2018,2019,2020,2021,2022,2023],\"xaxis\":\"x\",\"y\":[1,727,1816,30027,32848,30394],\"yaxis\":\"y\",\"type\":\"scatter\"},{\"hovertemplate\":\"safety_upgrade_status=6.0\\u003cbr\\u003eManufacture Year=%{x}\\u003cbr\\u003eCount of Cars=%{y}\\u003cextra\\u003e\\u003c\\u002fextra\\u003e\",\"legendgroup\":\"6.0\",\"line\":{\"color\":\"#19d3f3\",\"dash\":\"solid\"},\"marker\":{\"symbol\":\"circle\"},\"mode\":\"lines\",\"name\":\"6.0\",\"orientation\":\"v\",\"showlegend\":true,\"x\":[2020,2021,2022,2023],\"xaxis\":\"x\",\"y\":[335,15309,37592,52298],\"yaxis\":\"y\",\"type\":\"scatter\"},{\"hovertemplate\":\"safety_upgrade_status=7.0\\u003cbr\\u003eManufacture Year=%{x}\\u003cbr\\u003eCount of Cars=%{y}\\u003cextra\\u003e\\u003c\\u002fextra\\u003e\",\"legendgroup\":\"7.0\",\"line\":{\"color\":\"#FF6692\",\"dash\":\"solid\"},\"marker\":{\"symbol\":\"circle\"},\"mode\":\"lines\",\"name\":\"7.0\",\"orientation\":\"v\",\"showlegend\":true,\"x\":[2021,2022,2023],\"xaxis\":\"x\",\"y\":[1336,4717,11063],\"yaxis\":\"y\",\"type\":\"scatter\"},{\"hovertemplate\":\"safety_upgrade_status=8.0\\u003cbr\\u003eManufacture Year=%{x}\\u003cbr\\u003eCount of Cars=%{y}\\u003cextra\\u003e\\u003c\\u002fextra\\u003e\",\"legendgroup\":\"8.0\",\"line\":{\"color\":\"#B6E880\",\"dash\":\"solid\"},\"marker\":{\"symbol\":\"circle\"},\"mode\":\"lines\",\"name\":\"8.0\",\"orientation\":\"v\",\"showlegend\":true,\"x\":[2023],\"xaxis\":\"x\",\"y\":[500],\"yaxis\":\"y\",\"type\":\"scatter\"}],                        {\"template\":{\"data\":{\"histogram2dcontour\":[{\"type\":\"histogram2dcontour\",\"colorbar\":{\"outlinewidth\":0,\"ticks\":\"\"},\"colorscale\":[[0.0,\"#0d0887\"],[0.1111111111111111,\"#46039f\"],[0.2222222222222222,\"#7201a8\"],[0.3333333333333333,\"#9c179e\"],[0.4444444444444444,\"#bd3786\"],[0.5555555555555556,\"#d8576b\"],[0.6666666666666666,\"#ed7953\"],[0.7777777777777778,\"#fb9f3a\"],[0.8888888888888888,\"#fdca26\"],[1.0,\"#f0f921\"]]}],\"choropleth\":[{\"type\":\"choropleth\",\"colorbar\":{\"outlinewidth\":0,\"ticks\":\"\"}}],\"histogram2d\":[{\"type\":\"histogram2d\",\"colorbar\":{\"outlinewidth\":0,\"ticks\":\"\"},\"colorscale\":[[0.0,\"#0d0887\"],[0.1111111111111111,\"#46039f\"],[0.2222222222222222,\"#7201a8\"],[0.3333333333333333,\"#9c179e\"],[0.4444444444444444,\"#bd3786\"],[0.5555555555555556,\"#d8576b\"],[0.6666666666666666,\"#ed7953\"],[0.7777777777777778,\"#fb9f3a\"],[0.8888888888888888,\"#fdca26\"],[1.0,\"#f0f921\"]]}],\"heatmap\":[{\"type\":\"heatmap\",\"colorbar\":{\"outlinewidth\":0,\"ticks\":\"\"},\"colorscale\":[[0.0,\"#0d0887\"],[0.1111111111111111,\"#46039f\"],[0.2222222222222222,\"#7201a8\"],[0.3333333333333333,\"#9c179e\"],[0.4444444444444444,\"#bd3786\"],[0.5555555555555556,\"#d8576b\"],[0.6666666666666666,\"#ed7953\"],[0.7777777777777778,\"#fb9f3a\"],[0.8888888888888888,\"#fdca26\"],[1.0,\"#f0f921\"]]}],\"heatmapgl\":[{\"type\":\"heatmapgl\",\"colorbar\":{\"outlinewidth\":0,\"ticks\":\"\"},\"colorscale\":[[0.0,\"#0d0887\"],[0.1111111111111111,\"#46039f\"],[0.2222222222222222,\"#7201a8\"],[0.3333333333333333,\"#9c179e\"],[0.4444444444444444,\"#bd3786\"],[0.5555555555555556,\"#d8576b\"],[0.6666666666666666,\"#ed7953\"],[0.7777777777777778,\"#fb9f3a\"],[0.8888888888888888,\"#fdca26\"],[1.0,\"#f0f921\"]]}],\"contourcarpet\":[{\"type\":\"contourcarpet\",\"colorbar\":{\"outlinewidth\":0,\"ticks\":\"\"}}],\"contour\":[{\"type\":\"contour\",\"colorbar\":{\"outlinewidth\":0,\"ticks\":\"\"},\"colorscale\":[[0.0,\"#0d0887\"],[0.1111111111111111,\"#46039f\"],[0.2222222222222222,\"#7201a8\"],[0.3333333333333333,\"#9c179e\"],[0.4444444444444444,\"#bd3786\"],[0.5555555555555556,\"#d8576b\"],[0.6666666666666666,\"#ed7953\"],[0.7777777777777778,\"#fb9f3a\"],[0.8888888888888888,\"#fdca26\"],[1.0,\"#f0f921\"]]}],\"surface\":[{\"type\":\"surface\",\"colorbar\":{\"outlinewidth\":0,\"ticks\":\"\"},\"colorscale\":[[0.0,\"#0d0887\"],[0.1111111111111111,\"#46039f\"],[0.2222222222222222,\"#7201a8\"],[0.3333333333333333,\"#9c179e\"],[0.4444444444444444,\"#bd3786\"],[0.5555555555555556,\"#d8576b\"],[0.6666666666666666,\"#ed7953\"],[0.7777777777777778,\"#fb9f3a\"],[0.8888888888888888,\"#fdca26\"],[1.0,\"#f0f921\"]]}],\"mesh3d\":[{\"type\":\"mesh3d\",\"colorbar\":{\"outlinewidth\":0,\"ticks\":\"\"}}],\"scatter\":[{\"fillpattern\":{\"fillmode\":\"overlay\",\"size\":10,\"solidity\":0.2},\"type\":\"scatter\"}],\"parcoords\":[{\"type\":\"parcoords\",\"line\":{\"colorbar\":{\"outlinewidth\":0,\"ticks\":\"\"}}}],\"scatterpolargl\":[{\"type\":\"scatterpolargl\",\"marker\":{\"colorbar\":{\"outlinewidth\":0,\"ticks\":\"\"}}}],\"bar\":[{\"error_x\":{\"color\":\"#2a3f5f\"},\"error_y\":{\"color\":\"#2a3f5f\"},\"marker\":{\"line\":{\"color\":\"#E5ECF6\",\"width\":0.5},\"pattern\":{\"fillmode\":\"overlay\",\"size\":10,\"solidity\":0.2}},\"type\":\"bar\"}],\"scattergeo\":[{\"type\":\"scattergeo\",\"marker\":{\"colorbar\":{\"outlinewidth\":0,\"ticks\":\"\"}}}],\"scatterpolar\":[{\"type\":\"scatterpolar\",\"marker\":{\"colorbar\":{\"outlinewidth\":0,\"ticks\":\"\"}}}],\"histogram\":[{\"marker\":{\"pattern\":{\"fillmode\":\"overlay\",\"size\":10,\"solidity\":0.2}},\"type\":\"histogram\"}],\"scattergl\":[{\"type\":\"scattergl\",\"marker\":{\"colorbar\":{\"outlinewidth\":0,\"ticks\":\"\"}}}],\"scatter3d\":[{\"type\":\"scatter3d\",\"line\":{\"colorbar\":{\"outlinewidth\":0,\"ticks\":\"\"}},\"marker\":{\"colorbar\":{\"outlinewidth\":0,\"ticks\":\"\"}}}],\"scattermapbox\":[{\"type\":\"scattermapbox\",\"marker\":{\"colorbar\":{\"outlinewidth\":0,\"ticks\":\"\"}}}],\"scatterternary\":[{\"type\":\"scatterternary\",\"marker\":{\"colorbar\":{\"outlinewidth\":0,\"ticks\":\"\"}}}],\"scattercarpet\":[{\"type\":\"scattercarpet\",\"marker\":{\"colorbar\":{\"outlinewidth\":0,\"ticks\":\"\"}}}],\"carpet\":[{\"aaxis\":{\"endlinecolor\":\"#2a3f5f\",\"gridcolor\":\"white\",\"linecolor\":\"white\",\"minorgridcolor\":\"white\",\"startlinecolor\":\"#2a3f5f\"},\"baxis\":{\"endlinecolor\":\"#2a3f5f\",\"gridcolor\":\"white\",\"linecolor\":\"white\",\"minorgridcolor\":\"white\",\"startlinecolor\":\"#2a3f5f\"},\"type\":\"carpet\"}],\"table\":[{\"cells\":{\"fill\":{\"color\":\"#EBF0F8\"},\"line\":{\"color\":\"white\"}},\"header\":{\"fill\":{\"color\":\"#C8D4E3\"},\"line\":{\"color\":\"white\"}},\"type\":\"table\"}],\"barpolar\":[{\"marker\":{\"line\":{\"color\":\"#E5ECF6\",\"width\":0.5},\"pattern\":{\"fillmode\":\"overlay\",\"size\":10,\"solidity\":0.2}},\"type\":\"barpolar\"}],\"pie\":[{\"automargin\":true,\"type\":\"pie\"}]},\"layout\":{\"autotypenumbers\":\"strict\",\"colorway\":[\"#636efa\",\"#EF553B\",\"#00cc96\",\"#ab63fa\",\"#FFA15A\",\"#19d3f3\",\"#FF6692\",\"#B6E880\",\"#FF97FF\",\"#FECB52\"],\"font\":{\"color\":\"#2a3f5f\"},\"hovermode\":\"closest\",\"hoverlabel\":{\"align\":\"left\"},\"paper_bgcolor\":\"white\",\"plot_bgcolor\":\"#E5ECF6\",\"polar\":{\"bgcolor\":\"#E5ECF6\",\"angularaxis\":{\"gridcolor\":\"white\",\"linecolor\":\"white\",\"ticks\":\"\"},\"radialaxis\":{\"gridcolor\":\"white\",\"linecolor\":\"white\",\"ticks\":\"\"}},\"ternary\":{\"bgcolor\":\"#E5ECF6\",\"aaxis\":{\"gridcolor\":\"white\",\"linecolor\":\"white\",\"ticks\":\"\"},\"baxis\":{\"gridcolor\":\"white\",\"linecolor\":\"white\",\"ticks\":\"\"},\"caxis\":{\"gridcolor\":\"white\",\"linecolor\":\"white\",\"ticks\":\"\"}},\"coloraxis\":{\"colorbar\":{\"outlinewidth\":0,\"ticks\":\"\"}},\"colorscale\":{\"sequential\":[[0.0,\"#0d0887\"],[0.1111111111111111,\"#46039f\"],[0.2222222222222222,\"#7201a8\"],[0.3333333333333333,\"#9c179e\"],[0.4444444444444444,\"#bd3786\"],[0.5555555555555556,\"#d8576b\"],[0.6666666666666666,\"#ed7953\"],[0.7777777777777778,\"#fb9f3a\"],[0.8888888888888888,\"#fdca26\"],[1.0,\"#f0f921\"]],\"sequentialminus\":[[0.0,\"#0d0887\"],[0.1111111111111111,\"#46039f\"],[0.2222222222222222,\"#7201a8\"],[0.3333333333333333,\"#9c179e\"],[0.4444444444444444,\"#bd3786\"],[0.5555555555555556,\"#d8576b\"],[0.6666666666666666,\"#ed7953\"],[0.7777777777777778,\"#fb9f3a\"],[0.8888888888888888,\"#fdca26\"],[1.0,\"#f0f921\"]],\"diverging\":[[0,\"#8e0152\"],[0.1,\"#c51b7d\"],[0.2,\"#de77ae\"],[0.3,\"#f1b6da\"],[0.4,\"#fde0ef\"],[0.5,\"#f7f7f7\"],[0.6,\"#e6f5d0\"],[0.7,\"#b8e186\"],[0.8,\"#7fbc41\"],[0.9,\"#4d9221\"],[1,\"#276419\"]]},\"xaxis\":{\"gridcolor\":\"white\",\"linecolor\":\"white\",\"ticks\":\"\",\"title\":{\"standoff\":15},\"zerolinecolor\":\"white\",\"automargin\":true,\"zerolinewidth\":2},\"yaxis\":{\"gridcolor\":\"white\",\"linecolor\":\"white\",\"ticks\":\"\",\"title\":{\"standoff\":15},\"zerolinecolor\":\"white\",\"automargin\":true,\"zerolinewidth\":2},\"scene\":{\"xaxis\":{\"backgroundcolor\":\"#E5ECF6\",\"gridcolor\":\"white\",\"linecolor\":\"white\",\"showbackground\":true,\"ticks\":\"\",\"zerolinecolor\":\"white\",\"gridwidth\":2},\"yaxis\":{\"backgroundcolor\":\"#E5ECF6\",\"gridcolor\":\"white\",\"linecolor\":\"white\",\"showbackground\":true,\"ticks\":\"\",\"zerolinecolor\":\"white\",\"gridwidth\":2},\"zaxis\":{\"backgroundcolor\":\"#E5ECF6\",\"gridcolor\":\"white\",\"linecolor\":\"white\",\"showbackground\":true,\"ticks\":\"\",\"zerolinecolor\":\"white\",\"gridwidth\":2}},\"shapedefaults\":{\"line\":{\"color\":\"#2a3f5f\"}},\"annotationdefaults\":{\"arrowcolor\":\"#2a3f5f\",\"arrowhead\":0,\"arrowwidth\":1},\"geo\":{\"bgcolor\":\"white\",\"landcolor\":\"#E5ECF6\",\"subunitcolor\":\"white\",\"showland\":true,\"showlakes\":true,\"lakecolor\":\"white\"},\"title\":{\"x\":0.05},\"mapbox\":{\"style\":\"light\"}}},\"xaxis\":{\"anchor\":\"y\",\"domain\":[0.0,1.0],\"title\":{\"text\":\"Manufacture Year\",\"font\":{\"family\":\"Helvetica\",\"size\":18,\"color\":\"blue\"}}},\"yaxis\":{\"anchor\":\"x\",\"domain\":[0.0,1.0],\"title\":{\"text\":\"Count of Cars\",\"font\":{\"family\":\"Helvetica\",\"size\":18,\"color\":\"blue\"}}},\"legend\":{\"title\":{\"text\":\"safety_upgrade_status\"},\"tracegroupgap\":0},\"title\":{\"text\":\"Count of Cars by Manufacture Year and safety_upgrade_status\",\"font\":{\"family\":\"Arial\",\"size\":24,\"color\":\"black\"},\"y\":0.9,\"x\":0.5,\"xanchor\":\"center\",\"yanchor\":\"top\"}},                        {\"responsive\": true}                    ).then(function(){\n",
       "                            \n",
       "var gd = document.getElementById('25c49fa6-ca12-42c5-9d62-a26b5b4d7fed');\n",
       "var x = new MutationObserver(function (mutations, observer) {{\n",
       "        var display = window.getComputedStyle(gd).display;\n",
       "        if (!display || display === 'none') {{\n",
       "            console.log([gd, 'removed!']);\n",
       "            Plotly.purge(gd);\n",
       "            observer.disconnect();\n",
       "        }}\n",
       "}});\n",
       "\n",
       "// Listen for the removal of the full notebook cells\n",
       "var notebookContainer = gd.closest('#notebook-container');\n",
       "if (notebookContainer) {{\n",
       "    x.observe(notebookContainer, {childList: true});\n",
       "}}\n",
       "\n",
       "// Listen for the clearing of the current output cell\n",
       "var outputEl = gd.closest('.output');\n",
       "if (outputEl) {{\n",
       "    x.observe(outputEl, {childList: true});\n",
       "}}\n",
       "\n",
       "                        })                };                });            </script>        </div>"
      ]
     },
     "metadata": {},
     "output_type": "display_data"
    }
   ],
   "source": [
    "# An interactive line graph with plotly\n",
    "safety_upgrade_status = data_merged_raw.groupby(['manufacture_year','safety_upgrade_status'])['vehicle_number'].count().to_frame().\\\n",
    "                        rename(columns={'vehicle_number': 'count_cars'}).reset_index()\n",
    "\n",
    "safety_upgrade_status = safety_upgrade_status[safety_upgrade_status['manufacture_year'] != 2024]\n",
    "\n",
    "#creating a list of unique values for sorting\n",
    "sorted_groups = sorted(safety_upgrade_status['safety_upgrade_status'].unique())\n",
    "\n",
    "# Creating an interactive line graph with Plotly Express\n",
    "fig = px.line(safety_upgrade_status,\n",
    "              x='manufacture_year',  # Year on the X-axis\n",
    "              y='count_cars',        # Count of cars on the Y-axis\n",
    "              color='safety_upgrade_status',  # Different lines for each fuel_type\n",
    "              title='Count of Cars by Manufacture Year and safety_upgrade_status',\n",
    "              labels={'count_cars': 'Count of Cars', 'manufacture_year': 'Manufacture Year',\n",
    "                      'safety_upgrade_status': 'safety_upgrade_status'},\n",
    "              category_orders={'safety_upgrade_status': sorted_groups})\n",
    "\n",
    "# Update layout for title and labels\n",
    "fig.update_layout(\n",
    "    title={\n",
    "        'text': 'Count of Cars by Manufacture Year and safety_upgrade_status',\n",
    "        'y': 0.9,  # You can adjust the position with y\n",
    "        'x': 0.5,  # Centering the title using x\n",
    "        'xanchor': 'center',\n",
    "        'yanchor': 'top',\n",
    "        'font': {\n",
    "            'family': 'Arial',  # Font family\n",
    "            'size': 24,         # Font size\n",
    "            'color': 'black'    # Font color\n",
    "        }\n",
    "    },\n",
    "    xaxis_title={\n",
    "        'font': {\n",
    "            'family': 'Helvetica',  # Font family\n",
    "            'size': 18,             # Font size\n",
    "            'color': 'blue'         # Font color\n",
    "        }\n",
    "    },\n",
    "    yaxis_title={\n",
    "        'font': {\n",
    "            'family': 'Helvetica',\n",
    "            'size': 18,\n",
    "            'color': 'blue'\n",
    "        }\n",
    "    }\n",
    ")\n",
    "# Show the plot\n",
    "fig.show()"
   ]
  },
  {
   "cell_type": "markdown",
   "id": "3d360fad",
   "metadata": {
    "id": "3d360fad"
   },
   "source": [
    "#####  Conclusion:\n",
    "    Unfortunately, due to missing data (it was hopefull something clear could be see),\n",
    "    it's quite hard to make any conclusions"
   ]
  },
  {
   "cell_type": "code",
   "execution_count": null,
   "id": "d3354bb5",
   "metadata": {
    "id": "d3354bb5",
    "outputId": "95ec28d3-3605-42ce-eb75-d2f08d8c1d37"
   },
   "outputs": [
    {
     "data": {
      "text/plain": [
       "40"
      ]
     },
     "execution_count": 99,
     "metadata": {},
     "output_type": "execute_result"
    }
   ],
   "source": [
    "data_merged_raw['country'].nunique()"
   ]
  },
  {
   "cell_type": "markdown",
   "id": "614d6d2c",
   "metadata": {
    "id": "614d6d2c"
   },
   "source": [
    "##### 5.10 Countries"
   ]
  },
  {
   "cell_type": "code",
   "execution_count": null,
   "id": "b0eb2caf",
   "metadata": {
    "id": "b0eb2caf",
    "outputId": "cb53fad1-d4c1-430f-ae79-01f69bfb9a17"
   },
   "outputs": [
    {
     "data": {
      "text/html": [
       "<div>\n",
       "<style scoped>\n",
       "    .dataframe tbody tr th:only-of-type {\n",
       "        vertical-align: middle;\n",
       "    }\n",
       "\n",
       "    .dataframe tbody tr th {\n",
       "        vertical-align: top;\n",
       "    }\n",
       "\n",
       "    .dataframe thead th {\n",
       "        text-align: right;\n",
       "    }\n",
       "</style>\n",
       "<table border=\"1\" class=\"dataframe\">\n",
       "  <thead>\n",
       "    <tr style=\"text-align: right;\">\n",
       "      <th></th>\n",
       "      <th>country</th>\n",
       "      <th>count_country</th>\n",
       "      <th>share</th>\n",
       "    </tr>\n",
       "  </thead>\n",
       "  <tbody>\n",
       "    <tr>\n",
       "      <th>16</th>\n",
       "      <td>Japan</td>\n",
       "      <td>855275</td>\n",
       "      <td>0.2227</td>\n",
       "    </tr>\n",
       "    <tr>\n",
       "      <th>32</th>\n",
       "      <td>South Korea</td>\n",
       "      <td>641017</td>\n",
       "      <td>0.1669</td>\n",
       "    </tr>\n",
       "    <tr>\n",
       "      <th>37</th>\n",
       "      <td>Turkey</td>\n",
       "      <td>416457</td>\n",
       "      <td>0.1084</td>\n",
       "    </tr>\n",
       "    <tr>\n",
       "      <th>6</th>\n",
       "      <td>Czech Republic</td>\n",
       "      <td>344827</td>\n",
       "      <td>0.0898</td>\n",
       "    </tr>\n",
       "    <tr>\n",
       "      <th>33</th>\n",
       "      <td>Spain</td>\n",
       "      <td>241050</td>\n",
       "      <td>0.0628</td>\n",
       "    </tr>\n",
       "    <tr>\n",
       "      <th>11</th>\n",
       "      <td>Germany</td>\n",
       "      <td>204089</td>\n",
       "      <td>0.0531</td>\n",
       "    </tr>\n",
       "    <tr>\n",
       "      <th>9</th>\n",
       "      <td>France</td>\n",
       "      <td>160552</td>\n",
       "      <td>0.0418</td>\n",
       "    </tr>\n",
       "    <tr>\n",
       "      <th>36</th>\n",
       "      <td>Thailand</td>\n",
       "      <td>135768</td>\n",
       "      <td>0.0353</td>\n",
       "    </tr>\n",
       "    <tr>\n",
       "      <th>29</th>\n",
       "      <td>Slovakia</td>\n",
       "      <td>130000</td>\n",
       "      <td>0.0338</td>\n",
       "    </tr>\n",
       "    <tr>\n",
       "      <th>4</th>\n",
       "      <td>China</td>\n",
       "      <td>103830</td>\n",
       "      <td>0.0270</td>\n",
       "    </tr>\n",
       "  </tbody>\n",
       "</table>\n",
       "</div>"
      ],
      "text/plain": [
       "           country  count_country  share\n",
       "16           Japan         855275 0.2227\n",
       "32     South Korea         641017 0.1669\n",
       "37          Turkey         416457 0.1084\n",
       "6   Czech Republic         344827 0.0898\n",
       "33           Spain         241050 0.0628\n",
       "11         Germany         204089 0.0531\n",
       "9           France         160552 0.0418\n",
       "36        Thailand         135768 0.0353\n",
       "29        Slovakia         130000 0.0338\n",
       "4            China         103830 0.0270"
      ]
     },
     "execution_count": 86,
     "metadata": {},
     "output_type": "execute_result"
    }
   ],
   "source": [
    "pd.set_option('display.float_format', '{:.4f}'.format)\n",
    "countries = data_merged_raw.groupby('country')['vehicle_number'].count().reset_index().\\\n",
    "                        rename(columns={'vehicle_number':'count_country'})\n",
    "\n",
    "countries['share'] = countries['count_country'].apply(lambda x: x/countries['count_country'].sum())\n",
    "countries.sort_values(by='share', ascending=False, inplace=True)\n",
    "\n",
    "\n",
    "countries.head(10)"
   ]
  },
  {
   "cell_type": "code",
   "execution_count": null,
   "id": "b8252378",
   "metadata": {
    "id": "b8252378",
    "outputId": "bb2fa4dc-fab1-4df0-ee7d-f849b6a7bd4e"
   },
   "outputs": [
    {
     "data": {
      "text/html": [
       "<div>\n",
       "<style scoped>\n",
       "    .dataframe tbody tr th:only-of-type {\n",
       "        vertical-align: middle;\n",
       "    }\n",
       "\n",
       "    .dataframe tbody tr th {\n",
       "        vertical-align: top;\n",
       "    }\n",
       "\n",
       "    .dataframe thead th {\n",
       "        text-align: right;\n",
       "    }\n",
       "</style>\n",
       "<table border=\"1\" class=\"dataframe\">\n",
       "  <thead>\n",
       "    <tr style=\"text-align: right;\">\n",
       "      <th></th>\n",
       "      <th>country</th>\n",
       "      <th>count_country</th>\n",
       "      <th>share</th>\n",
       "      <th>cumulative_share</th>\n",
       "    </tr>\n",
       "  </thead>\n",
       "  <tbody>\n",
       "    <tr>\n",
       "      <th>16</th>\n",
       "      <td>Japan</td>\n",
       "      <td>855275</td>\n",
       "      <td>0.2227</td>\n",
       "      <td>0.2227</td>\n",
       "    </tr>\n",
       "    <tr>\n",
       "      <th>32</th>\n",
       "      <td>South Korea</td>\n",
       "      <td>641017</td>\n",
       "      <td>0.1669</td>\n",
       "      <td>0.3896</td>\n",
       "    </tr>\n",
       "    <tr>\n",
       "      <th>37</th>\n",
       "      <td>Turkey</td>\n",
       "      <td>416457</td>\n",
       "      <td>0.1084</td>\n",
       "      <td>0.4980</td>\n",
       "    </tr>\n",
       "    <tr>\n",
       "      <th>6</th>\n",
       "      <td>Czech Republic</td>\n",
       "      <td>344827</td>\n",
       "      <td>0.0898</td>\n",
       "      <td>0.5878</td>\n",
       "    </tr>\n",
       "    <tr>\n",
       "      <th>33</th>\n",
       "      <td>Spain</td>\n",
       "      <td>241050</td>\n",
       "      <td>0.0628</td>\n",
       "      <td>0.6506</td>\n",
       "    </tr>\n",
       "    <tr>\n",
       "      <th>11</th>\n",
       "      <td>Germany</td>\n",
       "      <td>204089</td>\n",
       "      <td>0.0531</td>\n",
       "      <td>0.7037</td>\n",
       "    </tr>\n",
       "    <tr>\n",
       "      <th>9</th>\n",
       "      <td>France</td>\n",
       "      <td>160552</td>\n",
       "      <td>0.0418</td>\n",
       "      <td>0.7455</td>\n",
       "    </tr>\n",
       "    <tr>\n",
       "      <th>36</th>\n",
       "      <td>Thailand</td>\n",
       "      <td>135768</td>\n",
       "      <td>0.0353</td>\n",
       "      <td>0.7808</td>\n",
       "    </tr>\n",
       "    <tr>\n",
       "      <th>29</th>\n",
       "      <td>Slovakia</td>\n",
       "      <td>130000</td>\n",
       "      <td>0.0338</td>\n",
       "      <td>0.8147</td>\n",
       "    </tr>\n",
       "    <tr>\n",
       "      <th>4</th>\n",
       "      <td>China</td>\n",
       "      <td>103830</td>\n",
       "      <td>0.0270</td>\n",
       "      <td>0.8417</td>\n",
       "    </tr>\n",
       "    <tr>\n",
       "      <th>12</th>\n",
       "      <td>Hungary</td>\n",
       "      <td>100138</td>\n",
       "      <td>0.0261</td>\n",
       "      <td>0.8678</td>\n",
       "    </tr>\n",
       "    <tr>\n",
       "      <th>38</th>\n",
       "      <td>UK</td>\n",
       "      <td>82150</td>\n",
       "      <td>0.0214</td>\n",
       "      <td>0.8892</td>\n",
       "    </tr>\n",
       "    <tr>\n",
       "      <th>39</th>\n",
       "      <td>USA</td>\n",
       "      <td>79112</td>\n",
       "      <td>0.0206</td>\n",
       "      <td>0.9098</td>\n",
       "    </tr>\n",
       "    <tr>\n",
       "      <th>7</th>\n",
       "      <td>England</td>\n",
       "      <td>71849</td>\n",
       "      <td>0.0187</td>\n",
       "      <td>0.9285</td>\n",
       "    </tr>\n",
       "    <tr>\n",
       "      <th>18</th>\n",
       "      <td>Mexico</td>\n",
       "      <td>58310</td>\n",
       "      <td>0.0152</td>\n",
       "      <td>0.9437</td>\n",
       "    </tr>\n",
       "  </tbody>\n",
       "</table>\n",
       "</div>"
      ],
      "text/plain": [
       "           country  count_country  share  cumulative_share\n",
       "16           Japan         855275 0.2227            0.2227\n",
       "32     South Korea         641017 0.1669            0.3896\n",
       "37          Turkey         416457 0.1084            0.4980\n",
       "6   Czech Republic         344827 0.0898            0.5878\n",
       "33           Spain         241050 0.0628            0.6506\n",
       "11         Germany         204089 0.0531            0.7037\n",
       "9           France         160552 0.0418            0.7455\n",
       "36        Thailand         135768 0.0353            0.7808\n",
       "29        Slovakia         130000 0.0338            0.8147\n",
       "4            China         103830 0.0270            0.8417\n",
       "12         Hungary         100138 0.0261            0.8678\n",
       "38              UK          82150 0.0214            0.8892\n",
       "39             USA          79112 0.0206            0.9098\n",
       "7          England          71849 0.0187            0.9285\n",
       "18          Mexico          58310 0.0152            0.9437"
      ]
     },
     "execution_count": 87,
     "metadata": {},
     "output_type": "execute_result"
    }
   ],
   "source": [
    "#cumulative sum\n",
    "countries['cumulative_share'] = countries['share'].cumsum()\n",
    "countries_list = countries['country'].head(15).tolist()\n",
    "countries.head(15)"
   ]
  },
  {
   "cell_type": "code",
   "execution_count": null,
   "id": "fcaf274d",
   "metadata": {
    "id": "fcaf274d",
    "outputId": "70ff6f5e-de0d-4839-88a5-43f701f33905"
   },
   "outputs": [
    {
     "data": {
      "application/vnd.plotly.v1+json": {
       "config": {
        "plotlyServerURL": "https://plot.ly"
       },
       "data": [
        {
         "hovertemplate": "country=Japan<br>Manufacture Year=%{x}<br>Count of Cars=%{y}<extra></extra>",
         "legendgroup": "Japan",
         "line": {
          "color": "#636efa",
          "dash": "solid"
         },
         "marker": {
          "symbol": "circle"
         },
         "mode": "lines",
         "name": "Japan",
         "orientation": "v",
         "showlegend": true,
         "type": "scatter",
         "x": [
          1996,
          1997,
          1998,
          1999,
          2000,
          2001,
          2002,
          2003,
          2004,
          2005,
          2006,
          2007,
          2008,
          2009,
          2010,
          2011,
          2012,
          2013,
          2014,
          2015,
          2016,
          2017,
          2018,
          2019,
          2020,
          2021,
          2022,
          2023
         ],
         "xaxis": "x",
         "y": [
          353,
          1049,
          2399,
          4501,
          5040,
          9533,
          9717,
          8080,
          11845,
          22200,
          32635,
          42208,
          96165,
          53492,
          60124,
          44034,
          24999,
          24517,
          33617,
          37208,
          38706,
          38670,
          42595,
          42852,
          36348,
          45819,
          38605,
          35790
         ],
         "yaxis": "y"
        },
        {
         "hovertemplate": "country=South Korea<br>Manufacture Year=%{x}<br>Count of Cars=%{y}<extra></extra>",
         "legendgroup": "South Korea",
         "line": {
          "color": "#EF553B",
          "dash": "solid"
         },
         "marker": {
          "symbol": "circle"
         },
         "mode": "lines",
         "name": "South Korea",
         "orientation": "v",
         "showlegend": true,
         "type": "scatter",
         "x": [
          1996,
          1997,
          1998,
          1999,
          2000,
          2001,
          2002,
          2003,
          2004,
          2005,
          2006,
          2007,
          2008,
          2009,
          2010,
          2011,
          2012,
          2013,
          2014,
          2015,
          2016,
          2017,
          2018,
          2019,
          2020,
          2021,
          2022,
          2023
         ],
         "xaxis": "x",
         "y": [
          27,
          61,
          93,
          200,
          338,
          780,
          437,
          1263,
          2495,
          6205,
          9771,
          7163,
          21874,
          9645,
          11068,
          27738,
          34850,
          35123,
          40739,
          39279,
          40871,
          41307,
          44398,
          41921,
          38215,
          58664,
          59458,
          52505
         ],
         "yaxis": "y"
        },
        {
         "hovertemplate": "country=Turkey<br>Manufacture Year=%{x}<br>Count of Cars=%{y}<extra></extra>",
         "legendgroup": "Turkey",
         "line": {
          "color": "#00cc96",
          "dash": "solid"
         },
         "marker": {
          "symbol": "circle"
         },
         "mode": "lines",
         "name": "Turkey",
         "orientation": "v",
         "showlegend": true,
         "type": "scatter",
         "x": [
          2001,
          2002,
          2003,
          2004,
          2005,
          2006,
          2007,
          2008,
          2009,
          2010,
          2011,
          2012,
          2013,
          2014,
          2015,
          2016,
          2017,
          2018,
          2019,
          2020,
          2021,
          2022,
          2023
         ],
         "xaxis": "x",
         "y": [
          1,
          3,
          3409,
          5670,
          2621,
          2424,
          7133,
          14979,
          7242,
          13345,
          14565,
          12732,
          20043,
          30404,
          29610,
          28319,
          32109,
          30072,
          39192,
          30113,
          37249,
          23752,
          24248
         ],
         "yaxis": "y"
        },
        {
         "hovertemplate": "country=Czech Republic<br>Manufacture Year=%{x}<br>Count of Cars=%{y}<extra></extra>",
         "legendgroup": "Czech Republic",
         "line": {
          "color": "#ab63fa",
          "dash": "solid"
         },
         "marker": {
          "symbol": "circle"
         },
         "mode": "lines",
         "name": "Czech Republic",
         "orientation": "v",
         "showlegend": true,
         "type": "scatter",
         "x": [
          1996,
          1997,
          1998,
          1999,
          2000,
          2001,
          2002,
          2003,
          2004,
          2005,
          2006,
          2007,
          2008,
          2009,
          2010,
          2011,
          2012,
          2013,
          2014,
          2015,
          2016,
          2017,
          2018,
          2019,
          2020,
          2021,
          2022,
          2023
         ],
         "xaxis": "x",
         "y": [
          5,
          1,
          6,
          5,
          22,
          36,
          60,
          93,
          102,
          248,
          291,
          521,
          3014,
          7437,
          14641,
          15359,
          14874,
          19205,
          17582,
          18222,
          33496,
          32921,
          30232,
          28078,
          25158,
          27022,
          24741,
          23905
         ],
         "yaxis": "y"
        },
        {
         "hovertemplate": "country=Spain<br>Manufacture Year=%{x}<br>Count of Cars=%{y}<extra></extra>",
         "legendgroup": "Spain",
         "line": {
          "color": "#FFA15A",
          "dash": "solid"
         },
         "marker": {
          "symbol": "circle"
         },
         "mode": "lines",
         "name": "Spain",
         "orientation": "v",
         "showlegend": true,
         "type": "scatter",
         "x": [
          1996,
          1997,
          1998,
          1999,
          2000,
          2001,
          2002,
          2003,
          2004,
          2005,
          2006,
          2007,
          2008,
          2009,
          2010,
          2011,
          2012,
          2013,
          2014,
          2015,
          2016,
          2017,
          2018,
          2019,
          2020,
          2021,
          2022,
          2023
         ],
         "xaxis": "x",
         "y": [
          17,
          40,
          101,
          144,
          336,
          855,
          992,
          1203,
          1609,
          2123,
          3771,
          5784,
          11515,
          6211,
          7960,
          9860,
          9482,
          10761,
          10987,
          14833,
          19084,
          18190,
          16740,
          15328,
          15850,
          21092,
          16056,
          15770
         ],
         "yaxis": "y"
        },
        {
         "hovertemplate": "country=Germany<br>Manufacture Year=%{x}<br>Count of Cars=%{y}<extra></extra>",
         "legendgroup": "Germany",
         "line": {
          "color": "#19d3f3",
          "dash": "solid"
         },
         "marker": {
          "symbol": "circle"
         },
         "mode": "lines",
         "name": "Germany",
         "orientation": "v",
         "showlegend": true,
         "type": "scatter",
         "x": [
          1996,
          1997,
          1998,
          1999,
          2000,
          2001,
          2002,
          2003,
          2004,
          2005,
          2006,
          2007,
          2008,
          2009,
          2010,
          2011,
          2012,
          2013,
          2014,
          2015,
          2016,
          2017,
          2018,
          2019,
          2020,
          2021,
          2022,
          2023
         ],
         "xaxis": "x",
         "y": [
          87,
          358,
          508,
          444,
          875,
          1350,
          1433,
          1141,
          1031,
          1836,
          2698,
          3894,
          7949,
          6212,
          8226,
          10347,
          19015,
          15545,
          13284,
          10593,
          13948,
          14217,
          12448,
          9999,
          8341,
          11227,
          11003,
          12849
         ],
         "yaxis": "y"
        },
        {
         "hovertemplate": "country=France<br>Manufacture Year=%{x}<br>Count of Cars=%{y}<extra></extra>",
         "legendgroup": "France",
         "line": {
          "color": "#FF6692",
          "dash": "solid"
         },
         "marker": {
          "symbol": "circle"
         },
         "mode": "lines",
         "name": "France",
         "orientation": "v",
         "showlegend": true,
         "type": "scatter",
         "x": [
          1996,
          1997,
          1998,
          1999,
          2000,
          2001,
          2002,
          2003,
          2004,
          2005,
          2006,
          2007,
          2008,
          2009,
          2010,
          2011,
          2012,
          2013,
          2014,
          2015,
          2016,
          2017,
          2018,
          2019,
          2020,
          2021,
          2022,
          2023
         ],
         "xaxis": "x",
         "y": [
          21,
          51,
          73,
          76,
          135,
          337,
          587,
          1232,
          1526,
          1985,
          1802,
          2185,
          4023,
          3012,
          4470,
          5242,
          7848,
          6437,
          6087,
          8977,
          9110,
          12150,
          13382,
          13926,
          10602,
          13797,
          13559,
          15337
         ],
         "yaxis": "y"
        },
        {
         "hovertemplate": "country=Thailand<br>Manufacture Year=%{x}<br>Count of Cars=%{y}<extra></extra>",
         "legendgroup": "Thailand",
         "line": {
          "color": "#B6E880",
          "dash": "solid"
         },
         "marker": {
          "symbol": "circle"
         },
         "mode": "lines",
         "name": "Thailand",
         "orientation": "v",
         "showlegend": true,
         "type": "scatter",
         "x": [
          1998,
          1999,
          2000,
          2001,
          2002,
          2003,
          2004,
          2005,
          2006,
          2007,
          2008,
          2009,
          2010,
          2011,
          2012,
          2013,
          2014,
          2015,
          2016,
          2017,
          2018,
          2019,
          2020,
          2021,
          2022,
          2023
         ],
         "xaxis": "x",
         "y": [
          42,
          182,
          574,
          622,
          419,
          298,
          1355,
          1080,
          1329,
          1630,
          5642,
          1854,
          2830,
          4110,
          3001,
          3750,
          8571,
          10416,
          13019,
          9136,
          8186,
          7804,
          7323,
          10398,
          15207,
          12865
         ],
         "yaxis": "y"
        },
        {
         "hovertemplate": "country=Slovakia<br>Manufacture Year=%{x}<br>Count of Cars=%{y}<extra></extra>",
         "legendgroup": "Slovakia",
         "line": {
          "color": "#FF97FF",
          "dash": "solid"
         },
         "marker": {
          "symbol": "circle"
         },
         "mode": "lines",
         "name": "Slovakia",
         "orientation": "v",
         "showlegend": true,
         "type": "scatter",
         "x": [
          2001,
          2002,
          2003,
          2004,
          2005,
          2006,
          2007,
          2008,
          2009,
          2010,
          2011,
          2012,
          2013,
          2014,
          2015,
          2016,
          2017,
          2018,
          2019,
          2020,
          2021,
          2022,
          2023
         ],
         "xaxis": "x",
         "y": [
          2,
          16,
          2,
          26,
          46,
          82,
          110,
          315,
          716,
          1173,
          1699,
          1996,
          4265,
          7685,
          15766,
          20455,
          15629,
          12448,
          10461,
          7957,
          12005,
          8032,
          7217
         ],
         "yaxis": "y"
        },
        {
         "hovertemplate": "country=China<br>Manufacture Year=%{x}<br>Count of Cars=%{y}<extra></extra>",
         "legendgroup": "China",
         "line": {
          "color": "#FECB52",
          "dash": "solid"
         },
         "marker": {
          "symbol": "circle"
         },
         "mode": "lines",
         "name": "China",
         "orientation": "v",
         "showlegend": true,
         "type": "scatter",
         "x": [
          2001,
          2003,
          2010,
          2011,
          2012,
          2013,
          2014,
          2015,
          2016,
          2017,
          2018,
          2019,
          2020,
          2021,
          2022,
          2023
         ],
         "xaxis": "x",
         "y": [
          2,
          19,
          9,
          130,
          189,
          449,
          52,
          669,
          245,
          223,
          633,
          1102,
          1762,
          8968,
          24594,
          45932
         ],
         "yaxis": "y"
        },
        {
         "hovertemplate": "country=Hungary<br>Manufacture Year=%{x}<br>Count of Cars=%{y}<extra></extra>",
         "legendgroup": "Hungary",
         "line": {
          "color": "#636efa",
          "dash": "solid"
         },
         "marker": {
          "symbol": "circle"
         },
         "mode": "lines",
         "name": "Hungary",
         "orientation": "v",
         "showlegend": true,
         "type": "scatter",
         "x": [
          1998,
          2000,
          2001,
          2002,
          2003,
          2004,
          2005,
          2006,
          2007,
          2008,
          2009,
          2010,
          2011,
          2012,
          2013,
          2014,
          2015,
          2016,
          2017,
          2018,
          2019,
          2020,
          2021,
          2022,
          2023
         ],
         "xaxis": "x",
         "y": [
          7,
          65,
          112,
          42,
          50,
          5,
          2,
          3,
          11,
          12,
          702,
          3137,
          3785,
          5725,
          6633,
          9483,
          9601,
          10204,
          8861,
          6370,
          6213,
          5200,
          7677,
          7060,
          7069
         ],
         "yaxis": "y"
        },
        {
         "hovertemplate": "country=UK<br>Manufacture Year=%{x}<br>Count of Cars=%{y}<extra></extra>",
         "legendgroup": "UK",
         "line": {
          "color": "#EF553B",
          "dash": "solid"
         },
         "marker": {
          "symbol": "circle"
         },
         "mode": "lines",
         "name": "UK",
         "orientation": "v",
         "showlegend": true,
         "type": "scatter",
         "x": [
          1996,
          1997,
          1998,
          1999,
          2000,
          2001,
          2002,
          2003,
          2004,
          2005,
          2006,
          2007,
          2008,
          2009,
          2010,
          2011,
          2012,
          2013,
          2014,
          2015,
          2016,
          2017,
          2018,
          2019,
          2020,
          2021,
          2022,
          2023
         ],
         "xaxis": "x",
         "y": [
          6,
          48,
          19,
          8,
          28,
          93,
          377,
          1394,
          1194,
          1157,
          1528,
          1795,
          824,
          2564,
          2986,
          3193,
          3735,
          5995,
          7623,
          7991,
          7619,
          8294,
          5942,
          5226,
          3810,
          5052,
          2708,
          703
         ],
         "yaxis": "y"
        },
        {
         "hovertemplate": "country=USA<br>Manufacture Year=%{x}<br>Count of Cars=%{y}<extra></extra>",
         "legendgroup": "USA",
         "line": {
          "color": "#00cc96",
          "dash": "solid"
         },
         "marker": {
          "symbol": "circle"
         },
         "mode": "lines",
         "name": "USA",
         "orientation": "v",
         "showlegend": true,
         "type": "scatter",
         "x": [
          1996,
          1997,
          1998,
          1999,
          2000,
          2001,
          2002,
          2003,
          2004,
          2005,
          2006,
          2007,
          2008,
          2009,
          2010,
          2011,
          2012,
          2013,
          2014,
          2015,
          2016,
          2017,
          2018,
          2019,
          2020,
          2021,
          2022,
          2023
         ],
         "xaxis": "x",
         "y": [
          89,
          105,
          81,
          94,
          177,
          197,
          341,
          408,
          469,
          839,
          1566,
          1469,
          2166,
          2017,
          3075,
          3094,
          3392,
          2397,
          3649,
          4426,
          4569,
          5111,
          4252,
          4298,
          4605,
          10442,
          8991,
          5377
         ],
         "yaxis": "y"
        },
        {
         "hovertemplate": "country=England<br>Manufacture Year=%{x}<br>Count of Cars=%{y}<extra></extra>",
         "legendgroup": "England",
         "line": {
          "color": "#ab63fa",
          "dash": "solid"
         },
         "marker": {
          "symbol": "circle"
         },
         "mode": "lines",
         "name": "England",
         "orientation": "v",
         "showlegend": true,
         "type": "scatter",
         "x": [
          1996,
          1997,
          1998,
          1999,
          2000,
          2001,
          2002,
          2003,
          2004,
          2005,
          2006,
          2007,
          2008,
          2009,
          2010,
          2011,
          2012,
          2013,
          2014,
          2015,
          2016,
          2017,
          2018,
          2019,
          2020,
          2021,
          2022,
          2023
         ],
         "xaxis": "x",
         "y": [
          6,
          7,
          84,
          37,
          56,
          91,
          263,
          323,
          600,
          335,
          1045,
          1134,
          2381,
          2119,
          3877,
          5366,
          5240,
          5275,
          4536,
          4560,
          4951,
          4698,
          4680,
          5964,
          4783,
          5457,
          2181,
          1348
         ],
         "yaxis": "y"
        },
        {
         "hovertemplate": "country=Mexico<br>Manufacture Year=%{x}<br>Count of Cars=%{y}<extra></extra>",
         "legendgroup": "Mexico",
         "line": {
          "color": "#FFA15A",
          "dash": "solid"
         },
         "marker": {
          "symbol": "circle"
         },
         "mode": "lines",
         "name": "Mexico",
         "orientation": "v",
         "showlegend": true,
         "type": "scatter",
         "x": [
          1996,
          2000,
          2001,
          2002,
          2003,
          2004,
          2005,
          2006,
          2007,
          2008,
          2009,
          2010,
          2011,
          2012,
          2013,
          2014,
          2015,
          2016,
          2017,
          2018,
          2019,
          2020,
          2021,
          2022,
          2023
         ],
         "xaxis": "x",
         "y": [
          1,
          21,
          17,
          18,
          4,
          39,
          63,
          110,
          679,
          3520,
          3820,
          3893,
          3032,
          2514,
          2176,
          2264,
          3466,
          3185,
          5030,
          6222,
          3388,
          2814,
          5079,
          3910,
          2315
         ],
         "yaxis": "y"
        }
       ],
       "layout": {
        "legend": {
         "title": {
          "text": "country"
         },
         "tracegroupgap": 0
        },
        "template": {
         "data": {
          "bar": [
           {
            "error_x": {
             "color": "#2a3f5f"
            },
            "error_y": {
             "color": "#2a3f5f"
            },
            "marker": {
             "line": {
              "color": "#E5ECF6",
              "width": 0.5
             },
             "pattern": {
              "fillmode": "overlay",
              "size": 10,
              "solidity": 0.2
             }
            },
            "type": "bar"
           }
          ],
          "barpolar": [
           {
            "marker": {
             "line": {
              "color": "#E5ECF6",
              "width": 0.5
             },
             "pattern": {
              "fillmode": "overlay",
              "size": 10,
              "solidity": 0.2
             }
            },
            "type": "barpolar"
           }
          ],
          "carpet": [
           {
            "aaxis": {
             "endlinecolor": "#2a3f5f",
             "gridcolor": "white",
             "linecolor": "white",
             "minorgridcolor": "white",
             "startlinecolor": "#2a3f5f"
            },
            "baxis": {
             "endlinecolor": "#2a3f5f",
             "gridcolor": "white",
             "linecolor": "white",
             "minorgridcolor": "white",
             "startlinecolor": "#2a3f5f"
            },
            "type": "carpet"
           }
          ],
          "choropleth": [
           {
            "colorbar": {
             "outlinewidth": 0,
             "ticks": ""
            },
            "type": "choropleth"
           }
          ],
          "contour": [
           {
            "colorbar": {
             "outlinewidth": 0,
             "ticks": ""
            },
            "colorscale": [
             [
              0,
              "#0d0887"
             ],
             [
              0.1111111111111111,
              "#46039f"
             ],
             [
              0.2222222222222222,
              "#7201a8"
             ],
             [
              0.3333333333333333,
              "#9c179e"
             ],
             [
              0.4444444444444444,
              "#bd3786"
             ],
             [
              0.5555555555555556,
              "#d8576b"
             ],
             [
              0.6666666666666666,
              "#ed7953"
             ],
             [
              0.7777777777777778,
              "#fb9f3a"
             ],
             [
              0.8888888888888888,
              "#fdca26"
             ],
             [
              1,
              "#f0f921"
             ]
            ],
            "type": "contour"
           }
          ],
          "contourcarpet": [
           {
            "colorbar": {
             "outlinewidth": 0,
             "ticks": ""
            },
            "type": "contourcarpet"
           }
          ],
          "heatmap": [
           {
            "colorbar": {
             "outlinewidth": 0,
             "ticks": ""
            },
            "colorscale": [
             [
              0,
              "#0d0887"
             ],
             [
              0.1111111111111111,
              "#46039f"
             ],
             [
              0.2222222222222222,
              "#7201a8"
             ],
             [
              0.3333333333333333,
              "#9c179e"
             ],
             [
              0.4444444444444444,
              "#bd3786"
             ],
             [
              0.5555555555555556,
              "#d8576b"
             ],
             [
              0.6666666666666666,
              "#ed7953"
             ],
             [
              0.7777777777777778,
              "#fb9f3a"
             ],
             [
              0.8888888888888888,
              "#fdca26"
             ],
             [
              1,
              "#f0f921"
             ]
            ],
            "type": "heatmap"
           }
          ],
          "heatmapgl": [
           {
            "colorbar": {
             "outlinewidth": 0,
             "ticks": ""
            },
            "colorscale": [
             [
              0,
              "#0d0887"
             ],
             [
              0.1111111111111111,
              "#46039f"
             ],
             [
              0.2222222222222222,
              "#7201a8"
             ],
             [
              0.3333333333333333,
              "#9c179e"
             ],
             [
              0.4444444444444444,
              "#bd3786"
             ],
             [
              0.5555555555555556,
              "#d8576b"
             ],
             [
              0.6666666666666666,
              "#ed7953"
             ],
             [
              0.7777777777777778,
              "#fb9f3a"
             ],
             [
              0.8888888888888888,
              "#fdca26"
             ],
             [
              1,
              "#f0f921"
             ]
            ],
            "type": "heatmapgl"
           }
          ],
          "histogram": [
           {
            "marker": {
             "pattern": {
              "fillmode": "overlay",
              "size": 10,
              "solidity": 0.2
             }
            },
            "type": "histogram"
           }
          ],
          "histogram2d": [
           {
            "colorbar": {
             "outlinewidth": 0,
             "ticks": ""
            },
            "colorscale": [
             [
              0,
              "#0d0887"
             ],
             [
              0.1111111111111111,
              "#46039f"
             ],
             [
              0.2222222222222222,
              "#7201a8"
             ],
             [
              0.3333333333333333,
              "#9c179e"
             ],
             [
              0.4444444444444444,
              "#bd3786"
             ],
             [
              0.5555555555555556,
              "#d8576b"
             ],
             [
              0.6666666666666666,
              "#ed7953"
             ],
             [
              0.7777777777777778,
              "#fb9f3a"
             ],
             [
              0.8888888888888888,
              "#fdca26"
             ],
             [
              1,
              "#f0f921"
             ]
            ],
            "type": "histogram2d"
           }
          ],
          "histogram2dcontour": [
           {
            "colorbar": {
             "outlinewidth": 0,
             "ticks": ""
            },
            "colorscale": [
             [
              0,
              "#0d0887"
             ],
             [
              0.1111111111111111,
              "#46039f"
             ],
             [
              0.2222222222222222,
              "#7201a8"
             ],
             [
              0.3333333333333333,
              "#9c179e"
             ],
             [
              0.4444444444444444,
              "#bd3786"
             ],
             [
              0.5555555555555556,
              "#d8576b"
             ],
             [
              0.6666666666666666,
              "#ed7953"
             ],
             [
              0.7777777777777778,
              "#fb9f3a"
             ],
             [
              0.8888888888888888,
              "#fdca26"
             ],
             [
              1,
              "#f0f921"
             ]
            ],
            "type": "histogram2dcontour"
           }
          ],
          "mesh3d": [
           {
            "colorbar": {
             "outlinewidth": 0,
             "ticks": ""
            },
            "type": "mesh3d"
           }
          ],
          "parcoords": [
           {
            "line": {
             "colorbar": {
              "outlinewidth": 0,
              "ticks": ""
             }
            },
            "type": "parcoords"
           }
          ],
          "pie": [
           {
            "automargin": true,
            "type": "pie"
           }
          ],
          "scatter": [
           {
            "fillpattern": {
             "fillmode": "overlay",
             "size": 10,
             "solidity": 0.2
            },
            "type": "scatter"
           }
          ],
          "scatter3d": [
           {
            "line": {
             "colorbar": {
              "outlinewidth": 0,
              "ticks": ""
             }
            },
            "marker": {
             "colorbar": {
              "outlinewidth": 0,
              "ticks": ""
             }
            },
            "type": "scatter3d"
           }
          ],
          "scattercarpet": [
           {
            "marker": {
             "colorbar": {
              "outlinewidth": 0,
              "ticks": ""
             }
            },
            "type": "scattercarpet"
           }
          ],
          "scattergeo": [
           {
            "marker": {
             "colorbar": {
              "outlinewidth": 0,
              "ticks": ""
             }
            },
            "type": "scattergeo"
           }
          ],
          "scattergl": [
           {
            "marker": {
             "colorbar": {
              "outlinewidth": 0,
              "ticks": ""
             }
            },
            "type": "scattergl"
           }
          ],
          "scattermapbox": [
           {
            "marker": {
             "colorbar": {
              "outlinewidth": 0,
              "ticks": ""
             }
            },
            "type": "scattermapbox"
           }
          ],
          "scatterpolar": [
           {
            "marker": {
             "colorbar": {
              "outlinewidth": 0,
              "ticks": ""
             }
            },
            "type": "scatterpolar"
           }
          ],
          "scatterpolargl": [
           {
            "marker": {
             "colorbar": {
              "outlinewidth": 0,
              "ticks": ""
             }
            },
            "type": "scatterpolargl"
           }
          ],
          "scatterternary": [
           {
            "marker": {
             "colorbar": {
              "outlinewidth": 0,
              "ticks": ""
             }
            },
            "type": "scatterternary"
           }
          ],
          "surface": [
           {
            "colorbar": {
             "outlinewidth": 0,
             "ticks": ""
            },
            "colorscale": [
             [
              0,
              "#0d0887"
             ],
             [
              0.1111111111111111,
              "#46039f"
             ],
             [
              0.2222222222222222,
              "#7201a8"
             ],
             [
              0.3333333333333333,
              "#9c179e"
             ],
             [
              0.4444444444444444,
              "#bd3786"
             ],
             [
              0.5555555555555556,
              "#d8576b"
             ],
             [
              0.6666666666666666,
              "#ed7953"
             ],
             [
              0.7777777777777778,
              "#fb9f3a"
             ],
             [
              0.8888888888888888,
              "#fdca26"
             ],
             [
              1,
              "#f0f921"
             ]
            ],
            "type": "surface"
           }
          ],
          "table": [
           {
            "cells": {
             "fill": {
              "color": "#EBF0F8"
             },
             "line": {
              "color": "white"
             }
            },
            "header": {
             "fill": {
              "color": "#C8D4E3"
             },
             "line": {
              "color": "white"
             }
            },
            "type": "table"
           }
          ]
         },
         "layout": {
          "annotationdefaults": {
           "arrowcolor": "#2a3f5f",
           "arrowhead": 0,
           "arrowwidth": 1
          },
          "autotypenumbers": "strict",
          "coloraxis": {
           "colorbar": {
            "outlinewidth": 0,
            "ticks": ""
           }
          },
          "colorscale": {
           "diverging": [
            [
             0,
             "#8e0152"
            ],
            [
             0.1,
             "#c51b7d"
            ],
            [
             0.2,
             "#de77ae"
            ],
            [
             0.3,
             "#f1b6da"
            ],
            [
             0.4,
             "#fde0ef"
            ],
            [
             0.5,
             "#f7f7f7"
            ],
            [
             0.6,
             "#e6f5d0"
            ],
            [
             0.7,
             "#b8e186"
            ],
            [
             0.8,
             "#7fbc41"
            ],
            [
             0.9,
             "#4d9221"
            ],
            [
             1,
             "#276419"
            ]
           ],
           "sequential": [
            [
             0,
             "#0d0887"
            ],
            [
             0.1111111111111111,
             "#46039f"
            ],
            [
             0.2222222222222222,
             "#7201a8"
            ],
            [
             0.3333333333333333,
             "#9c179e"
            ],
            [
             0.4444444444444444,
             "#bd3786"
            ],
            [
             0.5555555555555556,
             "#d8576b"
            ],
            [
             0.6666666666666666,
             "#ed7953"
            ],
            [
             0.7777777777777778,
             "#fb9f3a"
            ],
            [
             0.8888888888888888,
             "#fdca26"
            ],
            [
             1,
             "#f0f921"
            ]
           ],
           "sequentialminus": [
            [
             0,
             "#0d0887"
            ],
            [
             0.1111111111111111,
             "#46039f"
            ],
            [
             0.2222222222222222,
             "#7201a8"
            ],
            [
             0.3333333333333333,
             "#9c179e"
            ],
            [
             0.4444444444444444,
             "#bd3786"
            ],
            [
             0.5555555555555556,
             "#d8576b"
            ],
            [
             0.6666666666666666,
             "#ed7953"
            ],
            [
             0.7777777777777778,
             "#fb9f3a"
            ],
            [
             0.8888888888888888,
             "#fdca26"
            ],
            [
             1,
             "#f0f921"
            ]
           ]
          },
          "colorway": [
           "#636efa",
           "#EF553B",
           "#00cc96",
           "#ab63fa",
           "#FFA15A",
           "#19d3f3",
           "#FF6692",
           "#B6E880",
           "#FF97FF",
           "#FECB52"
          ],
          "font": {
           "color": "#2a3f5f"
          },
          "geo": {
           "bgcolor": "white",
           "lakecolor": "white",
           "landcolor": "#E5ECF6",
           "showlakes": true,
           "showland": true,
           "subunitcolor": "white"
          },
          "hoverlabel": {
           "align": "left"
          },
          "hovermode": "closest",
          "mapbox": {
           "style": "light"
          },
          "paper_bgcolor": "white",
          "plot_bgcolor": "#E5ECF6",
          "polar": {
           "angularaxis": {
            "gridcolor": "white",
            "linecolor": "white",
            "ticks": ""
           },
           "bgcolor": "#E5ECF6",
           "radialaxis": {
            "gridcolor": "white",
            "linecolor": "white",
            "ticks": ""
           }
          },
          "scene": {
           "xaxis": {
            "backgroundcolor": "#E5ECF6",
            "gridcolor": "white",
            "gridwidth": 2,
            "linecolor": "white",
            "showbackground": true,
            "ticks": "",
            "zerolinecolor": "white"
           },
           "yaxis": {
            "backgroundcolor": "#E5ECF6",
            "gridcolor": "white",
            "gridwidth": 2,
            "linecolor": "white",
            "showbackground": true,
            "ticks": "",
            "zerolinecolor": "white"
           },
           "zaxis": {
            "backgroundcolor": "#E5ECF6",
            "gridcolor": "white",
            "gridwidth": 2,
            "linecolor": "white",
            "showbackground": true,
            "ticks": "",
            "zerolinecolor": "white"
           }
          },
          "shapedefaults": {
           "line": {
            "color": "#2a3f5f"
           }
          },
          "ternary": {
           "aaxis": {
            "gridcolor": "white",
            "linecolor": "white",
            "ticks": ""
           },
           "baxis": {
            "gridcolor": "white",
            "linecolor": "white",
            "ticks": ""
           },
           "bgcolor": "#E5ECF6",
           "caxis": {
            "gridcolor": "white",
            "linecolor": "white",
            "ticks": ""
           }
          },
          "title": {
           "x": 0.05
          },
          "xaxis": {
           "automargin": true,
           "gridcolor": "white",
           "linecolor": "white",
           "ticks": "",
           "title": {
            "standoff": 15
           },
           "zerolinecolor": "white",
           "zerolinewidth": 2
          },
          "yaxis": {
           "automargin": true,
           "gridcolor": "white",
           "linecolor": "white",
           "ticks": "",
           "title": {
            "standoff": 15
           },
           "zerolinecolor": "white",
           "zerolinewidth": 2
          }
         }
        },
        "title": {
         "font": {
          "color": "black",
          "family": "Arial",
          "size": 24
         },
         "text": "Count of Cars by Manufacture Year and top 15 countries",
         "x": 0.5,
         "xanchor": "center",
         "y": 0.9,
         "yanchor": "top"
        },
        "xaxis": {
         "anchor": "y",
         "domain": [
          0,
          1
         ],
         "title": {
          "font": {
           "color": "blue",
           "family": "Helvetica",
           "size": 18
          },
          "text": "Manufacture Year"
         }
        },
        "yaxis": {
         "anchor": "x",
         "domain": [
          0,
          1
         ],
         "title": {
          "font": {
           "color": "blue",
           "family": "Helvetica",
           "size": 18
          },
          "text": "Count of Cars"
         }
        }
       }
      },
      "text/html": [
       "<div>                            <div id=\"d4e9e8ca-abd0-4e14-896d-a73474b0bb9b\" class=\"plotly-graph-div\" style=\"height:525px; width:100%;\"></div>            <script type=\"text/javascript\">                require([\"plotly\"], function(Plotly) {                    window.PLOTLYENV=window.PLOTLYENV || {};                                    if (document.getElementById(\"d4e9e8ca-abd0-4e14-896d-a73474b0bb9b\")) {                    Plotly.newPlot(                        \"d4e9e8ca-abd0-4e14-896d-a73474b0bb9b\",                        [{\"hovertemplate\":\"country=Japan\\u003cbr\\u003eManufacture Year=%{x}\\u003cbr\\u003eCount of Cars=%{y}\\u003cextra\\u003e\\u003c\\u002fextra\\u003e\",\"legendgroup\":\"Japan\",\"line\":{\"color\":\"#636efa\",\"dash\":\"solid\"},\"marker\":{\"symbol\":\"circle\"},\"mode\":\"lines\",\"name\":\"Japan\",\"orientation\":\"v\",\"showlegend\":true,\"x\":[1996,1997,1998,1999,2000,2001,2002,2003,2004,2005,2006,2007,2008,2009,2010,2011,2012,2013,2014,2015,2016,2017,2018,2019,2020,2021,2022,2023],\"xaxis\":\"x\",\"y\":[353,1049,2399,4501,5040,9533,9717,8080,11845,22200,32635,42208,96165,53492,60124,44034,24999,24517,33617,37208,38706,38670,42595,42852,36348,45819,38605,35790],\"yaxis\":\"y\",\"type\":\"scatter\"},{\"hovertemplate\":\"country=South Korea\\u003cbr\\u003eManufacture Year=%{x}\\u003cbr\\u003eCount of Cars=%{y}\\u003cextra\\u003e\\u003c\\u002fextra\\u003e\",\"legendgroup\":\"South Korea\",\"line\":{\"color\":\"#EF553B\",\"dash\":\"solid\"},\"marker\":{\"symbol\":\"circle\"},\"mode\":\"lines\",\"name\":\"South Korea\",\"orientation\":\"v\",\"showlegend\":true,\"x\":[1996,1997,1998,1999,2000,2001,2002,2003,2004,2005,2006,2007,2008,2009,2010,2011,2012,2013,2014,2015,2016,2017,2018,2019,2020,2021,2022,2023],\"xaxis\":\"x\",\"y\":[27,61,93,200,338,780,437,1263,2495,6205,9771,7163,21874,9645,11068,27738,34850,35123,40739,39279,40871,41307,44398,41921,38215,58664,59458,52505],\"yaxis\":\"y\",\"type\":\"scatter\"},{\"hovertemplate\":\"country=Turkey\\u003cbr\\u003eManufacture Year=%{x}\\u003cbr\\u003eCount of Cars=%{y}\\u003cextra\\u003e\\u003c\\u002fextra\\u003e\",\"legendgroup\":\"Turkey\",\"line\":{\"color\":\"#00cc96\",\"dash\":\"solid\"},\"marker\":{\"symbol\":\"circle\"},\"mode\":\"lines\",\"name\":\"Turkey\",\"orientation\":\"v\",\"showlegend\":true,\"x\":[2001,2002,2003,2004,2005,2006,2007,2008,2009,2010,2011,2012,2013,2014,2015,2016,2017,2018,2019,2020,2021,2022,2023],\"xaxis\":\"x\",\"y\":[1,3,3409,5670,2621,2424,7133,14979,7242,13345,14565,12732,20043,30404,29610,28319,32109,30072,39192,30113,37249,23752,24248],\"yaxis\":\"y\",\"type\":\"scatter\"},{\"hovertemplate\":\"country=Czech Republic\\u003cbr\\u003eManufacture Year=%{x}\\u003cbr\\u003eCount of Cars=%{y}\\u003cextra\\u003e\\u003c\\u002fextra\\u003e\",\"legendgroup\":\"Czech Republic\",\"line\":{\"color\":\"#ab63fa\",\"dash\":\"solid\"},\"marker\":{\"symbol\":\"circle\"},\"mode\":\"lines\",\"name\":\"Czech Republic\",\"orientation\":\"v\",\"showlegend\":true,\"x\":[1996,1997,1998,1999,2000,2001,2002,2003,2004,2005,2006,2007,2008,2009,2010,2011,2012,2013,2014,2015,2016,2017,2018,2019,2020,2021,2022,2023],\"xaxis\":\"x\",\"y\":[5,1,6,5,22,36,60,93,102,248,291,521,3014,7437,14641,15359,14874,19205,17582,18222,33496,32921,30232,28078,25158,27022,24741,23905],\"yaxis\":\"y\",\"type\":\"scatter\"},{\"hovertemplate\":\"country=Spain\\u003cbr\\u003eManufacture Year=%{x}\\u003cbr\\u003eCount of Cars=%{y}\\u003cextra\\u003e\\u003c\\u002fextra\\u003e\",\"legendgroup\":\"Spain\",\"line\":{\"color\":\"#FFA15A\",\"dash\":\"solid\"},\"marker\":{\"symbol\":\"circle\"},\"mode\":\"lines\",\"name\":\"Spain\",\"orientation\":\"v\",\"showlegend\":true,\"x\":[1996,1997,1998,1999,2000,2001,2002,2003,2004,2005,2006,2007,2008,2009,2010,2011,2012,2013,2014,2015,2016,2017,2018,2019,2020,2021,2022,2023],\"xaxis\":\"x\",\"y\":[17,40,101,144,336,855,992,1203,1609,2123,3771,5784,11515,6211,7960,9860,9482,10761,10987,14833,19084,18190,16740,15328,15850,21092,16056,15770],\"yaxis\":\"y\",\"type\":\"scatter\"},{\"hovertemplate\":\"country=Germany\\u003cbr\\u003eManufacture Year=%{x}\\u003cbr\\u003eCount of Cars=%{y}\\u003cextra\\u003e\\u003c\\u002fextra\\u003e\",\"legendgroup\":\"Germany\",\"line\":{\"color\":\"#19d3f3\",\"dash\":\"solid\"},\"marker\":{\"symbol\":\"circle\"},\"mode\":\"lines\",\"name\":\"Germany\",\"orientation\":\"v\",\"showlegend\":true,\"x\":[1996,1997,1998,1999,2000,2001,2002,2003,2004,2005,2006,2007,2008,2009,2010,2011,2012,2013,2014,2015,2016,2017,2018,2019,2020,2021,2022,2023],\"xaxis\":\"x\",\"y\":[87,358,508,444,875,1350,1433,1141,1031,1836,2698,3894,7949,6212,8226,10347,19015,15545,13284,10593,13948,14217,12448,9999,8341,11227,11003,12849],\"yaxis\":\"y\",\"type\":\"scatter\"},{\"hovertemplate\":\"country=France\\u003cbr\\u003eManufacture Year=%{x}\\u003cbr\\u003eCount of Cars=%{y}\\u003cextra\\u003e\\u003c\\u002fextra\\u003e\",\"legendgroup\":\"France\",\"line\":{\"color\":\"#FF6692\",\"dash\":\"solid\"},\"marker\":{\"symbol\":\"circle\"},\"mode\":\"lines\",\"name\":\"France\",\"orientation\":\"v\",\"showlegend\":true,\"x\":[1996,1997,1998,1999,2000,2001,2002,2003,2004,2005,2006,2007,2008,2009,2010,2011,2012,2013,2014,2015,2016,2017,2018,2019,2020,2021,2022,2023],\"xaxis\":\"x\",\"y\":[21,51,73,76,135,337,587,1232,1526,1985,1802,2185,4023,3012,4470,5242,7848,6437,6087,8977,9110,12150,13382,13926,10602,13797,13559,15337],\"yaxis\":\"y\",\"type\":\"scatter\"},{\"hovertemplate\":\"country=Thailand\\u003cbr\\u003eManufacture Year=%{x}\\u003cbr\\u003eCount of Cars=%{y}\\u003cextra\\u003e\\u003c\\u002fextra\\u003e\",\"legendgroup\":\"Thailand\",\"line\":{\"color\":\"#B6E880\",\"dash\":\"solid\"},\"marker\":{\"symbol\":\"circle\"},\"mode\":\"lines\",\"name\":\"Thailand\",\"orientation\":\"v\",\"showlegend\":true,\"x\":[1998,1999,2000,2001,2002,2003,2004,2005,2006,2007,2008,2009,2010,2011,2012,2013,2014,2015,2016,2017,2018,2019,2020,2021,2022,2023],\"xaxis\":\"x\",\"y\":[42,182,574,622,419,298,1355,1080,1329,1630,5642,1854,2830,4110,3001,3750,8571,10416,13019,9136,8186,7804,7323,10398,15207,12865],\"yaxis\":\"y\",\"type\":\"scatter\"},{\"hovertemplate\":\"country=Slovakia\\u003cbr\\u003eManufacture Year=%{x}\\u003cbr\\u003eCount of Cars=%{y}\\u003cextra\\u003e\\u003c\\u002fextra\\u003e\",\"legendgroup\":\"Slovakia\",\"line\":{\"color\":\"#FF97FF\",\"dash\":\"solid\"},\"marker\":{\"symbol\":\"circle\"},\"mode\":\"lines\",\"name\":\"Slovakia\",\"orientation\":\"v\",\"showlegend\":true,\"x\":[2001,2002,2003,2004,2005,2006,2007,2008,2009,2010,2011,2012,2013,2014,2015,2016,2017,2018,2019,2020,2021,2022,2023],\"xaxis\":\"x\",\"y\":[2,16,2,26,46,82,110,315,716,1173,1699,1996,4265,7685,15766,20455,15629,12448,10461,7957,12005,8032,7217],\"yaxis\":\"y\",\"type\":\"scatter\"},{\"hovertemplate\":\"country=China\\u003cbr\\u003eManufacture Year=%{x}\\u003cbr\\u003eCount of Cars=%{y}\\u003cextra\\u003e\\u003c\\u002fextra\\u003e\",\"legendgroup\":\"China\",\"line\":{\"color\":\"#FECB52\",\"dash\":\"solid\"},\"marker\":{\"symbol\":\"circle\"},\"mode\":\"lines\",\"name\":\"China\",\"orientation\":\"v\",\"showlegend\":true,\"x\":[2001,2003,2010,2011,2012,2013,2014,2015,2016,2017,2018,2019,2020,2021,2022,2023],\"xaxis\":\"x\",\"y\":[2,19,9,130,189,449,52,669,245,223,633,1102,1762,8968,24594,45932],\"yaxis\":\"y\",\"type\":\"scatter\"},{\"hovertemplate\":\"country=Hungary\\u003cbr\\u003eManufacture Year=%{x}\\u003cbr\\u003eCount of Cars=%{y}\\u003cextra\\u003e\\u003c\\u002fextra\\u003e\",\"legendgroup\":\"Hungary\",\"line\":{\"color\":\"#636efa\",\"dash\":\"solid\"},\"marker\":{\"symbol\":\"circle\"},\"mode\":\"lines\",\"name\":\"Hungary\",\"orientation\":\"v\",\"showlegend\":true,\"x\":[1998,2000,2001,2002,2003,2004,2005,2006,2007,2008,2009,2010,2011,2012,2013,2014,2015,2016,2017,2018,2019,2020,2021,2022,2023],\"xaxis\":\"x\",\"y\":[7,65,112,42,50,5,2,3,11,12,702,3137,3785,5725,6633,9483,9601,10204,8861,6370,6213,5200,7677,7060,7069],\"yaxis\":\"y\",\"type\":\"scatter\"},{\"hovertemplate\":\"country=UK\\u003cbr\\u003eManufacture Year=%{x}\\u003cbr\\u003eCount of Cars=%{y}\\u003cextra\\u003e\\u003c\\u002fextra\\u003e\",\"legendgroup\":\"UK\",\"line\":{\"color\":\"#EF553B\",\"dash\":\"solid\"},\"marker\":{\"symbol\":\"circle\"},\"mode\":\"lines\",\"name\":\"UK\",\"orientation\":\"v\",\"showlegend\":true,\"x\":[1996,1997,1998,1999,2000,2001,2002,2003,2004,2005,2006,2007,2008,2009,2010,2011,2012,2013,2014,2015,2016,2017,2018,2019,2020,2021,2022,2023],\"xaxis\":\"x\",\"y\":[6,48,19,8,28,93,377,1394,1194,1157,1528,1795,824,2564,2986,3193,3735,5995,7623,7991,7619,8294,5942,5226,3810,5052,2708,703],\"yaxis\":\"y\",\"type\":\"scatter\"},{\"hovertemplate\":\"country=USA\\u003cbr\\u003eManufacture Year=%{x}\\u003cbr\\u003eCount of Cars=%{y}\\u003cextra\\u003e\\u003c\\u002fextra\\u003e\",\"legendgroup\":\"USA\",\"line\":{\"color\":\"#00cc96\",\"dash\":\"solid\"},\"marker\":{\"symbol\":\"circle\"},\"mode\":\"lines\",\"name\":\"USA\",\"orientation\":\"v\",\"showlegend\":true,\"x\":[1996,1997,1998,1999,2000,2001,2002,2003,2004,2005,2006,2007,2008,2009,2010,2011,2012,2013,2014,2015,2016,2017,2018,2019,2020,2021,2022,2023],\"xaxis\":\"x\",\"y\":[89,105,81,94,177,197,341,408,469,839,1566,1469,2166,2017,3075,3094,3392,2397,3649,4426,4569,5111,4252,4298,4605,10442,8991,5377],\"yaxis\":\"y\",\"type\":\"scatter\"},{\"hovertemplate\":\"country=England\\u003cbr\\u003eManufacture Year=%{x}\\u003cbr\\u003eCount of Cars=%{y}\\u003cextra\\u003e\\u003c\\u002fextra\\u003e\",\"legendgroup\":\"England\",\"line\":{\"color\":\"#ab63fa\",\"dash\":\"solid\"},\"marker\":{\"symbol\":\"circle\"},\"mode\":\"lines\",\"name\":\"England\",\"orientation\":\"v\",\"showlegend\":true,\"x\":[1996,1997,1998,1999,2000,2001,2002,2003,2004,2005,2006,2007,2008,2009,2010,2011,2012,2013,2014,2015,2016,2017,2018,2019,2020,2021,2022,2023],\"xaxis\":\"x\",\"y\":[6,7,84,37,56,91,263,323,600,335,1045,1134,2381,2119,3877,5366,5240,5275,4536,4560,4951,4698,4680,5964,4783,5457,2181,1348],\"yaxis\":\"y\",\"type\":\"scatter\"},{\"hovertemplate\":\"country=Mexico\\u003cbr\\u003eManufacture Year=%{x}\\u003cbr\\u003eCount of Cars=%{y}\\u003cextra\\u003e\\u003c\\u002fextra\\u003e\",\"legendgroup\":\"Mexico\",\"line\":{\"color\":\"#FFA15A\",\"dash\":\"solid\"},\"marker\":{\"symbol\":\"circle\"},\"mode\":\"lines\",\"name\":\"Mexico\",\"orientation\":\"v\",\"showlegend\":true,\"x\":[1996,2000,2001,2002,2003,2004,2005,2006,2007,2008,2009,2010,2011,2012,2013,2014,2015,2016,2017,2018,2019,2020,2021,2022,2023],\"xaxis\":\"x\",\"y\":[1,21,17,18,4,39,63,110,679,3520,3820,3893,3032,2514,2176,2264,3466,3185,5030,6222,3388,2814,5079,3910,2315],\"yaxis\":\"y\",\"type\":\"scatter\"}],                        {\"template\":{\"data\":{\"histogram2dcontour\":[{\"type\":\"histogram2dcontour\",\"colorbar\":{\"outlinewidth\":0,\"ticks\":\"\"},\"colorscale\":[[0.0,\"#0d0887\"],[0.1111111111111111,\"#46039f\"],[0.2222222222222222,\"#7201a8\"],[0.3333333333333333,\"#9c179e\"],[0.4444444444444444,\"#bd3786\"],[0.5555555555555556,\"#d8576b\"],[0.6666666666666666,\"#ed7953\"],[0.7777777777777778,\"#fb9f3a\"],[0.8888888888888888,\"#fdca26\"],[1.0,\"#f0f921\"]]}],\"choropleth\":[{\"type\":\"choropleth\",\"colorbar\":{\"outlinewidth\":0,\"ticks\":\"\"}}],\"histogram2d\":[{\"type\":\"histogram2d\",\"colorbar\":{\"outlinewidth\":0,\"ticks\":\"\"},\"colorscale\":[[0.0,\"#0d0887\"],[0.1111111111111111,\"#46039f\"],[0.2222222222222222,\"#7201a8\"],[0.3333333333333333,\"#9c179e\"],[0.4444444444444444,\"#bd3786\"],[0.5555555555555556,\"#d8576b\"],[0.6666666666666666,\"#ed7953\"],[0.7777777777777778,\"#fb9f3a\"],[0.8888888888888888,\"#fdca26\"],[1.0,\"#f0f921\"]]}],\"heatmap\":[{\"type\":\"heatmap\",\"colorbar\":{\"outlinewidth\":0,\"ticks\":\"\"},\"colorscale\":[[0.0,\"#0d0887\"],[0.1111111111111111,\"#46039f\"],[0.2222222222222222,\"#7201a8\"],[0.3333333333333333,\"#9c179e\"],[0.4444444444444444,\"#bd3786\"],[0.5555555555555556,\"#d8576b\"],[0.6666666666666666,\"#ed7953\"],[0.7777777777777778,\"#fb9f3a\"],[0.8888888888888888,\"#fdca26\"],[1.0,\"#f0f921\"]]}],\"heatmapgl\":[{\"type\":\"heatmapgl\",\"colorbar\":{\"outlinewidth\":0,\"ticks\":\"\"},\"colorscale\":[[0.0,\"#0d0887\"],[0.1111111111111111,\"#46039f\"],[0.2222222222222222,\"#7201a8\"],[0.3333333333333333,\"#9c179e\"],[0.4444444444444444,\"#bd3786\"],[0.5555555555555556,\"#d8576b\"],[0.6666666666666666,\"#ed7953\"],[0.7777777777777778,\"#fb9f3a\"],[0.8888888888888888,\"#fdca26\"],[1.0,\"#f0f921\"]]}],\"contourcarpet\":[{\"type\":\"contourcarpet\",\"colorbar\":{\"outlinewidth\":0,\"ticks\":\"\"}}],\"contour\":[{\"type\":\"contour\",\"colorbar\":{\"outlinewidth\":0,\"ticks\":\"\"},\"colorscale\":[[0.0,\"#0d0887\"],[0.1111111111111111,\"#46039f\"],[0.2222222222222222,\"#7201a8\"],[0.3333333333333333,\"#9c179e\"],[0.4444444444444444,\"#bd3786\"],[0.5555555555555556,\"#d8576b\"],[0.6666666666666666,\"#ed7953\"],[0.7777777777777778,\"#fb9f3a\"],[0.8888888888888888,\"#fdca26\"],[1.0,\"#f0f921\"]]}],\"surface\":[{\"type\":\"surface\",\"colorbar\":{\"outlinewidth\":0,\"ticks\":\"\"},\"colorscale\":[[0.0,\"#0d0887\"],[0.1111111111111111,\"#46039f\"],[0.2222222222222222,\"#7201a8\"],[0.3333333333333333,\"#9c179e\"],[0.4444444444444444,\"#bd3786\"],[0.5555555555555556,\"#d8576b\"],[0.6666666666666666,\"#ed7953\"],[0.7777777777777778,\"#fb9f3a\"],[0.8888888888888888,\"#fdca26\"],[1.0,\"#f0f921\"]]}],\"mesh3d\":[{\"type\":\"mesh3d\",\"colorbar\":{\"outlinewidth\":0,\"ticks\":\"\"}}],\"scatter\":[{\"fillpattern\":{\"fillmode\":\"overlay\",\"size\":10,\"solidity\":0.2},\"type\":\"scatter\"}],\"parcoords\":[{\"type\":\"parcoords\",\"line\":{\"colorbar\":{\"outlinewidth\":0,\"ticks\":\"\"}}}],\"scatterpolargl\":[{\"type\":\"scatterpolargl\",\"marker\":{\"colorbar\":{\"outlinewidth\":0,\"ticks\":\"\"}}}],\"bar\":[{\"error_x\":{\"color\":\"#2a3f5f\"},\"error_y\":{\"color\":\"#2a3f5f\"},\"marker\":{\"line\":{\"color\":\"#E5ECF6\",\"width\":0.5},\"pattern\":{\"fillmode\":\"overlay\",\"size\":10,\"solidity\":0.2}},\"type\":\"bar\"}],\"scattergeo\":[{\"type\":\"scattergeo\",\"marker\":{\"colorbar\":{\"outlinewidth\":0,\"ticks\":\"\"}}}],\"scatterpolar\":[{\"type\":\"scatterpolar\",\"marker\":{\"colorbar\":{\"outlinewidth\":0,\"ticks\":\"\"}}}],\"histogram\":[{\"marker\":{\"pattern\":{\"fillmode\":\"overlay\",\"size\":10,\"solidity\":0.2}},\"type\":\"histogram\"}],\"scattergl\":[{\"type\":\"scattergl\",\"marker\":{\"colorbar\":{\"outlinewidth\":0,\"ticks\":\"\"}}}],\"scatter3d\":[{\"type\":\"scatter3d\",\"line\":{\"colorbar\":{\"outlinewidth\":0,\"ticks\":\"\"}},\"marker\":{\"colorbar\":{\"outlinewidth\":0,\"ticks\":\"\"}}}],\"scattermapbox\":[{\"type\":\"scattermapbox\",\"marker\":{\"colorbar\":{\"outlinewidth\":0,\"ticks\":\"\"}}}],\"scatterternary\":[{\"type\":\"scatterternary\",\"marker\":{\"colorbar\":{\"outlinewidth\":0,\"ticks\":\"\"}}}],\"scattercarpet\":[{\"type\":\"scattercarpet\",\"marker\":{\"colorbar\":{\"outlinewidth\":0,\"ticks\":\"\"}}}],\"carpet\":[{\"aaxis\":{\"endlinecolor\":\"#2a3f5f\",\"gridcolor\":\"white\",\"linecolor\":\"white\",\"minorgridcolor\":\"white\",\"startlinecolor\":\"#2a3f5f\"},\"baxis\":{\"endlinecolor\":\"#2a3f5f\",\"gridcolor\":\"white\",\"linecolor\":\"white\",\"minorgridcolor\":\"white\",\"startlinecolor\":\"#2a3f5f\"},\"type\":\"carpet\"}],\"table\":[{\"cells\":{\"fill\":{\"color\":\"#EBF0F8\"},\"line\":{\"color\":\"white\"}},\"header\":{\"fill\":{\"color\":\"#C8D4E3\"},\"line\":{\"color\":\"white\"}},\"type\":\"table\"}],\"barpolar\":[{\"marker\":{\"line\":{\"color\":\"#E5ECF6\",\"width\":0.5},\"pattern\":{\"fillmode\":\"overlay\",\"size\":10,\"solidity\":0.2}},\"type\":\"barpolar\"}],\"pie\":[{\"automargin\":true,\"type\":\"pie\"}]},\"layout\":{\"autotypenumbers\":\"strict\",\"colorway\":[\"#636efa\",\"#EF553B\",\"#00cc96\",\"#ab63fa\",\"#FFA15A\",\"#19d3f3\",\"#FF6692\",\"#B6E880\",\"#FF97FF\",\"#FECB52\"],\"font\":{\"color\":\"#2a3f5f\"},\"hovermode\":\"closest\",\"hoverlabel\":{\"align\":\"left\"},\"paper_bgcolor\":\"white\",\"plot_bgcolor\":\"#E5ECF6\",\"polar\":{\"bgcolor\":\"#E5ECF6\",\"angularaxis\":{\"gridcolor\":\"white\",\"linecolor\":\"white\",\"ticks\":\"\"},\"radialaxis\":{\"gridcolor\":\"white\",\"linecolor\":\"white\",\"ticks\":\"\"}},\"ternary\":{\"bgcolor\":\"#E5ECF6\",\"aaxis\":{\"gridcolor\":\"white\",\"linecolor\":\"white\",\"ticks\":\"\"},\"baxis\":{\"gridcolor\":\"white\",\"linecolor\":\"white\",\"ticks\":\"\"},\"caxis\":{\"gridcolor\":\"white\",\"linecolor\":\"white\",\"ticks\":\"\"}},\"coloraxis\":{\"colorbar\":{\"outlinewidth\":0,\"ticks\":\"\"}},\"colorscale\":{\"sequential\":[[0.0,\"#0d0887\"],[0.1111111111111111,\"#46039f\"],[0.2222222222222222,\"#7201a8\"],[0.3333333333333333,\"#9c179e\"],[0.4444444444444444,\"#bd3786\"],[0.5555555555555556,\"#d8576b\"],[0.6666666666666666,\"#ed7953\"],[0.7777777777777778,\"#fb9f3a\"],[0.8888888888888888,\"#fdca26\"],[1.0,\"#f0f921\"]],\"sequentialminus\":[[0.0,\"#0d0887\"],[0.1111111111111111,\"#46039f\"],[0.2222222222222222,\"#7201a8\"],[0.3333333333333333,\"#9c179e\"],[0.4444444444444444,\"#bd3786\"],[0.5555555555555556,\"#d8576b\"],[0.6666666666666666,\"#ed7953\"],[0.7777777777777778,\"#fb9f3a\"],[0.8888888888888888,\"#fdca26\"],[1.0,\"#f0f921\"]],\"diverging\":[[0,\"#8e0152\"],[0.1,\"#c51b7d\"],[0.2,\"#de77ae\"],[0.3,\"#f1b6da\"],[0.4,\"#fde0ef\"],[0.5,\"#f7f7f7\"],[0.6,\"#e6f5d0\"],[0.7,\"#b8e186\"],[0.8,\"#7fbc41\"],[0.9,\"#4d9221\"],[1,\"#276419\"]]},\"xaxis\":{\"gridcolor\":\"white\",\"linecolor\":\"white\",\"ticks\":\"\",\"title\":{\"standoff\":15},\"zerolinecolor\":\"white\",\"automargin\":true,\"zerolinewidth\":2},\"yaxis\":{\"gridcolor\":\"white\",\"linecolor\":\"white\",\"ticks\":\"\",\"title\":{\"standoff\":15},\"zerolinecolor\":\"white\",\"automargin\":true,\"zerolinewidth\":2},\"scene\":{\"xaxis\":{\"backgroundcolor\":\"#E5ECF6\",\"gridcolor\":\"white\",\"linecolor\":\"white\",\"showbackground\":true,\"ticks\":\"\",\"zerolinecolor\":\"white\",\"gridwidth\":2},\"yaxis\":{\"backgroundcolor\":\"#E5ECF6\",\"gridcolor\":\"white\",\"linecolor\":\"white\",\"showbackground\":true,\"ticks\":\"\",\"zerolinecolor\":\"white\",\"gridwidth\":2},\"zaxis\":{\"backgroundcolor\":\"#E5ECF6\",\"gridcolor\":\"white\",\"linecolor\":\"white\",\"showbackground\":true,\"ticks\":\"\",\"zerolinecolor\":\"white\",\"gridwidth\":2}},\"shapedefaults\":{\"line\":{\"color\":\"#2a3f5f\"}},\"annotationdefaults\":{\"arrowcolor\":\"#2a3f5f\",\"arrowhead\":0,\"arrowwidth\":1},\"geo\":{\"bgcolor\":\"white\",\"landcolor\":\"#E5ECF6\",\"subunitcolor\":\"white\",\"showland\":true,\"showlakes\":true,\"lakecolor\":\"white\"},\"title\":{\"x\":0.05},\"mapbox\":{\"style\":\"light\"}}},\"xaxis\":{\"anchor\":\"y\",\"domain\":[0.0,1.0],\"title\":{\"text\":\"Manufacture Year\",\"font\":{\"family\":\"Helvetica\",\"size\":18,\"color\":\"blue\"}}},\"yaxis\":{\"anchor\":\"x\",\"domain\":[0.0,1.0],\"title\":{\"text\":\"Count of Cars\",\"font\":{\"family\":\"Helvetica\",\"size\":18,\"color\":\"blue\"}}},\"legend\":{\"title\":{\"text\":\"country\"},\"tracegroupgap\":0},\"title\":{\"text\":\"Count of Cars by Manufacture Year and top 15 countries\",\"font\":{\"family\":\"Arial\",\"size\":24,\"color\":\"black\"},\"y\":0.9,\"x\":0.5,\"xanchor\":\"center\",\"yanchor\":\"top\"}},                        {\"responsive\": true}                    ).then(function(){\n",
       "                            \n",
       "var gd = document.getElementById('d4e9e8ca-abd0-4e14-896d-a73474b0bb9b');\n",
       "var x = new MutationObserver(function (mutations, observer) {{\n",
       "        var display = window.getComputedStyle(gd).display;\n",
       "        if (!display || display === 'none') {{\n",
       "            console.log([gd, 'removed!']);\n",
       "            Plotly.purge(gd);\n",
       "            observer.disconnect();\n",
       "        }}\n",
       "}});\n",
       "\n",
       "// Listen for the removal of the full notebook cells\n",
       "var notebookContainer = gd.closest('#notebook-container');\n",
       "if (notebookContainer) {{\n",
       "    x.observe(notebookContainer, {childList: true});\n",
       "}}\n",
       "\n",
       "// Listen for the clearing of the current output cell\n",
       "var outputEl = gd.closest('.output');\n",
       "if (outputEl) {{\n",
       "    x.observe(outputEl, {childList: true});\n",
       "}}\n",
       "\n",
       "                        })                };                });            </script>        </div>"
      ]
     },
     "metadata": {},
     "output_type": "display_data"
    }
   ],
   "source": [
    "# An interactive line graph with plotly\n",
    "for_countries = data_merged_raw[data_merged_raw['country'].isin(countries_list)]\n",
    "\n",
    "country = for_countries.groupby(['manufacture_year','country'])['vehicle_number'].count().to_frame().\\\n",
    "                        rename(columns={'vehicle_number': 'count_cars'}).reset_index()\n",
    "\n",
    "country = country[country['manufacture_year'] != 2024]\n",
    "\n",
    "#creating a list of unique values for sorting\n",
    "sorted_groups = countries_list\n",
    "\n",
    "# Creating an interactive line graph with Plotly Express\n",
    "fig = px.line(country,\n",
    "              x='manufacture_year',  # Year on the X-axis\n",
    "              y='count_cars',        # Count of cars on the Y-axis\n",
    "              color='country',  # Different lines for each fuel_type\n",
    "              title='Count of Cars by Manufacture Year and country',\n",
    "              labels={'count_cars': 'Count of Cars', 'manufacture_year': 'Manufacture Year',\n",
    "                      'country': 'country'},\n",
    "              category_orders={'country': sorted_groups})\n",
    "\n",
    "# Update layout for title and labels\n",
    "fig.update_layout(\n",
    "    title={\n",
    "        'text': 'Count of Cars by Manufacture Year and top 15 countries',\n",
    "        'y': 0.9,  # You can adjust the position with y\n",
    "        'x': 0.5,  # Centering the title using x\n",
    "        'xanchor': 'center',\n",
    "        'yanchor': 'top',\n",
    "        'font': {\n",
    "            'family': 'Arial',  # Font family\n",
    "            'size': 24,         # Font size\n",
    "            'color': 'black'    # Font color\n",
    "        }\n",
    "    },\n",
    "    xaxis_title={\n",
    "        'font': {\n",
    "            'family': 'Helvetica',  # Font family\n",
    "            'size': 18,             # Font size\n",
    "            'color': 'blue'         # Font color\n",
    "        }\n",
    "    },\n",
    "    yaxis_title={\n",
    "        'font': {\n",
    "            'family': 'Helvetica',\n",
    "            'size': 18,\n",
    "            'color': 'blue'\n",
    "        }\n",
    "    }\n",
    ")\n",
    "# Show the plot\n",
    "fig.show()"
   ]
  },
  {
   "cell_type": "markdown",
   "id": "928affa3",
   "metadata": {
    "id": "928affa3"
   },
   "source": [
    "#####  Conclusion:\n",
    "    1. Japan remains to be the most common supplier of vehicles to Israel with a peak in 2008 and 96K cars, but later on\n",
    "        we see the number of cars coming from Japan going down\n",
    "    2. There is a sharp raise of cars coming from China from 2020\n",
    "    3. South Korea keeps growing starting from 2010\n",
    "    4. The number of vehicles coming from Turkey is dropping and apparently will drop even more"
   ]
  },
  {
   "cell_type": "markdown",
   "id": "25ec410a",
   "metadata": {
    "id": "25ec410a"
   },
   "source": [
    "##### 5.10 Brands, what's the brand with highest number of cars and the lowest number of cars (top 10 and lower 10)?"
   ]
  },
  {
   "cell_type": "code",
   "execution_count": null,
   "id": "d75c7758",
   "metadata": {
    "id": "d75c7758",
    "outputId": "05eef3ed-f6bb-4466-ec0a-31984de92a9f"
   },
   "outputs": [
    {
     "data": {
      "text/html": [
       "<div>\n",
       "<style scoped>\n",
       "    .dataframe tbody tr th:only-of-type {\n",
       "        vertical-align: middle;\n",
       "    }\n",
       "\n",
       "    .dataframe tbody tr th {\n",
       "        vertical-align: top;\n",
       "    }\n",
       "\n",
       "    .dataframe thead th {\n",
       "        text-align: right;\n",
       "    }\n",
       "</style>\n",
       "<table border=\"1\" class=\"dataframe\">\n",
       "  <thead>\n",
       "    <tr style=\"text-align: right;\">\n",
       "      <th></th>\n",
       "      <th>brand</th>\n",
       "      <th>commercial_name</th>\n",
       "      <th>count</th>\n",
       "    </tr>\n",
       "  </thead>\n",
       "  <tbody>\n",
       "    <tr>\n",
       "      <th>3625</th>\n",
       "      <td>Toyota</td>\n",
       "      <td>COROLLA</td>\n",
       "      <td>146047</td>\n",
       "    </tr>\n",
       "    <tr>\n",
       "      <th>1778</th>\n",
       "      <td>Kia</td>\n",
       "      <td>PICANTO</td>\n",
       "      <td>113164</td>\n",
       "    </tr>\n",
       "    <tr>\n",
       "      <th>1967</th>\n",
       "      <td>Mazda</td>\n",
       "      <td>MAZDA 3</td>\n",
       "      <td>104971</td>\n",
       "    </tr>\n",
       "    <tr>\n",
       "      <th>1789</th>\n",
       "      <td>Kia</td>\n",
       "      <td>SPORTAGE</td>\n",
       "      <td>86123</td>\n",
       "    </tr>\n",
       "    <tr>\n",
       "      <th>3430</th>\n",
       "      <td>Skoda</td>\n",
       "      <td>OCTAVIA</td>\n",
       "      <td>72152</td>\n",
       "    </tr>\n",
       "    <tr>\n",
       "      <th>1571</th>\n",
       "      <td>Hyundai</td>\n",
       "      <td>I10</td>\n",
       "      <td>69167</td>\n",
       "    </tr>\n",
       "    <tr>\n",
       "      <th>1572</th>\n",
       "      <td>Hyundai</td>\n",
       "      <td>I20</td>\n",
       "      <td>68180</td>\n",
       "    </tr>\n",
       "    <tr>\n",
       "      <th>1609</th>\n",
       "      <td>Hyundai</td>\n",
       "      <td>TUCSON</td>\n",
       "      <td>67044</td>\n",
       "    </tr>\n",
       "    <tr>\n",
       "      <th>2781</th>\n",
       "      <td>Mitsubishi</td>\n",
       "      <td>OUTLANDER</td>\n",
       "      <td>60650</td>\n",
       "    </tr>\n",
       "    <tr>\n",
       "      <th>1965</th>\n",
       "      <td>Mazda</td>\n",
       "      <td>MAZDA 2</td>\n",
       "      <td>59590</td>\n",
       "    </tr>\n",
       "  </tbody>\n",
       "</table>\n",
       "</div>"
      ],
      "text/plain": [
       "           brand commercial_name   count\n",
       "3625      Toyota         COROLLA  146047\n",
       "1778         Kia         PICANTO  113164\n",
       "1967       Mazda         MAZDA 3  104971\n",
       "1789         Kia        SPORTAGE   86123\n",
       "3430       Skoda         OCTAVIA   72152\n",
       "1571     Hyundai             I10   69167\n",
       "1572     Hyundai             I20   68180\n",
       "1609     Hyundai          TUCSON   67044\n",
       "2781  Mitsubishi       OUTLANDER   60650\n",
       "1965       Mazda         MAZDA 2   59590"
      ]
     },
     "execution_count": 89,
     "metadata": {},
     "output_type": "execute_result"
    }
   ],
   "source": [
    "brands_data = data_merged_raw.groupby(['brand', 'commercial_name'])['vehicle_number'].\\\n",
    "                              count().reset_index().rename(columns={'vehicle_number':'count'})\n",
    "top_10_brand_commercial_name = brands_data.sort_values(by='count', ascending=False)\n",
    "top_10_brand_commercial_name.head(10)"
   ]
  },
  {
   "cell_type": "code",
   "execution_count": null,
   "id": "dfe71350",
   "metadata": {
    "id": "dfe71350",
    "outputId": "e3916c66-0a50-44a8-89db-8b7ea90c5f3c"
   },
   "outputs": [
    {
     "data": {
      "text/html": [
       "<div>\n",
       "<style scoped>\n",
       "    .dataframe tbody tr th:only-of-type {\n",
       "        vertical-align: middle;\n",
       "    }\n",
       "\n",
       "    .dataframe tbody tr th {\n",
       "        vertical-align: top;\n",
       "    }\n",
       "\n",
       "    .dataframe thead th {\n",
       "        text-align: right;\n",
       "    }\n",
       "</style>\n",
       "<table border=\"1\" class=\"dataframe\">\n",
       "  <thead>\n",
       "    <tr style=\"text-align: right;\">\n",
       "      <th></th>\n",
       "      <th>brand</th>\n",
       "      <th>commercial_name</th>\n",
       "      <th>count</th>\n",
       "    </tr>\n",
       "  </thead>\n",
       "  <tbody>\n",
       "    <tr>\n",
       "      <th>258</th>\n",
       "      <td>Audi</td>\n",
       "      <td>TTS COUPRE</td>\n",
       "      <td>1</td>\n",
       "    </tr>\n",
       "    <tr>\n",
       "      <th>119</th>\n",
       "      <td>Audi</td>\n",
       "      <td>AUDI A8</td>\n",
       "      <td>1</td>\n",
       "    </tr>\n",
       "    <tr>\n",
       "      <th>2315</th>\n",
       "      <td>Mercedes-Benz</td>\n",
       "      <td>EQB 350 4MATIC</td>\n",
       "      <td>1</td>\n",
       "    </tr>\n",
       "    <tr>\n",
       "      <th>2313</th>\n",
       "      <td>Mercedes-Benz</td>\n",
       "      <td>EQB 250</td>\n",
       "      <td>1</td>\n",
       "    </tr>\n",
       "    <tr>\n",
       "      <th>3489</th>\n",
       "      <td>SsangYong</td>\n",
       "      <td>קורנדו אוט' R3 DTS</td>\n",
       "      <td>1</td>\n",
       "    </tr>\n",
       "    <tr>\n",
       "      <th>2309</th>\n",
       "      <td>Mercedes-Benz</td>\n",
       "      <td>EQA 300 4MATIC</td>\n",
       "      <td>1</td>\n",
       "    </tr>\n",
       "    <tr>\n",
       "      <th>2307</th>\n",
       "      <td>Mercedes-Benz</td>\n",
       "      <td>E63AMG</td>\n",
       "      <td>1</td>\n",
       "    </tr>\n",
       "    <tr>\n",
       "      <th>2306</th>\n",
       "      <td>Mercedes-Benz</td>\n",
       "      <td>E63 AMG</td>\n",
       "      <td>1</td>\n",
       "    </tr>\n",
       "    <tr>\n",
       "      <th>2299</th>\n",
       "      <td>Mercedes-Benz</td>\n",
       "      <td>E450 4M COUPE</td>\n",
       "      <td>1</td>\n",
       "    </tr>\n",
       "    <tr>\n",
       "      <th>2305</th>\n",
       "      <td>Mercedes-Benz</td>\n",
       "      <td>E63 4MATIC PLUS</td>\n",
       "      <td>1</td>\n",
       "    </tr>\n",
       "  </tbody>\n",
       "</table>\n",
       "</div>"
      ],
      "text/plain": [
       "              brand     commercial_name  count\n",
       "258            Audi          TTS COUPRE      1\n",
       "119            Audi             AUDI A8      1\n",
       "2315  Mercedes-Benz      EQB 350 4MATIC      1\n",
       "2313  Mercedes-Benz             EQB 250      1\n",
       "3489      SsangYong  קורנדו אוט' R3 DTS      1\n",
       "2309  Mercedes-Benz      EQA 300 4MATIC      1\n",
       "2307  Mercedes-Benz              E63AMG      1\n",
       "2306  Mercedes-Benz             E63 AMG      1\n",
       "2299  Mercedes-Benz       E450 4M COUPE      1\n",
       "2305  Mercedes-Benz     E63 4MATIC PLUS      1"
      ]
     },
     "execution_count": 90,
     "metadata": {},
     "output_type": "execute_result"
    }
   ],
   "source": [
    "top_10_brand_commercial_name.tail(10)"
   ]
  },
  {
   "cell_type": "markdown",
   "id": "229c11f1",
   "metadata": {
    "id": "229c11f1"
   },
   "source": [
    "##### 5.10.1 Top 10 brands top count unque models"
   ]
  },
  {
   "cell_type": "code",
   "execution_count": null,
   "id": "2553fdc3",
   "metadata": {
    "id": "2553fdc3",
    "outputId": "5002a51d-3a49-4a07-8328-07772f8b5d8b"
   },
   "outputs": [
    {
     "data": {
      "image/png": "[encoded data removed]",
      "text/plain": [
       "<Figure size 800x600 with 1 Axes>"
      ]
     },
     "metadata": {},
     "output_type": "display_data"
    }
   ],
   "source": [
    "brands_data_models = data_merged_raw.groupby('brand')['commercial_name'].\\\n",
    "                              nunique().reset_index().rename(columns={'commercial_name':'count'})\n",
    "brands_data_models = brands_data_models.sort_values(by='count', ascending=False)\n",
    "top_10 = brands_data_models.head(10).sort_values(by='count', ascending=True)\n",
    "\n",
    "plt.figure(figsize=(8, 6))\n",
    "plt.barh(top_10['brand'], top_10['count'])\n",
    "\n",
    "plt.title('% Top 10 brands by number of different models', fontsize=10, fontweight='bold')\n",
    "plt.xlabel('Count_models', fontsize=10, fontweight='bold')\n",
    "plt.ylabel('car brand', fontsize=10, fontweight='bold', labelpad=10)\n",
    "plt.show()"
   ]
  },
  {
   "cell_type": "code",
   "execution_count": null,
   "id": "66407216",
   "metadata": {
    "id": "66407216",
    "outputId": "ff76ec19-9de7-4b89-e59b-e7681650051f"
   },
   "outputs": [
    {
     "data": {
      "text/html": [
       "<div>\n",
       "<style scoped>\n",
       "    .dataframe tbody tr th:only-of-type {\n",
       "        vertical-align: middle;\n",
       "    }\n",
       "\n",
       "    .dataframe tbody tr th {\n",
       "        vertical-align: top;\n",
       "    }\n",
       "\n",
       "    .dataframe thead th {\n",
       "        text-align: right;\n",
       "    }\n",
       "</style>\n",
       "<table border=\"1\" class=\"dataframe\">\n",
       "  <thead>\n",
       "    <tr style=\"text-align: right;\">\n",
       "      <th></th>\n",
       "      <th>brand</th>\n",
       "      <th>count</th>\n",
       "    </tr>\n",
       "  </thead>\n",
       "  <tbody>\n",
       "    <tr>\n",
       "      <th>40</th>\n",
       "      <td>Hummer</td>\n",
       "      <td>1</td>\n",
       "    </tr>\n",
       "    <tr>\n",
       "      <th>70</th>\n",
       "      <td>ORA</td>\n",
       "      <td>1</td>\n",
       "    </tr>\n",
       "    <tr>\n",
       "      <th>41</th>\n",
       "      <td>Hummer GM</td>\n",
       "      <td>1</td>\n",
       "    </tr>\n",
       "    <tr>\n",
       "      <th>1</th>\n",
       "      <td>ASWUM</td>\n",
       "      <td>1</td>\n",
       "    </tr>\n",
       "    <tr>\n",
       "      <th>50</th>\n",
       "      <td>LTA</td>\n",
       "      <td>1</td>\n",
       "    </tr>\n",
       "    <tr>\n",
       "      <th>54</th>\n",
       "      <td>Leapmotor</td>\n",
       "      <td>1</td>\n",
       "    </tr>\n",
       "    <tr>\n",
       "      <th>75</th>\n",
       "      <td>Pontiac</td>\n",
       "      <td>1</td>\n",
       "    </tr>\n",
       "    <tr>\n",
       "      <th>74</th>\n",
       "      <td>Polestar</td>\n",
       "      <td>1</td>\n",
       "    </tr>\n",
       "    <tr>\n",
       "      <th>57</th>\n",
       "      <td>Link &amp; Co</td>\n",
       "      <td>1</td>\n",
       "    </tr>\n",
       "    <tr>\n",
       "      <th>0</th>\n",
       "      <td>AIWAYS</td>\n",
       "      <td>1</td>\n",
       "    </tr>\n",
       "  </tbody>\n",
       "</table>\n",
       "</div>"
      ],
      "text/plain": [
       "        brand  count\n",
       "40     Hummer      1\n",
       "70        ORA      1\n",
       "41  Hummer GM      1\n",
       "1       ASWUM      1\n",
       "50        LTA      1\n",
       "54  Leapmotor      1\n",
       "75    Pontiac      1\n",
       "74   Polestar      1\n",
       "57  Link & Co      1\n",
       "0      AIWAYS      1"
      ]
     },
     "execution_count": 92,
     "metadata": {},
     "output_type": "execute_result"
    }
   ],
   "source": [
    "brands_data_models.tail(10)"
   ]
  },
  {
   "cell_type": "markdown",
   "id": "1ef3390b",
   "metadata": {
    "id": "1ef3390b"
   },
   "source": [
    "##### 5.11 Let's get back to Emissions and it's the final look at the data"
   ]
  },
  {
   "cell_type": "code",
   "execution_count": null,
   "id": "380de4b8",
   "metadata": {
    "id": "380de4b8"
   },
   "outputs": [],
   "source": [
    "#let's drop the rows with emissions equal null\n",
    "data_emissions =data_merged_raw[~data_merged_raw['emission_group'].isna()].copy()"
   ]
  },
  {
   "cell_type": "code",
   "execution_count": null,
   "id": "bfd93567",
   "metadata": {
    "id": "bfd93567"
   },
   "outputs": [],
   "source": [
    "# let's create a new column with emission group, such as low emission, medium emission, high emission\n",
    "def emission_convert(x):\n",
    "    if type(x) not in (int, float):\n",
    "        return 'other'\n",
    "    elif x>=1 and x<=5:\n",
    "        return 'low_emission'\n",
    "    elif x>5 and x<=10:\n",
    "        return 'medium_emission'\n",
    "    else:\n",
    "        return 'high_emission'\n",
    "\n",
    "data_emissions['emission_group_grouped'] = data_emissions['emission_group'].\\\n",
    "            apply(lambda x: emission_convert(x))"
   ]
  },
  {
   "cell_type": "code",
   "execution_count": null,
   "id": "9e1a37a7",
   "metadata": {
    "id": "9e1a37a7",
    "outputId": "9df72359-b5a7-4c41-c141-de28f63c19b2"
   },
   "outputs": [
    {
     "data": {
      "text/plain": [
       "emission_group_grouped\n",
       "high_emission      2553040\n",
       "low_emission        479819\n",
       "medium_emission     400965\n",
       "Name: count, dtype: int64"
      ]
     },
     "execution_count": 95,
     "metadata": {},
     "output_type": "execute_result"
    }
   ],
   "source": [
    "#checking what we got\n",
    "data_emissions['emission_group_grouped'].value_counts()"
   ]
  },
  {
   "cell_type": "code",
   "execution_count": null,
   "id": "b2f17646",
   "metadata": {
    "id": "b2f17646",
    "outputId": "5e457cec-4408-4e0c-b61e-cd0b5640257b"
   },
   "outputs": [
    {
     "data": {
      "text/html": [
       "<div>\n",
       "<style scoped>\n",
       "    .dataframe tbody tr th:only-of-type {\n",
       "        vertical-align: middle;\n",
       "    }\n",
       "\n",
       "    .dataframe tbody tr th {\n",
       "        vertical-align: top;\n",
       "    }\n",
       "\n",
       "    .dataframe thead th {\n",
       "        text-align: right;\n",
       "    }\n",
       "</style>\n",
       "<table border=\"1\" class=\"dataframe\">\n",
       "  <thead>\n",
       "    <tr style=\"text-align: right;\">\n",
       "      <th></th>\n",
       "      <th>country</th>\n",
       "      <th>count</th>\n",
       "    </tr>\n",
       "  </thead>\n",
       "  <tbody>\n",
       "    <tr>\n",
       "      <th>15</th>\n",
       "      <td>Japan</td>\n",
       "      <td>579082</td>\n",
       "    </tr>\n",
       "    <tr>\n",
       "      <th>28</th>\n",
       "      <td>South Korea</td>\n",
       "      <td>402553</td>\n",
       "    </tr>\n",
       "    <tr>\n",
       "      <th>6</th>\n",
       "      <td>Czech Republic</td>\n",
       "      <td>271060</td>\n",
       "    </tr>\n",
       "    <tr>\n",
       "      <th>33</th>\n",
       "      <td>Turkey</td>\n",
       "      <td>220301</td>\n",
       "    </tr>\n",
       "    <tr>\n",
       "      <th>29</th>\n",
       "      <td>Spain</td>\n",
       "      <td>186615</td>\n",
       "    </tr>\n",
       "    <tr>\n",
       "      <th>11</th>\n",
       "      <td>Germany</td>\n",
       "      <td>151723</td>\n",
       "    </tr>\n",
       "    <tr>\n",
       "      <th>26</th>\n",
       "      <td>Slovakia</td>\n",
       "      <td>112234</td>\n",
       "    </tr>\n",
       "    <tr>\n",
       "      <th>9</th>\n",
       "      <td>France</td>\n",
       "      <td>84954</td>\n",
       "    </tr>\n",
       "    <tr>\n",
       "      <th>12</th>\n",
       "      <td>Hungary</td>\n",
       "      <td>82503</td>\n",
       "    </tr>\n",
       "    <tr>\n",
       "      <th>32</th>\n",
       "      <td>Thailand</td>\n",
       "      <td>67967</td>\n",
       "    </tr>\n",
       "  </tbody>\n",
       "</table>\n",
       "</div>"
      ],
      "text/plain": [
       "           country   count\n",
       "15           Japan  579082\n",
       "28     South Korea  402553\n",
       "6   Czech Republic  271060\n",
       "33          Turkey  220301\n",
       "29           Spain  186615\n",
       "11         Germany  151723\n",
       "26        Slovakia  112234\n",
       "9           France   84954\n",
       "12         Hungary   82503\n",
       "32        Thailand   67967"
      ]
     },
     "execution_count": 96,
     "metadata": {},
     "output_type": "execute_result"
    }
   ],
   "source": [
    "#checking top 10 countries with highest number of vehicles with highest polution group\n",
    "data_emissions[data_emissions['emission_group_grouped']=='high_emission'].\\\n",
    "                groupby('country')['vehicle_number'].count().to_frame().reset_index().\\\n",
    "                rename(columns={'vehicle_number':'count'}).sort_values(by='count', ascending=False).head(10)"
   ]
  },
  {
   "cell_type": "code",
   "execution_count": null,
   "id": "b5ccc9a0",
   "metadata": {
    "id": "b5ccc9a0",
    "outputId": "e372c44f-568c-47ce-c63f-dc97e23cc54b"
   },
   "outputs": [
    {
     "data": {
      "text/html": [
       "<div>\n",
       "<style scoped>\n",
       "    .dataframe tbody tr th:only-of-type {\n",
       "        vertical-align: middle;\n",
       "    }\n",
       "\n",
       "    .dataframe tbody tr th {\n",
       "        vertical-align: top;\n",
       "    }\n",
       "\n",
       "    .dataframe thead th {\n",
       "        text-align: right;\n",
       "    }\n",
       "</style>\n",
       "<table border=\"1\" class=\"dataframe\">\n",
       "  <thead>\n",
       "    <tr style=\"text-align: right;\">\n",
       "      <th></th>\n",
       "      <th>brand</th>\n",
       "      <th>count</th>\n",
       "    </tr>\n",
       "  </thead>\n",
       "  <tbody>\n",
       "    <tr>\n",
       "      <th>28</th>\n",
       "      <td>Hyundai</td>\n",
       "      <td>355348</td>\n",
       "    </tr>\n",
       "    <tr>\n",
       "      <th>33</th>\n",
       "      <td>Kia</td>\n",
       "      <td>292757</td>\n",
       "    </tr>\n",
       "    <tr>\n",
       "      <th>44</th>\n",
       "      <td>Mazda</td>\n",
       "      <td>233124</td>\n",
       "    </tr>\n",
       "    <tr>\n",
       "      <th>62</th>\n",
       "      <td>Toyota</td>\n",
       "      <td>201979</td>\n",
       "    </tr>\n",
       "    <tr>\n",
       "      <th>57</th>\n",
       "      <td>Skoda</td>\n",
       "      <td>156846</td>\n",
       "    </tr>\n",
       "    <tr>\n",
       "      <th>46</th>\n",
       "      <td>Mitsubishi</td>\n",
       "      <td>125626</td>\n",
       "    </tr>\n",
       "    <tr>\n",
       "      <th>48</th>\n",
       "      <td>Nissan</td>\n",
       "      <td>124248</td>\n",
       "    </tr>\n",
       "    <tr>\n",
       "      <th>61</th>\n",
       "      <td>Suzuki</td>\n",
       "      <td>101346</td>\n",
       "    </tr>\n",
       "    <tr>\n",
       "      <th>63</th>\n",
       "      <td>Volkswagen</td>\n",
       "      <td>91558</td>\n",
       "    </tr>\n",
       "    <tr>\n",
       "      <th>56</th>\n",
       "      <td>SEAT</td>\n",
       "      <td>82995</td>\n",
       "    </tr>\n",
       "  </tbody>\n",
       "</table>\n",
       "</div>"
      ],
      "text/plain": [
       "         brand   count\n",
       "28     Hyundai  355348\n",
       "33         Kia  292757\n",
       "44       Mazda  233124\n",
       "62      Toyota  201979\n",
       "57       Skoda  156846\n",
       "46  Mitsubishi  125626\n",
       "48      Nissan  124248\n",
       "61      Suzuki  101346\n",
       "63  Volkswagen   91558\n",
       "56        SEAT   82995"
      ]
     },
     "execution_count": 97,
     "metadata": {},
     "output_type": "execute_result"
    }
   ],
   "source": [
    "#checking top 10 car brands with highest number of vehicles with highest polution group\n",
    "data_emissions[data_emissions['emission_group_grouped']=='high_emission'].\\\n",
    "                groupby('brand')['vehicle_number'].count().to_frame().reset_index().\\\n",
    "                rename(columns={'vehicle_number':'count'}).sort_values(by='count', ascending=False).head(10)"
   ]
  },
  {
   "cell_type": "code",
   "execution_count": null,
   "id": "920dac66",
   "metadata": {
    "id": "920dac66",
    "outputId": "b415bebc-ab0d-4afc-ee7e-f9a5a4b31239"
   },
   "outputs": [
    {
     "data": {
      "text/html": [
       "<div>\n",
       "<style scoped>\n",
       "    .dataframe tbody tr th:only-of-type {\n",
       "        vertical-align: middle;\n",
       "    }\n",
       "\n",
       "    .dataframe tbody tr th {\n",
       "        vertical-align: top;\n",
       "    }\n",
       "\n",
       "    .dataframe thead th {\n",
       "        text-align: right;\n",
       "    }\n",
       "</style>\n",
       "<table border=\"1\" class=\"dataframe\">\n",
       "  <thead>\n",
       "    <tr style=\"text-align: right;\">\n",
       "      <th></th>\n",
       "      <th>commercial_name</th>\n",
       "      <th>count</th>\n",
       "    </tr>\n",
       "  </thead>\n",
       "  <tbody>\n",
       "    <tr>\n",
       "      <th>626</th>\n",
       "      <td>COROLLA</td>\n",
       "      <td>107173</td>\n",
       "    </tr>\n",
       "    <tr>\n",
       "      <th>1397</th>\n",
       "      <td>MAZDA 3</td>\n",
       "      <td>101044</td>\n",
       "    </tr>\n",
       "    <tr>\n",
       "      <th>1869</th>\n",
       "      <td>SPORTAGE</td>\n",
       "      <td>85112</td>\n",
       "    </tr>\n",
       "    <tr>\n",
       "      <th>1544</th>\n",
       "      <td>PICANTO</td>\n",
       "      <td>81559</td>\n",
       "    </tr>\n",
       "    <tr>\n",
       "      <th>1977</th>\n",
       "      <td>TUCSON</td>\n",
       "      <td>63192</td>\n",
       "    </tr>\n",
       "    <tr>\n",
       "      <th>1523</th>\n",
       "      <td>OUTLANDER</td>\n",
       "      <td>59931</td>\n",
       "    </tr>\n",
       "    <tr>\n",
       "      <th>1503</th>\n",
       "      <td>OCTAVIA</td>\n",
       "      <td>53756</td>\n",
       "    </tr>\n",
       "    <tr>\n",
       "      <th>1163</th>\n",
       "      <td>I30</td>\n",
       "      <td>47934</td>\n",
       "    </tr>\n",
       "    <tr>\n",
       "      <th>1159</th>\n",
       "      <td>I10</td>\n",
       "      <td>46479</td>\n",
       "    </tr>\n",
       "    <tr>\n",
       "      <th>878</th>\n",
       "      <td>FOCUS</td>\n",
       "      <td>42882</td>\n",
       "    </tr>\n",
       "  </tbody>\n",
       "</table>\n",
       "</div>"
      ],
      "text/plain": [
       "     commercial_name   count\n",
       "626          COROLLA  107173\n",
       "1397         MAZDA 3  101044\n",
       "1869        SPORTAGE   85112\n",
       "1544         PICANTO   81559\n",
       "1977          TUCSON   63192\n",
       "1523       OUTLANDER   59931\n",
       "1503         OCTAVIA   53756\n",
       "1163             I30   47934\n",
       "1159             I10   46479\n",
       "878            FOCUS   42882"
      ]
     },
     "execution_count": 98,
     "metadata": {},
     "output_type": "execute_result"
    }
   ],
   "source": [
    "#checking top 10 car models with highest number of vehicles with highest polution group\n",
    "data_emissions[data_emissions['emission_group_grouped']=='high_emission'].\\\n",
    "                groupby('commercial_name')['vehicle_number'].count().to_frame().reset_index().\\\n",
    "                rename(columns={'vehicle_number':'count'}).sort_values(by='count', ascending=False).head(10)"
   ]
  },
  {
   "cell_type": "markdown",
   "id": "1f370da5",
   "metadata": {},
   "source": [
    "# [Presentation](https://docs.google.com/presentation/d/1N1-bKMHax0ABKZTPdnSliOE17miEdmiY/edit?usp=drive_link)"
   ]
  }
 ],
 "metadata": {
  "colab": {
   "provenance": []
  },
  "kernelspec": {
   "display_name": "Python 3 (ipykernel)",
   "language": "python",
   "name": "python3"
  },
  "language_info": {
   "codemirror_mode": {
    "name": "ipython",
    "version": 3
   },
   "file_extension": ".py",
   "mimetype": "text/x-python",
   "name": "python",
   "nbconvert_exporter": "python",
   "pygments_lexer": "ipython3",
   "version": "3.11.7"
  }
 },
 "nbformat": 4,
 "nbformat_minor": 5
}
